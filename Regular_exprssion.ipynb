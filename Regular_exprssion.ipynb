{
 "cells": [
  {
   "cell_type": "code",
   "execution_count": 2,
   "metadata": {},
   "outputs": [
    {
     "name": "stdout",
     "output_type": "stream",
     "text": [
      "2\n",
      "123\n",
      "4567\n",
      "70\n",
      "9999\n",
      "9999\n",
      "10\n",
      "2454\n",
      "3457\n"
     ]
    }
   ],
   "source": [
    "search_target = '''Luke Skywarker 02-123-4567 luke@daum.net\n",
    "다스베이더 070-9999-9999 darth_vader@gmail.com\n",
    "princess leia 010 2454 3457 leia@gmail.com'''\n",
    "\n",
    "import re\n",
    "regex = r'[1-9]\\d*'\n",
    "result = re.findall(regex, search_target)\n",
    "print(\"\\n\".join(result))"
   ]
  },
  {
   "cell_type": "code",
   "execution_count": 4,
   "metadata": {},
   "outputs": [
    {
     "name": "stdout",
     "output_type": "stream",
     "text": [
      "02-123-4567\n",
      "070-9999-9999\n",
      "010\n",
      "2454\n",
      "3457\n"
     ]
    }
   ],
   "source": [
    "regex = r'\\d+-?\\d+-?\\d+'\n",
    "result = re.findall(regex, search_target)\n",
    "print(\"\\n\".join(result))"
   ]
  },
  {
   "cell_type": "code",
   "execution_count": 5,
   "metadata": {},
   "outputs": [
    {
     "name": "stdout",
     "output_type": "stream",
     "text": [
      "['02-123-4567', '070-9999-9999', '010 2454 3457']\n"
     ]
    }
   ],
   "source": [
    "regex = r'\\d+[- ]?\\d+[- ]?\\d+'\n",
    "result=re.findall(regex,search_target)\n",
    "print(result)"
   ]
  },
  {
   "cell_type": "code",
   "execution_count": 6,
   "metadata": {},
   "outputs": [
    {
     "name": "stdout",
     "output_type": "stream",
     "text": [
      "['02-123-4567', '070-9999-9999', '010 2454 3457']\n"
     ]
    }
   ],
   "source": [
    "regex = r'\\d{2,3}[- ]?\\d{3,4}[- ]?\\d{4}'\n",
    "result=re.findall(regex,search_target)\n",
    "print(result)"
   ]
  },
  {
   "cell_type": "code",
   "execution_count": 7,
   "metadata": {},
   "outputs": [
    {
     "name": "stdout",
     "output_type": "stream",
     "text": [
      "['uke', 'kywarker', 'luke', 'daum', 'net', 'darth', 'vader', 'gmail', 'com', 'princess', 'leia', 'leia', 'gmail', 'com']\n"
     ]
    }
   ],
   "source": [
    "regex = r'[a-z]+'\n",
    "result=re.findall(regex,search_target)\n",
    "print(result)"
   ]
  },
  {
   "cell_type": "code",
   "execution_count": 8,
   "metadata": {},
   "outputs": [
    {
     "name": "stdout",
     "output_type": "stream",
     "text": [
      "['다스베이더']\n"
     ]
    }
   ],
   "source": [
    "regex = r'[가-힣]+'\n",
    "result=re.findall(regex,search_target)\n",
    "print(result)"
   ]
  },
  {
   "cell_type": "code",
   "execution_count": 10,
   "metadata": {},
   "outputs": [
    {
     "name": "stdout",
     "output_type": "stream",
     "text": [
      "[' ', ' ', '-', '-', ' ', '@', '.', '\\n', ' ', '-', '-', ' ', '@', '.', '\\n', ' ', ' ', ' ', ' ', ' ', '@', '.']\n"
     ]
    }
   ],
   "source": [
    "regex = r'\\W' # space, special char\n",
    "result=re.findall(regex,search_target)\n",
    "print(result)"
   ]
  },
  {
   "cell_type": "code",
   "execution_count": 11,
   "metadata": {},
   "outputs": [
    {
     "name": "stdout",
     "output_type": "stream",
     "text": [
      "['L', 'u', 'k', 'e', 'S', 'k', 'y', 'w', 'a', 'r', 'k', 'e', 'r', '0', '2', '-', '1', '2', '3', '-', '4', '5', '6', '7', 'l', 'u', 'k', 'e', '@', 'd', 'a', 'u', 'm', '.', 'n', 'e', 't', '다', '스', '베', '이', '더', '0', '7', '0', '-', '9', '9', '9', '9', '-', '9', '9', '9', '9', 'd', 'a', 'r', 't', 'h', '_', 'v', 'a', 'd', 'e', 'r', '@', 'g', 'm', 'a', 'i', 'l', '.', 'c', 'o', 'm', 'p', 'r', 'i', 'n', 'c', 'e', 's', 's', 'l', 'e', 'i', 'a', '0', '1', '0', '2', '4', '5', '4', '3', '4', '5', '7', 'l', 'e', 'i', 'a', '@', 'g', 'm', 'a', 'i', 'l', '.', 'c', 'o', 'm']\n"
     ]
    }
   ],
   "source": [
    "regex = r'\\S' # all without space \n",
    "result=re.findall(regex,search_target)\n",
    "print(result)"
   ]
  },
  {
   "cell_type": "code",
   "execution_count": 15,
   "metadata": {},
   "outputs": [
    {
     "name": "stdout",
     "output_type": "stream",
     "text": [
      "['gmail', 'gmail']\n"
     ]
    }
   ],
   "source": [
    "regex = r'.*(gmail).*' # all without space \n",
    "result=re.findall(regex,search_target)\n",
    "print(result)"
   ]
  },
  {
   "cell_type": "code",
   "execution_count": 16,
   "metadata": {},
   "outputs": [
    {
     "name": "stdout",
     "output_type": "stream",
     "text": [
      "['Luke Skywarker 02-123-4567 luke@daum.net', '', '다스베이더 070-9999-9999 darth_vader@gmail.com', '', 'princess leia 010 2454 3457 leia@gmail.com', '']\n"
     ]
    }
   ],
   "source": [
    "regex = r'.*' #Any character except line break\n",
    "result=re.findall(regex,search_target)\n",
    "print(result)"
   ]
  },
  {
   "cell_type": "code",
   "execution_count": 17,
   "metadata": {},
   "outputs": [
    {
     "name": "stdout",
     "output_type": "stream",
     "text": [
      "['L', 'u', 'k', 'e', ' ', 'S', 'k', 'y', 'w', 'a', 'r', 'k', 'e', 'r', ' ', '0', '2', '-', '1', '2', '3', '-', '4', '5', '6', '7', ' ', 'l', 'u', 'k', 'e', '@', 'd', 'a', 'u', 'm', '.', 'n', 'e', 't', '다', '스', '베', '이', '더', ' ', '0', '7', '0', '-', '9', '9', '9', '9', '-', '9', '9', '9', '9', ' ', 'd', 'a', 'r', 't', 'h', '_', 'v', 'a', 'd', 'e', 'r', '@', 'g', 'm', 'a', 'i', 'l', '.', 'c', 'o', 'm', 'p', 'r', 'i', 'n', 'c', 'e', 's', 's', ' ', 'l', 'e', 'i', 'a', ' ', '0', '1', '0', ' ', '2', '4', '5', '4', ' ', '3', '4', '5', '7', ' ', 'l', 'e', 'i', 'a', '@', 'g', 'm', 'a', 'i', 'l', '.', 'c', 'o', 'm']\n"
     ]
    }
   ],
   "source": [
    "regex = r'.' #Any character except line break\n",
    "result=re.findall(regex,search_target)\n",
    "print(result)"
   ]
  },
  {
   "cell_type": "code",
   "execution_count": null,
   "metadata": {},
   "outputs": [],
   "source": []
  }
 ],
 "metadata": {
  "kernelspec": {
   "display_name": "Python 3",
   "language": "python",
   "name": "python3"
  },
  "language_info": {
   "codemirror_mode": {
    "name": "ipython",
    "version": 3
   },
   "file_extension": ".py",
   "mimetype": "text/x-python",
   "name": "python",
   "nbconvert_exporter": "python",
   "pygments_lexer": "ipython3",
   "version": "3.7.3"
  }
 },
 "nbformat": 4,
 "nbformat_minor": 2
}
