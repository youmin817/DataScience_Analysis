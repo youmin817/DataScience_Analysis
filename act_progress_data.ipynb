{
 "cells": [
  {
   "cell_type": "code",
   "execution_count": 1,
   "metadata": {},
   "outputs": [],
   "source": [
    "import pandas as pd\n",
    "import numpy as np"
   ]
  },
  {
   "cell_type": "code",
   "execution_count": 3,
   "metadata": {},
   "outputs": [],
   "source": [
    "import warnings\n",
    "warnings.filterwarnings('ignore')"
   ]
  },
  {
   "cell_type": "code",
   "execution_count": 4,
   "metadata": {},
   "outputs": [
    {
     "data": {
      "text/plain": [
       "<firebase_admin.App at 0x1154127f0>"
      ]
     },
     "execution_count": 4,
     "metadata": {},
     "output_type": "execute_result"
    }
   ],
   "source": [
    "import firebase_admin\n",
    "from firebase_admin import credentials\n",
    "\n",
    "cred = credentials.Certificate(\"key/bluebookkey.json\")\n",
    "firebase_admin.initialize_app(cred, {\n",
    "    'databaseURL': \"https://bluebookai2020.firebaseio.com\"\n",
    "})\n"
   ]
  },
  {
   "cell_type": "code",
   "execution_count": 5,
   "metadata": {},
   "outputs": [],
   "source": [
    "from firebase_admin import db"
   ]
  },
  {
   "cell_type": "code",
   "execution_count": 6,
   "metadata": {},
   "outputs": [
    {
     "name": "stdout",
     "output_type": "stream",
     "text": [
      "(10183, 10)\n"
     ]
    },
    {
     "data": {
      "text/html": [
       "<div>\n",
       "<style scoped>\n",
       "    .dataframe tbody tr th:only-of-type {\n",
       "        vertical-align: middle;\n",
       "    }\n",
       "\n",
       "    .dataframe tbody tr th {\n",
       "        vertical-align: top;\n",
       "    }\n",
       "\n",
       "    .dataframe thead th {\n",
       "        text-align: right;\n",
       "    }\n",
       "</style>\n",
       "<table border=\"1\" class=\"dataframe\">\n",
       "  <thead>\n",
       "    <tr style=\"text-align: right;\">\n",
       "      <th></th>\n",
       "      <th>composite</th>\n",
       "      <th>eng</th>\n",
       "      <th>math</th>\n",
       "      <th>pecentile</th>\n",
       "      <th>reading</th>\n",
       "      <th>science</th>\n",
       "      <th>testDate</th>\n",
       "      <th>testNum</th>\n",
       "      <th>userID</th>\n",
       "      <th>userName</th>\n",
       "    </tr>\n",
       "  </thead>\n",
       "  <tbody>\n",
       "    <tr>\n",
       "      <th>0</th>\n",
       "      <td>25.0</td>\n",
       "      <td>25.0</td>\n",
       "      <td>33.0</td>\n",
       "      <td>80.0</td>\n",
       "      <td>19.0</td>\n",
       "      <td>23.0</td>\n",
       "      <td>122317</td>\n",
       "      <td>R01</td>\n",
       "      <td>384.0</td>\n",
       "      <td>Eunbi Lee</td>\n",
       "    </tr>\n",
       "  </tbody>\n",
       "</table>\n",
       "</div>"
      ],
      "text/plain": [
       "  composite   eng  math pecentile reading science testDate testNum userID  \\\n",
       "0      25.0  25.0  33.0      80.0    19.0    23.0   122317     R01  384.0   \n",
       "\n",
       "    userName  \n",
       "0  Eunbi Lee  "
      ]
     },
     "execution_count": 6,
     "metadata": {},
     "output_type": "execute_result"
    }
   ],
   "source": [
    "ref = db.reference(\"act/raw_total_score/\")\n",
    "df_act_score = ref.get()\n",
    "df_act_score=pd.DataFrame(df_act_score).T.reset_index(drop=\"index\")\n",
    "print(df_act_score.shape)\n",
    "df_act_score.head(1)"
   ]
  },
  {
   "cell_type": "code",
   "execution_count": 7,
   "metadata": {},
   "outputs": [],
   "source": [
    "# data cleaning before datetime type\n",
    "df_act_score.loc[df_act_score[\"testDate\"] == '12/19/', \"testDate\"] =\"71619\" \n",
    "df_act_score[\"testDate\"]=pd.to_datetime(df_act_score[\"testDate\"], format='%m%d%y')"
   ]
  },
  {
   "cell_type": "code",
   "execution_count": 8,
   "metadata": {},
   "outputs": [
    {
     "data": {
      "text/html": [
       "<div>\n",
       "<style scoped>\n",
       "    .dataframe tbody tr th:only-of-type {\n",
       "        vertical-align: middle;\n",
       "    }\n",
       "\n",
       "    .dataframe tbody tr th {\n",
       "        vertical-align: top;\n",
       "    }\n",
       "\n",
       "    .dataframe thead th {\n",
       "        text-align: right;\n",
       "    }\n",
       "</style>\n",
       "<table border=\"1\" class=\"dataframe\">\n",
       "  <thead>\n",
       "    <tr style=\"text-align: right;\">\n",
       "      <th></th>\n",
       "      <th>composite</th>\n",
       "      <th>eng</th>\n",
       "      <th>math</th>\n",
       "      <th>pecentile</th>\n",
       "      <th>reading</th>\n",
       "      <th>science</th>\n",
       "      <th>testDate</th>\n",
       "      <th>testNum</th>\n",
       "      <th>userID</th>\n",
       "      <th>userName</th>\n",
       "    </tr>\n",
       "  </thead>\n",
       "  <tbody>\n",
       "    <tr>\n",
       "      <th>0</th>\n",
       "      <td>25.0</td>\n",
       "      <td>25.0</td>\n",
       "      <td>33.0</td>\n",
       "      <td>80.0</td>\n",
       "      <td>19.0</td>\n",
       "      <td>23.0</td>\n",
       "      <td>2017-12-23</td>\n",
       "      <td>R01</td>\n",
       "      <td>384.0</td>\n",
       "      <td>Eunbi Lee</td>\n",
       "    </tr>\n",
       "    <tr>\n",
       "      <th>1</th>\n",
       "      <td>32.0</td>\n",
       "      <td>30.0</td>\n",
       "      <td>36.0</td>\n",
       "      <td>98.0</td>\n",
       "      <td>33.0</td>\n",
       "      <td>29.0</td>\n",
       "      <td>2019-07-25</td>\n",
       "      <td>R01</td>\n",
       "      <td>8041.0</td>\n",
       "      <td>Steven Lee</td>\n",
       "    </tr>\n",
       "    <tr>\n",
       "      <th>2</th>\n",
       "      <td>29.0</td>\n",
       "      <td>28.0</td>\n",
       "      <td>32.0</td>\n",
       "      <td>94.0</td>\n",
       "      <td>29.0</td>\n",
       "      <td>27.0</td>\n",
       "      <td>2019-07-25</td>\n",
       "      <td>R01</td>\n",
       "      <td>8050.0</td>\n",
       "      <td>Gabriel Song</td>\n",
       "    </tr>\n",
       "    <tr>\n",
       "      <th>3</th>\n",
       "      <td>24.0</td>\n",
       "      <td>26.0</td>\n",
       "      <td>25.0</td>\n",
       "      <td>74.0</td>\n",
       "      <td>24.0</td>\n",
       "      <td>23.0</td>\n",
       "      <td>2019-07-25</td>\n",
       "      <td>R01</td>\n",
       "      <td>3100.0</td>\n",
       "      <td>Christina Kim</td>\n",
       "    </tr>\n",
       "    <tr>\n",
       "      <th>4</th>\n",
       "      <td>30.0</td>\n",
       "      <td>32.0</td>\n",
       "      <td>33.0</td>\n",
       "      <td>96.0</td>\n",
       "      <td>29.0</td>\n",
       "      <td>28.0</td>\n",
       "      <td>2019-07-25</td>\n",
       "      <td>R01</td>\n",
       "      <td>717.0</td>\n",
       "      <td>Keonho Roh</td>\n",
       "    </tr>\n",
       "  </tbody>\n",
       "</table>\n",
       "</div>"
      ],
      "text/plain": [
       "  composite   eng  math pecentile reading science   testDate testNum  userID  \\\n",
       "0      25.0  25.0  33.0      80.0    19.0    23.0 2017-12-23     R01   384.0   \n",
       "1      32.0  30.0  36.0      98.0    33.0    29.0 2019-07-25     R01  8041.0   \n",
       "2      29.0  28.0  32.0      94.0    29.0    27.0 2019-07-25     R01  8050.0   \n",
       "3      24.0  26.0  25.0      74.0    24.0    23.0 2019-07-25     R01  3100.0   \n",
       "4      30.0  32.0  33.0      96.0    29.0    28.0 2019-07-25     R01   717.0   \n",
       "\n",
       "        userName  \n",
       "0      Eunbi Lee  \n",
       "1     Steven Lee  \n",
       "2   Gabriel Song  \n",
       "3  Christina Kim  \n",
       "4     Keonho Roh  "
      ]
     },
     "execution_count": 8,
     "metadata": {},
     "output_type": "execute_result"
    }
   ],
   "source": [
    "df_act_score.head()"
   ]
  },
  {
   "cell_type": "code",
   "execution_count": 261,
   "metadata": {},
   "outputs": [],
   "source": [
    "act=df_act_score.sort_values(by=\"testDate\").copy()"
   ]
  },
  {
   "cell_type": "code",
   "execution_count": 264,
   "metadata": {},
   "outputs": [],
   "source": [
    "act_pivot=pd.pivot_table(act, values='composite', index=['userID'], columns=['testDate'], aggfunc=np.sum)\n",
    "act_pivot=act_pivot.astype(str)"
   ]
  },
  {
   "cell_type": "code",
   "execution_count": 275,
   "metadata": {},
   "outputs": [],
   "source": [
    "tmp=[]\n",
    "for row in range(act_pivot.shape[0]):\n",
    "    tmp2=[]\n",
    "    for col in range(act_pivot.shape[1]):\n",
    "        if act_pivot.iloc[row,col] !=\"nan\":\n",
    "            tmp2.append(act_pivot.iloc[row,col])\n",
    "    tmp.append(tmp2)"
   ]
  },
  {
   "cell_type": "code",
   "execution_count": 278,
   "metadata": {},
   "outputs": [
    {
     "data": {
      "text/html": [
       "<div>\n",
       "<style scoped>\n",
       "    .dataframe tbody tr th:only-of-type {\n",
       "        vertical-align: middle;\n",
       "    }\n",
       "\n",
       "    .dataframe tbody tr th {\n",
       "        vertical-align: top;\n",
       "    }\n",
       "\n",
       "    .dataframe thead th {\n",
       "        text-align: right;\n",
       "    }\n",
       "</style>\n",
       "<table border=\"1\" class=\"dataframe\">\n",
       "  <thead>\n",
       "    <tr style=\"text-align: right;\">\n",
       "      <th></th>\n",
       "      <th>0</th>\n",
       "    </tr>\n",
       "  </thead>\n",
       "  <tbody>\n",
       "    <tr>\n",
       "      <th>0</th>\n",
       "      <td>2</td>\n",
       "    </tr>\n",
       "  </tbody>\n",
       "</table>\n",
       "</div>"
      ],
      "text/plain": [
       "   0\n",
       "0  2"
      ]
     },
     "execution_count": 278,
     "metadata": {},
     "output_type": "execute_result"
    }
   ],
   "source": [
    "max_s= []\n",
    "fir_s=[]\n",
    "pro=[]\n",
    "for num in range(len(tmp)):\n",
    "    _max=0\n",
    "    for num2 in range(len(tmp[num])): \n",
    "        first=float(tmp[num][0].split(\".\")[0])\n",
    "        com=float(tmp[num][num2].split(\".\")[0])\n",
    "        if com > _max:\n",
    "            _max = com\n",
    "        #last=tmp[num][len(tmp[num])-1].split(\".\")[0]\n",
    "    pro.append(int(_max)-int(first))\n",
    "    max_s.append(int(_max))\n",
    "    fir_s.append(int(first))\n",
    "pro=pd.DataFrame(pro)\n",
    "pro.head(1)"
   ]
  },
  {
   "cell_type": "code",
   "execution_count": 282,
   "metadata": {},
   "outputs": [],
   "source": [
    "act_pivot[\"progress\"] = pro[0].values\n",
    "act_pivot['max'] = max_s\n",
    "act_pivot[\"first\"] =fir_s"
   ]
  },
  {
   "cell_type": "code",
   "execution_count": 290,
   "metadata": {},
   "outputs": [],
   "source": [
    "act_pivot[\"percent\"] = act_pivot[\"progress\"] / act_pivot['first']"
   ]
  },
  {
   "cell_type": "code",
   "execution_count": 346,
   "metadata": {},
   "outputs": [
    {
     "data": {
      "text/plain": [
       "0    30.236674\n",
       "dtype: float64"
      ]
     },
     "execution_count": 346,
     "metadata": {},
     "output_type": "execute_result"
    }
   ],
   "source": [
    "mm=[]\n",
    "for n,m in enumerate(act_pivot[\"max\"]):\n",
    "    if act_pivot.loc[n,\"progress\"] != 0:\n",
    "        mm.append(m)\n",
    "pd.DataFrame(mm).mean()"
   ]
  },
  {
   "cell_type": "code",
   "execution_count": 347,
   "metadata": {},
   "outputs": [
    {
     "data": {
      "text/plain": [
       "0    25.321962\n",
       "dtype: float64"
      ]
     },
     "execution_count": 347,
     "metadata": {},
     "output_type": "execute_result"
    }
   ],
   "source": [
    "fs=[]\n",
    "for n,f in enumerate(act_pivot[\"first\"]):\n",
    "    if act_pivot.loc[n,\"progress\"] != 0:\n",
    "        fs.append(f)\n",
    "pd.DataFrame(fs).mean()"
   ]
  },
  {
   "cell_type": "code",
   "execution_count": 284,
   "metadata": {},
   "outputs": [],
   "source": [
    "sp=[]\n",
    "for s in act_pivot[\"progress\"]:\n",
    "    if s != 0:\n",
    "        sp.append(s)"
   ]
  },
  {
   "cell_type": "code",
   "execution_count": 285,
   "metadata": {},
   "outputs": [
    {
     "data": {
      "text/plain": [
       "0    5.0\n",
       "dtype: float64"
      ]
     },
     "execution_count": 285,
     "metadata": {},
     "output_type": "execute_result"
    }
   ],
   "source": [
    "pd.DataFrame(sp).mean().round(0)"
   ]
  },
  {
   "cell_type": "code",
   "execution_count": 293,
   "metadata": {},
   "outputs": [],
   "source": [
    "pp=[]\n",
    "for p in act_pivot[\"percent\"]:\n",
    "    if p != 0:\n",
    "        pp.append(p)"
   ]
  },
  {
   "cell_type": "code",
   "execution_count": 296,
   "metadata": {},
   "outputs": [
    {
     "data": {
      "text/plain": [
       "0    0.24\n",
       "dtype: float64"
      ]
     },
     "execution_count": 296,
     "metadata": {},
     "output_type": "execute_result"
    }
   ],
   "source": [
    "pd.DataFrame(pp).mean().round(2)"
   ]
  },
  {
   "cell_type": "code",
   "execution_count": 300,
   "metadata": {},
   "outputs": [],
   "source": [
    "act_pivot=act_pivot.reset_index()\n",
    "act_pivot[\"userID\"] = act_pivot[\"userID\"].astype(float)"
   ]
  },
  {
   "cell_type": "code",
   "execution_count": 301,
   "metadata": {},
   "outputs": [],
   "source": [
    "act_pivot.sort_values(by=\"userID\")[[\"userID\",\"progress\",'max','first','percent']].to_csv(\"act_progress.csv\")"
   ]
  },
  {
   "cell_type": "code",
   "execution_count": 302,
   "metadata": {},
   "outputs": [
    {
     "data": {
      "text/html": [
       "<div>\n",
       "<style scoped>\n",
       "    .dataframe tbody tr th:only-of-type {\n",
       "        vertical-align: middle;\n",
       "    }\n",
       "\n",
       "    .dataframe tbody tr th {\n",
       "        vertical-align: top;\n",
       "    }\n",
       "\n",
       "    .dataframe thead th {\n",
       "        text-align: right;\n",
       "    }\n",
       "</style>\n",
       "<table border=\"1\" class=\"dataframe\">\n",
       "  <thead>\n",
       "    <tr style=\"text-align: right;\">\n",
       "      <th>testDate</th>\n",
       "      <th>userID</th>\n",
       "      <th>progress</th>\n",
       "      <th>max</th>\n",
       "      <th>first</th>\n",
       "      <th>percent</th>\n",
       "    </tr>\n",
       "  </thead>\n",
       "  <tbody>\n",
       "    <tr>\n",
       "      <th>0</th>\n",
       "      <td>0.0</td>\n",
       "      <td>2</td>\n",
       "      <td>26</td>\n",
       "      <td>24</td>\n",
       "      <td>0.083333</td>\n",
       "    </tr>\n",
       "    <tr>\n",
       "      <th>1</th>\n",
       "      <td>1.0</td>\n",
       "      <td>7</td>\n",
       "      <td>26</td>\n",
       "      <td>19</td>\n",
       "      <td>0.368421</td>\n",
       "    </tr>\n",
       "    <tr>\n",
       "      <th>73</th>\n",
       "      <td>2.0</td>\n",
       "      <td>1</td>\n",
       "      <td>13</td>\n",
       "      <td>12</td>\n",
       "      <td>0.083333</td>\n",
       "    </tr>\n",
       "  </tbody>\n",
       "</table>\n",
       "</div>"
      ],
      "text/plain": [
       "testDate  userID  progress  max  first   percent\n",
       "0            0.0         2   26     24  0.083333\n",
       "1            1.0         7   26     19  0.368421\n",
       "73           2.0         1   13     12  0.083333"
      ]
     },
     "execution_count": 302,
     "metadata": {},
     "output_type": "execute_result"
    }
   ],
   "source": [
    "act_pivot.sort_values(by=\"userID\")[[\"userID\",\"progress\",'max','first','percent']].head(3)"
   ]
  },
  {
   "cell_type": "code",
   "execution_count": 348,
   "metadata": {},
   "outputs": [
    {
     "data": {
      "text/plain": [
       "(1107, 640)"
      ]
     },
     "execution_count": 348,
     "metadata": {},
     "output_type": "execute_result"
    }
   ],
   "source": [
    "act_pivot.shape"
   ]
  },
  {
   "cell_type": "code",
   "execution_count": 308,
   "metadata": {},
   "outputs": [
    {
     "name": "stdout",
     "output_type": "stream",
     "text": [
      "(1144, 8)\n"
     ]
    },
    {
     "data": {
      "text/html": [
       "<div>\n",
       "<style scoped>\n",
       "    .dataframe tbody tr th:only-of-type {\n",
       "        vertical-align: middle;\n",
       "    }\n",
       "\n",
       "    .dataframe tbody tr th {\n",
       "        vertical-align: top;\n",
       "    }\n",
       "\n",
       "    .dataframe thead th {\n",
       "        text-align: right;\n",
       "    }\n",
       "</style>\n",
       "<table border=\"1\" class=\"dataframe\">\n",
       "  <thead>\n",
       "    <tr style=\"text-align: right;\">\n",
       "      <th></th>\n",
       "      <th>Math</th>\n",
       "      <th>Reading_Writing</th>\n",
       "      <th>first</th>\n",
       "      <th>last</th>\n",
       "      <th>testDate</th>\n",
       "      <th>test_num</th>\n",
       "      <th>total</th>\n",
       "      <th>userID</th>\n",
       "    </tr>\n",
       "  </thead>\n",
       "  <tbody>\n",
       "    <tr>\n",
       "      <th>0</th>\n",
       "      <td>570.0</td>\n",
       "      <td>590</td>\n",
       "      <td>Shelly</td>\n",
       "      <td>Yi</td>\n",
       "      <td>4/2/18</td>\n",
       "      <td>2</td>\n",
       "      <td>1160</td>\n",
       "      <td>104</td>\n",
       "    </tr>\n",
       "  </tbody>\n",
       "</table>\n",
       "</div>"
      ],
      "text/plain": [
       "    Math Reading_Writing    first last testDate test_num total userID\n",
       "0  570.0             590  Shelly   Yi    4/2/18        2  1160    104"
      ]
     },
     "execution_count": 308,
     "metadata": {},
     "output_type": "execute_result"
    }
   ],
   "source": [
    "ref = db.reference(\"sat/raw_total_score/\")\n",
    "df_sat_score = ref.get()\n",
    "df_sat_score=pd.DataFrame(df_sat_score).T.reset_index(drop=\"index\")\n",
    "print(df_sat_score.shape)\n",
    "df_sat_score.head(1)"
   ]
  },
  {
   "cell_type": "code",
   "execution_count": 309,
   "metadata": {},
   "outputs": [],
   "source": [
    "sat=df_sat_score.sort_values(by=\"testDate\").copy()"
   ]
  },
  {
   "cell_type": "code",
   "execution_count": 312,
   "metadata": {},
   "outputs": [],
   "source": [
    "sat[\"testDate\"] = pd.to_datetime(sat[\"testDate\"],format=\"%m/%d/%y\")"
   ]
  },
  {
   "cell_type": "code",
   "execution_count": 316,
   "metadata": {},
   "outputs": [
    {
     "data": {
      "text/html": [
       "<div>\n",
       "<style scoped>\n",
       "    .dataframe tbody tr th:only-of-type {\n",
       "        vertical-align: middle;\n",
       "    }\n",
       "\n",
       "    .dataframe tbody tr th {\n",
       "        vertical-align: top;\n",
       "    }\n",
       "\n",
       "    .dataframe thead th {\n",
       "        text-align: right;\n",
       "    }\n",
       "</style>\n",
       "<table border=\"1\" class=\"dataframe\">\n",
       "  <thead>\n",
       "    <tr style=\"text-align: right;\">\n",
       "      <th>testDate</th>\n",
       "      <th>2016-07-26 00:00:00</th>\n",
       "      <th>2016-07-27 00:00:00</th>\n",
       "      <th>2016-07-28 00:00:00</th>\n",
       "      <th>2016-07-29 00:00:00</th>\n",
       "      <th>2016-08-31 00:00:00</th>\n",
       "      <th>2016-09-01 00:00:00</th>\n",
       "      <th>2016-09-06 00:00:00</th>\n",
       "      <th>2016-09-10 00:00:00</th>\n",
       "      <th>2016-10-12 00:00:00</th>\n",
       "      <th>2016-10-26 00:00:00</th>\n",
       "      <th>...</th>\n",
       "      <th>2019-11-23 00:00:00</th>\n",
       "      <th>2019-11-24 00:00:00</th>\n",
       "      <th>2019-11-25 00:00:00</th>\n",
       "      <th>2019-11-26 00:00:00</th>\n",
       "      <th>2019-11-27 00:00:00</th>\n",
       "      <th>2019-11-28 00:00:00</th>\n",
       "      <th>2019-11-29 00:00:00</th>\n",
       "      <th>2019-12-01 00:00:00</th>\n",
       "      <th>2019-12-03 00:00:00</th>\n",
       "      <th>2019-12-04 00:00:00</th>\n",
       "    </tr>\n",
       "    <tr>\n",
       "      <th>userID</th>\n",
       "      <th></th>\n",
       "      <th></th>\n",
       "      <th></th>\n",
       "      <th></th>\n",
       "      <th></th>\n",
       "      <th></th>\n",
       "      <th></th>\n",
       "      <th></th>\n",
       "      <th></th>\n",
       "      <th></th>\n",
       "      <th></th>\n",
       "      <th></th>\n",
       "      <th></th>\n",
       "      <th></th>\n",
       "      <th></th>\n",
       "      <th></th>\n",
       "      <th></th>\n",
       "      <th></th>\n",
       "      <th></th>\n",
       "      <th></th>\n",
       "      <th></th>\n",
       "    </tr>\n",
       "  </thead>\n",
       "  <tbody>\n",
       "    <tr>\n",
       "      <th>1000</th>\n",
       "      <td>nan</td>\n",
       "      <td>nan</td>\n",
       "      <td>nan</td>\n",
       "      <td>nan</td>\n",
       "      <td>nan</td>\n",
       "      <td>nan</td>\n",
       "      <td>nan</td>\n",
       "      <td>nan</td>\n",
       "      <td>nan</td>\n",
       "      <td>nan</td>\n",
       "      <td>...</td>\n",
       "      <td>1480</td>\n",
       "      <td>nan</td>\n",
       "      <td>nan</td>\n",
       "      <td>nan</td>\n",
       "      <td>nan</td>\n",
       "      <td>nan</td>\n",
       "      <td>nan</td>\n",
       "      <td>nan</td>\n",
       "      <td>nan</td>\n",
       "      <td>nan</td>\n",
       "    </tr>\n",
       "    <tr>\n",
       "      <th>1003</th>\n",
       "      <td>nan</td>\n",
       "      <td>nan</td>\n",
       "      <td>nan</td>\n",
       "      <td>nan</td>\n",
       "      <td>nan</td>\n",
       "      <td>nan</td>\n",
       "      <td>nan</td>\n",
       "      <td>nan</td>\n",
       "      <td>nan</td>\n",
       "      <td>nan</td>\n",
       "      <td>...</td>\n",
       "      <td>1240</td>\n",
       "      <td>nan</td>\n",
       "      <td>nan</td>\n",
       "      <td>nan</td>\n",
       "      <td>nan</td>\n",
       "      <td>nan</td>\n",
       "      <td>nan</td>\n",
       "      <td>nan</td>\n",
       "      <td>nan</td>\n",
       "      <td>nan</td>\n",
       "    </tr>\n",
       "    <tr>\n",
       "      <th>1005</th>\n",
       "      <td>nan</td>\n",
       "      <td>nan</td>\n",
       "      <td>nan</td>\n",
       "      <td>nan</td>\n",
       "      <td>nan</td>\n",
       "      <td>nan</td>\n",
       "      <td>nan</td>\n",
       "      <td>nan</td>\n",
       "      <td>nan</td>\n",
       "      <td>nan</td>\n",
       "      <td>...</td>\n",
       "      <td>1380</td>\n",
       "      <td>nan</td>\n",
       "      <td>nan</td>\n",
       "      <td>nan</td>\n",
       "      <td>nan</td>\n",
       "      <td>nan</td>\n",
       "      <td>nan</td>\n",
       "      <td>nan</td>\n",
       "      <td>nan</td>\n",
       "      <td>nan</td>\n",
       "    </tr>\n",
       "  </tbody>\n",
       "</table>\n",
       "<p>3 rows × 292 columns</p>\n",
       "</div>"
      ],
      "text/plain": [
       "testDate 2016-07-26 2016-07-27 2016-07-28 2016-07-29 2016-08-31 2016-09-01  \\\n",
       "userID                                                                       \n",
       "1000            nan        nan        nan        nan        nan        nan   \n",
       "1003            nan        nan        nan        nan        nan        nan   \n",
       "1005            nan        nan        nan        nan        nan        nan   \n",
       "\n",
       "testDate 2016-09-06 2016-09-10 2016-10-12 2016-10-26  ... 2019-11-23  \\\n",
       "userID                                                ...              \n",
       "1000            nan        nan        nan        nan  ...       1480   \n",
       "1003            nan        nan        nan        nan  ...       1240   \n",
       "1005            nan        nan        nan        nan  ...       1380   \n",
       "\n",
       "testDate 2019-11-24 2019-11-25 2019-11-26 2019-11-27 2019-11-28 2019-11-29  \\\n",
       "userID                                                                       \n",
       "1000            nan        nan        nan        nan        nan        nan   \n",
       "1003            nan        nan        nan        nan        nan        nan   \n",
       "1005            nan        nan        nan        nan        nan        nan   \n",
       "\n",
       "testDate 2019-12-01 2019-12-03 2019-12-04  \n",
       "userID                                     \n",
       "1000            nan        nan        nan  \n",
       "1003            nan        nan        nan  \n",
       "1005            nan        nan        nan  \n",
       "\n",
       "[3 rows x 292 columns]"
      ]
     },
     "execution_count": 316,
     "metadata": {},
     "output_type": "execute_result"
    }
   ],
   "source": [
    "sat_pivot=pd.pivot_table(sat, values='total', index=['userID'], columns=['testDate'], aggfunc=np.sum)\n",
    "sat_pivot=sat_pivot.astype(str)\n",
    "sat_pivot.head(3)"
   ]
  },
  {
   "cell_type": "code",
   "execution_count": 318,
   "metadata": {},
   "outputs": [],
   "source": [
    "tmp=[]\n",
    "for row in range(sat_pivot.shape[0]):\n",
    "    tmp2=[]\n",
    "    for col in range(sat_pivot.shape[1]):\n",
    "        if sat_pivot.iloc[row,col] !=\"nan\":\n",
    "            tmp2.append(sat_pivot.iloc[row,col])\n",
    "    tmp.append(tmp2)"
   ]
  },
  {
   "cell_type": "code",
   "execution_count": 319,
   "metadata": {},
   "outputs": [
    {
     "data": {
      "text/html": [
       "<div>\n",
       "<style scoped>\n",
       "    .dataframe tbody tr th:only-of-type {\n",
       "        vertical-align: middle;\n",
       "    }\n",
       "\n",
       "    .dataframe tbody tr th {\n",
       "        vertical-align: top;\n",
       "    }\n",
       "\n",
       "    .dataframe thead th {\n",
       "        text-align: right;\n",
       "    }\n",
       "</style>\n",
       "<table border=\"1\" class=\"dataframe\">\n",
       "  <thead>\n",
       "    <tr style=\"text-align: right;\">\n",
       "      <th></th>\n",
       "      <th>0</th>\n",
       "    </tr>\n",
       "  </thead>\n",
       "  <tbody>\n",
       "    <tr>\n",
       "      <th>0</th>\n",
       "      <td>110</td>\n",
       "    </tr>\n",
       "  </tbody>\n",
       "</table>\n",
       "</div>"
      ],
      "text/plain": [
       "     0\n",
       "0  110"
      ]
     },
     "execution_count": 319,
     "metadata": {},
     "output_type": "execute_result"
    }
   ],
   "source": [
    "max_s= []\n",
    "fir_s=[]\n",
    "pro=[]\n",
    "for num in range(len(tmp)):\n",
    "    _max=0\n",
    "    for num2 in range(len(tmp[num])): \n",
    "        first=float(tmp[num][0].split(\".\")[0])\n",
    "        com=float(tmp[num][num2].split(\".\")[0])\n",
    "        if com > _max:\n",
    "            _max = com\n",
    "        #last=tmp[num][len(tmp[num])-1].split(\".\")[0]\n",
    "    pro.append(int(_max)-int(first))\n",
    "    max_s.append(int(_max))\n",
    "    fir_s.append(int(first))\n",
    "pro=pd.DataFrame(pro)\n",
    "pro.head(1)"
   ]
  },
  {
   "cell_type": "code",
   "execution_count": 322,
   "metadata": {},
   "outputs": [],
   "source": [
    "sat_pivot[\"progress\"] = pro[0].values\n",
    "sat_pivot['max'] = max_s\n",
    "sat_pivot[\"first\"] =fir_s\n",
    "sat_pivot[\"percent\"] = sat_pivot[\"progress\"] / sat_pivot['first']"
   ]
  },
  {
   "cell_type": "code",
   "execution_count": 343,
   "metadata": {},
   "outputs": [
    {
     "data": {
      "text/plain": [
       "0    1351.0\n",
       "dtype: float64"
      ]
     },
     "execution_count": 343,
     "metadata": {},
     "output_type": "execute_result"
    }
   ],
   "source": [
    "mm=[]\n",
    "for n,m in enumerate(sat_pivot[\"max\"]):\n",
    "    if sat_pivot.loc[n,\"progress\"] != 0 and m < 1600:\n",
    "        mm.append(m)\n",
    "pd.DataFrame(mm).mean()"
   ]
  },
  {
   "cell_type": "code",
   "execution_count": 345,
   "metadata": {},
   "outputs": [
    {
     "data": {
      "text/plain": [
       "0    1208.133333\n",
       "dtype: float64"
      ]
     },
     "execution_count": 345,
     "metadata": {},
     "output_type": "execute_result"
    }
   ],
   "source": [
    "fs=[]\n",
    "for n,f in enumerate(sat_pivot[\"first\"]):\n",
    "    if sat_pivot.loc[n,\"progress\"] != 0 and f < 1600:\n",
    "        fs.append(f)\n",
    "pd.DataFrame(fs).mean()"
   ]
  },
  {
   "cell_type": "code",
   "execution_count": 326,
   "metadata": {},
   "outputs": [],
   "source": [
    "sp=[]\n",
    "for s in sat_pivot[\"progress\"]:\n",
    "    if s != 0 and s < 1600:\n",
    "        sp.append(s)"
   ]
  },
  {
   "cell_type": "code",
   "execution_count": 327,
   "metadata": {},
   "outputs": [
    {
     "data": {
      "text/plain": [
       "0    146.0\n",
       "dtype: float64"
      ]
     },
     "execution_count": 327,
     "metadata": {},
     "output_type": "execute_result"
    }
   ],
   "source": [
    "pd.DataFrame(sp).mean().round(0)"
   ]
  },
  {
   "cell_type": "code",
   "execution_count": 329,
   "metadata": {},
   "outputs": [],
   "source": [
    "pp=[]\n",
    "for p in sat_pivot[\"percent\"]:\n",
    "    if p != 0 and p < 1:\n",
    "        pp.append(p)"
   ]
  },
  {
   "cell_type": "code",
   "execution_count": 333,
   "metadata": {},
   "outputs": [
    {
     "data": {
      "text/plain": [
       "0    0.14\n",
       "dtype: float64"
      ]
     },
     "execution_count": 333,
     "metadata": {},
     "output_type": "execute_result"
    }
   ],
   "source": [
    "pd.DataFrame(pp).mean().round(2)"
   ]
  },
  {
   "cell_type": "code",
   "execution_count": 331,
   "metadata": {},
   "outputs": [
    {
     "data": {
      "text/html": [
       "<div>\n",
       "<style scoped>\n",
       "    .dataframe tbody tr th:only-of-type {\n",
       "        vertical-align: middle;\n",
       "    }\n",
       "\n",
       "    .dataframe tbody tr th {\n",
       "        vertical-align: top;\n",
       "    }\n",
       "\n",
       "    .dataframe thead th {\n",
       "        text-align: right;\n",
       "    }\n",
       "</style>\n",
       "<table border=\"1\" class=\"dataframe\">\n",
       "  <thead>\n",
       "    <tr style=\"text-align: right;\">\n",
       "      <th>testDate</th>\n",
       "      <th>userID</th>\n",
       "      <th>progress</th>\n",
       "      <th>max</th>\n",
       "      <th>first</th>\n",
       "      <th>percent</th>\n",
       "    </tr>\n",
       "  </thead>\n",
       "  <tbody>\n",
       "    <tr>\n",
       "      <th>0</th>\n",
       "      <td>0.0</td>\n",
       "      <td>110</td>\n",
       "      <td>1500</td>\n",
       "      <td>1390</td>\n",
       "      <td>0.079137</td>\n",
       "    </tr>\n",
       "    <tr>\n",
       "      <th>1</th>\n",
       "      <td>1.0</td>\n",
       "      <td>210</td>\n",
       "      <td>1240</td>\n",
       "      <td>1030</td>\n",
       "      <td>0.203883</td>\n",
       "    </tr>\n",
       "    <tr>\n",
       "      <th>73</th>\n",
       "      <td>2.0</td>\n",
       "      <td>110</td>\n",
       "      <td>1400</td>\n",
       "      <td>1290</td>\n",
       "      <td>0.085271</td>\n",
       "    </tr>\n",
       "    <tr>\n",
       "      <th>129</th>\n",
       "      <td>3.0</td>\n",
       "      <td>140</td>\n",
       "      <td>1170</td>\n",
       "      <td>1030</td>\n",
       "      <td>0.135922</td>\n",
       "    </tr>\n",
       "    <tr>\n",
       "      <th>257</th>\n",
       "      <td>4.0</td>\n",
       "      <td>0</td>\n",
       "      <td>1330</td>\n",
       "      <td>1330</td>\n",
       "      <td>0.000000</td>\n",
       "    </tr>\n",
       "  </tbody>\n",
       "</table>\n",
       "</div>"
      ],
      "text/plain": [
       "testDate  userID  progress   max  first   percent\n",
       "0            0.0       110  1500   1390  0.079137\n",
       "1            1.0       210  1240   1030  0.203883\n",
       "73           2.0       110  1400   1290  0.085271\n",
       "129          3.0       140  1170   1030  0.135922\n",
       "257          4.0         0  1330   1330  0.000000"
      ]
     },
     "execution_count": 331,
     "metadata": {},
     "output_type": "execute_result"
    }
   ],
   "source": [
    "sat_pivot=sat_pivot.reset_index()\n",
    "sat_pivot[\"userID\"] = act_pivot[\"userID\"].astype(float)\n",
    "sat_pivot.sort_values(by=\"userID\")[[\"userID\",\"progress\",'max','first','percent']].to_csv(\"sat_progress.csv\")\n",
    "sat_pivot.sort_values(by=\"userID\")[[\"userID\",\"progress\",'max','first','percent']].head()"
   ]
  },
  {
   "cell_type": "code",
   "execution_count": null,
   "metadata": {},
   "outputs": [],
   "source": []
  }
 ],
 "metadata": {
  "kernelspec": {
   "display_name": "Python 3",
   "language": "python",
   "name": "python3"
  },
  "language_info": {
   "codemirror_mode": {
    "name": "ipython",
    "version": 3
   },
   "file_extension": ".py",
   "mimetype": "text/x-python",
   "name": "python",
   "nbconvert_exporter": "python",
   "pygments_lexer": "ipython3",
   "version": "3.7.3"
  }
 },
 "nbformat": 4,
 "nbformat_minor": 2
}
