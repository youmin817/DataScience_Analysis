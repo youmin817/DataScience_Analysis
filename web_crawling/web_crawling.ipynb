{
 "cells": [
  {
   "cell_type": "code",
   "execution_count": 2,
   "metadata": {},
   "outputs": [],
   "source": [
    "import pandas as pd\n",
    "import seaborn as sns\n",
    "import numpy as np\n",
    "import requests\n",
    "from bs4 import BeautifulSoup\n",
    "%run GoogleDrive_sheet.ipynb"
   ]
  },
  {
   "cell_type": "markdown",
   "metadata": {},
   "source": [
    "### Web Crawling for Ikea web site "
   ]
  },
  {
   "cell_type": "code",
   "execution_count": 8,
   "metadata": {},
   "outputs": [],
   "source": [
    "# List\n",
    "records = []\n",
    "\n",
    "# Set up start page\n",
    "page_num = 1\n",
    "\n",
    "while True:\n",
    "    # HTML  \n",
    "    response = requests.get(\"https://www.ikea.com/us/search/?query=desk&pageNumber=\" + str(page_num))\n",
    "\n",
    "    # BeautifulSoup \n",
    "    soup = BeautifulSoup(response.text, 'html.parser')\n",
    "\n",
    "    # if \"prodName\" has something, then add that data \n",
    "    if len(soup.select('.prodName')) > 0:\n",
    "        product_names = soup.select('.prodName')\n",
    "        product_prices = soup.select('.prodPrice')\n",
    "        product_urls = soup.select('.prodImg')\n",
    "        page_num += 1\n",
    "        \n",
    "        # create record with product info\n",
    "        index = 0\n",
    "        for name in product_names:\n",
    "            record = []\n",
    "            record.append(product_names[index].text)\n",
    "            # Each categories has different lengths\n",
    "            if len(product_prices) > index :\n",
    "                record.append(product_prices[index].text.strip())\n",
    "            record.append(\"https://www.ikea.com\" + product_urls[index].get('src'))\n",
    "            records.append(record)\n",
    "            index += 1\n",
    "    else:\n",
    "        break;\n",
    "\n"
   ]
  },
  {
   "cell_type": "code",
   "execution_count": 9,
   "metadata": {},
   "outputs": [
    {
     "data": {
      "text/html": [
       "<div>\n",
       "<style scoped>\n",
       "    .dataframe tbody tr th:only-of-type {\n",
       "        vertical-align: middle;\n",
       "    }\n",
       "\n",
       "    .dataframe tbody tr th {\n",
       "        vertical-align: top;\n",
       "    }\n",
       "\n",
       "    .dataframe thead th {\n",
       "        text-align: right;\n",
       "    }\n",
       "</style>\n",
       "<table border=\"1\" class=\"dataframe\">\n",
       "  <thead>\n",
       "    <tr style=\"text-align: right;\">\n",
       "      <th></th>\n",
       "      <th>Name</th>\n",
       "      <th>Price</th>\n",
       "      <th>Image Address</th>\n",
       "    </tr>\n",
       "  </thead>\n",
       "  <tbody>\n",
       "    <tr>\n",
       "      <th>0</th>\n",
       "      <td>MICKE</td>\n",
       "      <td>$89.99</td>\n",
       "      <td>https://www.ikea.com/PIAimages/0123483_PE27964...</td>\n",
       "    </tr>\n",
       "    <tr>\n",
       "      <th>1</th>\n",
       "      <td>SKVALLRA</td>\n",
       "      <td>$5.99</td>\n",
       "      <td>https://www.ikea.com/PIAimages/0572782_PE67781...</td>\n",
       "    </tr>\n",
       "    <tr>\n",
       "      <th>2</th>\n",
       "      <td>MICKE</td>\n",
       "      <td>$49.99</td>\n",
       "      <td>https://www.ikea.com/PIAimages/0123484_PE27964...</td>\n",
       "    </tr>\n",
       "    <tr>\n",
       "      <th>3</th>\n",
       "      <td>SNILLE</td>\n",
       "      <td>$19.99</td>\n",
       "      <td>https://www.ikea.com/PIAimages/0724653_PE73455...</td>\n",
       "    </tr>\n",
       "    <tr>\n",
       "      <th>4</th>\n",
       "      <td>BRUSALI</td>\n",
       "      <td>$54.99</td>\n",
       "      <td>https://www.ikea.com/PIAimages/0383188_PE55780...</td>\n",
       "    </tr>\n",
       "  </tbody>\n",
       "</table>\n",
       "</div>"
      ],
      "text/plain": [
       "       Name   Price                                      Image Address\n",
       "0     MICKE  $89.99  https://www.ikea.com/PIAimages/0123483_PE27964...\n",
       "1  SKVALLRA   $5.99  https://www.ikea.com/PIAimages/0572782_PE67781...\n",
       "2     MICKE  $49.99  https://www.ikea.com/PIAimages/0123484_PE27964...\n",
       "3    SNILLE  $19.99  https://www.ikea.com/PIAimages/0724653_PE73455...\n",
       "4   BRUSALI  $54.99  https://www.ikea.com/PIAimages/0383188_PE55780..."
      ]
     },
     "execution_count": 9,
     "metadata": {},
     "output_type": "execute_result"
    }
   ],
   "source": [
    "# Create DataFrame \n",
    "df = pd.DataFrame(data = records, columns = [\"Name\", \"Price\", \"Image Address\"])\n",
    "\n",
    "# DataFrame 출력\n",
    "df.head()"
   ]
  },
  {
   "cell_type": "code",
   "execution_count": 10,
   "metadata": {},
   "outputs": [
    {
     "data": {
      "text/plain": [
       "(412, 3)"
      ]
     },
     "execution_count": 10,
     "metadata": {},
     "output_type": "execute_result"
    }
   ],
   "source": [
    "df.shape"
   ]
  },
  {
   "cell_type": "code",
   "execution_count": null,
   "metadata": {},
   "outputs": [],
   "source": []
  }
 ],
 "metadata": {
  "kernelspec": {
   "display_name": "Python 3",
   "language": "python",
   "name": "python3"
  },
  "language_info": {
   "codemirror_mode": {
    "name": "ipython",
    "version": 3
   },
   "file_extension": ".py",
   "mimetype": "text/x-python",
   "name": "python",
   "nbconvert_exporter": "python",
   "pygments_lexer": "ipython3",
   "version": "3.7.3"
  }
 },
 "nbformat": 4,
 "nbformat_minor": 2
}
