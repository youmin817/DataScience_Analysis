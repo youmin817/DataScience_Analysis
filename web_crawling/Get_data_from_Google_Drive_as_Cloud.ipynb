{
 "cells": [
  {
   "cell_type": "code",
   "execution_count": 1,
   "metadata": {},
   "outputs": [],
   "source": [
    "import pandas as pd\n",
    "import seaborn as sns\n",
    "import numpy as np\n",
    "import requests\n",
    "from bs4 import BeautifulSoup\n",
    "%run GoogleDrive_sheet.ipynb"
   ]
  },
  {
   "cell_type": "code",
   "execution_count": 2,
   "metadata": {},
   "outputs": [],
   "source": [
    "# Get SpreadSheet Data from GoogleDrive \n",
    "sheet = client.open('movie_metadata').sheet1\n",
    "df = sheet.get_all_records()\n",
    "df = pd.DataFrame(df)"
   ]
  },
  {
   "cell_type": "code",
   "execution_count": 3,
   "metadata": {},
   "outputs": [
    {
     "name": "stdout",
     "output_type": "stream",
     "text": [
      "<class 'pandas.core.frame.DataFrame'>\n",
      "RangeIndex: 5043 entries, 0 to 5042\n",
      "Data columns (total 13 columns):\n",
      "actor_1                      5043 non-null object\n",
      "actor_2                      5043 non-null object\n",
      "actor_3                      5043 non-null object\n",
      "budget                       5043 non-null object\n",
      "cast_total_facebook_likes    5043 non-null int64\n",
      "country                      5043 non-null object\n",
      "director                     5043 non-null object\n",
      "genres                       5043 non-null object\n",
      "imdb_score                   5043 non-null float64\n",
      "language                     5043 non-null object\n",
      "movie_facebook_likes         5043 non-null int64\n",
      "title                        5043 non-null object\n",
      "year                         5043 non-null object\n",
      "dtypes: float64(1), int64(2), object(10)\n",
      "memory usage: 512.3+ KB\n"
     ]
    }
   ],
   "source": [
    "df.info()"
   ]
  },
  {
   "cell_type": "code",
   "execution_count": 5,
   "metadata": {},
   "outputs": [],
   "source": [
    "# df['budget'] =df['budget'].astype(float)  only for all numberic values\n",
    "df['budget'] = pd.to_numeric(df['budget'],errors='coerce') # for both numeric and non-numeric values\n",
    "# Neeed to be numberic "
   ]
  },
  {
   "cell_type": "code",
   "execution_count": 18,
   "metadata": {},
   "outputs": [
    {
     "data": {
      "text/html": [
       "<div>\n",
       "<style scoped>\n",
       "    .dataframe tbody tr th:only-of-type {\n",
       "        vertical-align: middle;\n",
       "    }\n",
       "\n",
       "    .dataframe tbody tr th {\n",
       "        vertical-align: top;\n",
       "    }\n",
       "\n",
       "    .dataframe thead th {\n",
       "        text-align: right;\n",
       "    }\n",
       "</style>\n",
       "<table border=\"1\" class=\"dataframe\">\n",
       "  <thead>\n",
       "    <tr style=\"text-align: right;\">\n",
       "      <th></th>\n",
       "      <th>budget</th>\n",
       "      <th>cast_total_facebook_likes</th>\n",
       "      <th>imdb_score</th>\n",
       "      <th>movie_facebook_likes</th>\n",
       "    </tr>\n",
       "  </thead>\n",
       "  <tbody>\n",
       "    <tr>\n",
       "      <th>budget</th>\n",
       "      <td>1.000000</td>\n",
       "      <td>0.240761</td>\n",
       "      <td>0.041508</td>\n",
       "      <td>0.315596</td>\n",
       "    </tr>\n",
       "    <tr>\n",
       "      <th>cast_total_facebook_likes</th>\n",
       "      <td>0.240761</td>\n",
       "      <td>1.000000</td>\n",
       "      <td>0.082898</td>\n",
       "      <td>0.197808</td>\n",
       "    </tr>\n",
       "    <tr>\n",
       "      <th>imdb_score</th>\n",
       "      <td>0.041508</td>\n",
       "      <td>0.082898</td>\n",
       "      <td>1.000000</td>\n",
       "      <td>0.246603</td>\n",
       "    </tr>\n",
       "    <tr>\n",
       "      <th>movie_facebook_likes</th>\n",
       "      <td>0.315596</td>\n",
       "      <td>0.197808</td>\n",
       "      <td>0.246603</td>\n",
       "      <td>1.000000</td>\n",
       "    </tr>\n",
       "  </tbody>\n",
       "</table>\n",
       "</div>"
      ],
      "text/plain": [
       "                             budget  cast_total_facebook_likes  imdb_score  \\\n",
       "budget                     1.000000                   0.240761    0.041508   \n",
       "cast_total_facebook_likes  0.240761                   1.000000    0.082898   \n",
       "imdb_score                 0.041508                   0.082898    1.000000   \n",
       "movie_facebook_likes       0.315596                   0.197808    0.246603   \n",
       "\n",
       "                           movie_facebook_likes  \n",
       "budget                                 0.315596  \n",
       "cast_total_facebook_likes              0.197808  \n",
       "imdb_score                             0.246603  \n",
       "movie_facebook_likes                   1.000000  "
      ]
     },
     "execution_count": 18,
     "metadata": {},
     "output_type": "execute_result"
    }
   ],
   "source": [
    "df.corr()"
   ]
  },
  {
   "cell_type": "code",
   "execution_count": 7,
   "metadata": {},
   "outputs": [
    {
     "data": {
      "text/plain": [
       "<matplotlib.axes._subplots.AxesSubplot at 0x1a1f778278>"
      ]
     },
     "execution_count": 7,
     "metadata": {},
     "output_type": "execute_result"
    },
    {
     "data": {
      "image/png": "[encoded data removed]",
      "text/plain": [
       "<Figure size 432x288 with 2 Axes>"
      ]
     },
     "metadata": {
      "needs_background": "light"
     },
     "output_type": "display_data"
    }
   ],
   "source": [
    "sns.heatmap(df.corr()) # Check Corr() by graph ?? where budegt??\n",
    "# Corr check!!"
   ]
  },
  {
   "cell_type": "code",
   "execution_count": 9,
   "metadata": {},
   "outputs": [
    {
     "name": "stderr",
     "output_type": "stream",
     "text": [
      "/anaconda3/lib/python3.7/site-packages/pandas/core/ops.py:1649: FutureWarning: elementwise comparison failed; returning scalar instead, but in the future will perform elementwise comparison\n",
      "  result = method(y)\n"
     ]
    }
   ],
   "source": [
    "# df.loc[df['budget'] == '', 'budget'] = np.nan # Fill missing values as nan\n",
    "for name in df.columns:\n",
    "    df.loc[df[name] == '', name] = np.nan"
   ]
  },
  {
   "cell_type": "code",
   "execution_count": 10,
   "metadata": {},
   "outputs": [
    {
     "data": {
      "text/plain": [
       "<matplotlib.axes._subplots.AxesSubplot at 0x1a203ce160>"
      ]
     },
     "execution_count": 10,
     "metadata": {},
     "output_type": "execute_result"
    },
    {
     "data": {
      "image/png": "[encoded data removed]",
      "text/plain": [
       "<Figure size 432x288 with 1 Axes>"
      ]
     },
     "metadata": {
      "needs_background": "light"
     },
     "output_type": "display_data"
    }
   ],
   "source": [
    "df.plot(kind='scatter', x=\"budget\", y=\"imdb_score\")"
   ]
  },
  {
   "cell_type": "code",
   "execution_count": 11,
   "metadata": {},
   "outputs": [],
   "source": [
    "df['budget'].quantile(0.75)\n",
    "IQR = df['budget'].quantile(0.75) - df['budget'].quantile(0.25)\n"
   ]
  },
  {
   "cell_type": "code",
   "execution_count": 12,
   "metadata": {},
   "outputs": [
    {
     "data": {
      "text/plain": [
       "pandas.core.series.Series"
      ]
     },
     "execution_count": 12,
     "metadata": {},
     "output_type": "execute_result"
    }
   ],
   "source": [
    "# Eliminate values (75% + 5*IQR )\n",
    "condition = df['budget'] > (df['budget'].quantile(0.75) + 5*IQR)\n",
    "type(condition)"
   ]
  },
  {
   "cell_type": "code",
   "execution_count": 13,
   "metadata": {},
   "outputs": [
    {
     "data": {
      "text/plain": [
       "(27, 13)"
      ]
     },
     "execution_count": 13,
     "metadata": {},
     "output_type": "execute_result"
    }
   ],
   "source": [
    "df[condition].shape"
   ]
  },
  {
   "cell_type": "code",
   "execution_count": 14,
   "metadata": {},
   "outputs": [
    {
     "data": {
      "text/plain": [
       "Int64Index([   1,    2,    3,    5,    6,    7,    8,    9,   10,   18,   20,\n",
       "              27, 1016, 1338, 2323, 2334, 2740, 2988, 3005, 3075, 3273, 3311,\n",
       "            3423, 3461, 3851, 3859, 4542],\n",
       "           dtype='int64')"
      ]
     },
     "execution_count": 14,
     "metadata": {},
     "output_type": "execute_result"
    }
   ],
   "source": [
    "df[condition].index"
   ]
  },
  {
   "cell_type": "code",
   "execution_count": 15,
   "metadata": {},
   "outputs": [],
   "source": [
    "# Eliminate outliers \n",
    "df.drop(df[condition].index, inplace = True)"
   ]
  },
  {
   "cell_type": "code",
   "execution_count": 16,
   "metadata": {},
   "outputs": [
    {
     "data": {
      "text/plain": [
       "<matplotlib.axes._subplots.AxesSubplot at 0x1a20406ef0>"
      ]
     },
     "execution_count": 16,
     "metadata": {},
     "output_type": "execute_result"
    },
    {
     "data": {
      "image/png": "[encoded data removed]",
      "text/plain": [
       "<Figure size 432x288 with 1 Axes>"
      ]
     },
     "metadata": {
      "needs_background": "light"
     },
     "output_type": "display_data"
    }
   ],
   "source": [
    "# graph it again\n",
    "df.plot(kind='scatter', x=\"budget\", y=\"imdb_score\") "
   ]
  },
  {
   "cell_type": "code",
   "execution_count": 17,
   "metadata": {},
   "outputs": [
    {
     "data": {
      "text/html": [
       "<div>\n",
       "<style scoped>\n",
       "    .dataframe tbody tr th:only-of-type {\n",
       "        vertical-align: middle;\n",
       "    }\n",
       "\n",
       "    .dataframe tbody tr th {\n",
       "        vertical-align: top;\n",
       "    }\n",
       "\n",
       "    .dataframe thead th {\n",
       "        text-align: right;\n",
       "    }\n",
       "</style>\n",
       "<table border=\"1\" class=\"dataframe\">\n",
       "  <thead>\n",
       "    <tr style=\"text-align: right;\">\n",
       "      <th></th>\n",
       "      <th>budget</th>\n",
       "      <th>cast_total_facebook_likes</th>\n",
       "      <th>imdb_score</th>\n",
       "      <th>movie_facebook_likes</th>\n",
       "    </tr>\n",
       "  </thead>\n",
       "  <tbody>\n",
       "    <tr>\n",
       "      <th>budget</th>\n",
       "      <td>1.000000</td>\n",
       "      <td>0.240761</td>\n",
       "      <td>0.041508</td>\n",
       "      <td>0.315596</td>\n",
       "    </tr>\n",
       "    <tr>\n",
       "      <th>cast_total_facebook_likes</th>\n",
       "      <td>0.240761</td>\n",
       "      <td>1.000000</td>\n",
       "      <td>0.082898</td>\n",
       "      <td>0.197808</td>\n",
       "    </tr>\n",
       "    <tr>\n",
       "      <th>imdb_score</th>\n",
       "      <td>0.041508</td>\n",
       "      <td>0.082898</td>\n",
       "      <td>1.000000</td>\n",
       "      <td>0.246603</td>\n",
       "    </tr>\n",
       "    <tr>\n",
       "      <th>movie_facebook_likes</th>\n",
       "      <td>0.315596</td>\n",
       "      <td>0.197808</td>\n",
       "      <td>0.246603</td>\n",
       "      <td>1.000000</td>\n",
       "    </tr>\n",
       "  </tbody>\n",
       "</table>\n",
       "</div>"
      ],
      "text/plain": [
       "                             budget  cast_total_facebook_likes  imdb_score  \\\n",
       "budget                     1.000000                   0.240761    0.041508   \n",
       "cast_total_facebook_likes  0.240761                   1.000000    0.082898   \n",
       "imdb_score                 0.041508                   0.082898    1.000000   \n",
       "movie_facebook_likes       0.315596                   0.197808    0.246603   \n",
       "\n",
       "                           movie_facebook_likes  \n",
       "budget                                 0.315596  \n",
       "cast_total_facebook_likes              0.197808  \n",
       "imdb_score                             0.246603  \n",
       "movie_facebook_likes                   1.000000  "
      ]
     },
     "execution_count": 17,
     "metadata": {},
     "output_type": "execute_result"
    }
   ],
   "source": [
    "df.corr()"
   ]
  },
  {
   "cell_type": "code",
   "execution_count": null,
   "metadata": {},
   "outputs": [],
   "source": []
  }
 ],
 "metadata": {
  "kernelspec": {
   "display_name": "Python 3",
   "language": "python",
   "name": "python3"
  },
  "language_info": {
   "codemirror_mode": {
    "name": "ipython",
    "version": 3
   },
   "file_extension": ".py",
   "mimetype": "text/x-python",
   "name": "python",
   "nbconvert_exporter": "python",
   "pygments_lexer": "ipython3",
   "version": "3.7.3"
  }
 },
 "nbformat": 4,
 "nbformat_minor": 2
}
