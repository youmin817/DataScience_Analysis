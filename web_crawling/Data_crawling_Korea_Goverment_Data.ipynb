{
 "cells": [
  {
   "cell_type": "code",
   "execution_count": 2,
   "metadata": {},
   "outputs": [],
   "source": [
    "import pandas as pd\n",
    "import requests\n",
    "from bs4 import BeautifulSoup as bs\n",
    "import pandas as pd"
   ]
  },
  {
   "cell_type": "code",
   "execution_count": 3,
   "metadata": {},
   "outputs": [],
   "source": [
    "import random # use it for random crawling automately \n",
    "import time"
   ]
  },
  {
   "cell_type": "code",
   "execution_count": 4,
   "metadata": {},
   "outputs": [],
   "source": [
    "from tqdm import tqdm, trange\n",
    "# Check the progress when getting bid data crawling "
   ]
  },
  {
   "cell_type": "code",
   "execution_count": 5,
   "metadata": {},
   "outputs": [],
   "source": [
    "import re\n",
    "#regular expression"
   ]
  },
  {
   "cell_type": "code",
   "execution_count": null,
   "metadata": {},
   "outputs": [],
   "source": [
    "url= \"https://www.innogov.go.kr/ucms/ogp/sug/list.do?pnum=1&menuNo=300102&cateCd=&searchText=&status1Cd=&Status2Cd=&sugMonthTp=201906&orderKey=registDtDesc\""
   ]
  },
  {
   "cell_type": "code",
   "execution_count": null,
   "metadata": {
    "scrolled": true
   },
   "outputs": [],
   "source": [
    "# get html code \n",
    "response = requests.get(url)\n",
    "response\n",
    "# <Response [200]> 200 = there is page / 404 = no page"
   ]
  },
  {
   "cell_type": "code",
   "execution_count": null,
   "metadata": {},
   "outputs": [],
   "source": [
    "def get_suggestion_list(pnum):\n",
    "    # print(f'year_month : {year_month}, pnum: {pnum}')\n",
    "    base_url = f\"https://www.innogov.go.kr/ucms/ogp/sug/list.do?pnum={pnum}&menuNo=300102&cateCd=&searchText=&status1Cd=&Status2Cd=&sugMonthTp=201906&orderKey=registDtDesc\"\n",
    "    # base_url 페이지를 받아온다.\n",
    "    response = requests.get( base_url )\n",
    "    # status_code 가 200 OK 일 때 아래의 코드를 실행한다.\n",
    "    if response.status_code == 200:\n",
    "        # 웹페이지의 내용을 가져왔다면 뷰티풀숩을 통해 html 태그를 가져온다.\n",
    "        html = bs(response.text, 'html.parser')\n",
    "        # html 태그 내용 중 아래의 selector를 통해 목록에 있는 다른 게시글을 가져오도록 한다.\n",
    "        tags = html.select('#content > div.suggestion_list > ul')[0].find_all('a')\n",
    "        # tags 의 내용이 없다면 suggestion_list 를 반환한다.\n",
    "        if not tags :\n",
    "            return(suggestion_list)\n",
    "        else :\n",
    "            # tags 에서 다른 게시글을 가져와 suggestion_list 에 담아준다.\n",
    "            for tag in tags:\n",
    "                suggestion_list.append(tag['href'])\n",
    "        pnum += 1\n",
    "        # 페이지번호를 하나씩 더해서 재귀호출을 합니다.\n",
    "        get_suggestion_list(pnum)\n",
    "        print(pnum)\n",
    "    else:\n",
    "        return(suggestion_list)"
   ]
  },
  {
   "cell_type": "code",
   "execution_count": null,
   "metadata": {},
   "outputs": [],
   "source": [
    "# 목록 리스트에 있는 url를 넘겨주면 내용을 크롤링 해옵니다.\n",
    "def get_suggestion_content(last_webpage):\n",
    "    article = []\n",
    "    \n",
    "    sgId = int(last_webpage.split('=')[2])\n",
    "    for id_num in tqdm(range(1, sgId +1)):\n",
    "        records = []\n",
    "        url = \"https://www.innogov.go.kr/ucms/ogp/sug/view.do?menuNo=300102&sgId={0}\".format(id_num)\n",
    "        response = requests.get(url)\n",
    "        html = bs(response.text, 'html.parser')\n",
    "        if len(html.select('#content > div.vveiw_box1 > dl > dt')) > 0:\n",
    "            # 제목을 가져옵니다.\n",
    "            html.select('#content > div.vveiw_box1 > dl > dt')\n",
    "            title = html.select('#content > div.vveiw_box1 > dl > dt')[0].get_text(strip=True)\n",
    "            # dd 태그에 있는 내용을 가져와서 카테고리, 시작일, 마감일, 제안인 정보를 추출합니다.\n",
    "            desc = html.select(\n",
    "                '#content > div.vveiw_box1 > div.vveiw_name > ul > li > dl > dd')\n",
    "            category = desc[0].get_text(strip=True)\n",
    "            content = html.select(\n",
    "                '#content > div.vveiw_box1 > div.vveiw_cont > div > pre')[0].get_text(strip=True)\n",
    "            #content > div.vveiw_box1 > div.vveiw_cont > div > pre > p\n",
    "            start = desc[1].get_text(strip=True)\n",
    "            end = desc[2].get_text(strip=True)\n",
    "            author = desc[3].get_text(strip=True)\n",
    "            # 추천인원을 가져옵니다.\n",
    "            vote = html.select('#counter')[0].get_text(strip=True)\n",
    "            #counter\n",
    "     \n",
    "\n",
    "            records.append(id_num)\n",
    "            records.append(title)\n",
    "            records.append(category)\n",
    "            records.append(content)\n",
    "            records.append(start)\n",
    "            records.append(end)\n",
    "            records.append(vote)\n",
    "            records.append(author)\n",
    "            article.append(records)\n",
    "\n",
    "    return article"
   ]
  },
  {
   "cell_type": "code",
   "execution_count": null,
   "metadata": {},
   "outputs": [],
   "source": [
    "# check the last page \n",
    "last_webpage = \"https://www.innogov.go.kr/ucms/ogp/sug/view.do?menuNo=300102&sgId=217\"\n",
    "sgId = int(last_webpage.split('=')[2])\n"
   ]
  },
  {
   "cell_type": "code",
   "execution_count": null,
   "metadata": {},
   "outputs": [],
   "source": [
    "# Need to get last page\n",
    "article = []\n",
    "for id_num in tqdm(range(1,sgId + 1)):\n",
    "    records = []\n",
    "    url = \"https://www.innogov.go.kr/ucms/ogp/sug/view.do?menuNo=300102&sgId={0}\".format(id_num)\n",
    "    response = requests.get(url)\n",
    "    html = bs(response.text, 'html.parser')\n",
    "    if len(html.select('#content > div.vveiw_box1 > dl > dt')) > 0:\n",
    "        # 제목을 가져옵니다.\n",
    "        html.select('#content > div.vveiw_box1 > dl > dt')\n",
    "        title = html.select('#content > div.vveiw_box1 > dl > dt')[0].get_text(strip=True)\n",
    "        # dd 태그에 있는 내용을 가져와서 카테고리, 시작일, 마감일, 제안인 정보를 추출합니다.\n",
    "        desc = html.select('#content > div.vveiw_box1 > div.vveiw_name > ul > li > dl > dd')\n",
    "        category = desc[0].get_text(strip=True)\n",
    "        content = html.select('#content > div.vveiw_box1 > div.vveiw_cont > div > pre')[0].get_text(strip=True)\n",
    "        #content > div.vveiw_box1 > div.vveiw_cont > div > pre > p\n",
    "        start = desc[1].get_text(strip=True)\n",
    "        end = desc[2].get_text(strip=True)\n",
    "        author = desc[3].get_text(strip=True)\n",
    "        # 추천인원을 가져옵니다.\n",
    "        vote = html.select('#counter')[0].get_text(strip=True)\n",
    "        #counter\n",
    "        records.append(id_num)\n",
    "        records.append(title)\n",
    "        records.append(category)\n",
    "        records.append(content)\n",
    "        records.append(start)\n",
    "        records.append(end)\n",
    "        records.append(vote)\n",
    "        records.append(author)\n",
    "        article.append(records)"
   ]
  },
  {
   "cell_type": "code",
   "execution_count": null,
   "metadata": {},
   "outputs": [],
   "source": [
    "import pandas as pd\n",
    "df_suggestion=pd.DataFrame(article)\n",
    "columns = [\"sgID\",\"title\",\"category\",\"content\", \"start\", \"end\", \"vote\",\"author\"]\n",
    "df_suggestion.columns = columns"
   ]
  },
  {
   "cell_type": "code",
   "execution_count": null,
   "metadata": {},
   "outputs": [],
   "source": [
    "# save suggesion file as csv\n",
    "df_suggestion.to_csv(\"df_suggestion\")"
   ]
  },
  {
   "cell_type": "code",
   "execution_count": 35,
   "metadata": {},
   "outputs": [],
   "source": [
    "# load suggestion data\n",
    "df_suggestion = pd.read_csv(\"df_suggestion\", index_col = 0) "
   ]
  },
  {
   "cell_type": "code",
   "execution_count": 39,
   "metadata": {},
   "outputs": [
    {
     "data": {
      "text/plain": [
       "count     178.000000\n",
       "mean       43.466292\n",
       "std       218.796481\n",
       "min         0.000000\n",
       "25%         2.000000\n",
       "50%         4.000000\n",
       "75%         7.000000\n",
       "max      2037.000000\n",
       "Name: vote, dtype: float64"
      ]
     },
     "execution_count": 39,
     "metadata": {},
     "output_type": "execute_result"
    }
   ],
   "source": [
    "df_suggestion.describe()['vote']"
   ]
  },
  {
   "cell_type": "code",
   "execution_count": 42,
   "metadata": {},
   "outputs": [
    {
     "data": {
      "text/html": [
       "<div>\n",
       "<style scoped>\n",
       "    .dataframe tbody tr th:only-of-type {\n",
       "        vertical-align: middle;\n",
       "    }\n",
       "\n",
       "    .dataframe tbody tr th {\n",
       "        vertical-align: top;\n",
       "    }\n",
       "\n",
       "    .dataframe thead th {\n",
       "        text-align: right;\n",
       "    }\n",
       "</style>\n",
       "<table border=\"1\" class=\"dataframe\">\n",
       "  <thead>\n",
       "    <tr style=\"text-align: right;\">\n",
       "      <th></th>\n",
       "      <th>sgID</th>\n",
       "      <th>title</th>\n",
       "      <th>category</th>\n",
       "      <th>content</th>\n",
       "      <th>start</th>\n",
       "      <th>end</th>\n",
       "      <th>vote</th>\n",
       "      <th>author</th>\n",
       "    </tr>\n",
       "  </thead>\n",
       "  <tbody>\n",
       "    <tr>\n",
       "      <th>56</th>\n",
       "      <td>64</td>\n",
       "      <td>난임지원확대 첫아이 횟수패지</td>\n",
       "      <td>보건복지</td>\n",
       "      <td>요즘 뉴스에 심심치않게 저출산 관련내용이많이나옵니다정부에선 많은 계획을말했지만 정작...</td>\n",
       "      <td>2018.10.02</td>\n",
       "      <td>2018.12.30</td>\n",
       "      <td>2037</td>\n",
       "      <td>엄마란소리</td>\n",
       "    </tr>\n",
       "  </tbody>\n",
       "</table>\n",
       "</div>"
      ],
      "text/plain": [
       "    sgID            title category  \\\n",
       "56    64  난임지원확대 첫아이 횟수패지     보건복지   \n",
       "\n",
       "                                              content       start         end  \\\n",
       "56  요즘 뉴스에 심심치않게 저출산 관련내용이많이나옵니다정부에선 많은 계획을말했지만 정작...  2018.10.02  2018.12.30   \n",
       "\n",
       "    vote author  \n",
       "56  2037  엄마란소리  "
      ]
     },
     "execution_count": 42,
     "metadata": {},
     "output_type": "execute_result"
    }
   ],
   "source": [
    "# Hot topic\n",
    "df_suggestion.loc[df_suggestion['vote'] == 2037]"
   ]
  },
  {
   "cell_type": "code",
   "execution_count": null,
   "metadata": {},
   "outputs": [],
   "source": []
  }
 ],
 "metadata": {
  "kernelspec": {
   "display_name": "Python 3",
   "language": "python",
   "name": "python3"
  },
  "language_info": {
   "codemirror_mode": {
    "name": "ipython",
    "version": 3
   },
   "file_extension": ".py",
   "mimetype": "text/x-python",
   "name": "python",
   "nbconvert_exporter": "python",
   "pygments_lexer": "ipython3",
   "version": "3.7.3"
  }
 },
 "nbformat": 4,
 "nbformat_minor": 2
}
