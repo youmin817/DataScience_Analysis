{
 "cells": [
  {
   "cell_type": "code",
   "execution_count": 1,
   "metadata": {},
   "outputs": [],
   "source": [
    "import pandas as pd"
   ]
  },
  {
   "cell_type": "code",
   "execution_count": 2,
   "metadata": {},
   "outputs": [],
   "source": [
    "df = pd.read_excel(\"data/Prestige_ACT_TEST_REPORT.xlsm\", sheet_name = \"Sheet1\")"
   ]
  },
  {
   "cell_type": "code",
   "execution_count": 3,
   "metadata": {},
   "outputs": [
    {
     "data": {
      "text/html": [
       "<div>\n",
       "<style scoped>\n",
       "    .dataframe tbody tr th:only-of-type {\n",
       "        vertical-align: middle;\n",
       "    }\n",
       "\n",
       "    .dataframe tbody tr th {\n",
       "        vertical-align: top;\n",
       "    }\n",
       "\n",
       "    .dataframe thead th {\n",
       "        text-align: right;\n",
       "    }\n",
       "</style>\n",
       "<table border=\"1\" class=\"dataframe\">\n",
       "  <thead>\n",
       "    <tr style=\"text-align: right;\">\n",
       "      <th></th>\n",
       "      <th>Name</th>\n",
       "      <th>ID</th>\n",
       "      <th>TEST No.</th>\n",
       "      <th>Date</th>\n",
       "      <th>Essay\n",
       "Score</th>\n",
       "      <th>English</th>\n",
       "      <th>Math</th>\n",
       "      <th>Reading</th>\n",
       "      <th>Science</th>\n",
       "      <th>Composite Score</th>\n",
       "      <th>...</th>\n",
       "      <th>Column4</th>\n",
       "      <th>Math5</th>\n",
       "      <th>Column6</th>\n",
       "      <th>Column7</th>\n",
       "      <th>Reading8</th>\n",
       "      <th>Column9</th>\n",
       "      <th>Column10</th>\n",
       "      <th>Science11</th>\n",
       "      <th>Column12</th>\n",
       "      <th>Column13</th>\n",
       "    </tr>\n",
       "  </thead>\n",
       "  <tbody>\n",
       "    <tr>\n",
       "      <th>0</th>\n",
       "      <td>Trystan Ng</td>\n",
       "      <td>3059</td>\n",
       "      <td>13</td>\n",
       "      <td>71519</td>\n",
       "      <td>NaN</td>\n",
       "      <td>35</td>\n",
       "      <td>35</td>\n",
       "      <td>31</td>\n",
       "      <td>33</td>\n",
       "      <td>34</td>\n",
       "      <td>...</td>\n",
       "      <td>0</td>\n",
       "      <td>58</td>\n",
       "      <td>2</td>\n",
       "      <td>0</td>\n",
       "      <td>36</td>\n",
       "      <td>4</td>\n",
       "      <td>0</td>\n",
       "      <td>37</td>\n",
       "      <td>3</td>\n",
       "      <td>0</td>\n",
       "    </tr>\n",
       "    <tr>\n",
       "      <th>1</th>\n",
       "      <td>Jieun Oh</td>\n",
       "      <td>3138</td>\n",
       "      <td>13</td>\n",
       "      <td>71519</td>\n",
       "      <td>NaN</td>\n",
       "      <td>34</td>\n",
       "      <td>30</td>\n",
       "      <td>35</td>\n",
       "      <td>30</td>\n",
       "      <td>32</td>\n",
       "      <td>...</td>\n",
       "      <td>0</td>\n",
       "      <td>51</td>\n",
       "      <td>9</td>\n",
       "      <td>0</td>\n",
       "      <td>39</td>\n",
       "      <td>1</td>\n",
       "      <td>0</td>\n",
       "      <td>35</td>\n",
       "      <td>5</td>\n",
       "      <td>0</td>\n",
       "    </tr>\n",
       "    <tr>\n",
       "      <th>2</th>\n",
       "      <td>Howard Haughton</td>\n",
       "      <td>3056</td>\n",
       "      <td>13</td>\n",
       "      <td>71519</td>\n",
       "      <td>NaN</td>\n",
       "      <td>34</td>\n",
       "      <td>36</td>\n",
       "      <td>32</td>\n",
       "      <td>34</td>\n",
       "      <td>34</td>\n",
       "      <td>...</td>\n",
       "      <td>0</td>\n",
       "      <td>59</td>\n",
       "      <td>1</td>\n",
       "      <td>0</td>\n",
       "      <td>37</td>\n",
       "      <td>3</td>\n",
       "      <td>0</td>\n",
       "      <td>38</td>\n",
       "      <td>2</td>\n",
       "      <td>0</td>\n",
       "    </tr>\n",
       "    <tr>\n",
       "      <th>3</th>\n",
       "      <td>Cloudia Kim</td>\n",
       "      <td>696</td>\n",
       "      <td>13</td>\n",
       "      <td>71519</td>\n",
       "      <td>NaN</td>\n",
       "      <td>31</td>\n",
       "      <td>31</td>\n",
       "      <td>28</td>\n",
       "      <td>25</td>\n",
       "      <td>29</td>\n",
       "      <td>...</td>\n",
       "      <td>0</td>\n",
       "      <td>52</td>\n",
       "      <td>8</td>\n",
       "      <td>0</td>\n",
       "      <td>33</td>\n",
       "      <td>7</td>\n",
       "      <td>0</td>\n",
       "      <td>29</td>\n",
       "      <td>11</td>\n",
       "      <td>0</td>\n",
       "    </tr>\n",
       "    <tr>\n",
       "      <th>4</th>\n",
       "      <td>Daniel Hwang</td>\n",
       "      <td>3027</td>\n",
       "      <td>13</td>\n",
       "      <td>71519</td>\n",
       "      <td>NaN</td>\n",
       "      <td>24</td>\n",
       "      <td>35</td>\n",
       "      <td>24</td>\n",
       "      <td>28</td>\n",
       "      <td>28</td>\n",
       "      <td>...</td>\n",
       "      <td>0</td>\n",
       "      <td>57</td>\n",
       "      <td>3</td>\n",
       "      <td>0</td>\n",
       "      <td>28</td>\n",
       "      <td>12</td>\n",
       "      <td>0</td>\n",
       "      <td>33</td>\n",
       "      <td>6</td>\n",
       "      <td>1</td>\n",
       "    </tr>\n",
       "  </tbody>\n",
       "</table>\n",
       "<p>5 rows × 24 columns</p>\n",
       "</div>"
      ],
      "text/plain": [
       "               Name    ID  TEST No.   Date  Essay\\nScore  English  Math  \\\n",
       "0        Trystan Ng  3059        13  71519           NaN       35    35   \n",
       "1         Jieun Oh   3138        13  71519           NaN       34    30   \n",
       "2  Howard Haughton   3056        13  71519           NaN       34    36   \n",
       "3      Cloudia Kim    696        13  71519           NaN       31    31   \n",
       "4     Daniel Hwang   3027        13  71519           NaN       24    35   \n",
       "\n",
       "   Reading  Science  Composite Score  ...  Column4  Math5  Column6  Column7  \\\n",
       "0       31       33               34  ...        0     58        2        0   \n",
       "1       35       30               32  ...        0     51        9        0   \n",
       "2       32       34               34  ...        0     59        1        0   \n",
       "3       28       25               29  ...        0     52        8        0   \n",
       "4       24       28               28  ...        0     57        3        0   \n",
       "\n",
       "   Reading8  Column9  Column10  Science11  Column12  Column13  \n",
       "0        36        4         0         37         3         0  \n",
       "1        39        1         0         35         5         0  \n",
       "2        37        3         0         38         2         0  \n",
       "3        33        7         0         29        11         0  \n",
       "4        28       12         0         33         6         1  \n",
       "\n",
       "[5 rows x 24 columns]"
      ]
     },
     "execution_count": 3,
     "metadata": {},
     "output_type": "execute_result"
    }
   ],
   "source": [
    "df.head()"
   ]
  },
  {
   "cell_type": "code",
   "execution_count": 86,
   "metadata": {},
   "outputs": [
    {
     "data": {
      "text/plain": [
       "Index(['Name', 'ID', 'TEST No.', 'Date', 'Essay\\nScore', 'English', 'Math',\n",
       "       'Reading', 'Science', 'Composite Score', 'COMBINED English WRITING',\n",
       "       'Composite\\nCumulation Percent(%)', 'English2', 'Column3', 'Column4',\n",
       "       'Math5', 'Column6', 'Column7', 'Reading8', 'Column9', 'Column10',\n",
       "       'Science11', 'Column12', 'Column13'],\n",
       "      dtype='object')"
      ]
     },
     "execution_count": 86,
     "metadata": {},
     "output_type": "execute_result"
    }
   ],
   "source": [
    "df.columns"
   ]
  },
  {
   "cell_type": "code",
   "execution_count": 13,
   "metadata": {},
   "outputs": [
    {
     "name": "stdout",
     "output_type": "stream",
     "text": [
      "(58, 6)\n"
     ]
    },
    {
     "data": {
      "text/html": [
       "<div>\n",
       "<style scoped>\n",
       "    .dataframe tbody tr th:only-of-type {\n",
       "        vertical-align: middle;\n",
       "    }\n",
       "\n",
       "    .dataframe tbody tr th {\n",
       "        vertical-align: top;\n",
       "    }\n",
       "\n",
       "    .dataframe thead th {\n",
       "        text-align: right;\n",
       "    }\n",
       "</style>\n",
       "<table border=\"1\" class=\"dataframe\">\n",
       "  <thead>\n",
       "    <tr style=\"text-align: right;\">\n",
       "      <th></th>\n",
       "      <th>Name</th>\n",
       "      <th>English</th>\n",
       "      <th>Math</th>\n",
       "      <th>Reading</th>\n",
       "      <th>Science</th>\n",
       "      <th>Composite Score</th>\n",
       "    </tr>\n",
       "  </thead>\n",
       "  <tbody>\n",
       "    <tr>\n",
       "      <th>0</th>\n",
       "      <td>Trystan Ng</td>\n",
       "      <td>35</td>\n",
       "      <td>35</td>\n",
       "      <td>31</td>\n",
       "      <td>33</td>\n",
       "      <td>34</td>\n",
       "    </tr>\n",
       "    <tr>\n",
       "      <th>1</th>\n",
       "      <td>Jieun Oh</td>\n",
       "      <td>34</td>\n",
       "      <td>30</td>\n",
       "      <td>35</td>\n",
       "      <td>30</td>\n",
       "      <td>32</td>\n",
       "    </tr>\n",
       "    <tr>\n",
       "      <th>2</th>\n",
       "      <td>Howard Haughton</td>\n",
       "      <td>34</td>\n",
       "      <td>36</td>\n",
       "      <td>32</td>\n",
       "      <td>34</td>\n",
       "      <td>34</td>\n",
       "    </tr>\n",
       "    <tr>\n",
       "      <th>3</th>\n",
       "      <td>Cloudia Kim</td>\n",
       "      <td>31</td>\n",
       "      <td>31</td>\n",
       "      <td>28</td>\n",
       "      <td>25</td>\n",
       "      <td>29</td>\n",
       "    </tr>\n",
       "    <tr>\n",
       "      <th>4</th>\n",
       "      <td>Daniel Hwang</td>\n",
       "      <td>24</td>\n",
       "      <td>35</td>\n",
       "      <td>24</td>\n",
       "      <td>28</td>\n",
       "      <td>28</td>\n",
       "    </tr>\n",
       "  </tbody>\n",
       "</table>\n",
       "</div>"
      ],
      "text/plain": [
       "               Name  English  Math  Reading  Science  Composite Score\n",
       "0        Trystan Ng       35    35       31       33               34\n",
       "1         Jieun Oh        34    30       35       30               32\n",
       "2  Howard Haughton        34    36       32       34               34\n",
       "3      Cloudia Kim        31    31       28       25               29\n",
       "4     Daniel Hwang        24    35       24       28               28"
      ]
     },
     "execution_count": 13,
     "metadata": {},
     "output_type": "execute_result"
    }
   ],
   "source": [
    "df_sd = df.loc[:,[\"Name\",\"English\", \"Math\", \"Reading\", \"Science\", \"Composite Score\"]]\n",
    "print(df_sd.shape)\n",
    "df_sd.head()"
   ]
  },
  {
   "cell_type": "code",
   "execution_count": 42,
   "metadata": {},
   "outputs": [
    {
     "data": {
      "text/html": [
       "<div>\n",
       "<style scoped>\n",
       "    .dataframe tbody tr th:only-of-type {\n",
       "        vertical-align: middle;\n",
       "    }\n",
       "\n",
       "    .dataframe tbody tr th {\n",
       "        vertical-align: top;\n",
       "    }\n",
       "\n",
       "    .dataframe thead th {\n",
       "        text-align: right;\n",
       "    }\n",
       "</style>\n",
       "<table border=\"1\" class=\"dataframe\">\n",
       "  <thead>\n",
       "    <tr style=\"text-align: right;\">\n",
       "      <th></th>\n",
       "      <th>English</th>\n",
       "      <th>Math</th>\n",
       "      <th>Reading</th>\n",
       "      <th>Science</th>\n",
       "      <th>Composite Score</th>\n",
       "    </tr>\n",
       "  </thead>\n",
       "  <tbody>\n",
       "    <tr>\n",
       "      <th>English</th>\n",
       "      <td>1.000000</td>\n",
       "      <td>0.451901</td>\n",
       "      <td>0.703363</td>\n",
       "      <td>0.624367</td>\n",
       "      <td>0.870529</td>\n",
       "    </tr>\n",
       "    <tr>\n",
       "      <th>Math</th>\n",
       "      <td>0.451901</td>\n",
       "      <td>1.000000</td>\n",
       "      <td>0.206585</td>\n",
       "      <td>0.542857</td>\n",
       "      <td>0.644383</td>\n",
       "    </tr>\n",
       "    <tr>\n",
       "      <th>Reading</th>\n",
       "      <td>0.703363</td>\n",
       "      <td>0.206585</td>\n",
       "      <td>1.000000</td>\n",
       "      <td>0.577205</td>\n",
       "      <td>0.823089</td>\n",
       "    </tr>\n",
       "    <tr>\n",
       "      <th>Science</th>\n",
       "      <td>0.624367</td>\n",
       "      <td>0.542857</td>\n",
       "      <td>0.577205</td>\n",
       "      <td>1.000000</td>\n",
       "      <td>0.837725</td>\n",
       "    </tr>\n",
       "    <tr>\n",
       "      <th>Composite Score</th>\n",
       "      <td>0.870529</td>\n",
       "      <td>0.644383</td>\n",
       "      <td>0.823089</td>\n",
       "      <td>0.837725</td>\n",
       "      <td>1.000000</td>\n",
       "    </tr>\n",
       "  </tbody>\n",
       "</table>\n",
       "</div>"
      ],
      "text/plain": [
       "                  English      Math   Reading   Science  Composite Score\n",
       "English          1.000000  0.451901  0.703363  0.624367         0.870529\n",
       "Math             0.451901  1.000000  0.206585  0.542857         0.644383\n",
       "Reading          0.703363  0.206585  1.000000  0.577205         0.823089\n",
       "Science          0.624367  0.542857  0.577205  1.000000         0.837725\n",
       "Composite Score  0.870529  0.644383  0.823089  0.837725         1.000000"
      ]
     },
     "execution_count": 42,
     "metadata": {},
     "output_type": "execute_result"
    }
   ],
   "source": [
    "df_sd.corr()"
   ]
  },
  {
   "cell_type": "code",
   "execution_count": 88,
   "metadata": {},
   "outputs": [
    {
     "data": {
      "text/plain": [
       "<matplotlib.axes._subplots.AxesSubplot at 0x1a253aee10>"
      ]
     },
     "execution_count": 88,
     "metadata": {},
     "output_type": "execute_result"
    },
    {
     "data": {
      "image/png": "[encoded data removed]",
      "text/plain": [
       "<Figure size 432x288 with 2 Axes>"
      ]
     },
     "metadata": {
      "needs_background": "light"
     },
     "output_type": "display_data"
    }
   ],
   "source": [
    "import seaborn as sns\n",
    "%matplotlib inline\n",
    "sns.heatmap(df_sd.corr())"
   ]
  },
  {
   "cell_type": "code",
   "execution_count": 162,
   "metadata": {},
   "outputs": [],
   "source": [
    "import numpy as np\n",
    "total = np.arange(0,58)\n",
    "index = np.random.randint(len(total), size=55)\n",
    "test_index = np.random.randint(len(total), size=10)"
   ]
  },
  {
   "cell_type": "code",
   "execution_count": 157,
   "metadata": {},
   "outputs": [
    {
     "data": {
      "text/plain": [
       "'index = np.random.randint(58, size=50)\\nabc=df_sd.loc[index]\\nabc=np.array(abc.Name)\\nabc.shape'"
      ]
     },
     "execution_count": 157,
     "metadata": {},
     "output_type": "execute_result"
    }
   ],
   "source": [
    "\"\"\"index = np.random.randint(58, size=50)\n",
    "abc=df_sd.loc[index]\n",
    "abc=np.array(abc.Name)\n",
    "abc.shape\"\"\"\n",
    "#df_sd.loc[df_sd['Name'] in abc]"
   ]
  },
  {
   "cell_type": "code",
   "execution_count": 164,
   "metadata": {},
   "outputs": [],
   "source": [
    "x_train = df_sd.loc[index, [\"English\",\"Math\",\"Reading\"]]\n",
    "y_train = df_sd.loc[index, \"Science\"]\n",
    "x_test = df_sd.loc[test_index, [\"English\",\"Math\",\"Reading\"]]\n",
    "y_test = df_sd.loc[test_index, \"Science\"]"
   ]
  },
  {
   "cell_type": "code",
   "execution_count": 78,
   "metadata": {},
   "outputs": [],
   "source": [
    "# Eaching sampling\n",
    "\"\"\"x_train = df_sd.loc[0:50, [\"English\",\"Math\",\"Reading\"]]\n",
    "y_train = df_sd.loc[0:50, \"Science\"]\n",
    "x_test = df_sd.loc[50:58, [\"English\",\"Math\",\"Reading\"]]\n",
    "y_test = df_sd.loc[50:58, \"Science\"]\"\"\""
   ]
  },
  {
   "cell_type": "markdown",
   "metadata": {},
   "source": [
    "### Evaluation Algorithm \n",
    "\n",
    "<br>\n",
    "<img src=\"evaluation.PNG\">"
   ]
  },
  {
   "cell_type": "code",
   "execution_count": 79,
   "metadata": {},
   "outputs": [],
   "source": [
    "from sklearn.metrics import make_scorer\n",
    "\n",
    "def rmsle(predicted_values, actual_values, convertExp=True):\n",
    "\n",
    "    if convertExp:\n",
    "        predicted_values = np.exp(predicted_values),\n",
    "        actual_values = np.exp(actual_values)\n",
    "        \n",
    "    predicted_values = np.array(predicted_values)\n",
    "    actual_values = np.array(actual_values)\n",
    "\n",
    "    log_predict = np.log(predicted_values + 1)\n",
    "    log_actual = np.log(actual_values + 1)\n",
    "    \n",
    "    difference = log_predict - log_actual\n",
    "    difference = np.square(difference)\n",
    "    \n",
    "    mean_difference = difference.mean()\n",
    "    \n",
    "    score = np.sqrt(mean_difference)\n",
    "    \n",
    "    return score"
   ]
  },
  {
   "cell_type": "code",
   "execution_count": 165,
   "metadata": {},
   "outputs": [
    {
     "name": "stdout",
     "output_type": "stream",
     "text": [
      "RMSLE Value For Random Forest Regression:  0.039000432352106935\n"
     ]
    },
    {
     "data": {
      "text/html": [
       "<div>\n",
       "<style scoped>\n",
       "    .dataframe tbody tr th:only-of-type {\n",
       "        vertical-align: middle;\n",
       "    }\n",
       "\n",
       "    .dataframe tbody tr th {\n",
       "        vertical-align: top;\n",
       "    }\n",
       "\n",
       "    .dataframe thead th {\n",
       "        text-align: right;\n",
       "    }\n",
       "</style>\n",
       "<table border=\"1\" class=\"dataframe\">\n",
       "  <thead>\n",
       "    <tr style=\"text-align: right;\">\n",
       "      <th></th>\n",
       "      <th>Science</th>\n",
       "      <th>preds</th>\n",
       "    </tr>\n",
       "  </thead>\n",
       "  <tbody>\n",
       "    <tr>\n",
       "      <th>36</th>\n",
       "      <td>25</td>\n",
       "      <td>25.0</td>\n",
       "    </tr>\n",
       "    <tr>\n",
       "      <th>22</th>\n",
       "      <td>33</td>\n",
       "      <td>30.0</td>\n",
       "    </tr>\n",
       "    <tr>\n",
       "      <th>39</th>\n",
       "      <td>23</td>\n",
       "      <td>27.0</td>\n",
       "    </tr>\n",
       "    <tr>\n",
       "      <th>17</th>\n",
       "      <td>22</td>\n",
       "      <td>22.0</td>\n",
       "    </tr>\n",
       "    <tr>\n",
       "      <th>50</th>\n",
       "      <td>25</td>\n",
       "      <td>24.0</td>\n",
       "    </tr>\n",
       "  </tbody>\n",
       "</table>\n",
       "</div>"
      ],
      "text/plain": [
       "    Science  preds\n",
       "36       25   25.0\n",
       "22       33   30.0\n",
       "39       23   27.0\n",
       "17       22   22.0\n",
       "50       25   24.0"
      ]
     },
     "execution_count": 165,
     "metadata": {},
     "output_type": "execute_result"
    }
   ],
   "source": [
    "from sklearn.ensemble import RandomForestRegressor\n",
    "rfModel = RandomForestRegressor(n_estimators=100)\n",
    "\n",
    "#y_train_log = np.log1p(y_train)\n",
    "#rfModel.fit(x_train, y_train_log)\n",
    "# Log no !!\n",
    "rfModel.fit(x_train, y_train)\n",
    "preds = rfModel.predict(x_train)\n",
    "#score = rmsle(np.exp(y_train_log),np.exp(preds),False)\n",
    "score = rmsle(y_train, preds, False)\n",
    "print (\"RMSLE Value For Random Forest Regression: \", score)\n",
    "df_train = pd.DataFrame(y_train)\n",
    "preds = np.round(preds, decimals=0)\n",
    "df_train['preds'] = preds\n",
    "df_train.head()"
   ]
  },
  {
   "cell_type": "code",
   "execution_count": 166,
   "metadata": {},
   "outputs": [
    {
     "name": "stdout",
     "output_type": "stream",
     "text": [
      "RMSLE Value For Random Forest Regression:  0.10243304706588156\n"
     ]
    },
    {
     "data": {
      "text/html": [
       "<div>\n",
       "<style scoped>\n",
       "    .dataframe tbody tr th:only-of-type {\n",
       "        vertical-align: middle;\n",
       "    }\n",
       "\n",
       "    .dataframe tbody tr th {\n",
       "        vertical-align: top;\n",
       "    }\n",
       "\n",
       "    .dataframe thead th {\n",
       "        text-align: right;\n",
       "    }\n",
       "</style>\n",
       "<table border=\"1\" class=\"dataframe\">\n",
       "  <thead>\n",
       "    <tr style=\"text-align: right;\">\n",
       "      <th></th>\n",
       "      <th>Science</th>\n",
       "      <th>preds</th>\n",
       "    </tr>\n",
       "  </thead>\n",
       "  <tbody>\n",
       "    <tr>\n",
       "      <th>43</th>\n",
       "      <td>30</td>\n",
       "      <td>24.0</td>\n",
       "    </tr>\n",
       "    <tr>\n",
       "      <th>51</th>\n",
       "      <td>20</td>\n",
       "      <td>21.0</td>\n",
       "    </tr>\n",
       "    <tr>\n",
       "      <th>2</th>\n",
       "      <td>34</td>\n",
       "      <td>34.0</td>\n",
       "    </tr>\n",
       "    <tr>\n",
       "      <th>37</th>\n",
       "      <td>21</td>\n",
       "      <td>25.0</td>\n",
       "    </tr>\n",
       "    <tr>\n",
       "      <th>14</th>\n",
       "      <td>26</td>\n",
       "      <td>31.0</td>\n",
       "    </tr>\n",
       "    <tr>\n",
       "      <th>17</th>\n",
       "      <td>22</td>\n",
       "      <td>22.0</td>\n",
       "    </tr>\n",
       "    <tr>\n",
       "      <th>50</th>\n",
       "      <td>25</td>\n",
       "      <td>24.0</td>\n",
       "    </tr>\n",
       "    <tr>\n",
       "      <th>51</th>\n",
       "      <td>20</td>\n",
       "      <td>21.0</td>\n",
       "    </tr>\n",
       "    <tr>\n",
       "      <th>6</th>\n",
       "      <td>30</td>\n",
       "      <td>29.0</td>\n",
       "    </tr>\n",
       "    <tr>\n",
       "      <th>19</th>\n",
       "      <td>20</td>\n",
       "      <td>22.0</td>\n",
       "    </tr>\n",
       "  </tbody>\n",
       "</table>\n",
       "</div>"
      ],
      "text/plain": [
       "    Science  preds\n",
       "43       30   24.0\n",
       "51       20   21.0\n",
       "2        34   34.0\n",
       "37       21   25.0\n",
       "14       26   31.0\n",
       "17       22   22.0\n",
       "50       25   24.0\n",
       "51       20   21.0\n",
       "6        30   29.0\n",
       "19       20   22.0"
      ]
     },
     "execution_count": 166,
     "metadata": {},
     "output_type": "execute_result"
    }
   ],
   "source": [
    "rfModel.fit(x_train, y_train)\n",
    "preds = rfModel.predict(x_test)\n",
    "score = rmsle(y_test, preds,False)\n",
    "print (\"RMSLE Value For Random Forest Regression: \", score)\n",
    "df_test = pd.DataFrame(y_test)\n",
    "preds = np.round(preds, decimals=0)\n",
    "df_test['preds'] = preds\n",
    "df_test"
   ]
  },
  {
   "cell_type": "code",
   "execution_count": 167,
   "metadata": {},
   "outputs": [
    {
     "name": "stdout",
     "output_type": "stream",
     "text": [
      "RMSLE Value For Gradient Boost:  1.1323585612271918e-05\n"
     ]
    }
   ],
   "source": [
    "from sklearn.ensemble import GradientBoostingRegressor\n",
    "gbm = GradientBoostingRegressor(n_estimators=4000, alpha=0.01);\n",
    "gbm.fit(x_train, y_train)\n",
    "\n",
    "preds = gbm.predict(x_train)\n",
    "score = rmsle(y_train, preds, False)\n",
    "print (\"RMSLE Value For Gradient Boost: \", score)"
   ]
  },
  {
   "cell_type": "code",
   "execution_count": 168,
   "metadata": {},
   "outputs": [
    {
     "name": "stdout",
     "output_type": "stream",
     "text": [
      "RMSLE Value For Gradient Boost:  0.11616265100512471\n"
     ]
    }
   ],
   "source": [
    "gbm.fit(x_train, y_train)\n",
    "\n",
    "preds = gbm.predict(x_test)\n",
    "score = rmsle(y_test, preds, False)\n",
    "print (\"RMSLE Value For Gradient Boost: \", score)"
   ]
  }
 ],
 "metadata": {
  "kernelspec": {
   "display_name": "Python 3",
   "language": "python",
   "name": "python3"
  },
  "language_info": {
   "codemirror_mode": {
    "name": "ipython",
    "version": 3
   },
   "file_extension": ".py",
   "mimetype": "text/x-python",
   "name": "python",
   "nbconvert_exporter": "python",
   "pygments_lexer": "ipython3",
   "version": "3.7.3"
  }
 },
 "nbformat": 4,
 "nbformat_minor": 2
}
