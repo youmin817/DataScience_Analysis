{
 "cells": [
  {
   "cell_type": "markdown",
   "metadata": {},
   "source": [
    "## Zigzag Shopping Mall Data Analysis\n",
    "\n",
    "\n",
    "\n",
    "<img src =\"https://i.imgur.com/9zb1Cdh.jpg\" width=700>"
   ]
  },
  {
   "cell_type": "markdown",
   "metadata": {},
   "source": [
    "---"
   ]
  },
  {
   "cell_type": "markdown",
   "metadata": {},
   "source": [
    "## *set options"
   ]
  },
  {
   "cell_type": "code",
   "execution_count": 2,
   "metadata": {},
   "outputs": [],
   "source": [
    "import pandas as pd"
   ]
  },
  {
   "cell_type": "code",
   "execution_count": 3,
   "metadata": {},
   "outputs": [],
   "source": [
    "# Set opitions\n",
    "pd.set_option('display.max_rows', 500)\n",
    "\n",
    "pd.set_option('display.max_columns', 500)"
   ]
  },
  {
   "cell_type": "markdown",
   "metadata": {},
   "source": [
    " "
   ]
  },
  {
   "cell_type": "code",
   "execution_count": 4,
   "metadata": {},
   "outputs": [],
   "source": [
    "# python\n",
    "# sqlite \n",
    "import pandas as pd\n",
    "import sqlite3"
   ]
  },
  {
   "cell_type": "code",
   "execution_count": 5,
   "metadata": {},
   "outputs": [
    {
     "name": "stdout",
     "output_type": "stream",
     "text": [
      "(867, 5)\n"
     ]
    },
    {
     "data": {
      "text/html": [
       "<div>\n",
       "<style scoped>\n",
       "    .dataframe tbody tr th:only-of-type {\n",
       "        vertical-align: middle;\n",
       "    }\n",
       "\n",
       "    .dataframe tbody tr th {\n",
       "        vertical-align: top;\n",
       "    }\n",
       "\n",
       "    .dataframe thead th {\n",
       "        text-align: right;\n",
       "    }\n",
       "</style>\n",
       "<table border=\"1\" class=\"dataframe\">\n",
       "  <thead>\n",
       "    <tr style=\"text-align: right;\">\n",
       "      <th></th>\n",
       "      <th>timestamp</th>\n",
       "      <th>user_id</th>\n",
       "      <th>goods_id</th>\n",
       "      <th>shop_id</th>\n",
       "      <th>price</th>\n",
       "    </tr>\n",
       "  </thead>\n",
       "  <tbody>\n",
       "    <tr>\n",
       "      <th>0</th>\n",
       "      <td>2018-06-11 00:00:43.032</td>\n",
       "      <td>bvu0aLTqiFDoU-963xnr5nzQWTNLUMjx</td>\n",
       "      <td>1414</td>\n",
       "      <td>38</td>\n",
       "      <td>45000</td>\n",
       "    </tr>\n",
       "    <tr>\n",
       "      <th>1</th>\n",
       "      <td>2018-06-11 00:02:33.763</td>\n",
       "      <td>smDmRnykg61KajpxXKzQ0oNkrh2nuSBj</td>\n",
       "      <td>1351</td>\n",
       "      <td>12</td>\n",
       "      <td>9500</td>\n",
       "    </tr>\n",
       "    <tr>\n",
       "      <th>2</th>\n",
       "      <td>2018-06-11 00:04:06.364</td>\n",
       "      <td>EyGjKYtSqZgqJ1ddKCtH5XwGirTyOH2P</td>\n",
       "      <td>646</td>\n",
       "      <td>14</td>\n",
       "      <td>22000</td>\n",
       "    </tr>\n",
       "    <tr>\n",
       "      <th>3</th>\n",
       "      <td>2018-06-11 00:04:17.258</td>\n",
       "      <td>KQBGi33Zxh5Dgu0WEkOkjN0YqTT_wxC3</td>\n",
       "      <td>5901</td>\n",
       "      <td>46</td>\n",
       "      <td>29800</td>\n",
       "    </tr>\n",
       "    <tr>\n",
       "      <th>4</th>\n",
       "      <td>2018-06-11 00:05:26.010</td>\n",
       "      <td>lq1Je3voA3a0MouSFba3629lKCvweI24</td>\n",
       "      <td>5572</td>\n",
       "      <td>89</td>\n",
       "      <td>29000</td>\n",
       "    </tr>\n",
       "  </tbody>\n",
       "</table>\n",
       "</div>"
      ],
      "text/plain": [
       "                 timestamp                           user_id  goods_id  \\\n",
       "0  2018-06-11 00:00:43.032  bvu0aLTqiFDoU-963xnr5nzQWTNLUMjx      1414   \n",
       "1  2018-06-11 00:02:33.763  smDmRnykg61KajpxXKzQ0oNkrh2nuSBj      1351   \n",
       "2  2018-06-11 00:04:06.364  EyGjKYtSqZgqJ1ddKCtH5XwGirTyOH2P       646   \n",
       "3  2018-06-11 00:04:17.258  KQBGi33Zxh5Dgu0WEkOkjN0YqTT_wxC3      5901   \n",
       "4  2018-06-11 00:05:26.010  lq1Je3voA3a0MouSFba3629lKCvweI24      5572   \n",
       "\n",
       "   shop_id  price  \n",
       "0       38  45000  \n",
       "1       12   9500  \n",
       "2       14  22000  \n",
       "3       46  29800  \n",
       "4       89  29000  "
      ]
     },
     "execution_count": 5,
     "metadata": {},
     "output_type": "execute_result"
    }
   ],
   "source": [
    "#Write your code here!\n",
    "connect = sqlite3.connect(\"zigzag_DB.db\")\n",
    "query = \"Select * From 'order'\"\n",
    "order =pd.read_sql(query, connect)\n",
    "print(order.shape)\n",
    "order.head()"
   ]
  },
  {
   "cell_type": "code",
   "execution_count": 18,
   "metadata": {},
   "outputs": [
    {
     "name": "stdout",
     "output_type": "stream",
     "text": [
      "CREATE TABLE \"order\" (\n",
      "\"timestamp\" TEXT,\n",
      "  \"user_id\" TEXT,\n",
      "  \"goods_id\" INTEGER,\n",
      "  \"shop_id\" INTEGER,\n",
      "  \"price\" INTEGER\n",
      ")\n",
      "CREATE TABLE \"good\" (\n",
      "\"goods_id\" INTEGER,\n",
      "  \"timestamp\" TEXT,\n",
      "  \"shop_id\" INTEGER,\n",
      "  \"category\" TEXT,\n",
      "  \"price\" INTEGER,\n",
      "  \"image_type\" TEXT,\n",
      "  \"image_width\" INTEGER,\n",
      "  \"image_height\" INTEGER\n",
      ")\n",
      "CREATE TABLE \"shop\" (\n",
      "\"shop_id\" INTEGER,\n",
      "  \"name\" TEXT,\n",
      "  \"category\" TEXT,\n",
      "  \"age\" TEXT,\n",
      "  \"style\" TEXT\n",
      ")\n",
      "CREATE TABLE \"log\" (\n",
      "\"timestamp\" TEXT,\n",
      "  \"user_id\" TEXT,\n",
      "  \"event_origin\" TEXT,\n",
      "  \"event_name\" TEXT,\n",
      "  \"event_goods_id\" REAL,\n",
      "  \"event_shop_id\" REAL\n",
      ")\n",
      "CREATE TABLE \"user\" (\n",
      "\"user_id\" TEXT,\n",
      "  \"os\" TEXT,\n",
      "  \"age\" INTEGER\n",
      ")\n"
     ]
    }
   ],
   "source": [
    "# check schema of the db\n",
    "query = \"SELECT * FROM sqlite_master\"\n",
    "\n",
    "schema = pd.read_sql(query, connect)\n",
    "\n",
    "for i in schema['sql']:\n",
    "    print(i)"
   ]
  },
  {
   "cell_type": "markdown",
   "metadata": {},
   "source": [
    "**<b> Order table: Top 10 shop_id**"
   ]
  },
  {
   "cell_type": "code",
   "execution_count": 6,
   "metadata": {},
   "outputs": [
    {
     "data": {
      "text/html": [
       "<div>\n",
       "<style scoped>\n",
       "    .dataframe tbody tr th:only-of-type {\n",
       "        vertical-align: middle;\n",
       "    }\n",
       "\n",
       "    .dataframe tbody tr th {\n",
       "        vertical-align: top;\n",
       "    }\n",
       "\n",
       "    .dataframe thead th {\n",
       "        text-align: right;\n",
       "    }\n",
       "</style>\n",
       "<table border=\"1\" class=\"dataframe\">\n",
       "  <thead>\n",
       "    <tr style=\"text-align: right;\">\n",
       "      <th></th>\n",
       "      <th>price</th>\n",
       "    </tr>\n",
       "    <tr>\n",
       "      <th>shop_id</th>\n",
       "      <th></th>\n",
       "    </tr>\n",
       "  </thead>\n",
       "  <tbody>\n",
       "    <tr>\n",
       "      <th>22</th>\n",
       "      <td>1365200</td>\n",
       "    </tr>\n",
       "    <tr>\n",
       "      <th>14</th>\n",
       "      <td>872000</td>\n",
       "    </tr>\n",
       "    <tr>\n",
       "      <th>63</th>\n",
       "      <td>710700</td>\n",
       "    </tr>\n",
       "    <tr>\n",
       "      <th>32</th>\n",
       "      <td>707900</td>\n",
       "    </tr>\n",
       "    <tr>\n",
       "      <th>126</th>\n",
       "      <td>669400</td>\n",
       "    </tr>\n",
       "    <tr>\n",
       "      <th>6</th>\n",
       "      <td>655900</td>\n",
       "    </tr>\n",
       "    <tr>\n",
       "      <th>11</th>\n",
       "      <td>653000</td>\n",
       "    </tr>\n",
       "    <tr>\n",
       "      <th>60</th>\n",
       "      <td>558300</td>\n",
       "    </tr>\n",
       "    <tr>\n",
       "      <th>19</th>\n",
       "      <td>518400</td>\n",
       "    </tr>\n",
       "    <tr>\n",
       "      <th>12</th>\n",
       "      <td>446900</td>\n",
       "    </tr>\n",
       "  </tbody>\n",
       "</table>\n",
       "</div>"
      ],
      "text/plain": [
       "           price\n",
       "shop_id         \n",
       "22       1365200\n",
       "14        872000\n",
       "63        710700\n",
       "32        707900\n",
       "126       669400\n",
       "6         655900\n",
       "11        653000\n",
       "60        558300\n",
       "19        518400\n",
       "12        446900"
      ]
     },
     "execution_count": 6,
     "metadata": {},
     "output_type": "execute_result"
    }
   ],
   "source": [
    "#Write your code here!\n",
    "table = pd.pivot_table(order, index=\"shop_id\", values = 'price', aggfunc =\"sum\")\n",
    "\n",
    "table.sort_values(by=\"price\", ascending = False).head(10)"
   ]
  },
  {
   "cell_type": "markdown",
   "metadata": {},
   "source": [
    "## <b> Top 10 Graph"
   ]
  },
  {
   "cell_type": "code",
   "execution_count": 7,
   "metadata": {},
   "outputs": [],
   "source": [
    "import matplotlib.pyplot as plt\n",
    "import seaborn as sns\n"
   ]
  },
  {
   "cell_type": "code",
   "execution_count": 21,
   "metadata": {},
   "outputs": [],
   "source": [
    "#Write your code here!\n",
    "\n",
    "table = pd.pivot_table(order, index=\"shop_id\", values = 'price', aggfunc =[\"sum\", 'count'])\n",
    "table.columns = ['sum', 'count']\n",
    "table = table.sort_values(by = 'sum', ascending = False)\n",
    "top10_table = table.head(10)"
   ]
  },
  {
   "cell_type": "code",
   "execution_count": 22,
   "metadata": {},
   "outputs": [
    {
     "data": {
      "text/plain": [
       "<matplotlib.axes._subplots.AxesSubplot at 0x1a1c34f630>"
      ]
     },
     "execution_count": 22,
     "metadata": {},
     "output_type": "execute_result"
    },
    {
     "data": {
      "image/png": "[encoded data removed]",
      "text/plain": [
       "<Figure size 432x288 with 1 Axes>"
      ]
     },
     "metadata": {
      "image/png": {
       "height": 263,
       "width": 419
      }
     },
     "output_type": "display_data"
    }
   ],
   "source": [
    "sns.barplot(data=top_table, x=top10_table.index, y=\"sum\", order=top_table.index)"
   ]
  },
  {
   "cell_type": "markdown",
   "metadata": {},
   "source": [
    "## <b> lineplot for 06/11 data "
   ]
  },
  {
   "cell_type": "markdown",
   "metadata": {},
   "source": [
    "지그재그 이용자들의 구매 패턴을 알아보려고 합니다. timestamp를 to_datetime을 이용하여 datetime 자료형으로 만든 뒤, 이를 이용하여 시간대별 총 매출량을 구해주세요.\n",
    "\n",
    "x를 timestamp, y를 price로 놓는 경우 다음과 같은 그래프가 나오게 됩니다. "
   ]
  },
  {
   "cell_type": "markdown",
   "metadata": {},
   "source": [
    "![](https://i.imgur.com/5cqEAAj.png)"
   ]
  },
  {
   "cell_type": "code",
   "execution_count": 10,
   "metadata": {},
   "outputs": [],
   "source": [
    "import matplotlib as mpl\n",
    "\n",
    "sns.set_style('whitegrid') \n",
    "\n",
    "mpl.rc('font', family='AppleGothic') # Mac: AppleGothic, Korean \n",
    "mpl.rc('axes', unicode_minus=False)\n",
    "\n",
    "from IPython.display import set_matplotlib_formats\n",
    "set_matplotlib_formats('retina')"
   ]
  },
  {
   "cell_type": "code",
   "execution_count": 11,
   "metadata": {},
   "outputs": [
    {
     "name": "stderr",
     "output_type": "stream",
     "text": [
      "/anaconda3/lib/python3.7/site-packages/pandas/plotting/_converter.py:129: FutureWarning: Using an implicitly registered datetime converter for a matplotlib plotting method. The converter was registered by pandas on import. Future versions of pandas will require you to explicitly register matplotlib converters.\n",
      "\n",
      "To register the converters:\n",
      "\t>>> from pandas.plotting import register_matplotlib_converters\n",
      "\t>>> register_matplotlib_converters()\n",
      "  warnings.warn(msg, FutureWarning)\n"
     ]
    },
    {
     "data": {
      "text/plain": [
       "<matplotlib.axes._subplots.AxesSubplot at 0x1a1b34a160>"
      ]
     },
     "execution_count": 11,
     "metadata": {},
     "output_type": "execute_result"
    },
    {
     "data": {
      "image/png": "[encoded data removed]",
      "text/plain": [
       "<Figure size 1080x216 with 1 Axes>"
      ]
     },
     "metadata": {
      "image/png": {
       "height": 209,
       "width": 914
      }
     },
     "output_type": "display_data"
    }
   ],
   "source": [
    "#Write your code here!\n",
    "order.timestamp = pd.to_datetime(order.timestamp)\n",
    "import matplotlib.pyplot as plt\n",
    "plt.figure(figsize =(15,3))\n",
    "sns.lineplot(data=order, x='timestamp', y='price')"
   ]
  },
  {
   "cell_type": "markdown",
   "metadata": {},
   "source": [
    "##  <b> Plot by Hourly "
   ]
  },
  {
   "cell_type": "code",
   "execution_count": 12,
   "metadata": {},
   "outputs": [],
   "source": [
    "order['hour'] = order.timestamp.dt.hour"
   ]
  },
  {
   "cell_type": "code",
   "execution_count": 13,
   "metadata": {},
   "outputs": [
    {
     "data": {
      "image/png": "[encoded data removed]",
      "text/plain": [
       "<Figure size 1080x216 with 1 Axes>"
      ]
     },
     "metadata": {
      "image/png": {
       "height": 209,
       "width": 921
      }
     },
     "output_type": "display_data"
    }
   ],
   "source": [
    "plt.figure(figsize =(15,3))\n",
    "data=pd.pivot_table(data=order, index='hour', values='price', aggfunc='sum').reset_index()\n",
    "sns.pointplot(data=data, x=\"hour\", y='price')\n",
    "plt.savefig('hour_image.png') # save the image"
   ]
  },
  {
   "cell_type": "code",
   "execution_count": 15,
   "metadata": {},
   "outputs": [
    {
     "data": {
      "text/plain": [
       "<matplotlib.axes._subplots.AxesSubplot at 0x1a1c1a9320>"
      ]
     },
     "execution_count": 15,
     "metadata": {},
     "output_type": "execute_result"
    },
    {
     "data": {
      "image/png": "[encoded data removed]",
      "text/plain": [
       "<Figure size 1080x288 with 1 Axes>"
      ]
     },
     "metadata": {
      "image/png": {
       "height": 263,
       "width": 921
      }
     },
     "output_type": "display_data"
    }
   ],
   "source": [
    "# data.index for x instead of reset_index()\n",
    "plt.figure(figsize=[15,4])\n",
    "data=pd.pivot_table(data=order, index='hour', values='price', aggfunc='sum')\n",
    "sns.lineplot(data=data, x=data.index, y='price')\n"
   ]
  },
  {
   "cell_type": "code",
   "execution_count": 16,
   "metadata": {},
   "outputs": [
    {
     "data": {
      "text/html": [
       "<div>\n",
       "<style scoped>\n",
       "    .dataframe tbody tr th:only-of-type {\n",
       "        vertical-align: middle;\n",
       "    }\n",
       "\n",
       "    .dataframe tbody tr th {\n",
       "        vertical-align: top;\n",
       "    }\n",
       "\n",
       "    .dataframe thead th {\n",
       "        text-align: right;\n",
       "    }\n",
       "</style>\n",
       "<table border=\"1\" class=\"dataframe\">\n",
       "  <thead>\n",
       "    <tr style=\"text-align: right;\">\n",
       "      <th></th>\n",
       "      <th>user_id</th>\n",
       "      <th>os</th>\n",
       "      <th>age</th>\n",
       "    </tr>\n",
       "  </thead>\n",
       "  <tbody>\n",
       "    <tr>\n",
       "      <th>0</th>\n",
       "      <td>--PYPMX8QWg0ioT5zfORmU-S5Lln0lot</td>\n",
       "      <td>And</td>\n",
       "      <td>41</td>\n",
       "    </tr>\n",
       "    <tr>\n",
       "      <th>1</th>\n",
       "      <td>-16-xXbeDcvkZJtTpRwMi57Yo2ZQpORv</td>\n",
       "      <td>iOS</td>\n",
       "      <td>31</td>\n",
       "    </tr>\n",
       "    <tr>\n",
       "      <th>2</th>\n",
       "      <td>-1de9sT-MLwVVvnC0ncCLnqEqpSi3XSN</td>\n",
       "      <td>iOS</td>\n",
       "      <td>16</td>\n",
       "    </tr>\n",
       "    <tr>\n",
       "      <th>3</th>\n",
       "      <td>-3A3L2jnM55B_Q1bRXMjZ6sPnINIj-Y1</td>\n",
       "      <td>And</td>\n",
       "      <td>41</td>\n",
       "    </tr>\n",
       "    <tr>\n",
       "      <th>4</th>\n",
       "      <td>-3bhcSgPOIdQAPkPNcchxvECGqGQQ78k</td>\n",
       "      <td>And</td>\n",
       "      <td>42</td>\n",
       "    </tr>\n",
       "  </tbody>\n",
       "</table>\n",
       "</div>"
      ],
      "text/plain": [
       "                            user_id   os  age\n",
       "0  --PYPMX8QWg0ioT5zfORmU-S5Lln0lot  And   41\n",
       "1  -16-xXbeDcvkZJtTpRwMi57Yo2ZQpORv  iOS   31\n",
       "2  -1de9sT-MLwVVvnC0ncCLnqEqpSi3XSN  iOS   16\n",
       "3  -3A3L2jnM55B_Q1bRXMjZ6sPnINIj-Y1  And   41\n",
       "4  -3bhcSgPOIdQAPkPNcchxvECGqGQQ78k  And   42"
      ]
     },
     "execution_count": 16,
     "metadata": {},
     "output_type": "execute_result"
    }
   ],
   "source": [
    "#Write your code here!\n",
    "query = \"Select * From 'user'\"\n",
    "user =pd.read_sql(query, connect)\n",
    "user.head()"
   ]
  },
  {
   "cell_type": "code",
   "execution_count": 19,
   "metadata": {},
   "outputs": [
    {
     "name": "stdout",
     "output_type": "stream",
     "text": [
      "(867, 8)\n"
     ]
    },
    {
     "data": {
      "text/html": [
       "<div>\n",
       "<style scoped>\n",
       "    .dataframe tbody tr th:only-of-type {\n",
       "        vertical-align: middle;\n",
       "    }\n",
       "\n",
       "    .dataframe tbody tr th {\n",
       "        vertical-align: top;\n",
       "    }\n",
       "\n",
       "    .dataframe thead th {\n",
       "        text-align: right;\n",
       "    }\n",
       "</style>\n",
       "<table border=\"1\" class=\"dataframe\">\n",
       "  <thead>\n",
       "    <tr style=\"text-align: right;\">\n",
       "      <th></th>\n",
       "      <th>timestamp</th>\n",
       "      <th>user_id</th>\n",
       "      <th>goods_id</th>\n",
       "      <th>shop_id</th>\n",
       "      <th>price</th>\n",
       "      <th>hour</th>\n",
       "      <th>os</th>\n",
       "      <th>age</th>\n",
       "    </tr>\n",
       "  </thead>\n",
       "  <tbody>\n",
       "    <tr>\n",
       "      <th>0</th>\n",
       "      <td>2018-06-11 00:00:43.032</td>\n",
       "      <td>bvu0aLTqiFDoU-963xnr5nzQWTNLUMjx</td>\n",
       "      <td>1414</td>\n",
       "      <td>38</td>\n",
       "      <td>45000</td>\n",
       "      <td>0</td>\n",
       "      <td>iOS</td>\n",
       "      <td>39</td>\n",
       "    </tr>\n",
       "    <tr>\n",
       "      <th>1</th>\n",
       "      <td>2018-06-11 00:02:33.763</td>\n",
       "      <td>smDmRnykg61KajpxXKzQ0oNkrh2nuSBj</td>\n",
       "      <td>1351</td>\n",
       "      <td>12</td>\n",
       "      <td>9500</td>\n",
       "      <td>0</td>\n",
       "      <td>And</td>\n",
       "      <td>17</td>\n",
       "    </tr>\n",
       "    <tr>\n",
       "      <th>2</th>\n",
       "      <td>2018-06-11 00:04:06.364</td>\n",
       "      <td>EyGjKYtSqZgqJ1ddKCtH5XwGirTyOH2P</td>\n",
       "      <td>646</td>\n",
       "      <td>14</td>\n",
       "      <td>22000</td>\n",
       "      <td>0</td>\n",
       "      <td>And</td>\n",
       "      <td>-1</td>\n",
       "    </tr>\n",
       "    <tr>\n",
       "      <th>3</th>\n",
       "      <td>2018-06-11 00:04:17.258</td>\n",
       "      <td>KQBGi33Zxh5Dgu0WEkOkjN0YqTT_wxC3</td>\n",
       "      <td>5901</td>\n",
       "      <td>46</td>\n",
       "      <td>29800</td>\n",
       "      <td>0</td>\n",
       "      <td>And</td>\n",
       "      <td>34</td>\n",
       "    </tr>\n",
       "    <tr>\n",
       "      <th>4</th>\n",
       "      <td>2018-06-11 00:05:26.010</td>\n",
       "      <td>lq1Je3voA3a0MouSFba3629lKCvweI24</td>\n",
       "      <td>5572</td>\n",
       "      <td>89</td>\n",
       "      <td>29000</td>\n",
       "      <td>0</td>\n",
       "      <td>And</td>\n",
       "      <td>17</td>\n",
       "    </tr>\n",
       "  </tbody>\n",
       "</table>\n",
       "</div>"
      ],
      "text/plain": [
       "                timestamp                           user_id  goods_id  \\\n",
       "0 2018-06-11 00:00:43.032  bvu0aLTqiFDoU-963xnr5nzQWTNLUMjx      1414   \n",
       "1 2018-06-11 00:02:33.763  smDmRnykg61KajpxXKzQ0oNkrh2nuSBj      1351   \n",
       "2 2018-06-11 00:04:06.364  EyGjKYtSqZgqJ1ddKCtH5XwGirTyOH2P       646   \n",
       "3 2018-06-11 00:04:17.258  KQBGi33Zxh5Dgu0WEkOkjN0YqTT_wxC3      5901   \n",
       "4 2018-06-11 00:05:26.010  lq1Je3voA3a0MouSFba3629lKCvweI24      5572   \n",
       "\n",
       "   shop_id  price  hour   os  age  \n",
       "0       38  45000     0  iOS   39  \n",
       "1       12   9500     0  And   17  \n",
       "2       14  22000     0  And   -1  \n",
       "3       46  29800     0  And   34  \n",
       "4       89  29000     0  And   17  "
      ]
     },
     "execution_count": 19,
     "metadata": {},
     "output_type": "execute_result"
    }
   ],
   "source": [
    "order_user = order.merge(user, on = \"user_id\") # default how = 'inner'\n",
    "print(order_user.shape)\n",
    "order_user.head()"
   ]
  },
  {
   "cell_type": "markdown",
   "metadata": {},
   "source": [
    "## <b> Top 10 by age"
   ]
  },
  {
   "cell_type": "markdown",
   "metadata": {},
   "source": [
    "![](https://i.imgur.com/roHlnXi.png)"
   ]
  },
  {
   "cell_type": "code",
   "execution_count": 27,
   "metadata": {},
   "outputs": [],
   "source": [
    "#Write your code here!\n",
    "df = order_user[order_user['age'] != -1]"
   ]
  },
  {
   "cell_type": "code",
   "execution_count": 28,
   "metadata": {},
   "outputs": [],
   "source": [
    "# top 10 sales \n",
    "top10 = pd.pivot_table(data=df, index='shop_id', values='price', aggfunc='sum').reset_index().sort_values(by='price', ascending=False).head(10)\n",
    "top10 = top10['shop_id'].unique()"
   ]
  },
  {
   "cell_type": "code",
   "execution_count": 30,
   "metadata": {},
   "outputs": [
    {
     "data": {
      "image/png": "[encoded data removed]",
      "text/plain": [
       "<Figure size 1080x216 with 2 Axes>"
      ]
     },
     "metadata": {
      "image/png": {
       "height": 209,
       "width": 887
      }
     },
     "output_type": "display_data"
    }
   ],
   "source": [
    "figure, (ax1,ax2) = plt.subplots(nrows=1, ncols=2)\n",
    "figure.set_size_inches(15,3)\n",
    "sns.boxplot(data=df.loc[df['shop_id'].isin(top10), ['shop_id', 'age']],x='shop_id', y='age', ax=ax1)\n",
    "sns.violinplot(data=df.loc[df['shop_id'].isin(top10), ['shop_id', 'age']],x='shop_id', y='age', ax=ax2)\n",
    "figure.savefig('top10_age.png', dpi=400)"
   ]
  },
  {
   "cell_type": "code",
   "execution_count": 25,
   "metadata": {},
   "outputs": [],
   "source": [
    "# utilize top10_table above \n",
    "order_user_top10 = order_user[(order_user['shop_id'].isin(top10_table.index)) & (order_user['age'] != -1)]"
   ]
  },
  {
   "cell_type": "code",
   "execution_count": 31,
   "metadata": {},
   "outputs": [
    {
     "data": {
      "text/plain": [
       "<matplotlib.axes._subplots.AxesSubplot at 0x1a1c4876d8>"
      ]
     },
     "execution_count": 31,
     "metadata": {},
     "output_type": "execute_result"
    },
    {
     "data": {
      "image/png": "[encoded data removed]",
      "text/plain": [
       "<Figure size 1080x216 with 2 Axes>"
      ]
     },
     "metadata": {
      "image/png": {
       "height": 209,
       "width": 887
      }
     },
     "output_type": "display_data"
    }
   ],
   "source": [
    "# same result !! \n",
    "fig, (ax1, ax2) = plt.subplots(ncols=2, nrows=1)\n",
    "fig.set_size_inches([15,3])\n",
    "\n",
    "sns.boxplot(data = order_user_top10, x='shop_id', y='age', ax=ax1)\n",
    "sns.violinplot(data = order_user_top10, x='shop_id', y='age', ax=ax2)\n"
   ]
  },
  {
   "cell_type": "code",
   "execution_count": 610,
   "metadata": {},
   "outputs": [
    {
     "name": "stdout",
     "output_type": "stream",
     "text": [
      "10대\n",
      "20대 중반\n",
      "20대 후반\n",
      "30대 초반\n",
      "30대 중반\n",
      "30대 후반\n"
     ]
    }
   ],
   "source": [
    "def make_generation(age):\n",
    "    if age == -1:\n",
    "        return '미입력'\n",
    "    elif age // 10 >= 4:\n",
    "        return \"30대 후반\"\n",
    "    elif age // 10 == 1:\n",
    "        return \"10대\"\n",
    "    elif age % 10 < 3:\n",
    "        return str(age // 10 * 10) + f\"대 초반\"\n",
    "    elif age % 10 <= 6:\n",
    "        return str(age // 10 * 10) + f\"대 중반\"\n",
    "    else:\n",
    "        return str(age // 10 * 10) + f\"대 후반\"\n"
   ]
  },
  {
   "cell_type": "code",
   "execution_count": 611,
   "metadata": {},
   "outputs": [
    {
     "data": {
      "text/html": [
       "<div>\n",
       "<style scoped>\n",
       "    .dataframe tbody tr th:only-of-type {\n",
       "        vertical-align: middle;\n",
       "    }\n",
       "\n",
       "    .dataframe tbody tr th {\n",
       "        vertical-align: top;\n",
       "    }\n",
       "\n",
       "    .dataframe thead th {\n",
       "        text-align: right;\n",
       "    }\n",
       "</style>\n",
       "<table border=\"1\" class=\"dataframe\">\n",
       "  <thead>\n",
       "    <tr style=\"text-align: right;\">\n",
       "      <th></th>\n",
       "      <th>timestamp</th>\n",
       "      <th>user_id</th>\n",
       "      <th>goods_id</th>\n",
       "      <th>shop_id</th>\n",
       "      <th>price</th>\n",
       "      <th>hour</th>\n",
       "      <th>os</th>\n",
       "      <th>age</th>\n",
       "      <th>연령대</th>\n",
       "    </tr>\n",
       "  </thead>\n",
       "  <tbody>\n",
       "    <tr>\n",
       "      <th>0</th>\n",
       "      <td>2018-06-11 00:00:43.032</td>\n",
       "      <td>bvu0aLTqiFDoU-963xnr5nzQWTNLUMjx</td>\n",
       "      <td>1414</td>\n",
       "      <td>38</td>\n",
       "      <td>45000</td>\n",
       "      <td>0</td>\n",
       "      <td>iOS</td>\n",
       "      <td>39</td>\n",
       "      <td>30대 후반</td>\n",
       "    </tr>\n",
       "    <tr>\n",
       "      <th>1</th>\n",
       "      <td>2018-06-11 00:02:33.763</td>\n",
       "      <td>smDmRnykg61KajpxXKzQ0oNkrh2nuSBj</td>\n",
       "      <td>1351</td>\n",
       "      <td>12</td>\n",
       "      <td>9500</td>\n",
       "      <td>0</td>\n",
       "      <td>And</td>\n",
       "      <td>17</td>\n",
       "      <td>10대</td>\n",
       "    </tr>\n",
       "    <tr>\n",
       "      <th>2</th>\n",
       "      <td>2018-06-11 00:04:06.364</td>\n",
       "      <td>EyGjKYtSqZgqJ1ddKCtH5XwGirTyOH2P</td>\n",
       "      <td>646</td>\n",
       "      <td>14</td>\n",
       "      <td>22000</td>\n",
       "      <td>0</td>\n",
       "      <td>And</td>\n",
       "      <td>-1</td>\n",
       "      <td>미입력</td>\n",
       "    </tr>\n",
       "    <tr>\n",
       "      <th>3</th>\n",
       "      <td>2018-06-11 00:04:17.258</td>\n",
       "      <td>KQBGi33Zxh5Dgu0WEkOkjN0YqTT_wxC3</td>\n",
       "      <td>5901</td>\n",
       "      <td>46</td>\n",
       "      <td>29800</td>\n",
       "      <td>0</td>\n",
       "      <td>And</td>\n",
       "      <td>34</td>\n",
       "      <td>30대 중반</td>\n",
       "    </tr>\n",
       "    <tr>\n",
       "      <th>4</th>\n",
       "      <td>2018-06-11 00:05:26.010</td>\n",
       "      <td>lq1Je3voA3a0MouSFba3629lKCvweI24</td>\n",
       "      <td>5572</td>\n",
       "      <td>89</td>\n",
       "      <td>29000</td>\n",
       "      <td>0</td>\n",
       "      <td>And</td>\n",
       "      <td>17</td>\n",
       "      <td>10대</td>\n",
       "    </tr>\n",
       "  </tbody>\n",
       "</table>\n",
       "</div>"
      ],
      "text/plain": [
       "                timestamp                           user_id  goods_id  \\\n",
       "0 2018-06-11 00:00:43.032  bvu0aLTqiFDoU-963xnr5nzQWTNLUMjx      1414   \n",
       "1 2018-06-11 00:02:33.763  smDmRnykg61KajpxXKzQ0oNkrh2nuSBj      1351   \n",
       "2 2018-06-11 00:04:06.364  EyGjKYtSqZgqJ1ddKCtH5XwGirTyOH2P       646   \n",
       "3 2018-06-11 00:04:17.258  KQBGi33Zxh5Dgu0WEkOkjN0YqTT_wxC3      5901   \n",
       "4 2018-06-11 00:05:26.010  lq1Je3voA3a0MouSFba3629lKCvweI24      5572   \n",
       "\n",
       "   shop_id  price  hour   os  age     연령대  \n",
       "0       38  45000     0  iOS   39  30대 후반  \n",
       "1       12   9500     0  And   17     10대  \n",
       "2       14  22000     0  And   -1     미입력  \n",
       "3       46  29800     0  And   34  30대 중반  \n",
       "4       89  29000     0  And   17     10대  "
      ]
     },
     "execution_count": 611,
     "metadata": {},
     "output_type": "execute_result"
    }
   ],
   "source": [
    "#Write your code here!\n",
    "df = order_user.copy()\n",
    "df['연령대'] = df['age'].apply(make_generation)\n",
    "df.head()"
   ]
  },
  {
   "cell_type": "code",
   "execution_count": 612,
   "metadata": {},
   "outputs": [
    {
     "data": {
      "text/html": [
       "<div>\n",
       "<style scoped>\n",
       "    .dataframe tbody tr th:only-of-type {\n",
       "        vertical-align: middle;\n",
       "    }\n",
       "\n",
       "    .dataframe tbody tr th {\n",
       "        vertical-align: top;\n",
       "    }\n",
       "\n",
       "    .dataframe thead th {\n",
       "        text-align: right;\n",
       "    }\n",
       "</style>\n",
       "<table border=\"1\" class=\"dataframe\">\n",
       "  <thead>\n",
       "    <tr style=\"text-align: right;\">\n",
       "      <th></th>\n",
       "      <th>shop_id</th>\n",
       "      <th>name</th>\n",
       "      <th>category</th>\n",
       "      <th>age</th>\n",
       "      <th>style</th>\n",
       "    </tr>\n",
       "  </thead>\n",
       "  <tbody>\n",
       "    <tr>\n",
       "      <th>0</th>\n",
       "      <td>1</td>\n",
       "      <td>Edna</td>\n",
       "      <td>의류</td>\n",
       "      <td>20대 중반/20대 후반/30대 초반</td>\n",
       "      <td>모던시크/러블리</td>\n",
       "    </tr>\n",
       "    <tr>\n",
       "      <th>1</th>\n",
       "      <td>2</td>\n",
       "      <td>Pam</td>\n",
       "      <td>의류</td>\n",
       "      <td>20대 중반/20대 후반/30대 초반</td>\n",
       "      <td>러블리/심플베이직</td>\n",
       "    </tr>\n",
       "    <tr>\n",
       "      <th>2</th>\n",
       "      <td>3</td>\n",
       "      <td>Carolyn</td>\n",
       "      <td>의류</td>\n",
       "      <td>20대 중반/20대 후반/30대 초반</td>\n",
       "      <td>모던시크/심플베이직</td>\n",
       "    </tr>\n",
       "  </tbody>\n",
       "</table>\n",
       "</div>"
      ],
      "text/plain": [
       "   shop_id     name category                   age       style\n",
       "0        1     Edna       의류  20대 중반/20대 후반/30대 초반    모던시크/러블리\n",
       "1        2      Pam       의류  20대 중반/20대 후반/30대 초반   러블리/심플베이직\n",
       "2        3  Carolyn       의류  20대 중반/20대 후반/30대 초반  모던시크/심플베이직"
      ]
     },
     "execution_count": 612,
     "metadata": {},
     "output_type": "execute_result"
    }
   ],
   "source": [
    "#Write your code here!\n",
    "query = \"Select * From 'shop'\"\n",
    "shop =pd.read_sql(query, connect)\n",
    "shop.head(3)"
   ]
  },
  {
   "cell_type": "code",
   "execution_count": 616,
   "metadata": {},
   "outputs": [
    {
     "data": {
      "text/plain": [
       "(867, 13)"
      ]
     },
     "execution_count": 616,
     "metadata": {},
     "output_type": "execute_result"
    }
   ],
   "source": [
    "order_user_shop = df.merge(shop, on='shop_id', how = 'inner') # default how = inner \n",
    "\n",
    "order_user_shop.shape"
   ]
  },
  {
   "cell_type": "code",
   "execution_count": 617,
   "metadata": {},
   "outputs": [],
   "source": [
    "def check_generation(row):\n",
    "    if row['category'] == '의류' and row['연령대'] == '미입력':\n",
    "        return True\n",
    "    else:\n",
    "        return row['연령대'] in str(row['age_y'])"
   ]
  },
  {
   "cell_type": "code",
   "execution_count": 619,
   "metadata": {},
   "outputs": [
    {
     "data": {
      "text/html": [
       "<div>\n",
       "<style scoped>\n",
       "    .dataframe tbody tr th:only-of-type {\n",
       "        vertical-align: middle;\n",
       "    }\n",
       "\n",
       "    .dataframe tbody tr th {\n",
       "        vertical-align: top;\n",
       "    }\n",
       "\n",
       "    .dataframe thead tr th {\n",
       "        text-align: left;\n",
       "    }\n",
       "\n",
       "    .dataframe thead tr:last-of-type th {\n",
       "        text-align: right;\n",
       "    }\n",
       "</style>\n",
       "<table border=\"1\" class=\"dataframe\">\n",
       "  <thead>\n",
       "    <tr>\n",
       "      <th></th>\n",
       "      <th>mean</th>\n",
       "      <th>count</th>\n",
       "    </tr>\n",
       "    <tr>\n",
       "      <th></th>\n",
       "      <th>거래연령 일치여부</th>\n",
       "      <th>거래연령 일치여부</th>\n",
       "    </tr>\n",
       "    <tr>\n",
       "      <th>shop_id</th>\n",
       "      <th></th>\n",
       "      <th></th>\n",
       "    </tr>\n",
       "  </thead>\n",
       "  <tbody>\n",
       "    <tr>\n",
       "      <th>1</th>\n",
       "      <td>0.666667</td>\n",
       "      <td>3</td>\n",
       "    </tr>\n",
       "    <tr>\n",
       "      <th>2</th>\n",
       "      <td>0.937500</td>\n",
       "      <td>16</td>\n",
       "    </tr>\n",
       "    <tr>\n",
       "      <th>3</th>\n",
       "      <td>0.400000</td>\n",
       "      <td>5</td>\n",
       "    </tr>\n",
       "    <tr>\n",
       "      <th>4</th>\n",
       "      <td>1.000000</td>\n",
       "      <td>1</td>\n",
       "    </tr>\n",
       "    <tr>\n",
       "      <th>5</th>\n",
       "      <td>0.000000</td>\n",
       "      <td>1</td>\n",
       "    </tr>\n",
       "  </tbody>\n",
       "</table>\n",
       "</div>"
      ],
      "text/plain": [
       "             mean     count\n",
       "        거래연령 일치여부 거래연령 일치여부\n",
       "shop_id                    \n",
       "1        0.666667         3\n",
       "2        0.937500        16\n",
       "3        0.400000         5\n",
       "4        1.000000         1\n",
       "5        0.000000         1"
      ]
     },
     "execution_count": 619,
     "metadata": {},
     "output_type": "execute_result"
    }
   ],
   "source": [
    "#Write your code here!\n",
    "order_user_shop['거래연령 일치여부'] = order_user_shop.apply(check_generation, axis=\"columns\")\n",
    "pd.pivot_table(data=order_user_shop, \n",
    "               index='shop_id', \n",
    "               values='거래연령 일치여부', \n",
    "               aggfunc=['mean','count']).head()\n"
   ]
  },
  {
   "cell_type": "code",
   "execution_count": null,
   "metadata": {},
   "outputs": [],
   "source": [
    "#same result \n",
    "order_user_shope.pivot_table(values='거래연령 일치여부',\n",
    "                                                    index='shop_id',\n",
    "                                                    aggfunc=['mean', 'count'])"
   ]
  },
  {
   "cell_type": "markdown",
   "metadata": {},
   "source": [
    "## <b> Style tag list"
   ]
  },
  {
   "cell_type": "code",
   "execution_count": 620,
   "metadata": {},
   "outputs": [],
   "source": [
    "style_list = ['페미닌', '모던시크', '심플베이직', '러블리', '유니크', '미시스타일', '캠퍼스룩', '빈티지', '섹시글램', '스쿨룩', '로맨틱', '오피스룩',\n",
    "              '럭셔리', '헐리웃스타일', '심플시크', '키치', '펑키', '큐티', '볼드&에스닉' ]"
   ]
  },
  {
   "cell_type": "code",
   "execution_count": 621,
   "metadata": {},
   "outputs": [],
   "source": [
    "#Write your code here!\n",
    "shop_copy = shop.copy()"
   ]
  },
  {
   "cell_type": "code",
   "execution_count": 622,
   "metadata": {},
   "outputs": [],
   "source": [
    "# NA => None for slicing str\n",
    "shop_copy.loc[shop_copy['style'].isnull(), 'style'] = \"None\""
   ]
  },
  {
   "cell_type": "code",
   "execution_count": 623,
   "metadata": {},
   "outputs": [],
   "source": [
    "# Generate all style_list columns \n",
    "# Check all style columns !!\n",
    "# str.contains return boolean !! \n",
    "\n",
    "for style in style_list:\n",
    "    shop[f\"{style}\"] = shop['style'].str.contains(style)\n",
    "\n",
    "\"\"\"for name in style_list:\n",
    "    shop_copy[f\"{name}\"] = False\n",
    "    shop_copy.loc[shop_copy['style'].str.contains(f\"{name}\"), f\"{name}\"] = True\n",
    "\"\"\""
   ]
  },
  {
   "cell_type": "code",
   "execution_count": 626,
   "metadata": {},
   "outputs": [
    {
     "data": {
      "text/html": [
       "<div>\n",
       "<style scoped>\n",
       "    .dataframe tbody tr th:only-of-type {\n",
       "        vertical-align: middle;\n",
       "    }\n",
       "\n",
       "    .dataframe tbody tr th {\n",
       "        vertical-align: top;\n",
       "    }\n",
       "\n",
       "    .dataframe thead th {\n",
       "        text-align: right;\n",
       "    }\n",
       "</style>\n",
       "<table border=\"1\" class=\"dataframe\">\n",
       "  <thead>\n",
       "    <tr style=\"text-align: right;\">\n",
       "      <th></th>\n",
       "      <th>shop_id</th>\n",
       "      <th>name</th>\n",
       "      <th>category</th>\n",
       "      <th>age</th>\n",
       "      <th>style</th>\n",
       "      <th>페미닌</th>\n",
       "      <th>모던시크</th>\n",
       "      <th>심플베이직</th>\n",
       "      <th>러블리</th>\n",
       "      <th>유니크</th>\n",
       "      <th>미시스타일</th>\n",
       "      <th>캠퍼스룩</th>\n",
       "      <th>빈티지</th>\n",
       "      <th>섹시글램</th>\n",
       "      <th>스쿨룩</th>\n",
       "      <th>로맨틱</th>\n",
       "      <th>오피스룩</th>\n",
       "      <th>럭셔리</th>\n",
       "      <th>헐리웃스타일</th>\n",
       "      <th>심플시크</th>\n",
       "      <th>키치</th>\n",
       "      <th>펑키</th>\n",
       "      <th>큐티</th>\n",
       "      <th>볼드&amp;에스닉</th>\n",
       "    </tr>\n",
       "  </thead>\n",
       "  <tbody>\n",
       "    <tr>\n",
       "      <th>0</th>\n",
       "      <td>1</td>\n",
       "      <td>Edna</td>\n",
       "      <td>의류</td>\n",
       "      <td>20대 중반/20대 후반/30대 초반</td>\n",
       "      <td>모던시크/러블리</td>\n",
       "      <td>False</td>\n",
       "      <td>True</td>\n",
       "      <td>False</td>\n",
       "      <td>True</td>\n",
       "      <td>False</td>\n",
       "      <td>False</td>\n",
       "      <td>False</td>\n",
       "      <td>False</td>\n",
       "      <td>False</td>\n",
       "      <td>False</td>\n",
       "      <td>False</td>\n",
       "      <td>False</td>\n",
       "      <td>False</td>\n",
       "      <td>False</td>\n",
       "      <td>False</td>\n",
       "      <td>False</td>\n",
       "      <td>False</td>\n",
       "      <td>False</td>\n",
       "      <td>False</td>\n",
       "    </tr>\n",
       "    <tr>\n",
       "      <th>1</th>\n",
       "      <td>2</td>\n",
       "      <td>Pam</td>\n",
       "      <td>의류</td>\n",
       "      <td>20대 중반/20대 후반/30대 초반</td>\n",
       "      <td>러블리/심플베이직</td>\n",
       "      <td>False</td>\n",
       "      <td>False</td>\n",
       "      <td>True</td>\n",
       "      <td>True</td>\n",
       "      <td>False</td>\n",
       "      <td>False</td>\n",
       "      <td>False</td>\n",
       "      <td>False</td>\n",
       "      <td>False</td>\n",
       "      <td>False</td>\n",
       "      <td>False</td>\n",
       "      <td>False</td>\n",
       "      <td>False</td>\n",
       "      <td>False</td>\n",
       "      <td>False</td>\n",
       "      <td>False</td>\n",
       "      <td>False</td>\n",
       "      <td>False</td>\n",
       "      <td>False</td>\n",
       "    </tr>\n",
       "  </tbody>\n",
       "</table>\n",
       "</div>"
      ],
      "text/plain": [
       "   shop_id  name category                   age      style    페미닌   모던시크  \\\n",
       "0        1  Edna       의류  20대 중반/20대 후반/30대 초반   모던시크/러블리  False   True   \n",
       "1        2   Pam       의류  20대 중반/20대 후반/30대 초반  러블리/심플베이직  False  False   \n",
       "\n",
       "   심플베이직   러블리    유니크  미시스타일   캠퍼스룩    빈티지   섹시글램    스쿨룩    로맨틱   오피스룩    럭셔리  \\\n",
       "0  False  True  False  False  False  False  False  False  False  False  False   \n",
       "1   True  True  False  False  False  False  False  False  False  False  False   \n",
       "\n",
       "   헐리웃스타일   심플시크     키치     펑키     큐티  볼드&에스닉  \n",
       "0   False  False  False  False  False   False  \n",
       "1   False  False  False  False  False   False  "
      ]
     },
     "execution_count": 626,
     "metadata": {},
     "output_type": "execute_result"
    }
   ],
   "source": [
    "#shop_copy=shop_copy.set_index('shop_id')\n",
    "shop_copy.head(2)"
   ]
  },
  {
   "cell_type": "markdown",
   "metadata": {},
   "source": [
    "## <b> graph style keword by purchase\n"
   ]
  },
  {
   "cell_type": "code",
   "execution_count": 627,
   "metadata": {},
   "outputs": [
    {
     "name": "stdout",
     "output_type": "stream",
     "text": [
      "(867, 31)\n"
     ]
    },
    {
     "data": {
      "text/html": [
       "<div>\n",
       "<style scoped>\n",
       "    .dataframe tbody tr th:only-of-type {\n",
       "        vertical-align: middle;\n",
       "    }\n",
       "\n",
       "    .dataframe tbody tr th {\n",
       "        vertical-align: top;\n",
       "    }\n",
       "\n",
       "    .dataframe thead th {\n",
       "        text-align: right;\n",
       "    }\n",
       "</style>\n",
       "<table border=\"1\" class=\"dataframe\">\n",
       "  <thead>\n",
       "    <tr style=\"text-align: right;\">\n",
       "      <th></th>\n",
       "      <th>timestamp</th>\n",
       "      <th>user_id</th>\n",
       "      <th>goods_id</th>\n",
       "      <th>shop_id</th>\n",
       "      <th>price</th>\n",
       "      <th>hour</th>\n",
       "      <th>name</th>\n",
       "      <th>category</th>\n",
       "      <th>age_x</th>\n",
       "      <th>style</th>\n",
       "      <th>페미닌</th>\n",
       "      <th>모던시크</th>\n",
       "      <th>심플베이직</th>\n",
       "      <th>러블리</th>\n",
       "      <th>유니크</th>\n",
       "      <th>미시스타일</th>\n",
       "      <th>캠퍼스룩</th>\n",
       "      <th>빈티지</th>\n",
       "      <th>섹시글램</th>\n",
       "      <th>스쿨룩</th>\n",
       "      <th>로맨틱</th>\n",
       "      <th>오피스룩</th>\n",
       "      <th>럭셔리</th>\n",
       "      <th>헐리웃스타일</th>\n",
       "      <th>심플시크</th>\n",
       "      <th>키치</th>\n",
       "      <th>펑키</th>\n",
       "      <th>큐티</th>\n",
       "      <th>볼드&amp;에스닉</th>\n",
       "      <th>os</th>\n",
       "      <th>age_y</th>\n",
       "    </tr>\n",
       "  </thead>\n",
       "  <tbody>\n",
       "    <tr>\n",
       "      <th>0</th>\n",
       "      <td>2018-06-11 00:00:43.032</td>\n",
       "      <td>bvu0aLTqiFDoU-963xnr5nzQWTNLUMjx</td>\n",
       "      <td>1414</td>\n",
       "      <td>38</td>\n",
       "      <td>45000</td>\n",
       "      <td>0</td>\n",
       "      <td>Mabel</td>\n",
       "      <td>의류</td>\n",
       "      <td>20대 후반/30대 초반/30대 중반</td>\n",
       "      <td>모던시크/페미닌</td>\n",
       "      <td>True</td>\n",
       "      <td>True</td>\n",
       "      <td>False</td>\n",
       "      <td>False</td>\n",
       "      <td>False</td>\n",
       "      <td>False</td>\n",
       "      <td>False</td>\n",
       "      <td>False</td>\n",
       "      <td>False</td>\n",
       "      <td>False</td>\n",
       "      <td>False</td>\n",
       "      <td>False</td>\n",
       "      <td>False</td>\n",
       "      <td>False</td>\n",
       "      <td>False</td>\n",
       "      <td>False</td>\n",
       "      <td>False</td>\n",
       "      <td>False</td>\n",
       "      <td>False</td>\n",
       "      <td>iOS</td>\n",
       "      <td>39</td>\n",
       "    </tr>\n",
       "    <tr>\n",
       "      <th>1</th>\n",
       "      <td>2018-06-11 07:33:39.823</td>\n",
       "      <td>ni3NQK35j-YaSxli-C_Sz7ZmQqOwMljL</td>\n",
       "      <td>2278</td>\n",
       "      <td>38</td>\n",
       "      <td>37000</td>\n",
       "      <td>7</td>\n",
       "      <td>Mabel</td>\n",
       "      <td>의류</td>\n",
       "      <td>20대 후반/30대 초반/30대 중반</td>\n",
       "      <td>모던시크/페미닌</td>\n",
       "      <td>True</td>\n",
       "      <td>True</td>\n",
       "      <td>False</td>\n",
       "      <td>False</td>\n",
       "      <td>False</td>\n",
       "      <td>False</td>\n",
       "      <td>False</td>\n",
       "      <td>False</td>\n",
       "      <td>False</td>\n",
       "      <td>False</td>\n",
       "      <td>False</td>\n",
       "      <td>False</td>\n",
       "      <td>False</td>\n",
       "      <td>False</td>\n",
       "      <td>False</td>\n",
       "      <td>False</td>\n",
       "      <td>False</td>\n",
       "      <td>False</td>\n",
       "      <td>False</td>\n",
       "      <td>And</td>\n",
       "      <td>32</td>\n",
       "    </tr>\n",
       "    <tr>\n",
       "      <th>2</th>\n",
       "      <td>2018-06-11 12:56:27.867</td>\n",
       "      <td>MnvhmV0tA89bN9TLXgRTbLza689bTkT9</td>\n",
       "      <td>5513</td>\n",
       "      <td>38</td>\n",
       "      <td>31000</td>\n",
       "      <td>12</td>\n",
       "      <td>Mabel</td>\n",
       "      <td>의류</td>\n",
       "      <td>20대 후반/30대 초반/30대 중반</td>\n",
       "      <td>모던시크/페미닌</td>\n",
       "      <td>True</td>\n",
       "      <td>True</td>\n",
       "      <td>False</td>\n",
       "      <td>False</td>\n",
       "      <td>False</td>\n",
       "      <td>False</td>\n",
       "      <td>False</td>\n",
       "      <td>False</td>\n",
       "      <td>False</td>\n",
       "      <td>False</td>\n",
       "      <td>False</td>\n",
       "      <td>False</td>\n",
       "      <td>False</td>\n",
       "      <td>False</td>\n",
       "      <td>False</td>\n",
       "      <td>False</td>\n",
       "      <td>False</td>\n",
       "      <td>False</td>\n",
       "      <td>False</td>\n",
       "      <td>And</td>\n",
       "      <td>37</td>\n",
       "    </tr>\n",
       "  </tbody>\n",
       "</table>\n",
       "</div>"
      ],
      "text/plain": [
       "                timestamp                           user_id  goods_id  \\\n",
       "0 2018-06-11 00:00:43.032  bvu0aLTqiFDoU-963xnr5nzQWTNLUMjx      1414   \n",
       "1 2018-06-11 07:33:39.823  ni3NQK35j-YaSxli-C_Sz7ZmQqOwMljL      2278   \n",
       "2 2018-06-11 12:56:27.867  MnvhmV0tA89bN9TLXgRTbLza689bTkT9      5513   \n",
       "\n",
       "   shop_id  price  hour   name category                 age_x     style   페미닌  \\\n",
       "0       38  45000     0  Mabel       의류  20대 후반/30대 초반/30대 중반  모던시크/페미닌  True   \n",
       "1       38  37000     7  Mabel       의류  20대 후반/30대 초반/30대 중반  모던시크/페미닌  True   \n",
       "2       38  31000    12  Mabel       의류  20대 후반/30대 초반/30대 중반  모던시크/페미닌  True   \n",
       "\n",
       "   모던시크  심플베이직    러블리    유니크  미시스타일   캠퍼스룩    빈티지   섹시글램    스쿨룩    로맨틱   오피스룩  \\\n",
       "0  True  False  False  False  False  False  False  False  False  False  False   \n",
       "1  True  False  False  False  False  False  False  False  False  False  False   \n",
       "2  True  False  False  False  False  False  False  False  False  False  False   \n",
       "\n",
       "     럭셔리  헐리웃스타일   심플시크     키치     펑키     큐티  볼드&에스닉   os  age_y  \n",
       "0  False   False  False  False  False  False   False  iOS     39  \n",
       "1  False   False  False  False  False  False   False  And     32  \n",
       "2  False   False  False  False  False  False   False  And     37  "
      ]
     },
     "execution_count": 627,
     "metadata": {},
     "output_type": "execute_result"
    }
   ],
   "source": [
    "merged = (\n",
    "    order.merge(shop_copy, on='shop_id')\n",
    "             .merge(user, on='user_id')\n",
    ")\n",
    "print(merged.shape)\n",
    "merged.head(3)"
   ]
  },
  {
   "cell_type": "code",
   "execution_count": 628,
   "metadata": {},
   "outputs": [
    {
     "data": {
      "text/plain": [
       "<matplotlib.axes._subplots.AxesSubplot at 0x1a22bd7c18>"
      ]
     },
     "execution_count": 628,
     "metadata": {},
     "output_type": "execute_result"
    },
    {
     "data": {
      "image/png": "[encoded data removed]",
      "text/plain": [
       "<Figure size 720x360 with 1 Axes>"
      ]
     },
     "metadata": {
      "image/png": {
       "height": 317,
       "width": 605
      }
     },
     "output_type": "display_data"
    }
   ],
   "source": [
    "#Write your code here!\n",
    "simple = merged[merged['심플베이직'] == True]\n",
    "lovely = merged[merged['러블리'] == True]\n",
    "modern = merged[merged['모던시크'] == True]\n",
    "plt.figure(figsize=(10,5))\n",
    "sns.distplot(simple['age_y'], hist=False, label = '심플베이직')\n",
    "sns.distplot(lovely['age_y'], hist=False, label = '러블리')\n",
    "sns.distplot(modern['age_y'], hist=False, label = '모던시크')\n",
    "plt.savefig('dist.png', dpi=400)"
   ]
  },
  {
   "cell_type": "code",
   "execution_count": 629,
   "metadata": {},
   "outputs": [],
   "source": [
    "#Write your code here!\n",
    "query = \"select * from log\"\n",
    "data_logs = pd.read_sql(query, connect)\n",
    "data_logs['timestamp'] = pd.to_datetime(data_logs['timestamp'])\n",
    "print(data_logs.shape)\n",
    "data_logs.head()"
   ]
  },
  {
   "cell_type": "markdown",
   "metadata": {},
   "source": [
    "지그재그 로그 데이터의 명세는 다음과 같습니다.\n",
    "\n",
    "\n",
    "    - 컬럼 별 명세\n",
    "        1. timestamp : 이벤트 발생 시간 (한국 시간 기준)\n",
    "        2. user_id : 이용자 고유 식별자\n",
    "        3. event_origin : 이벤트가 발생한 앱 위치\n",
    "            - event_origin 값 별 의미\n",
    "                a. goods_search_result : 특정 검색어의 상품 검색 결과\n",
    "                    (Ex: goods_search_result/반팔티)\n",
    "                b. shops_ranking : '쇼핑몰 랭킹' 영역\n",
    "                c. shops_bookmark : '즐겨찾기' 영역\n",
    "                d. category_search_result : 카테고리 검색 결과 \n",
    "                    (Ex:category_search_result/상의)\n",
    "                e. my_goods : '내 상품' 영역\n",
    "                \n",
    "        4. event_name : 발생한 이벤트 명\n",
    "            - event_name 값 별 의미\n",
    "                a. app_page_view : 앱 내 화면 이동\n",
    "                b. enter_browser : 앱 내 클릭을 통해, 특정 웹페이지로 진입\n",
    "                c. add_bookmark : 특정 쇼핑몰을 즐겨찾기 추가\n",
    "                d. remove_bookmark : 특정 쇼핑몰을 즐겨찾기 제거\n",
    "                e. add_my_goods : 특정 상품을 내 상품 추가\n",
    "                f. remove_my_goods : 특정 상품을 내 상품 제거\n",
    "                \n",
    "        5. event_goods_id : 이벤트가 발생한 상품 고유 식별자\n",
    "             - 상품 관련 이벤트가 아닌 경우, 공백\n",
    "             \n",
    "        6. event_shop_id : 이벤트가 발생한 쇼핑몰 고유 식별자\n",
    "             - 쇼핑몰 관련 이벤트가 아닌 경우, 공백\n",
    "\n"
   ]
  },
  {
   "cell_type": "code",
   "execution_count": 638,
   "metadata": {},
   "outputs": [],
   "source": [
    "# user_id array from user table \n",
    "user_id =user['user_id'].unique()"
   ]
  },
  {
   "cell_type": "code",
   "execution_count": 639,
   "metadata": {},
   "outputs": [],
   "source": [
    "#새로운 user_id는 연속된 자연수들로 지정합니다. range()와 len()을 사용하여 user_id의 개수만큼의 연속된 정수를 만듭니다.\n",
    "# Write your code here!\n",
    "n_user_id = range(user['user_id'].size)\n",
    "\n",
    "# same result     \n",
    "\"\"\"n_user_id = []\n",
    "for i in range(len(user_id)):\n",
    "    n_user_id.append(i)\n",
    "\"\"\""
   ]
  },
  {
   "cell_type": "code",
   "execution_count": 640,
   "metadata": {},
   "outputs": [
    {
     "name": "stdout",
     "output_type": "stream",
     "text": [
      "<zip object at 0x1a3df27748>\n"
     ]
    }
   ],
   "source": [
    "#python 내장 함수인 zip()을 이용하여 기존의 id와 새로운 id를 묶습니다.\n",
    "id_zip = zip(user_id, n_user_id)\n",
    "\n",
    "#id_zip을 출력하면 아래 결과와 같이 zip object이 출력됩니다.\n",
    "print(id_zip)"
   ]
  },
  {
   "cell_type": "code",
   "execution_count": 641,
   "metadata": {},
   "outputs": [
    {
     "data": {
      "text/plain": [
       "[('--PYPMX8QWg0ioT5zfORmU-S5Lln0lot', 0),\n",
       " ('-16-xXbeDcvkZJtTpRwMi57Yo2ZQpORv', 1),\n",
       " ('-1de9sT-MLwVVvnC0ncCLnqEqpSi3XSN', 2),\n",
       " ('-3A3L2jnM55B_Q1bRXMjZ6sPnINIj-Y1', 3),\n",
       " ('-3bhcSgPOIdQAPkPNcchxvECGqGQQ78k', 4)]"
      ]
     },
     "execution_count": 641,
     "metadata": {},
     "output_type": "execute_result"
    }
   ],
   "source": [
    "#zip()의 결과를 구체적으로 보기 위하여 list로 변환하여 print하겠습니다. 상위 5개만 출력합니다.\n",
    "list(zip(user_id, n_user_id))[:5]\n"
   ]
  },
  {
   "cell_type": "code",
   "execution_count": 645,
   "metadata": {},
   "outputs": [],
   "source": [
    "#새로운 id와 기존의 id가 대응된 딕셔너리 타입 변수를 생성합니다.\n",
    "id_dict = dict(id_zip)\n",
    "#id_dict"
   ]
  },
  {
   "cell_type": "code",
   "execution_count": 643,
   "metadata": {},
   "outputs": [
    {
     "data": {
      "text/html": [
       "<div>\n",
       "<style scoped>\n",
       "    .dataframe tbody tr th:only-of-type {\n",
       "        vertical-align: middle;\n",
       "    }\n",
       "\n",
       "    .dataframe tbody tr th {\n",
       "        vertical-align: top;\n",
       "    }\n",
       "\n",
       "    .dataframe thead th {\n",
       "        text-align: right;\n",
       "    }\n",
       "</style>\n",
       "<table border=\"1\" class=\"dataframe\">\n",
       "  <thead>\n",
       "    <tr style=\"text-align: right;\">\n",
       "      <th></th>\n",
       "      <th>user_id</th>\n",
       "      <th>n_user_id</th>\n",
       "    </tr>\n",
       "  </thead>\n",
       "  <tbody>\n",
       "    <tr>\n",
       "      <th>0</th>\n",
       "      <td>K1d8_t3-QIskaSkrx32oAFu856D8JmLo</td>\n",
       "      <td>3314</td>\n",
       "    </tr>\n",
       "    <tr>\n",
       "      <th>1</th>\n",
       "      <td>lwFZ77v_ygk0uU40t1ud3l30EZ6sE2R3</td>\n",
       "      <td>7844</td>\n",
       "    </tr>\n",
       "    <tr>\n",
       "      <th>2</th>\n",
       "      <td>mR-bO6hC9g-m8ERXMRQZaRwJFvzNNdd8</td>\n",
       "      <td>7920</td>\n",
       "    </tr>\n",
       "    <tr>\n",
       "      <th>3</th>\n",
       "      <td>K1d8_t3-QIskaSkrx32oAFu856D8JmLo</td>\n",
       "      <td>3314</td>\n",
       "    </tr>\n",
       "    <tr>\n",
       "      <th>4</th>\n",
       "      <td>Yjny5AchUWLiuv4kdeq50COF-S8OFXPd</td>\n",
       "      <td>5608</td>\n",
       "    </tr>\n",
       "  </tbody>\n",
       "</table>\n",
       "</div>"
      ],
      "text/plain": [
       "                            user_id  n_user_id\n",
       "0  K1d8_t3-QIskaSkrx32oAFu856D8JmLo       3314\n",
       "1  lwFZ77v_ygk0uU40t1ud3l30EZ6sE2R3       7844\n",
       "2  mR-bO6hC9g-m8ERXMRQZaRwJFvzNNdd8       7920\n",
       "3  K1d8_t3-QIskaSkrx32oAFu856D8JmLo       3314\n",
       "4  Yjny5AchUWLiuv4kdeq50COF-S8OFXPd       5608"
      ]
     },
     "execution_count": 643,
     "metadata": {},
     "output_type": "execute_result"
    }
   ],
   "source": [
    "# data_logs, order, user에 id_idct를 mapping하여 각 데이터 프레임에 새로운 고객 id컬럼인 n_user_id를 만듭니다.\n",
    "\n",
    "# Write your code here! (3 lines)\n",
    "\n",
    "data_logs['n_user_id'] = data_logs['user_id'].map(id_dict)\n",
    "order[\"n_user_id\"] = order['user_id'].map(id_dict)\n",
    "user[\"n_user_id\"] = user['user_id'].map(id_dict)\n",
    "\n",
    "# 결과를 확인합니다.\n",
    "data_logs[['user_id', 'n_user_id']].head(5)"
   ]
  },
  {
   "cell_type": "markdown",
   "metadata": {},
   "source": [
    "## <b> concat"
   ]
  },
  {
   "cell_type": "code",
   "execution_count": 646,
   "metadata": {},
   "outputs": [
    {
     "data": {
      "text/plain": [
       "timestamp          2018-06-11 00:00:43.032000\n",
       "user_id      bvu0aLTqiFDoU-963xnr5nzQWTNLUMjx\n",
       "goods_id                                 1414\n",
       "shop_id                                    38\n",
       "price                                   45000\n",
       "hour                                        0\n",
       "Name: 0, dtype: object"
      ]
     },
     "execution_count": 646,
     "metadata": {},
     "output_type": "execute_result"
    }
   ],
   "source": [
    "#주문 데이터의 첫번째 row를 출력합니다.\n",
    "order.iloc[0]"
   ]
  },
  {
   "cell_type": "code",
   "execution_count": 305,
   "metadata": {},
   "outputs": [
    {
     "data": {
      "text/html": [
       "<div>\n",
       "<style scoped>\n",
       "    .dataframe tbody tr th:only-of-type {\n",
       "        vertical-align: middle;\n",
       "    }\n",
       "\n",
       "    .dataframe tbody tr th {\n",
       "        vertical-align: top;\n",
       "    }\n",
       "\n",
       "    .dataframe thead th {\n",
       "        text-align: right;\n",
       "    }\n",
       "</style>\n",
       "<table border=\"1\" class=\"dataframe\">\n",
       "  <thead>\n",
       "    <tr style=\"text-align: right;\">\n",
       "      <th></th>\n",
       "      <th>timestamp</th>\n",
       "      <th>user_id</th>\n",
       "      <th>event_origin</th>\n",
       "      <th>event_name</th>\n",
       "      <th>event_goods_id</th>\n",
       "      <th>event_shop_id</th>\n",
       "      <th>n_user_id</th>\n",
       "    </tr>\n",
       "  </thead>\n",
       "  <tbody>\n",
       "    <tr>\n",
       "      <th>878</th>\n",
       "      <td>2018-06-11 00:06:45.357</td>\n",
       "      <td>bvu0aLTqiFDoU-963xnr5nzQWTNLUMjx</td>\n",
       "      <td>goods_search_result/린넨</td>\n",
       "      <td>app_page_view</td>\n",
       "      <td>NaN</td>\n",
       "      <td>NaN</td>\n",
       "      <td>6241</td>\n",
       "    </tr>\n",
       "    <tr>\n",
       "      <th>901</th>\n",
       "      <td>2018-06-11 00:06:54.034</td>\n",
       "      <td>bvu0aLTqiFDoU-963xnr5nzQWTNLUMjx</td>\n",
       "      <td>goods_search_result/린넨바지</td>\n",
       "      <td>app_page_view</td>\n",
       "      <td>NaN</td>\n",
       "      <td>NaN</td>\n",
       "      <td>6241</td>\n",
       "    </tr>\n",
       "    <tr>\n",
       "      <th>1062</th>\n",
       "      <td>2018-06-11 00:08:00.579</td>\n",
       "      <td>bvu0aLTqiFDoU-963xnr5nzQWTNLUMjx</td>\n",
       "      <td>goods_search_result/린넨바지</td>\n",
       "      <td>enter_browser</td>\n",
       "      <td>2048.0</td>\n",
       "      <td>46.0</td>\n",
       "      <td>6241</td>\n",
       "    </tr>\n",
       "    <tr>\n",
       "      <th>1259</th>\n",
       "      <td>2018-06-11 00:09:38.881</td>\n",
       "      <td>bvu0aLTqiFDoU-963xnr5nzQWTNLUMjx</td>\n",
       "      <td>goods_search_result/린넨바지</td>\n",
       "      <td>app_page_view</td>\n",
       "      <td>NaN</td>\n",
       "      <td>NaN</td>\n",
       "      <td>6241</td>\n",
       "    </tr>\n",
       "    <tr>\n",
       "      <th>1439</th>\n",
       "      <td>2018-06-11 00:11:04.446</td>\n",
       "      <td>bvu0aLTqiFDoU-963xnr5nzQWTNLUMjx</td>\n",
       "      <td>goods_search_result/린넨바지</td>\n",
       "      <td>enter_browser</td>\n",
       "      <td>3486.0</td>\n",
       "      <td>38.0</td>\n",
       "      <td>6241</td>\n",
       "    </tr>\n",
       "    <tr>\n",
       "      <th>1473</th>\n",
       "      <td>2018-06-11 00:11:20.354</td>\n",
       "      <td>bvu0aLTqiFDoU-963xnr5nzQWTNLUMjx</td>\n",
       "      <td>goods_search_result/린넨바지</td>\n",
       "      <td>app_page_view</td>\n",
       "      <td>NaN</td>\n",
       "      <td>NaN</td>\n",
       "      <td>6241</td>\n",
       "    </tr>\n",
       "    <tr>\n",
       "      <th>1526</th>\n",
       "      <td>2018-06-11 00:11:48.284</td>\n",
       "      <td>bvu0aLTqiFDoU-963xnr5nzQWTNLUMjx</td>\n",
       "      <td>goods_search_result/린넨바지</td>\n",
       "      <td>enter_browser</td>\n",
       "      <td>4006.0</td>\n",
       "      <td>24.0</td>\n",
       "      <td>6241</td>\n",
       "    </tr>\n",
       "    <tr>\n",
       "      <th>2423</th>\n",
       "      <td>2018-06-11 00:18:21.906</td>\n",
       "      <td>bvu0aLTqiFDoU-963xnr5nzQWTNLUMjx</td>\n",
       "      <td>goods_search_result/린넨바지</td>\n",
       "      <td>app_page_view</td>\n",
       "      <td>NaN</td>\n",
       "      <td>NaN</td>\n",
       "      <td>6241</td>\n",
       "    </tr>\n",
       "    <tr>\n",
       "      <th>2529</th>\n",
       "      <td>2018-06-11 00:19:01.928</td>\n",
       "      <td>bvu0aLTqiFDoU-963xnr5nzQWTNLUMjx</td>\n",
       "      <td>goods_search_result/린넨</td>\n",
       "      <td>app_page_view</td>\n",
       "      <td>NaN</td>\n",
       "      <td>NaN</td>\n",
       "      <td>6241</td>\n",
       "    </tr>\n",
       "    <tr>\n",
       "      <th>2758</th>\n",
       "      <td>2018-06-11 00:20:30.432</td>\n",
       "      <td>bvu0aLTqiFDoU-963xnr5nzQWTNLUMjx</td>\n",
       "      <td>shops_bookmark</td>\n",
       "      <td>app_page_view</td>\n",
       "      <td>NaN</td>\n",
       "      <td>NaN</td>\n",
       "      <td>6241</td>\n",
       "    </tr>\n",
       "    <tr>\n",
       "      <th>4502</th>\n",
       "      <td>2018-06-11 00:32:29.738</td>\n",
       "      <td>bvu0aLTqiFDoU-963xnr5nzQWTNLUMjx</td>\n",
       "      <td>shops_bookmark</td>\n",
       "      <td>app_page_view</td>\n",
       "      <td>NaN</td>\n",
       "      <td>NaN</td>\n",
       "      <td>6241</td>\n",
       "    </tr>\n",
       "    <tr>\n",
       "      <th>5156</th>\n",
       "      <td>2018-06-11 00:37:22.757</td>\n",
       "      <td>bvu0aLTqiFDoU-963xnr5nzQWTNLUMjx</td>\n",
       "      <td>shops_bookmark</td>\n",
       "      <td>app_page_view</td>\n",
       "      <td>NaN</td>\n",
       "      <td>NaN</td>\n",
       "      <td>6241</td>\n",
       "    </tr>\n",
       "  </tbody>\n",
       "</table>\n",
       "</div>"
      ],
      "text/plain": [
       "                    timestamp                           user_id  \\\n",
       "878   2018-06-11 00:06:45.357  bvu0aLTqiFDoU-963xnr5nzQWTNLUMjx   \n",
       "901   2018-06-11 00:06:54.034  bvu0aLTqiFDoU-963xnr5nzQWTNLUMjx   \n",
       "1062  2018-06-11 00:08:00.579  bvu0aLTqiFDoU-963xnr5nzQWTNLUMjx   \n",
       "1259  2018-06-11 00:09:38.881  bvu0aLTqiFDoU-963xnr5nzQWTNLUMjx   \n",
       "1439  2018-06-11 00:11:04.446  bvu0aLTqiFDoU-963xnr5nzQWTNLUMjx   \n",
       "1473  2018-06-11 00:11:20.354  bvu0aLTqiFDoU-963xnr5nzQWTNLUMjx   \n",
       "1526  2018-06-11 00:11:48.284  bvu0aLTqiFDoU-963xnr5nzQWTNLUMjx   \n",
       "2423  2018-06-11 00:18:21.906  bvu0aLTqiFDoU-963xnr5nzQWTNLUMjx   \n",
       "2529  2018-06-11 00:19:01.928  bvu0aLTqiFDoU-963xnr5nzQWTNLUMjx   \n",
       "2758  2018-06-11 00:20:30.432  bvu0aLTqiFDoU-963xnr5nzQWTNLUMjx   \n",
       "4502  2018-06-11 00:32:29.738  bvu0aLTqiFDoU-963xnr5nzQWTNLUMjx   \n",
       "5156  2018-06-11 00:37:22.757  bvu0aLTqiFDoU-963xnr5nzQWTNLUMjx   \n",
       "\n",
       "                  event_origin     event_name  event_goods_id  event_shop_id  \\\n",
       "878     goods_search_result/린넨  app_page_view             NaN            NaN   \n",
       "901   goods_search_result/린넨바지  app_page_view             NaN            NaN   \n",
       "1062  goods_search_result/린넨바지  enter_browser          2048.0           46.0   \n",
       "1259  goods_search_result/린넨바지  app_page_view             NaN            NaN   \n",
       "1439  goods_search_result/린넨바지  enter_browser          3486.0           38.0   \n",
       "1473  goods_search_result/린넨바지  app_page_view             NaN            NaN   \n",
       "1526  goods_search_result/린넨바지  enter_browser          4006.0           24.0   \n",
       "2423  goods_search_result/린넨바지  app_page_view             NaN            NaN   \n",
       "2529    goods_search_result/린넨  app_page_view             NaN            NaN   \n",
       "2758            shops_bookmark  app_page_view             NaN            NaN   \n",
       "4502            shops_bookmark  app_page_view             NaN            NaN   \n",
       "5156            shops_bookmark  app_page_view             NaN            NaN   \n",
       "\n",
       "      n_user_id  \n",
       "878        6241  \n",
       "901        6241  \n",
       "1062       6241  \n",
       "1259       6241  \n",
       "1439       6241  \n",
       "1473       6241  \n",
       "1526       6241  \n",
       "2423       6241  \n",
       "2529       6241  \n",
       "2758       6241  \n",
       "4502       6241  \n",
       "5156       6241  "
      ]
     },
     "execution_count": 305,
     "metadata": {},
     "output_type": "execute_result"
    }
   ],
   "source": [
    "data_logs[data_logs['user_id'] == order.iloc[0][1]]"
   ]
  },
  {
   "cell_type": "code",
   "execution_count": 647,
   "metadata": {},
   "outputs": [
    {
     "name": "stdout",
     "output_type": "stream",
     "text": [
      "해당 날짜에 구매한 총 고객수 입니다 : 832명\n",
      "해당 날짜 log데이터에 기록된 총 고객수입니다 : 9909명\n",
      "중복되는 고객수입니다 : 742명\n"
     ]
    }
   ],
   "source": [
    "# set()을 사용하여 user_id컬럼을 집합 타입으로 변환후 원소 개수를 반환하여 변수에 저장해주세요.\n",
    "\n",
    "# 주문한 고객의 수를 user_number_order란 변수에 저장해주세요.\n",
    "\n",
    "user_number_order = len(set(order['user_id']))\n",
    "\n",
    "# log에 기록된 고객의 수를 user_number_log란 변수에 저장해주세요.\n",
    "\n",
    "user_number_log = len(set(data_logs['user_id']))\n",
    "\n",
    "\n",
    "# 중복된 고객들을 user_duplicated란 변수에 저장해주세요.\n",
    "\n",
    "user_duplicated = set(order['user_id']) & set(data_logs['user_id'])\n",
    "\n",
    "\n",
    "# 결과를 출력합니다.\n",
    "print('해당 날짜에 구매한 총 고객수 입니다 :',user_number_order, end ='명\\n')\n",
    "print('해당 날짜 log데이터에 기록된 총 고객수입니다 :',user_number_log,  end ='명\\n')\n",
    "print('중복되는 고객수입니다 :', len(user_duplicated) , end ='명\\n')"
   ]
  },
  {
   "cell_type": "code",
   "execution_count": 310,
   "metadata": {},
   "outputs": [
    {
     "name": "stdout",
     "output_type": "stream",
     "text": [
      "Index(['timestamp', 'user_id', 'goods_id', 'shop_id', 'price', 'hour'], dtype='object')\n",
      "Index(['timestamp', 'user_id', 'event_origin', 'event_name', 'event_goods_id',\n",
      "       'event_shop_id', 'n_user_id'],\n",
      "      dtype='object')\n"
     ]
    }
   ],
   "source": [
    "print(order.columns)\n",
    "print(data_logs.columns)"
   ]
  },
  {
   "cell_type": "code",
   "execution_count": 648,
   "metadata": {},
   "outputs": [
    {
     "data": {
      "text/plain": [
       "(867, 6)"
      ]
     },
     "execution_count": 648,
     "metadata": {},
     "output_type": "execute_result"
    }
   ],
   "source": [
    "# order 원본을 변형하지 않기 위해 order을 copy하여 사용합니다. \n",
    "order_copy = order.copy()\n",
    "order_copy.shape"
   ]
  },
  {
   "cell_type": "code",
   "execution_count": 651,
   "metadata": {},
   "outputs": [
    {
     "data": {
      "text/html": [
       "<div>\n",
       "<style scoped>\n",
       "    .dataframe tbody tr th:only-of-type {\n",
       "        vertical-align: middle;\n",
       "    }\n",
       "\n",
       "    .dataframe tbody tr th {\n",
       "        vertical-align: top;\n",
       "    }\n",
       "\n",
       "    .dataframe thead th {\n",
       "        text-align: right;\n",
       "    }\n",
       "</style>\n",
       "<table border=\"1\" class=\"dataframe\">\n",
       "  <thead>\n",
       "    <tr style=\"text-align: right;\">\n",
       "      <th></th>\n",
       "      <th>timestamp</th>\n",
       "      <th>n_user_id</th>\n",
       "      <th>user_id</th>\n",
       "      <th>event_origin</th>\n",
       "      <th>event_name</th>\n",
       "      <th>event_goods_id</th>\n",
       "      <th>price</th>\n",
       "    </tr>\n",
       "  </thead>\n",
       "  <tbody>\n",
       "    <tr>\n",
       "      <th>0</th>\n",
       "      <td>2018-06-11 00:00:43.032</td>\n",
       "      <td>6241</td>\n",
       "      <td>bvu0aLTqiFDoU-963xnr5nzQWTNLUMjx</td>\n",
       "      <td>38</td>\n",
       "      <td>purchase</td>\n",
       "      <td>1414</td>\n",
       "      <td>45000</td>\n",
       "    </tr>\n",
       "    <tr>\n",
       "      <th>1</th>\n",
       "      <td>2018-06-11 00:02:33.763</td>\n",
       "      <td>8899</td>\n",
       "      <td>smDmRnykg61KajpxXKzQ0oNkrh2nuSBj</td>\n",
       "      <td>12</td>\n",
       "      <td>purchase</td>\n",
       "      <td>1351</td>\n",
       "      <td>9500</td>\n",
       "    </tr>\n",
       "    <tr>\n",
       "      <th>4</th>\n",
       "      <td>2018-06-11 00:05:26.010</td>\n",
       "      <td>7832</td>\n",
       "      <td>lq1Je3voA3a0MouSFba3629lKCvweI24</td>\n",
       "      <td>89</td>\n",
       "      <td>purchase</td>\n",
       "      <td>5572</td>\n",
       "      <td>29000</td>\n",
       "    </tr>\n",
       "    <tr>\n",
       "      <th>5</th>\n",
       "      <td>2018-06-11 00:05:35.182</td>\n",
       "      <td>2745</td>\n",
       "      <td>GM0-EsJPHjkpteIpAQIwaCdUjU81lhW1</td>\n",
       "      <td>22</td>\n",
       "      <td>purchase</td>\n",
       "      <td>55</td>\n",
       "      <td>11200</td>\n",
       "    </tr>\n",
       "    <tr>\n",
       "      <th>6</th>\n",
       "      <td>2018-06-11 00:06:14.314</td>\n",
       "      <td>7800</td>\n",
       "      <td>lgvWxrv7r5RGklXSJqM2x6NUBZ5H-RQZ</td>\n",
       "      <td>22</td>\n",
       "      <td>purchase</td>\n",
       "      <td>2451</td>\n",
       "      <td>19800</td>\n",
       "    </tr>\n",
       "  </tbody>\n",
       "</table>\n",
       "</div>"
      ],
      "text/plain": [
       "                timestamp  n_user_id                           user_id  \\\n",
       "0 2018-06-11 00:00:43.032       6241  bvu0aLTqiFDoU-963xnr5nzQWTNLUMjx   \n",
       "1 2018-06-11 00:02:33.763       8899  smDmRnykg61KajpxXKzQ0oNkrh2nuSBj   \n",
       "4 2018-06-11 00:05:26.010       7832  lq1Je3voA3a0MouSFba3629lKCvweI24   \n",
       "5 2018-06-11 00:05:35.182       2745  GM0-EsJPHjkpteIpAQIwaCdUjU81lhW1   \n",
       "6 2018-06-11 00:06:14.314       7800  lgvWxrv7r5RGklXSJqM2x6NUBZ5H-RQZ   \n",
       "\n",
       "   event_origin event_name  event_goods_id  price  \n",
       "0            38   purchase            1414  45000  \n",
       "1            12   purchase            1351   9500  \n",
       "4            89   purchase            5572  29000  \n",
       "5            22   purchase              55  11200  \n",
       "6            22   purchase            2451  19800  "
      ]
     },
     "execution_count": 651,
     "metadata": {},
     "output_type": "execute_result"
    }
   ],
   "source": [
    "# 겹치는 유저만으로 data를 indexing합니다. user_duplicated 이용합니다. \n",
    "# isin을 이용한 indexing은 뒤의 문제에서도 많이 나오기 때문에 유심히 봐두시면 유용합니다.\n",
    "order_copy = order_copy[order_copy['user_id'].isin(user_duplicated)]\n",
    "\n",
    "#  event_origin 컬럼에는 shop_id 컬럼을 저장합니다.\n",
    "order_copy['event_origin'] = order_copy['shop_id']\n",
    "\n",
    "#  event_name 컬럼에는 'purchase'를 저장합니다.\n",
    "order_copy['event_name'] = 'purchase'\n",
    "\n",
    "# event_goods_id 컬럼에는 good_id 컬럼를 저장합니다.\n",
    "order_copy['event_goods_id'] = order_copy['goods_id']\n",
    "\n",
    "# 사용할 columns를 설정합니다.\n",
    "order_copy = order_copy[['timestamp', 'n_user_id', 'user_id','event_origin',\n",
    "         'event_name', 'event_goods_id', 'price']]\n",
    "\n",
    "order_copy.head()\n"
   ]
  },
  {
   "cell_type": "code",
   "execution_count": 652,
   "metadata": {},
   "outputs": [
    {
     "name": "stderr",
     "output_type": "stream",
     "text": [
      "/anaconda3/lib/python3.7/site-packages/ipykernel_launcher.py:2: FutureWarning: Sorting because non-concatenation axis is not aligned. A future version\n",
      "of pandas will change to not sort by default.\n",
      "\n",
      "To accept the future behavior, pass 'sort=False'.\n",
      "\n",
      "To retain the current behavior and silence the warning, pass 'sort=True'.\n",
      "\n",
      "  \n"
     ]
    }
   ],
   "source": [
    "# data_logs, order_copy를 concat 해주하여 다시 log_order에 저장해주세요.\n",
    "log_order = pd.concat([data_logs, order_copy], sort = False) # sort = False ?\n",
    "\n",
    "# Write your code here!"
   ]
  },
  {
   "cell_type": "markdown",
   "metadata": {},
   "source": [
    "----"
   ]
  },
  {
   "cell_type": "code",
   "execution_count": 654,
   "metadata": {},
   "outputs": [
    {
     "data": {
      "text/html": [
       "<div>\n",
       "<style scoped>\n",
       "    .dataframe tbody tr th:only-of-type {\n",
       "        vertical-align: middle;\n",
       "    }\n",
       "\n",
       "    .dataframe tbody tr th {\n",
       "        vertical-align: top;\n",
       "    }\n",
       "\n",
       "    .dataframe thead th {\n",
       "        text-align: right;\n",
       "    }\n",
       "</style>\n",
       "<table border=\"1\" class=\"dataframe\">\n",
       "  <thead>\n",
       "    <tr style=\"text-align: right;\">\n",
       "      <th></th>\n",
       "      <th>event_goods_id</th>\n",
       "      <th>event_name</th>\n",
       "      <th>event_origin</th>\n",
       "      <th>event_shop_id</th>\n",
       "      <th>n_user_id</th>\n",
       "      <th>price</th>\n",
       "      <th>timestamp</th>\n",
       "      <th>user_id</th>\n",
       "      <th>purchase</th>\n",
       "    </tr>\n",
       "  </thead>\n",
       "  <tbody>\n",
       "    <tr>\n",
       "      <th>0</th>\n",
       "      <td>NaN</td>\n",
       "      <td>app_page_view</td>\n",
       "      <td>shops_ranking</td>\n",
       "      <td>NaN</td>\n",
       "      <td>3314</td>\n",
       "      <td>NaN</td>\n",
       "      <td>2018-06-11 00:00:00.213</td>\n",
       "      <td>K1d8_t3-QIskaSkrx32oAFu856D8JmLo</td>\n",
       "      <td>False</td>\n",
       "    </tr>\n",
       "    <tr>\n",
       "      <th>1</th>\n",
       "      <td>NaN</td>\n",
       "      <td>app_page_view</td>\n",
       "      <td>shops_bookmark</td>\n",
       "      <td>NaN</td>\n",
       "      <td>7844</td>\n",
       "      <td>NaN</td>\n",
       "      <td>2018-06-11 00:00:00.810</td>\n",
       "      <td>lwFZ77v_ygk0uU40t1ud3l30EZ6sE2R3</td>\n",
       "      <td>False</td>\n",
       "    </tr>\n",
       "    <tr>\n",
       "      <th>2</th>\n",
       "      <td>NaN</td>\n",
       "      <td>app_page_view</td>\n",
       "      <td>goods_search_result/로브</td>\n",
       "      <td>NaN</td>\n",
       "      <td>7920</td>\n",
       "      <td>NaN</td>\n",
       "      <td>2018-06-11 00:00:00.956</td>\n",
       "      <td>mR-bO6hC9g-m8ERXMRQZaRwJFvzNNdd8</td>\n",
       "      <td>False</td>\n",
       "    </tr>\n",
       "    <tr>\n",
       "      <th>3</th>\n",
       "      <td>NaN</td>\n",
       "      <td>app_page_view</td>\n",
       "      <td>shops_bookmark</td>\n",
       "      <td>NaN</td>\n",
       "      <td>3314</td>\n",
       "      <td>NaN</td>\n",
       "      <td>2018-06-11 00:00:01.084</td>\n",
       "      <td>K1d8_t3-QIskaSkrx32oAFu856D8JmLo</td>\n",
       "      <td>False</td>\n",
       "    </tr>\n",
       "    <tr>\n",
       "      <th>4</th>\n",
       "      <td>NaN</td>\n",
       "      <td>app_page_view</td>\n",
       "      <td>shops_bookmark</td>\n",
       "      <td>NaN</td>\n",
       "      <td>5608</td>\n",
       "      <td>NaN</td>\n",
       "      <td>2018-06-11 00:00:01.561</td>\n",
       "      <td>Yjny5AchUWLiuv4kdeq50COF-S8OFXPd</td>\n",
       "      <td>False</td>\n",
       "    </tr>\n",
       "  </tbody>\n",
       "</table>\n",
       "</div>"
      ],
      "text/plain": [
       "   event_goods_id     event_name            event_origin  event_shop_id  \\\n",
       "0             NaN  app_page_view           shops_ranking            NaN   \n",
       "1             NaN  app_page_view          shops_bookmark            NaN   \n",
       "2             NaN  app_page_view  goods_search_result/로브            NaN   \n",
       "3             NaN  app_page_view          shops_bookmark            NaN   \n",
       "4             NaN  app_page_view          shops_bookmark            NaN   \n",
       "\n",
       "   n_user_id  price                timestamp  \\\n",
       "0       3314    NaN  2018-06-11 00:00:00.213   \n",
       "1       7844    NaN  2018-06-11 00:00:00.810   \n",
       "2       7920    NaN  2018-06-11 00:00:00.956   \n",
       "3       3314    NaN  2018-06-11 00:00:01.084   \n",
       "4       5608    NaN  2018-06-11 00:00:01.561   \n",
       "\n",
       "                            user_id  purchase  \n",
       "0  K1d8_t3-QIskaSkrx32oAFu856D8JmLo     False  \n",
       "1  lwFZ77v_ygk0uU40t1ud3l30EZ6sE2R3     False  \n",
       "2  mR-bO6hC9g-m8ERXMRQZaRwJFvzNNdd8     False  \n",
       "3  K1d8_t3-QIskaSkrx32oAFu856D8JmLo     False  \n",
       "4  Yjny5AchUWLiuv4kdeq50COF-S8OFXPd     False  "
      ]
     },
     "execution_count": 654,
     "metadata": {},
     "output_type": "execute_result"
    }
   ],
   "source": [
    "# Write your code here!\n",
    "# if data has price, purchase must be true.\n",
    "\"\"\"log_order['purchase'] = False\n",
    "log_order.loc[log_order['price'].notnull(), 'purchase'] = True\n",
    "\"\"\"\n",
    "# \n",
    "log_order['purchase'] = log_order[\"price\"].notnull()\n",
    "log_order.head()"
   ]
  },
  {
   "cell_type": "markdown",
   "metadata": {},
   "source": [
    "----"
   ]
  },
  {
   "cell_type": "code",
   "execution_count": 656,
   "metadata": {},
   "outputs": [
    {
     "data": {
      "text/html": [
       "<div>\n",
       "<style scoped>\n",
       "    .dataframe tbody tr th:only-of-type {\n",
       "        vertical-align: middle;\n",
       "    }\n",
       "\n",
       "    .dataframe tbody tr th {\n",
       "        vertical-align: top;\n",
       "    }\n",
       "\n",
       "    .dataframe thead th {\n",
       "        text-align: right;\n",
       "    }\n",
       "</style>\n",
       "<table border=\"1\" class=\"dataframe\">\n",
       "  <thead>\n",
       "    <tr style=\"text-align: right;\">\n",
       "      <th></th>\n",
       "      <th>event_goods_id</th>\n",
       "      <th>event_name</th>\n",
       "      <th>event_origin</th>\n",
       "      <th>event_shop_id</th>\n",
       "      <th>n_user_id</th>\n",
       "      <th>price</th>\n",
       "      <th>timestamp</th>\n",
       "      <th>user_id</th>\n",
       "      <th>purchase</th>\n",
       "    </tr>\n",
       "  </thead>\n",
       "  <tbody>\n",
       "    <tr>\n",
       "      <th>0</th>\n",
       "      <td>NaN</td>\n",
       "      <td>app_page_view</td>\n",
       "      <td>shops_bookmark</td>\n",
       "      <td>NaN</td>\n",
       "      <td>0</td>\n",
       "      <td>NaN</td>\n",
       "      <td>2018-06-11 15:57:10.615</td>\n",
       "      <td>--PYPMX8QWg0ioT5zfORmU-S5Lln0lot</td>\n",
       "      <td>False</td>\n",
       "    </tr>\n",
       "    <tr>\n",
       "      <th>1</th>\n",
       "      <td>NaN</td>\n",
       "      <td>app_page_view</td>\n",
       "      <td>shops_bookmark</td>\n",
       "      <td>NaN</td>\n",
       "      <td>0</td>\n",
       "      <td>NaN</td>\n",
       "      <td>2018-06-11 15:59:05.505</td>\n",
       "      <td>--PYPMX8QWg0ioT5zfORmU-S5Lln0lot</td>\n",
       "      <td>False</td>\n",
       "    </tr>\n",
       "    <tr>\n",
       "      <th>2</th>\n",
       "      <td>NaN</td>\n",
       "      <td>app_page_view</td>\n",
       "      <td>my_goods</td>\n",
       "      <td>NaN</td>\n",
       "      <td>1</td>\n",
       "      <td>NaN</td>\n",
       "      <td>2018-06-11 00:55:37.309</td>\n",
       "      <td>-16-xXbeDcvkZJtTpRwMi57Yo2ZQpORv</td>\n",
       "      <td>False</td>\n",
       "    </tr>\n",
       "    <tr>\n",
       "      <th>3</th>\n",
       "      <td>2506.0</td>\n",
       "      <td>enter_browser</td>\n",
       "      <td>my_goods</td>\n",
       "      <td>40.0</td>\n",
       "      <td>1</td>\n",
       "      <td>NaN</td>\n",
       "      <td>2018-06-11 00:55:44.430</td>\n",
       "      <td>-16-xXbeDcvkZJtTpRwMi57Yo2ZQpORv</td>\n",
       "      <td>False</td>\n",
       "    </tr>\n",
       "    <tr>\n",
       "      <th>4</th>\n",
       "      <td>NaN</td>\n",
       "      <td>app_page_view</td>\n",
       "      <td>my_goods</td>\n",
       "      <td>NaN</td>\n",
       "      <td>1</td>\n",
       "      <td>NaN</td>\n",
       "      <td>2018-06-11 01:00:33.295</td>\n",
       "      <td>-16-xXbeDcvkZJtTpRwMi57Yo2ZQpORv</td>\n",
       "      <td>False</td>\n",
       "    </tr>\n",
       "  </tbody>\n",
       "</table>\n",
       "</div>"
      ],
      "text/plain": [
       "   event_goods_id     event_name    event_origin  event_shop_id  n_user_id  \\\n",
       "0             NaN  app_page_view  shops_bookmark            NaN          0   \n",
       "1             NaN  app_page_view  shops_bookmark            NaN          0   \n",
       "2             NaN  app_page_view        my_goods            NaN          1   \n",
       "3          2506.0  enter_browser        my_goods           40.0          1   \n",
       "4             NaN  app_page_view        my_goods            NaN          1   \n",
       "\n",
       "   price                timestamp                           user_id  purchase  \n",
       "0    NaN  2018-06-11 15:57:10.615  --PYPMX8QWg0ioT5zfORmU-S5Lln0lot     False  \n",
       "1    NaN  2018-06-11 15:59:05.505  --PYPMX8QWg0ioT5zfORmU-S5Lln0lot     False  \n",
       "2    NaN  2018-06-11 00:55:37.309  -16-xXbeDcvkZJtTpRwMi57Yo2ZQpORv     False  \n",
       "3    NaN  2018-06-11 00:55:44.430  -16-xXbeDcvkZJtTpRwMi57Yo2ZQpORv     False  \n",
       "4    NaN  2018-06-11 01:00:33.295  -16-xXbeDcvkZJtTpRwMi57Yo2ZQpORv     False  "
      ]
     },
     "execution_count": 656,
     "metadata": {},
     "output_type": "execute_result"
    }
   ],
   "source": [
    "log_order = log_order.sort_values(by = ['user_id', 'timestamp']).reset_index(drop =True)\n",
    "\n",
    "log_order.head()"
   ]
  },
  {
   "cell_type": "code",
   "execution_count": 439,
   "metadata": {},
   "outputs": [
    {
     "name": "stdout",
     "output_type": "stream",
     "text": [
      "<class 'pandas.core.frame.DataFrame'>\n",
      "RangeIndex: 106587 entries, 0 to 106586\n",
      "Data columns (total 11 columns):\n",
      "event_goods_id     19293 non-null float64\n",
      "event_name         106587 non-null object\n",
      "event_origin       106587 non-null object\n",
      "event_shop_id      21644 non-null float64\n",
      "n_user_id          106587 non-null int64\n",
      "price              772 non-null float64\n",
      "timestamp          106587 non-null datetime64[ns]\n",
      "user_id            106587 non-null object\n",
      "purchase           106587 non-null bool\n",
      "timestamp_after    96678 non-null datetime64[ns]\n",
      "log_duration       106587 non-null object\n",
      "dtypes: bool(1), datetime64[ns](2), float64(3), int64(1), object(4)\n",
      "memory usage: 8.2+ MB\n"
     ]
    }
   ],
   "source": [
    "log_order.info()"
   ]
  },
  {
   "cell_type": "markdown",
   "metadata": {},
   "source": [
    "## <b> Page or Log Duration"
   ]
  },
  {
   "cell_type": "code",
   "execution_count": 657,
   "metadata": {},
   "outputs": [
    {
     "name": "stdout",
     "output_type": "stream",
     "text": [
      "<class 'pandas.core.frame.DataFrame'>\n",
      "RangeIndex: 106587 entries, 0 to 106586\n",
      "Data columns (total 9 columns):\n",
      "event_goods_id    19293 non-null float64\n",
      "event_name        106587 non-null object\n",
      "event_origin      106587 non-null object\n",
      "event_shop_id     21644 non-null float64\n",
      "n_user_id         106587 non-null int64\n",
      "price             772 non-null float64\n",
      "timestamp         106587 non-null datetime64[ns]\n",
      "user_id           106587 non-null object\n",
      "purchase          106587 non-null bool\n",
      "dtypes: bool(1), datetime64[ns](1), float64(3), int64(1), object(3)\n",
      "memory usage: 6.6+ MB\n"
     ]
    }
   ],
   "source": [
    "# 우선, timestamp 컬럼를 datetime 타입으로 변환해주세요.\n",
    "log_order['timestamp']= pd.to_datetime(log_order['timestamp'])\n",
    "log_order.info()\n",
    "# Write your code here!"
   ]
  },
  {
   "cell_type": "code",
   "execution_count": 658,
   "metadata": {
    "scrolled": false
   },
   "outputs": [
    {
     "data": {
      "text/html": [
       "<div>\n",
       "<style scoped>\n",
       "    .dataframe tbody tr th:only-of-type {\n",
       "        vertical-align: middle;\n",
       "    }\n",
       "\n",
       "    .dataframe tbody tr th {\n",
       "        vertical-align: top;\n",
       "    }\n",
       "\n",
       "    .dataframe thead th {\n",
       "        text-align: right;\n",
       "    }\n",
       "</style>\n",
       "<table border=\"1\" class=\"dataframe\">\n",
       "  <thead>\n",
       "    <tr style=\"text-align: right;\">\n",
       "      <th></th>\n",
       "      <th>event_goods_id</th>\n",
       "      <th>event_name</th>\n",
       "      <th>event_origin</th>\n",
       "      <th>event_shop_id</th>\n",
       "      <th>n_user_id</th>\n",
       "      <th>price</th>\n",
       "      <th>timestamp</th>\n",
       "      <th>user_id</th>\n",
       "      <th>purchase</th>\n",
       "      <th>timestamp_after</th>\n",
       "    </tr>\n",
       "  </thead>\n",
       "  <tbody>\n",
       "    <tr>\n",
       "      <th>0</th>\n",
       "      <td>NaN</td>\n",
       "      <td>app_page_view</td>\n",
       "      <td>shops_bookmark</td>\n",
       "      <td>NaN</td>\n",
       "      <td>0</td>\n",
       "      <td>NaN</td>\n",
       "      <td>2018-06-11 15:57:10.615</td>\n",
       "      <td>--PYPMX8QWg0ioT5zfORmU-S5Lln0lot</td>\n",
       "      <td>False</td>\n",
       "      <td>2018-06-11 15:59:05.505</td>\n",
       "    </tr>\n",
       "    <tr>\n",
       "      <th>1</th>\n",
       "      <td>NaN</td>\n",
       "      <td>app_page_view</td>\n",
       "      <td>shops_bookmark</td>\n",
       "      <td>NaN</td>\n",
       "      <td>0</td>\n",
       "      <td>NaN</td>\n",
       "      <td>2018-06-11 15:59:05.505</td>\n",
       "      <td>--PYPMX8QWg0ioT5zfORmU-S5Lln0lot</td>\n",
       "      <td>False</td>\n",
       "      <td>NaT</td>\n",
       "    </tr>\n",
       "    <tr>\n",
       "      <th>2</th>\n",
       "      <td>NaN</td>\n",
       "      <td>app_page_view</td>\n",
       "      <td>my_goods</td>\n",
       "      <td>NaN</td>\n",
       "      <td>1</td>\n",
       "      <td>NaN</td>\n",
       "      <td>2018-06-11 00:55:37.309</td>\n",
       "      <td>-16-xXbeDcvkZJtTpRwMi57Yo2ZQpORv</td>\n",
       "      <td>False</td>\n",
       "      <td>2018-06-11 00:55:44.430</td>\n",
       "    </tr>\n",
       "    <tr>\n",
       "      <th>3</th>\n",
       "      <td>2506.0</td>\n",
       "      <td>enter_browser</td>\n",
       "      <td>my_goods</td>\n",
       "      <td>40.0</td>\n",
       "      <td>1</td>\n",
       "      <td>NaN</td>\n",
       "      <td>2018-06-11 00:55:44.430</td>\n",
       "      <td>-16-xXbeDcvkZJtTpRwMi57Yo2ZQpORv</td>\n",
       "      <td>False</td>\n",
       "      <td>2018-06-11 01:00:33.295</td>\n",
       "    </tr>\n",
       "    <tr>\n",
       "      <th>4</th>\n",
       "      <td>NaN</td>\n",
       "      <td>app_page_view</td>\n",
       "      <td>my_goods</td>\n",
       "      <td>NaN</td>\n",
       "      <td>1</td>\n",
       "      <td>NaN</td>\n",
       "      <td>2018-06-11 01:00:33.295</td>\n",
       "      <td>-16-xXbeDcvkZJtTpRwMi57Yo2ZQpORv</td>\n",
       "      <td>False</td>\n",
       "      <td>2018-06-11 01:11:03.608</td>\n",
       "    </tr>\n",
       "  </tbody>\n",
       "</table>\n",
       "</div>"
      ],
      "text/plain": [
       "   event_goods_id     event_name    event_origin  event_shop_id  n_user_id  \\\n",
       "0             NaN  app_page_view  shops_bookmark            NaN          0   \n",
       "1             NaN  app_page_view  shops_bookmark            NaN          0   \n",
       "2             NaN  app_page_view        my_goods            NaN          1   \n",
       "3          2506.0  enter_browser        my_goods           40.0          1   \n",
       "4             NaN  app_page_view        my_goods            NaN          1   \n",
       "\n",
       "   price               timestamp                           user_id  purchase  \\\n",
       "0    NaN 2018-06-11 15:57:10.615  --PYPMX8QWg0ioT5zfORmU-S5Lln0lot     False   \n",
       "1    NaN 2018-06-11 15:59:05.505  --PYPMX8QWg0ioT5zfORmU-S5Lln0lot     False   \n",
       "2    NaN 2018-06-11 00:55:37.309  -16-xXbeDcvkZJtTpRwMi57Yo2ZQpORv     False   \n",
       "3    NaN 2018-06-11 00:55:44.430  -16-xXbeDcvkZJtTpRwMi57Yo2ZQpORv     False   \n",
       "4    NaN 2018-06-11 01:00:33.295  -16-xXbeDcvkZJtTpRwMi57Yo2ZQpORv     False   \n",
       "\n",
       "          timestamp_after  \n",
       "0 2018-06-11 15:59:05.505  \n",
       "1                     NaT  \n",
       "2 2018-06-11 00:55:44.430  \n",
       "3 2018-06-11 01:00:33.295  \n",
       "4 2018-06-11 01:11:03.608  "
      ]
     },
     "execution_count": 658,
     "metadata": {},
     "output_type": "execute_result"
    }
   ],
   "source": [
    "# timestamp_after 컬럼을 다음과 같이 만듭니다.\n",
    "# shift)(-1) => each data moves backward 1 unit\n",
    "log_order['timestamp_after'] = log_order.groupby(['n_user_id'])['timestamp'].shift(-1)\n",
    "log_order.head()"
   ]
  },
  {
   "cell_type": "code",
   "execution_count": 659,
   "metadata": {},
   "outputs": [
    {
     "data": {
      "text/html": [
       "<div>\n",
       "<style scoped>\n",
       "    .dataframe tbody tr th:only-of-type {\n",
       "        vertical-align: middle;\n",
       "    }\n",
       "\n",
       "    .dataframe tbody tr th {\n",
       "        vertical-align: top;\n",
       "    }\n",
       "\n",
       "    .dataframe thead th {\n",
       "        text-align: right;\n",
       "    }\n",
       "</style>\n",
       "<table border=\"1\" class=\"dataframe\">\n",
       "  <thead>\n",
       "    <tr style=\"text-align: right;\">\n",
       "      <th></th>\n",
       "      <th>timestamp</th>\n",
       "      <th>timestamp_after</th>\n",
       "      <th>log_duration</th>\n",
       "    </tr>\n",
       "  </thead>\n",
       "  <tbody>\n",
       "    <tr>\n",
       "      <th>0</th>\n",
       "      <td>2018-06-11 15:57:10.615</td>\n",
       "      <td>2018-06-11 15:59:05.505</td>\n",
       "      <td>00:01:54.890000</td>\n",
       "    </tr>\n",
       "    <tr>\n",
       "      <th>1</th>\n",
       "      <td>2018-06-11 15:59:05.505</td>\n",
       "      <td>NaT</td>\n",
       "      <td>00:00:00</td>\n",
       "    </tr>\n",
       "    <tr>\n",
       "      <th>2</th>\n",
       "      <td>2018-06-11 00:55:37.309</td>\n",
       "      <td>2018-06-11 00:55:44.430</td>\n",
       "      <td>00:00:07.121000</td>\n",
       "    </tr>\n",
       "    <tr>\n",
       "      <th>3</th>\n",
       "      <td>2018-06-11 00:55:44.430</td>\n",
       "      <td>2018-06-11 01:00:33.295</td>\n",
       "      <td>00:04:48.865000</td>\n",
       "    </tr>\n",
       "    <tr>\n",
       "      <th>4</th>\n",
       "      <td>2018-06-11 01:00:33.295</td>\n",
       "      <td>2018-06-11 01:11:03.608</td>\n",
       "      <td>00:10:30.313000</td>\n",
       "    </tr>\n",
       "  </tbody>\n",
       "</table>\n",
       "</div>"
      ],
      "text/plain": [
       "                timestamp         timestamp_after    log_duration\n",
       "0 2018-06-11 15:57:10.615 2018-06-11 15:59:05.505 00:01:54.890000\n",
       "1 2018-06-11 15:59:05.505                     NaT        00:00:00\n",
       "2 2018-06-11 00:55:37.309 2018-06-11 00:55:44.430 00:00:07.121000\n",
       "3 2018-06-11 00:55:44.430 2018-06-11 01:00:33.295 00:04:48.865000\n",
       "4 2018-06-11 01:00:33.295 2018-06-11 01:11:03.608 00:10:30.313000"
      ]
     },
     "execution_count": 659,
     "metadata": {},
     "output_type": "execute_result"
    }
   ],
   "source": [
    "# log_duration을 계산하고 nan값(마지막 로그)는 0으로 채워 log_duration 컬럼에 저장합니다.\n",
    "import datetime\n",
    "\"\"\"log_order['log_duration'] = log_order['timestamp_after'] - log_order['timestamp']\n",
    "# keep same data type: timedelta \n",
    "log_order.loc[log_order['log_duration'].isnull(), \"log_duration\"] = pd.to_datetime(0) - pd.to_datetime(0)\"\"\"\n",
    "\n",
    "log_order['page_duration'] = (log_order['timestamp_after'] - log_order['timestamp']).fillna(0)\n",
    "\n",
    "log_order[['timestamp','timestamp_after','page_duration']].head()"
   ]
  },
  {
   "cell_type": "code",
   "execution_count": 661,
   "metadata": {},
   "outputs": [],
   "source": [
    "# Write your code here!\n",
    "# covert it into seconds \n",
    "\"\"\"log_order['page_duration'] = log_order['page_duration']/ np.timedelta64(1, 's')\n",
    "log_order['page_duration'] = log_order['page_duration'].astype(float)\"\"\""
   ]
  },
  {
   "cell_type": "code",
   "execution_count": null,
   "metadata": {},
   "outputs": [],
   "source": [
    "log_order['page_duration'] = log_order['page_duration'].map(lambda x: x.total_seconds()).astype('float')"
   ]
  },
  {
   "cell_type": "code",
   "execution_count": 663,
   "metadata": {},
   "outputs": [
    {
     "data": {
      "text/html": [
       "<div>\n",
       "<style scoped>\n",
       "    .dataframe tbody tr th:only-of-type {\n",
       "        vertical-align: middle;\n",
       "    }\n",
       "\n",
       "    .dataframe tbody tr th {\n",
       "        vertical-align: top;\n",
       "    }\n",
       "\n",
       "    .dataframe thead th {\n",
       "        text-align: right;\n",
       "    }\n",
       "</style>\n",
       "<table border=\"1\" class=\"dataframe\">\n",
       "  <thead>\n",
       "    <tr style=\"text-align: right;\">\n",
       "      <th></th>\n",
       "      <th>n_user_id</th>\n",
       "      <th>timestamp</th>\n",
       "      <th>timestamp_after</th>\n",
       "      <th>log_duration</th>\n",
       "    </tr>\n",
       "  </thead>\n",
       "  <tbody>\n",
       "    <tr>\n",
       "      <th>0</th>\n",
       "      <td>0</td>\n",
       "      <td>2018-06-11 15:57:10.615</td>\n",
       "      <td>2018-06-11 15:59:05.505</td>\n",
       "      <td>114.890</td>\n",
       "    </tr>\n",
       "    <tr>\n",
       "      <th>1</th>\n",
       "      <td>0</td>\n",
       "      <td>2018-06-11 15:59:05.505</td>\n",
       "      <td>NaT</td>\n",
       "      <td>0.000</td>\n",
       "    </tr>\n",
       "    <tr>\n",
       "      <th>2</th>\n",
       "      <td>1</td>\n",
       "      <td>2018-06-11 00:55:37.309</td>\n",
       "      <td>2018-06-11 00:55:44.430</td>\n",
       "      <td>7.121</td>\n",
       "    </tr>\n",
       "    <tr>\n",
       "      <th>3</th>\n",
       "      <td>1</td>\n",
       "      <td>2018-06-11 00:55:44.430</td>\n",
       "      <td>2018-06-11 01:00:33.295</td>\n",
       "      <td>288.865</td>\n",
       "    </tr>\n",
       "    <tr>\n",
       "      <th>4</th>\n",
       "      <td>1</td>\n",
       "      <td>2018-06-11 01:00:33.295</td>\n",
       "      <td>2018-06-11 01:11:03.608</td>\n",
       "      <td>630.313</td>\n",
       "    </tr>\n",
       "  </tbody>\n",
       "</table>\n",
       "</div>"
      ],
      "text/plain": [
       "   n_user_id               timestamp         timestamp_after  log_duration\n",
       "0          0 2018-06-11 15:57:10.615 2018-06-11 15:59:05.505       114.890\n",
       "1          0 2018-06-11 15:59:05.505                     NaT         0.000\n",
       "2          1 2018-06-11 00:55:37.309 2018-06-11 00:55:44.430         7.121\n",
       "3          1 2018-06-11 00:55:44.430 2018-06-11 01:00:33.295       288.865\n",
       "4          1 2018-06-11 01:00:33.295 2018-06-11 01:11:03.608       630.313"
      ]
     },
     "execution_count": 663,
     "metadata": {},
     "output_type": "execute_result"
    }
   ],
   "source": [
    "log_order[[\"n_user_id\",'timestamp','timestamp_after','page_duration']].head()"
   ]
  },
  {
   "cell_type": "markdown",
   "metadata": {},
   "source": [
    "## <b> Remaining Duration"
   ]
  },
  {
   "cell_type": "code",
   "execution_count": 523,
   "metadata": {
    "scrolled": true
   },
   "outputs": [],
   "source": [
    "# 40분을 초로 환산해야 합니다.\n",
    "\"\"\"def is_out(row):\n",
    "    if row['log_duration'] == 0:\n",
    "        return True\n",
    "    elif row['log_duration'] >= 40*60:\n",
    "        return True\n",
    "    else:\n",
    "        return False\"\"\"\n",
    "# Write your code here!"
   ]
  },
  {
   "cell_type": "code",
   "execution_count": 664,
   "metadata": {},
   "outputs": [],
   "source": [
    "# log_order['is_out'] = log_order.apply(is_out, axis=1)"
   ]
  },
  {
   "cell_type": "code",
   "execution_count": null,
   "metadata": {},
   "outputs": [],
   "source": [
    "# same result \n",
    "log_order[\"is_out\"] = (log_order[\"page_duration\"] > 2400) | (log_order[\"page_duration\"] == 0 )"
   ]
  },
  {
   "cell_type": "code",
   "execution_count": 665,
   "metadata": {},
   "outputs": [
    {
     "data": {
      "text/html": [
       "<div>\n",
       "<style scoped>\n",
       "    .dataframe tbody tr th:only-of-type {\n",
       "        vertical-align: middle;\n",
       "    }\n",
       "\n",
       "    .dataframe tbody tr th {\n",
       "        vertical-align: top;\n",
       "    }\n",
       "\n",
       "    .dataframe thead th {\n",
       "        text-align: right;\n",
       "    }\n",
       "</style>\n",
       "<table border=\"1\" class=\"dataframe\">\n",
       "  <thead>\n",
       "    <tr style=\"text-align: right;\">\n",
       "      <th></th>\n",
       "      <th>n_user_id</th>\n",
       "      <th>timestamp</th>\n",
       "      <th>timestamp_after</th>\n",
       "      <th>log_duration</th>\n",
       "      <th>is_out</th>\n",
       "    </tr>\n",
       "  </thead>\n",
       "  <tbody>\n",
       "    <tr>\n",
       "      <th>0</th>\n",
       "      <td>0</td>\n",
       "      <td>2018-06-11 15:57:10.615</td>\n",
       "      <td>2018-06-11 15:59:05.505</td>\n",
       "      <td>114.890</td>\n",
       "      <td>False</td>\n",
       "    </tr>\n",
       "    <tr>\n",
       "      <th>1</th>\n",
       "      <td>0</td>\n",
       "      <td>2018-06-11 15:59:05.505</td>\n",
       "      <td>NaT</td>\n",
       "      <td>0.000</td>\n",
       "      <td>True</td>\n",
       "    </tr>\n",
       "    <tr>\n",
       "      <th>2</th>\n",
       "      <td>1</td>\n",
       "      <td>2018-06-11 00:55:37.309</td>\n",
       "      <td>2018-06-11 00:55:44.430</td>\n",
       "      <td>7.121</td>\n",
       "      <td>False</td>\n",
       "    </tr>\n",
       "    <tr>\n",
       "      <th>3</th>\n",
       "      <td>1</td>\n",
       "      <td>2018-06-11 00:55:44.430</td>\n",
       "      <td>2018-06-11 01:00:33.295</td>\n",
       "      <td>288.865</td>\n",
       "      <td>False</td>\n",
       "    </tr>\n",
       "    <tr>\n",
       "      <th>4</th>\n",
       "      <td>1</td>\n",
       "      <td>2018-06-11 01:00:33.295</td>\n",
       "      <td>2018-06-11 01:11:03.608</td>\n",
       "      <td>630.313</td>\n",
       "      <td>False</td>\n",
       "    </tr>\n",
       "  </tbody>\n",
       "</table>\n",
       "</div>"
      ],
      "text/plain": [
       "   n_user_id               timestamp         timestamp_after  log_duration  \\\n",
       "0          0 2018-06-11 15:57:10.615 2018-06-11 15:59:05.505       114.890   \n",
       "1          0 2018-06-11 15:59:05.505                     NaT         0.000   \n",
       "2          1 2018-06-11 00:55:37.309 2018-06-11 00:55:44.430         7.121   \n",
       "3          1 2018-06-11 00:55:44.430 2018-06-11 01:00:33.295       288.865   \n",
       "4          1 2018-06-11 01:00:33.295 2018-06-11 01:11:03.608       630.313   \n",
       "\n",
       "   is_out  \n",
       "0   False  \n",
       "1    True  \n",
       "2   False  \n",
       "3   False  \n",
       "4   False  "
      ]
     },
     "execution_count": 665,
     "metadata": {},
     "output_type": "execute_result"
    }
   ],
   "source": [
    "log_order[[\"n_user_id\",'timestamp','timestamp_after','page_duration', 'is_out']].head()"
   ]
  },
  {
   "cell_type": "code",
   "execution_count": 669,
   "metadata": {},
   "outputs": [],
   "source": [
    "# Write your code here!\n",
    "\"\"\"a =log_order['log_duration'] >= 2400 \n",
    "b =log_order['log_duration'] < 0\n",
    "index = a | b\n",
    "\n",
    "log_order.loc[index, 'log_duration'] = 0.000\"\"\""
   ]
  },
  {
   "cell_type": "code",
   "execution_count": 670,
   "metadata": {},
   "outputs": [],
   "source": [
    "#log_order.loc[log_order['log_duration'] == 0, 'is_out'] = True"
   ]
  },
  {
   "cell_type": "code",
   "execution_count": 671,
   "metadata": {},
   "outputs": [
    {
     "data": {
      "text/html": [
       "<div>\n",
       "<style scoped>\n",
       "    .dataframe tbody tr th:only-of-type {\n",
       "        vertical-align: middle;\n",
       "    }\n",
       "\n",
       "    .dataframe tbody tr th {\n",
       "        vertical-align: top;\n",
       "    }\n",
       "\n",
       "    .dataframe thead th {\n",
       "        text-align: right;\n",
       "    }\n",
       "</style>\n",
       "<table border=\"1\" class=\"dataframe\">\n",
       "  <thead>\n",
       "    <tr style=\"text-align: right;\">\n",
       "      <th></th>\n",
       "      <th>n_user_id</th>\n",
       "      <th>timestamp</th>\n",
       "      <th>timestamp_after</th>\n",
       "      <th>log_duration</th>\n",
       "      <th>is_out</th>\n",
       "    </tr>\n",
       "  </thead>\n",
       "  <tbody>\n",
       "    <tr>\n",
       "      <th>0</th>\n",
       "      <td>0</td>\n",
       "      <td>2018-06-11 15:57:10.615</td>\n",
       "      <td>2018-06-11 15:59:05.505</td>\n",
       "      <td>114.890</td>\n",
       "      <td>False</td>\n",
       "    </tr>\n",
       "    <tr>\n",
       "      <th>1</th>\n",
       "      <td>0</td>\n",
       "      <td>2018-06-11 15:59:05.505</td>\n",
       "      <td>NaT</td>\n",
       "      <td>0.000</td>\n",
       "      <td>True</td>\n",
       "    </tr>\n",
       "    <tr>\n",
       "      <th>2</th>\n",
       "      <td>1</td>\n",
       "      <td>2018-06-11 00:55:37.309</td>\n",
       "      <td>2018-06-11 00:55:44.430</td>\n",
       "      <td>7.121</td>\n",
       "      <td>False</td>\n",
       "    </tr>\n",
       "    <tr>\n",
       "      <th>3</th>\n",
       "      <td>1</td>\n",
       "      <td>2018-06-11 00:55:44.430</td>\n",
       "      <td>2018-06-11 01:00:33.295</td>\n",
       "      <td>288.865</td>\n",
       "      <td>False</td>\n",
       "    </tr>\n",
       "    <tr>\n",
       "      <th>4</th>\n",
       "      <td>1</td>\n",
       "      <td>2018-06-11 01:00:33.295</td>\n",
       "      <td>2018-06-11 01:11:03.608</td>\n",
       "      <td>630.313</td>\n",
       "      <td>False</td>\n",
       "    </tr>\n",
       "  </tbody>\n",
       "</table>\n",
       "</div>"
      ],
      "text/plain": [
       "   n_user_id               timestamp         timestamp_after  log_duration  \\\n",
       "0          0 2018-06-11 15:57:10.615 2018-06-11 15:59:05.505       114.890   \n",
       "1          0 2018-06-11 15:59:05.505                     NaT         0.000   \n",
       "2          1 2018-06-11 00:55:37.309 2018-06-11 00:55:44.430         7.121   \n",
       "3          1 2018-06-11 00:55:44.430 2018-06-11 01:00:33.295       288.865   \n",
       "4          1 2018-06-11 01:00:33.295 2018-06-11 01:11:03.608       630.313   \n",
       "\n",
       "   is_out  \n",
       "0   False  \n",
       "1    True  \n",
       "2   False  \n",
       "3   False  \n",
       "4   False  "
      ]
     },
     "execution_count": 671,
     "metadata": {},
     "output_type": "execute_result"
    }
   ],
   "source": [
    "#log_order[['n_user_id','timestamp', 'timestamp_after', 'log_duration', 'is_out']].head()"
   ]
  },
  {
   "cell_type": "code",
   "execution_count": null,
   "metadata": {},
   "outputs": [],
   "source": [
    "log_order.loc[log_order['is_out'], 'page_duration'] = 0\n",
    "\n",
    "log_order[['n_user_id','timestamp', 'timestamp_after', 'page_duration', 'is_out']].head(20)"
   ]
  },
  {
   "cell_type": "code",
   "execution_count": 673,
   "metadata": {
    "scrolled": true
   },
   "outputs": [
    {
     "data": {
      "text/html": [
       "<div>\n",
       "<style scoped>\n",
       "    .dataframe tbody tr th:only-of-type {\n",
       "        vertical-align: middle;\n",
       "    }\n",
       "\n",
       "    .dataframe tbody tr th {\n",
       "        vertical-align: top;\n",
       "    }\n",
       "\n",
       "    .dataframe thead th {\n",
       "        text-align: right;\n",
       "    }\n",
       "</style>\n",
       "<table border=\"1\" class=\"dataframe\">\n",
       "  <thead>\n",
       "    <tr style=\"text-align: right;\">\n",
       "      <th></th>\n",
       "      <th>n_user_id</th>\n",
       "      <th>timestamp</th>\n",
       "      <th>timestamp_after</th>\n",
       "      <th>log_duration</th>\n",
       "      <th>is_out</th>\n",
       "      <th>cycle_idx_unique</th>\n",
       "    </tr>\n",
       "  </thead>\n",
       "  <tbody>\n",
       "    <tr>\n",
       "      <th>0</th>\n",
       "      <td>0</td>\n",
       "      <td>2018-06-11 15:57:10.615</td>\n",
       "      <td>2018-06-11 15:59:05.505</td>\n",
       "      <td>114.890</td>\n",
       "      <td>False</td>\n",
       "      <td>0</td>\n",
       "    </tr>\n",
       "    <tr>\n",
       "      <th>1</th>\n",
       "      <td>0</td>\n",
       "      <td>2018-06-11 15:59:05.505</td>\n",
       "      <td>NaT</td>\n",
       "      <td>0.000</td>\n",
       "      <td>True</td>\n",
       "      <td>0</td>\n",
       "    </tr>\n",
       "    <tr>\n",
       "      <th>2</th>\n",
       "      <td>1</td>\n",
       "      <td>2018-06-11 00:55:37.309</td>\n",
       "      <td>2018-06-11 00:55:44.430</td>\n",
       "      <td>7.121</td>\n",
       "      <td>False</td>\n",
       "      <td>1</td>\n",
       "    </tr>\n",
       "    <tr>\n",
       "      <th>3</th>\n",
       "      <td>1</td>\n",
       "      <td>2018-06-11 00:55:44.430</td>\n",
       "      <td>2018-06-11 01:00:33.295</td>\n",
       "      <td>288.865</td>\n",
       "      <td>False</td>\n",
       "      <td>1</td>\n",
       "    </tr>\n",
       "    <tr>\n",
       "      <th>4</th>\n",
       "      <td>1</td>\n",
       "      <td>2018-06-11 01:00:33.295</td>\n",
       "      <td>2018-06-11 01:11:03.608</td>\n",
       "      <td>630.313</td>\n",
       "      <td>False</td>\n",
       "      <td>1</td>\n",
       "    </tr>\n",
       "  </tbody>\n",
       "</table>\n",
       "</div>"
      ],
      "text/plain": [
       "   n_user_id               timestamp         timestamp_after  log_duration  \\\n",
       "0          0 2018-06-11 15:57:10.615 2018-06-11 15:59:05.505       114.890   \n",
       "1          0 2018-06-11 15:59:05.505                     NaT         0.000   \n",
       "2          1 2018-06-11 00:55:37.309 2018-06-11 00:55:44.430         7.121   \n",
       "3          1 2018-06-11 00:55:44.430 2018-06-11 01:00:33.295       288.865   \n",
       "4          1 2018-06-11 01:00:33.295 2018-06-11 01:11:03.608       630.313   \n",
       "\n",
       "   is_out  cycle_idx_unique  \n",
       "0   False                 0  \n",
       "1    True                 0  \n",
       "2   False                 1  \n",
       "3   False                 1  \n",
       "4   False                 1  "
      ]
     },
     "execution_count": 673,
     "metadata": {},
     "output_type": "execute_result"
    }
   ],
   "source": [
    "\"\"\"log_order['cycle_idx_unique'] = (log_order['is_out']\n",
    "                                 .cumsum()\n",
    "                                 .shift(1)\n",
    "                                 .fillna(0)\n",
    "                                 .astype(int)\n",
    "                                )\n",
    "\n",
    "log_order[['n_user_id','timestamp', 'timestamp_after', 'log_duration', 'is_out', 'cycle_idx_unique']].head(5)\"\"\""
   ]
  },
  {
   "cell_type": "code",
   "execution_count": null,
   "metadata": {},
   "outputs": [],
   "source": [
    "log_order['is_out-cumsum()'] = log_order['is_out'].cumsum()\n",
    "log_order[\"is_out-cumsum()-shift(1)\"] = log_order['is_out-cumsum()'].shift(1)\n",
    "log_order[\"is_out-cumsum()-shift(1)-fillna(0)\"] = log_order[\"is_out-cumsum()-shift(1)\"].fillna(0)\n",
    "log_order[\"is_out-cumsum()-shift(1)-fillna(0)-astype(int)\"] = log_order[\"is_out-cumsum()-shift(1)-fillna(0)\"].astype(int)\n",
    "\n",
    "log_order['session_idx_unique'] = (log_order['is_out']\n",
    "                                 .cumsum() # 컬럼의 누적 합계를 반환합니다.\n",
    "                                 .shift(1)\n",
    "                                 .fillna(0)\n",
    "                                 .astype(int)\n",
    "                                )\n",
    "\n",
    "log_order[['n_user_id','timestamp', 'timestamp_after', 'page_duration', 'is_out','is_out','is_out-cumsum()','is_out-cumsum()-shift(1)', 'is_out-cumsum()-shift(1)-fillna(0)','is_out-cumsum()-shift(1)-fillna(0)-astype(int)','session_idx_unique']].head(30)"
   ]
  },
  {
   "cell_type": "code",
   "execution_count": 674,
   "metadata": {
    "scrolled": true
   },
   "outputs": [
    {
     "data": {
      "text/html": [
       "<div>\n",
       "<style scoped>\n",
       "    .dataframe tbody tr th:only-of-type {\n",
       "        vertical-align: middle;\n",
       "    }\n",
       "\n",
       "    .dataframe tbody tr th {\n",
       "        vertical-align: top;\n",
       "    }\n",
       "\n",
       "    .dataframe thead th {\n",
       "        text-align: right;\n",
       "    }\n",
       "</style>\n",
       "<table border=\"1\" class=\"dataframe\">\n",
       "  <thead>\n",
       "    <tr style=\"text-align: right;\">\n",
       "      <th></th>\n",
       "      <th>n_user_id</th>\n",
       "      <th>timestamp</th>\n",
       "      <th>timestamp_after</th>\n",
       "      <th>log_duration</th>\n",
       "      <th>is_out</th>\n",
       "      <th>cycle_idx_daily</th>\n",
       "      <th>cycle_idx_unique</th>\n",
       "    </tr>\n",
       "  </thead>\n",
       "  <tbody>\n",
       "    <tr>\n",
       "      <th>0</th>\n",
       "      <td>0</td>\n",
       "      <td>2018-06-11 15:57:10.615</td>\n",
       "      <td>2018-06-11 15:59:05.505</td>\n",
       "      <td>114.890</td>\n",
       "      <td>False</td>\n",
       "      <td>0</td>\n",
       "      <td>0</td>\n",
       "    </tr>\n",
       "    <tr>\n",
       "      <th>1</th>\n",
       "      <td>0</td>\n",
       "      <td>2018-06-11 15:59:05.505</td>\n",
       "      <td>NaT</td>\n",
       "      <td>0.000</td>\n",
       "      <td>True</td>\n",
       "      <td>0</td>\n",
       "      <td>0</td>\n",
       "    </tr>\n",
       "    <tr>\n",
       "      <th>2</th>\n",
       "      <td>1</td>\n",
       "      <td>2018-06-11 00:55:37.309</td>\n",
       "      <td>2018-06-11 00:55:44.430</td>\n",
       "      <td>7.121</td>\n",
       "      <td>False</td>\n",
       "      <td>0</td>\n",
       "      <td>1</td>\n",
       "    </tr>\n",
       "    <tr>\n",
       "      <th>3</th>\n",
       "      <td>1</td>\n",
       "      <td>2018-06-11 00:55:44.430</td>\n",
       "      <td>2018-06-11 01:00:33.295</td>\n",
       "      <td>288.865</td>\n",
       "      <td>False</td>\n",
       "      <td>0</td>\n",
       "      <td>1</td>\n",
       "    </tr>\n",
       "    <tr>\n",
       "      <th>4</th>\n",
       "      <td>1</td>\n",
       "      <td>2018-06-11 01:00:33.295</td>\n",
       "      <td>2018-06-11 01:11:03.608</td>\n",
       "      <td>630.313</td>\n",
       "      <td>False</td>\n",
       "      <td>0</td>\n",
       "      <td>1</td>\n",
       "    </tr>\n",
       "    <tr>\n",
       "      <th>5</th>\n",
       "      <td>1</td>\n",
       "      <td>2018-06-11 01:11:03.608</td>\n",
       "      <td>2018-06-11 01:11:05.713</td>\n",
       "      <td>2.105</td>\n",
       "      <td>False</td>\n",
       "      <td>0</td>\n",
       "      <td>1</td>\n",
       "    </tr>\n",
       "    <tr>\n",
       "      <th>6</th>\n",
       "      <td>1</td>\n",
       "      <td>2018-06-11 01:11:05.713</td>\n",
       "      <td>2018-06-11 01:12:09.565</td>\n",
       "      <td>63.852</td>\n",
       "      <td>False</td>\n",
       "      <td>0</td>\n",
       "      <td>1</td>\n",
       "    </tr>\n",
       "    <tr>\n",
       "      <th>7</th>\n",
       "      <td>1</td>\n",
       "      <td>2018-06-11 01:12:09.565</td>\n",
       "      <td>2018-06-11 01:12:28.850</td>\n",
       "      <td>19.285</td>\n",
       "      <td>False</td>\n",
       "      <td>0</td>\n",
       "      <td>1</td>\n",
       "    </tr>\n",
       "    <tr>\n",
       "      <th>8</th>\n",
       "      <td>1</td>\n",
       "      <td>2018-06-11 01:12:28.850</td>\n",
       "      <td>NaT</td>\n",
       "      <td>0.000</td>\n",
       "      <td>True</td>\n",
       "      <td>0</td>\n",
       "      <td>1</td>\n",
       "    </tr>\n",
       "    <tr>\n",
       "      <th>9</th>\n",
       "      <td>2</td>\n",
       "      <td>2018-06-11 23:19:11.439</td>\n",
       "      <td>2018-06-11 02:21:04.848</td>\n",
       "      <td>0.000</td>\n",
       "      <td>True</td>\n",
       "      <td>0</td>\n",
       "      <td>2</td>\n",
       "    </tr>\n",
       "    <tr>\n",
       "      <th>10</th>\n",
       "      <td>2</td>\n",
       "      <td>2018-06-11 02:21:04.848</td>\n",
       "      <td>2018-06-11 02:21:18.719</td>\n",
       "      <td>13.871</td>\n",
       "      <td>False</td>\n",
       "      <td>1</td>\n",
       "      <td>3</td>\n",
       "    </tr>\n",
       "    <tr>\n",
       "      <th>11</th>\n",
       "      <td>2</td>\n",
       "      <td>2018-06-11 02:21:18.719</td>\n",
       "      <td>2018-06-11 02:27:23.809</td>\n",
       "      <td>365.090</td>\n",
       "      <td>False</td>\n",
       "      <td>1</td>\n",
       "      <td>3</td>\n",
       "    </tr>\n",
       "    <tr>\n",
       "      <th>12</th>\n",
       "      <td>2</td>\n",
       "      <td>2018-06-11 02:27:23.809</td>\n",
       "      <td>2018-06-11 02:28:42.663</td>\n",
       "      <td>78.854</td>\n",
       "      <td>False</td>\n",
       "      <td>1</td>\n",
       "      <td>3</td>\n",
       "    </tr>\n",
       "    <tr>\n",
       "      <th>13</th>\n",
       "      <td>2</td>\n",
       "      <td>2018-06-11 02:28:42.663</td>\n",
       "      <td>2018-06-11 02:30:24.883</td>\n",
       "      <td>102.220</td>\n",
       "      <td>False</td>\n",
       "      <td>1</td>\n",
       "      <td>3</td>\n",
       "    </tr>\n",
       "    <tr>\n",
       "      <th>14</th>\n",
       "      <td>2</td>\n",
       "      <td>2018-06-11 02:30:24.883</td>\n",
       "      <td>2018-06-11 02:31:26.044</td>\n",
       "      <td>61.161</td>\n",
       "      <td>False</td>\n",
       "      <td>1</td>\n",
       "      <td>3</td>\n",
       "    </tr>\n",
       "    <tr>\n",
       "      <th>15</th>\n",
       "      <td>2</td>\n",
       "      <td>2018-06-11 02:31:26.044</td>\n",
       "      <td>2018-06-11 02:31:26.867</td>\n",
       "      <td>0.823</td>\n",
       "      <td>False</td>\n",
       "      <td>1</td>\n",
       "      <td>3</td>\n",
       "    </tr>\n",
       "    <tr>\n",
       "      <th>16</th>\n",
       "      <td>2</td>\n",
       "      <td>2018-06-11 02:31:26.867</td>\n",
       "      <td>2018-06-11 02:34:30.616</td>\n",
       "      <td>183.749</td>\n",
       "      <td>False</td>\n",
       "      <td>1</td>\n",
       "      <td>3</td>\n",
       "    </tr>\n",
       "    <tr>\n",
       "      <th>17</th>\n",
       "      <td>2</td>\n",
       "      <td>2018-06-11 02:34:30.616</td>\n",
       "      <td>2018-06-11 02:34:45.644</td>\n",
       "      <td>15.028</td>\n",
       "      <td>False</td>\n",
       "      <td>1</td>\n",
       "      <td>3</td>\n",
       "    </tr>\n",
       "    <tr>\n",
       "      <th>18</th>\n",
       "      <td>2</td>\n",
       "      <td>2018-06-11 02:34:45.644</td>\n",
       "      <td>2018-06-11 02:35:08.966</td>\n",
       "      <td>23.322</td>\n",
       "      <td>False</td>\n",
       "      <td>1</td>\n",
       "      <td>3</td>\n",
       "    </tr>\n",
       "    <tr>\n",
       "      <th>19</th>\n",
       "      <td>2</td>\n",
       "      <td>2018-06-11 02:35:08.966</td>\n",
       "      <td>2018-06-11 02:35:39.187</td>\n",
       "      <td>30.221</td>\n",
       "      <td>False</td>\n",
       "      <td>1</td>\n",
       "      <td>3</td>\n",
       "    </tr>\n",
       "    <tr>\n",
       "      <th>20</th>\n",
       "      <td>2</td>\n",
       "      <td>2018-06-11 02:35:39.187</td>\n",
       "      <td>2018-06-11 02:35:54.009</td>\n",
       "      <td>14.822</td>\n",
       "      <td>False</td>\n",
       "      <td>1</td>\n",
       "      <td>3</td>\n",
       "    </tr>\n",
       "    <tr>\n",
       "      <th>21</th>\n",
       "      <td>2</td>\n",
       "      <td>2018-06-11 02:35:54.009</td>\n",
       "      <td>2018-06-11 02:35:58.590</td>\n",
       "      <td>4.581</td>\n",
       "      <td>False</td>\n",
       "      <td>1</td>\n",
       "      <td>3</td>\n",
       "    </tr>\n",
       "    <tr>\n",
       "      <th>22</th>\n",
       "      <td>2</td>\n",
       "      <td>2018-06-11 02:35:58.590</td>\n",
       "      <td>2018-06-11 16:15:23.793</td>\n",
       "      <td>0.000</td>\n",
       "      <td>True</td>\n",
       "      <td>1</td>\n",
       "      <td>3</td>\n",
       "    </tr>\n",
       "    <tr>\n",
       "      <th>23</th>\n",
       "      <td>2</td>\n",
       "      <td>2018-06-11 16:15:23.793</td>\n",
       "      <td>2018-06-11 16:15:36.161</td>\n",
       "      <td>12.368</td>\n",
       "      <td>False</td>\n",
       "      <td>2</td>\n",
       "      <td>4</td>\n",
       "    </tr>\n",
       "    <tr>\n",
       "      <th>24</th>\n",
       "      <td>2</td>\n",
       "      <td>2018-06-11 16:15:36.161</td>\n",
       "      <td>2018-06-11 16:16:17.091</td>\n",
       "      <td>40.930</td>\n",
       "      <td>False</td>\n",
       "      <td>2</td>\n",
       "      <td>4</td>\n",
       "    </tr>\n",
       "    <tr>\n",
       "      <th>25</th>\n",
       "      <td>2</td>\n",
       "      <td>2018-06-11 16:16:17.091</td>\n",
       "      <td>2018-06-11 16:16:33.411</td>\n",
       "      <td>16.320</td>\n",
       "      <td>False</td>\n",
       "      <td>2</td>\n",
       "      <td>4</td>\n",
       "    </tr>\n",
       "    <tr>\n",
       "      <th>26</th>\n",
       "      <td>2</td>\n",
       "      <td>2018-06-11 16:16:33.411</td>\n",
       "      <td>2018-06-11 22:27:56.017</td>\n",
       "      <td>0.000</td>\n",
       "      <td>True</td>\n",
       "      <td>2</td>\n",
       "      <td>4</td>\n",
       "    </tr>\n",
       "    <tr>\n",
       "      <th>27</th>\n",
       "      <td>2</td>\n",
       "      <td>2018-06-11 22:27:56.017</td>\n",
       "      <td>2018-06-11 22:27:58.920</td>\n",
       "      <td>2.903</td>\n",
       "      <td>False</td>\n",
       "      <td>3</td>\n",
       "      <td>5</td>\n",
       "    </tr>\n",
       "    <tr>\n",
       "      <th>28</th>\n",
       "      <td>2</td>\n",
       "      <td>2018-06-11 22:27:58.920</td>\n",
       "      <td>2018-06-11 22:27:59.632</td>\n",
       "      <td>0.712</td>\n",
       "      <td>False</td>\n",
       "      <td>3</td>\n",
       "      <td>5</td>\n",
       "    </tr>\n",
       "    <tr>\n",
       "      <th>29</th>\n",
       "      <td>2</td>\n",
       "      <td>2018-06-11 22:27:59.632</td>\n",
       "      <td>2018-06-11 22:28:04.500</td>\n",
       "      <td>4.868</td>\n",
       "      <td>False</td>\n",
       "      <td>3</td>\n",
       "      <td>5</td>\n",
       "    </tr>\n",
       "  </tbody>\n",
       "</table>\n",
       "</div>"
      ],
      "text/plain": [
       "    n_user_id               timestamp         timestamp_after  log_duration  \\\n",
       "0           0 2018-06-11 15:57:10.615 2018-06-11 15:59:05.505       114.890   \n",
       "1           0 2018-06-11 15:59:05.505                     NaT         0.000   \n",
       "2           1 2018-06-11 00:55:37.309 2018-06-11 00:55:44.430         7.121   \n",
       "3           1 2018-06-11 00:55:44.430 2018-06-11 01:00:33.295       288.865   \n",
       "4           1 2018-06-11 01:00:33.295 2018-06-11 01:11:03.608       630.313   \n",
       "5           1 2018-06-11 01:11:03.608 2018-06-11 01:11:05.713         2.105   \n",
       "6           1 2018-06-11 01:11:05.713 2018-06-11 01:12:09.565        63.852   \n",
       "7           1 2018-06-11 01:12:09.565 2018-06-11 01:12:28.850        19.285   \n",
       "8           1 2018-06-11 01:12:28.850                     NaT         0.000   \n",
       "9           2 2018-06-11 23:19:11.439 2018-06-11 02:21:04.848         0.000   \n",
       "10          2 2018-06-11 02:21:04.848 2018-06-11 02:21:18.719        13.871   \n",
       "11          2 2018-06-11 02:21:18.719 2018-06-11 02:27:23.809       365.090   \n",
       "12          2 2018-06-11 02:27:23.809 2018-06-11 02:28:42.663        78.854   \n",
       "13          2 2018-06-11 02:28:42.663 2018-06-11 02:30:24.883       102.220   \n",
       "14          2 2018-06-11 02:30:24.883 2018-06-11 02:31:26.044        61.161   \n",
       "15          2 2018-06-11 02:31:26.044 2018-06-11 02:31:26.867         0.823   \n",
       "16          2 2018-06-11 02:31:26.867 2018-06-11 02:34:30.616       183.749   \n",
       "17          2 2018-06-11 02:34:30.616 2018-06-11 02:34:45.644        15.028   \n",
       "18          2 2018-06-11 02:34:45.644 2018-06-11 02:35:08.966        23.322   \n",
       "19          2 2018-06-11 02:35:08.966 2018-06-11 02:35:39.187        30.221   \n",
       "20          2 2018-06-11 02:35:39.187 2018-06-11 02:35:54.009        14.822   \n",
       "21          2 2018-06-11 02:35:54.009 2018-06-11 02:35:58.590         4.581   \n",
       "22          2 2018-06-11 02:35:58.590 2018-06-11 16:15:23.793         0.000   \n",
       "23          2 2018-06-11 16:15:23.793 2018-06-11 16:15:36.161        12.368   \n",
       "24          2 2018-06-11 16:15:36.161 2018-06-11 16:16:17.091        40.930   \n",
       "25          2 2018-06-11 16:16:17.091 2018-06-11 16:16:33.411        16.320   \n",
       "26          2 2018-06-11 16:16:33.411 2018-06-11 22:27:56.017         0.000   \n",
       "27          2 2018-06-11 22:27:56.017 2018-06-11 22:27:58.920         2.903   \n",
       "28          2 2018-06-11 22:27:58.920 2018-06-11 22:27:59.632         0.712   \n",
       "29          2 2018-06-11 22:27:59.632 2018-06-11 22:28:04.500         4.868   \n",
       "\n",
       "    is_out  cycle_idx_daily  cycle_idx_unique  \n",
       "0    False                0                 0  \n",
       "1     True                0                 0  \n",
       "2    False                0                 1  \n",
       "3    False                0                 1  \n",
       "4    False                0                 1  \n",
       "5    False                0                 1  \n",
       "6    False                0                 1  \n",
       "7    False                0                 1  \n",
       "8     True                0                 1  \n",
       "9     True                0                 2  \n",
       "10   False                1                 3  \n",
       "11   False                1                 3  \n",
       "12   False                1                 3  \n",
       "13   False                1                 3  \n",
       "14   False                1                 3  \n",
       "15   False                1                 3  \n",
       "16   False                1                 3  \n",
       "17   False                1                 3  \n",
       "18   False                1                 3  \n",
       "19   False                1                 3  \n",
       "20   False                1                 3  \n",
       "21   False                1                 3  \n",
       "22    True                1                 3  \n",
       "23   False                2                 4  \n",
       "24   False                2                 4  \n",
       "25   False                2                 4  \n",
       "26    True                2                 4  \n",
       "27   False                3                 5  \n",
       "28   False                3                 5  \n",
       "29   False                3                 5  "
      ]
     },
     "execution_count": 674,
     "metadata": {},
     "output_type": "execute_result"
    }
   ],
   "source": [
    "\"\"\"log_order['cycle_idx_daily'] = (log_order.groupby('n_user_id')['is_out']\n",
    "                                           .cumsum()\n",
    "                                           .shift(1)\n",
    "                                           .fillna(0)\n",
    "                                           .astype(int)\n",
    "                                            )\n",
    "\n",
    "# user마다 첫 cycle_idx_daily가 1로 되어있기 때문에 이를 0으로 바꿔줍니다.\n",
    "head_index = log_order.groupby('n_user_id')['cycle_idx_daily'].head(1).index\n",
    "log_order.loc[head_index, 'cycle_idx_daily'] = 0\n",
    "\n",
    "log_order[['n_user_id','timestamp', 'timestamp_after', 'log_duration', 'is_out','cycle_idx_daily','cycle_idx_unique']].head(30)\"\"\""
   ]
  },
  {
   "cell_type": "code",
   "execution_count": null,
   "metadata": {},
   "outputs": [],
   "source": [
    "log_order['is_out-cumsum()'] = log_order.groupby('n_user_id')['is_out'].cumsum()\n",
    "log_order[\"is_out-cumsum()-shift(1)\"] = log_order.groupby('n_user_id')['is_out'].cumsum().shift(1)\n",
    "log_order[\"is_out-cumsum()-shift(1)-fillna(0)\"] = log_order.groupby('n_user_id')['is_out'].cumsum().shift(1).fillna(0)\n",
    "log_order[\"is_out-cumsum()-shift(1)-fillna(0)-astype(int)\"] = log_order.groupby('n_user_id')['is_out'].cumsum().shift(1).fillna(0).astype(int)\n",
    "\n",
    "\n",
    "\n",
    "log_order['session_idx_daily'] = (log_order.groupby('n_user_id')['is_out']                     \n",
    "                                           .cumsum()\n",
    "                                           .shift(1)\n",
    "                                           .fillna(0)\n",
    "                                           .astype(int)                      \n",
    "                                    )\n",
    "\n",
    "# user마다 첫 session_idx_daily가 1로 되어있기 때문에 이를 0으로 바꿔줍니다.\n",
    "head_index = log_order.groupby('n_user_id')['session_idx_daily'].head(1).index\n",
    "log_order.loc[head_index, 'session_idx_daily'] = 0\n",
    "\n",
    "log_order[['n_user_id','timestamp', 'timestamp_after', 'page_duration','is_out','is_out-cumsum()','is_out-cumsum()-shift(1)', 'is_out-cumsum()-shift(1)-fillna(0)','is_out-cumsum()-shift(1)-fillna(0)-astype(int)','session_idx_daily']].head(30)"
   ]
  },
  {
   "cell_type": "code",
   "execution_count": 675,
   "metadata": {},
   "outputs": [
    {
     "data": {
      "text/html": [
       "<div>\n",
       "<style scoped>\n",
       "    .dataframe tbody tr th:only-of-type {\n",
       "        vertical-align: middle;\n",
       "    }\n",
       "\n",
       "    .dataframe tbody tr th {\n",
       "        vertical-align: top;\n",
       "    }\n",
       "\n",
       "    .dataframe thead th {\n",
       "        text-align: right;\n",
       "    }\n",
       "</style>\n",
       "<table border=\"1\" class=\"dataframe\">\n",
       "  <thead>\n",
       "    <tr style=\"text-align: right;\">\n",
       "      <th></th>\n",
       "      <th>n_user_id</th>\n",
       "      <th>cycle_idx_daily</th>\n",
       "      <th>log_count</th>\n",
       "    </tr>\n",
       "  </thead>\n",
       "  <tbody>\n",
       "    <tr>\n",
       "      <th>0</th>\n",
       "      <td>0</td>\n",
       "      <td>0</td>\n",
       "      <td>2</td>\n",
       "    </tr>\n",
       "    <tr>\n",
       "      <th>1</th>\n",
       "      <td>1</td>\n",
       "      <td>0</td>\n",
       "      <td>7</td>\n",
       "    </tr>\n",
       "    <tr>\n",
       "      <th>2</th>\n",
       "      <td>2</td>\n",
       "      <td>0</td>\n",
       "      <td>1</td>\n",
       "    </tr>\n",
       "    <tr>\n",
       "      <th>3</th>\n",
       "      <td>2</td>\n",
       "      <td>1</td>\n",
       "      <td>13</td>\n",
       "    </tr>\n",
       "    <tr>\n",
       "      <th>4</th>\n",
       "      <td>2</td>\n",
       "      <td>2</td>\n",
       "      <td>4</td>\n",
       "    </tr>\n",
       "  </tbody>\n",
       "</table>\n",
       "</div>"
      ],
      "text/plain": [
       "   n_user_id  cycle_idx_daily  log_count\n",
       "0          0                0          2\n",
       "1          1                0          7\n",
       "2          2                0          1\n",
       "3          2                1         13\n",
       "4          2                2          4"
      ]
     },
     "execution_count": 675,
     "metadata": {},
     "output_type": "execute_result"
    }
   ],
   "source": [
    "session_log_count = (log_order\n",
    "                 .groupby(['n_user_id', 'session_idx_daily']) \n",
    "                 .size()  # 그룹별 속한 row 수(log 수)를 반환합니다.\n",
    "                 .reset_index()  # index를 초기하여 groupby object가 아닌 일반적인 data frame형태로 바꿉니다.\n",
    "                 .rename(columns = { 0 : \"log_count\"} )   # 컬럼이름을 log_count로 변경합니다.\n",
    "                )\n",
    "\n",
    "\n",
    "\n",
    "session_log_count.head()"
   ]
  },
  {
   "cell_type": "code",
   "execution_count": 676,
   "metadata": {
    "scrolled": true
   },
   "outputs": [],
   "source": [
    "session_user_log_count = (\n",
    "                        session_log_count\n",
    "                        .groupby('n_user_id')['log_count']\n",
    "                        .mean()\n",
    "                        .reset_index()\n",
    "                        .rename(columns = {'log_count' : 'log_count_mean'})\n",
    "                    )\n",
    "\n",
    "session_user_log_count.head(20)"
   ]
  },
  {
   "cell_type": "markdown",
   "metadata": {},
   "source": [
    "## <b> Top 5 users \n"
   ]
  },
  {
   "cell_type": "code",
   "execution_count": 678,
   "metadata": {},
   "outputs": [
    {
     "data": {
      "text/plain": [
       "n_user_id\n",
       "5847    11\n",
       "6010    11\n",
       "2249    10\n",
       "8063    10\n",
       "4830    10\n",
       "Name: cycle_idx_daily, dtype: int64"
      ]
     },
     "execution_count": 678,
     "metadata": {},
     "output_type": "execute_result"
    }
   ],
   "source": [
    "\"\"\"# Write your code here!\n",
    "cycle_log_count.groupby('n_user_id').nunique().sort_values(by='cycle_idx_daily', ascending=False)['cycle_idx_daily'].head(5)\"\"\""
   ]
  },
  {
   "cell_type": "code",
   "execution_count": null,
   "metadata": {},
   "outputs": [],
   "source": [
    "# 접속별 평균 활동수가 가장 많은 상위 5명의 user를 구합니다.\n",
    "session_user_log_count.sort_values(by = 'log_count_mean').tail()"
   ]
  },
  {
   "cell_type": "code",
   "execution_count": null,
   "metadata": {},
   "outputs": [],
   "source": [
    "(log_order\n",
    " .groupby([\"n_user_id\"])['session_idx_daily']\n",
    " .nunique()\n",
    " .sort_values()\n",
    " .tail()\n",
    ")"
   ]
  },
  {
   "cell_type": "markdown",
   "metadata": {},
   "source": [
    "## <b> Remaining Time"
   ]
  },
  {
   "cell_type": "code",
   "execution_count": 679,
   "metadata": {},
   "outputs": [
    {
     "data": {
      "text/html": [
       "<div>\n",
       "<style scoped>\n",
       "    .dataframe tbody tr th:only-of-type {\n",
       "        vertical-align: middle;\n",
       "    }\n",
       "\n",
       "    .dataframe tbody tr th {\n",
       "        vertical-align: top;\n",
       "    }\n",
       "\n",
       "    .dataframe thead th {\n",
       "        text-align: right;\n",
       "    }\n",
       "</style>\n",
       "<table border=\"1\" class=\"dataframe\">\n",
       "  <thead>\n",
       "    <tr style=\"text-align: right;\">\n",
       "      <th></th>\n",
       "      <th>n_user_id</th>\n",
       "      <th>cycle_idx_daily</th>\n",
       "      <th>remaining_time</th>\n",
       "    </tr>\n",
       "  </thead>\n",
       "  <tbody>\n",
       "    <tr>\n",
       "      <th>0</th>\n",
       "      <td>0</td>\n",
       "      <td>0</td>\n",
       "      <td>114.890</td>\n",
       "    </tr>\n",
       "    <tr>\n",
       "      <th>1</th>\n",
       "      <td>1</td>\n",
       "      <td>0</td>\n",
       "      <td>1011.541</td>\n",
       "    </tr>\n",
       "    <tr>\n",
       "      <th>2</th>\n",
       "      <td>2</td>\n",
       "      <td>0</td>\n",
       "      <td>0.000</td>\n",
       "    </tr>\n",
       "    <tr>\n",
       "      <th>3</th>\n",
       "      <td>2</td>\n",
       "      <td>1</td>\n",
       "      <td>893.742</td>\n",
       "    </tr>\n",
       "    <tr>\n",
       "      <th>4</th>\n",
       "      <td>2</td>\n",
       "      <td>2</td>\n",
       "      <td>69.618</td>\n",
       "    </tr>\n",
       "    <tr>\n",
       "      <th>5</th>\n",
       "      <td>2</td>\n",
       "      <td>3</td>\n",
       "      <td>2899.193</td>\n",
       "    </tr>\n",
       "    <tr>\n",
       "      <th>6</th>\n",
       "      <td>3</td>\n",
       "      <td>0</td>\n",
       "      <td>0.000</td>\n",
       "    </tr>\n",
       "    <tr>\n",
       "      <th>7</th>\n",
       "      <td>3</td>\n",
       "      <td>1</td>\n",
       "      <td>45.911</td>\n",
       "    </tr>\n",
       "    <tr>\n",
       "      <th>8</th>\n",
       "      <td>3</td>\n",
       "      <td>2</td>\n",
       "      <td>85.183</td>\n",
       "    </tr>\n",
       "    <tr>\n",
       "      <th>9</th>\n",
       "      <td>3</td>\n",
       "      <td>3</td>\n",
       "      <td>1711.031</td>\n",
       "    </tr>\n",
       "  </tbody>\n",
       "</table>\n",
       "</div>"
      ],
      "text/plain": [
       "   n_user_id  cycle_idx_daily  remaining_time\n",
       "0          0                0         114.890\n",
       "1          1                0        1011.541\n",
       "2          2                0           0.000\n",
       "3          2                1         893.742\n",
       "4          2                2          69.618\n",
       "5          2                3        2899.193\n",
       "6          3                0           0.000\n",
       "7          3                1          45.911\n",
       "8          3                2          85.183\n",
       "9          3                3        1711.031"
      ]
     },
     "execution_count": 679,
     "metadata": {},
     "output_type": "execute_result"
    }
   ],
   "source": [
    "duration_session = (log_order\n",
    "                        .groupby(['n_user_id', 'session_idx_daily'])['page_duration']\n",
    "                         .sum()\n",
    "                         .reset_index()\n",
    "                         .rename(columns = {'page_duration' : 'duration'}))\n",
    "\n",
    "duration_session.head(10)\n"
   ]
  },
  {
   "cell_type": "code",
   "execution_count": 680,
   "metadata": {},
   "outputs": [
    {
     "name": "stdout",
     "output_type": "stream",
     "text": [
      "n_user_id\n",
      "0     114.89000\n",
      "1    1011.54100\n",
      "2     965.63825\n",
      "3     460.53125\n",
      "4      49.13000\n",
      "5       0.00000\n",
      "6    1791.53200\n",
      "7    2580.25800\n",
      "8     703.07000\n",
      "9     828.69650\n",
      "dtype: float64\n"
     ]
    }
   ],
   "source": [
    "# Write your code here!\n",
    "\"\"\"user_remaining_time_cycle = (remaining_time_cycle.groupby(['n_user_id'])['remaining_time']\n",
    "                         .mean()\n",
    "                         .rename(columns = {'remaining_time': 'duration'})\n",
    "                       )\n",
    "\n",
    "print(user_remaining_time_cycle.head(10))\"\"\"\n",
    "\n",
    "duration_user = duration_session.groupby(\"n_user_id\")['duration'].mean()\n",
    "\n",
    "duration_user.to_frame().head()"
   ]
  },
  {
   "cell_type": "code",
   "execution_count": 682,
   "metadata": {},
   "outputs": [],
   "source": [
    "# cycle_purchase = log_order.loc[log_order['purchase'] == True, \"cycle_idx_unique\"]\n",
    "\n",
    "session_purchase = log_order.loc[log_order['purchase']==True, 'session_idx_unique'].unique()\n",
    "\n",
    "session_purchase"
   ]
  },
  {
   "cell_type": "code",
   "execution_count": 684,
   "metadata": {},
   "outputs": [],
   "source": [
    "# Write your code here!\n",
    "\"\"\"data_purchase = log_order.loc[log_order['cycle_idx_unique'].isin(cycle_purchase)]\n",
    "data_npurchase = log_order.loc[~log_order['cycle_idx_unique'].isin(cycle_purchase)]\"\"\"\n",
    "data_purchase = log_order.loc[log_order['session_idx_unique'].isin(session_purchase)]\n",
    "data_npurchase = log_order.loc[~log_order['session_idx_unique'].isin(session_purchase)]"
   ]
  },
  {
   "cell_type": "markdown",
   "metadata": {},
   "source": [
    "---"
   ]
  },
  {
   "cell_type": "code",
   "execution_count": 685,
   "metadata": {},
   "outputs": [
    {
     "data": {
      "text/html": [
       "<div>\n",
       "<style scoped>\n",
       "    .dataframe tbody tr th:only-of-type {\n",
       "        vertical-align: middle;\n",
       "    }\n",
       "\n",
       "    .dataframe tbody tr th {\n",
       "        vertical-align: top;\n",
       "    }\n",
       "\n",
       "    .dataframe thead th {\n",
       "        text-align: right;\n",
       "    }\n",
       "</style>\n",
       "<table border=\"1\" class=\"dataframe\">\n",
       "  <thead>\n",
       "    <tr style=\"text-align: right;\">\n",
       "      <th></th>\n",
       "      <th>n_user_id</th>\n",
       "      <th>cycle_idx_unique</th>\n",
       "      <th>cycle_duration</th>\n",
       "    </tr>\n",
       "  </thead>\n",
       "  <tbody>\n",
       "    <tr>\n",
       "      <th>0</th>\n",
       "      <td>2</td>\n",
       "      <td>2</td>\n",
       "      <td>0.0</td>\n",
       "    </tr>\n",
       "    <tr>\n",
       "      <th>1</th>\n",
       "      <td>8</td>\n",
       "      <td>15</td>\n",
       "      <td>0.0</td>\n",
       "    </tr>\n",
       "    <tr>\n",
       "      <th>2</th>\n",
       "      <td>8</td>\n",
       "      <td>16</td>\n",
       "      <td>0.0</td>\n",
       "    </tr>\n",
       "    <tr>\n",
       "      <th>3</th>\n",
       "      <td>9</td>\n",
       "      <td>22</td>\n",
       "      <td>0.0</td>\n",
       "    </tr>\n",
       "    <tr>\n",
       "      <th>4</th>\n",
       "      <td>47</td>\n",
       "      <td>88</td>\n",
       "      <td>0.0</td>\n",
       "    </tr>\n",
       "  </tbody>\n",
       "</table>\n",
       "</div>"
      ],
      "text/plain": [
       "   n_user_id  cycle_idx_unique  cycle_duration\n",
       "0          2                 2             0.0\n",
       "1          8                15             0.0\n",
       "2          8                16             0.0\n",
       "3          9                22             0.0\n",
       "4         47                88             0.0"
      ]
     },
     "execution_count": 685,
     "metadata": {},
     "output_type": "execute_result"
    }
   ],
   "source": [
    "# Write your code here!\n",
    "purchase_session_duration = (\n",
    "                    data_purchase\n",
    "                    .groupby(['n_user_id', 'session_idx_unique'])['page_duration']\n",
    "                    .sum()\n",
    "                    .reset_index()\n",
    "                    .rename(columns = {\"page_duration\" : 'session_duration'})\n",
    "                )\n",
    "\n",
    "purchase_session_duration.head(10)"
   ]
  },
  {
   "cell_type": "code",
   "execution_count": 686,
   "metadata": {},
   "outputs": [
    {
     "data": {
      "text/html": [
       "<div>\n",
       "<style scoped>\n",
       "    .dataframe tbody tr th:only-of-type {\n",
       "        vertical-align: middle;\n",
       "    }\n",
       "\n",
       "    .dataframe tbody tr th {\n",
       "        vertical-align: top;\n",
       "    }\n",
       "\n",
       "    .dataframe thead th {\n",
       "        text-align: right;\n",
       "    }\n",
       "</style>\n",
       "<table border=\"1\" class=\"dataframe\">\n",
       "  <thead>\n",
       "    <tr style=\"text-align: right;\">\n",
       "      <th></th>\n",
       "      <th>n_user_id</th>\n",
       "      <th>cycle_idx_unique</th>\n",
       "      <th>cycle_duration</th>\n",
       "    </tr>\n",
       "  </thead>\n",
       "  <tbody>\n",
       "    <tr>\n",
       "      <th>0</th>\n",
       "      <td>0</td>\n",
       "      <td>0</td>\n",
       "      <td>57.445000</td>\n",
       "    </tr>\n",
       "    <tr>\n",
       "      <th>1</th>\n",
       "      <td>1</td>\n",
       "      <td>1</td>\n",
       "      <td>144.505857</td>\n",
       "    </tr>\n",
       "    <tr>\n",
       "      <th>2</th>\n",
       "      <td>2</td>\n",
       "      <td>3</td>\n",
       "      <td>68.749385</td>\n",
       "    </tr>\n",
       "    <tr>\n",
       "      <th>3</th>\n",
       "      <td>2</td>\n",
       "      <td>4</td>\n",
       "      <td>17.404500</td>\n",
       "    </tr>\n",
       "    <tr>\n",
       "      <th>4</th>\n",
       "      <td>2</td>\n",
       "      <td>5</td>\n",
       "      <td>96.639767</td>\n",
       "    </tr>\n",
       "  </tbody>\n",
       "</table>\n",
       "</div>"
      ],
      "text/plain": [
       "   n_user_id  cycle_idx_unique  cycle_duration\n",
       "0          0                 0       57.445000\n",
       "1          1                 1      144.505857\n",
       "2          2                 3       68.749385\n",
       "3          2                 4       17.404500\n",
       "4          2                 5       96.639767"
      ]
     },
     "execution_count": 686,
     "metadata": {},
     "output_type": "execute_result"
    }
   ],
   "source": [
    "# Write your code here!\n",
    "npurchase_session_duration = (\n",
    "                    data_npurchase\n",
    "                    .groupby(['n_user_id', 'session_idx_unique'])['page_duration']\n",
    "                    .sum()\n",
    "                    .reset_index()\n",
    "                    .rename(columns = {\"page_duration\" : 'session_duration'})\n",
    "                )\n",
    "\n",
    "npurchase_session_duration.head(10)"
   ]
  },
  {
   "cell_type": "code",
   "execution_count": 691,
   "metadata": {
    "scrolled": true
   },
   "outputs": [
    {
     "data": {
      "text/plain": [
       "<matplotlib.axes._subplots.AxesSubplot at 0x1a4c6e2198>"
      ]
     },
     "execution_count": 691,
     "metadata": {},
     "output_type": "execute_result"
    },
    {
     "data": {
      "image/png": "[encoded data removed]",
      "text/plain": [
       "<Figure size 1296x216 with 2 Axes>"
      ]
     },
     "metadata": {
      "image/png": {
       "height": 209,
       "width": 1022
      }
     },
     "output_type": "display_data"
    }
   ],
   "source": [
    "# Write your code here!\n",
    "figure, (ax1, ax2) = plt.subplots(nrows=2, ncols=1)\n",
    "figure.set_size_inches(18,3)\n",
    "\n",
    "sns.boxplot(data = npurchase_session_duration, x = \"session_duration\", ax = ax1)\n",
    "sns.boxplot(data = purchase_session_duration, x = \"session_duration\", ax = ax2)"
   ]
  },
  {
   "cell_type": "code",
   "execution_count": null,
   "metadata": {},
   "outputs": [],
   "source": [
    "\n",
    "purchase_session_mean = purchase_session_duration['session_duration'].mean()\n",
    "npurchase_session_mean = npurchase_session_duration['session_duration'].mean()\n",
    "print(\"구매 session 잔존 시간 평균:\",purchase_session_mean)\n",
    "print(\"비구매 session 잔존 시간 평균:\",npurchase_session_mean)\n"
   ]
  },
  {
   "cell_type": "code",
   "execution_count": null,
   "metadata": {},
   "outputs": [],
   "source": []
  }
 ],
 "metadata": {
  "kernelspec": {
   "display_name": "Python 3",
   "language": "python",
   "name": "python3"
  },
  "language_info": {
   "codemirror_mode": {
    "name": "ipython",
    "version": 3
   },
   "file_extension": ".py",
   "mimetype": "text/x-python",
   "name": "python",
   "nbconvert_exporter": "python",
   "pygments_lexer": "ipython3",
   "version": "3.7.3"
  }
 },
 "nbformat": 4,
 "nbformat_minor": 2
}
