{
 "cells": [
  {
   "cell_type": "code",
   "execution_count": 1,
   "metadata": {},
   "outputs": [],
   "source": [
    "import pandas as pd\n",
    "import warnings\n",
    "warnings.filterwarnings('ignore')"
   ]
  },
  {
   "cell_type": "code",
   "execution_count": 2,
   "metadata": {},
   "outputs": [
    {
     "data": {
      "text/plain": [
       "<firebase_admin.App at 0x12284db00>"
      ]
     },
     "execution_count": 2,
     "metadata": {},
     "output_type": "execute_result"
    }
   ],
   "source": [
    "import firebase_admin\n",
    "from firebase_admin import credentials\n",
    "\n",
    "cred = credentials.Certificate(\"key/bluebookkey.json\")\n",
    "firebase_admin.initialize_app(cred, {\n",
    "    'databaseURL': \"https://bluebookai2020.firebaseio.com\"\n",
    "})\n"
   ]
  },
  {
   "cell_type": "code",
   "execution_count": 3,
   "metadata": {},
   "outputs": [],
   "source": [
    "from firebase_admin import db"
   ]
  },
  {
   "cell_type": "code",
   "execution_count": 4,
   "metadata": {},
   "outputs": [
    {
     "data": {
      "text/html": [
       "<div>\n",
       "<style scoped>\n",
       "    .dataframe tbody tr th:only-of-type {\n",
       "        vertical-align: middle;\n",
       "    }\n",
       "\n",
       "    .dataframe tbody tr th {\n",
       "        vertical-align: top;\n",
       "    }\n",
       "\n",
       "    .dataframe thead th {\n",
       "        text-align: right;\n",
       "    }\n",
       "</style>\n",
       "<table border=\"1\" class=\"dataframe\">\n",
       "  <thead>\n",
       "    <tr style=\"text-align: right;\">\n",
       "      <th></th>\n",
       "      <th>1_01</th>\n",
       "      <th>1_02</th>\n",
       "      <th>1_03</th>\n",
       "      <th>1_04</th>\n",
       "      <th>1_05</th>\n",
       "      <th>1_06</th>\n",
       "      <th>1_07</th>\n",
       "      <th>1_08</th>\n",
       "      <th>1_09</th>\n",
       "      <th>1_10</th>\n",
       "      <th>...</th>\n",
       "      <th>4_34</th>\n",
       "      <th>4_35</th>\n",
       "      <th>4_36</th>\n",
       "      <th>4_37</th>\n",
       "      <th>4_38</th>\n",
       "      <th>first</th>\n",
       "      <th>last</th>\n",
       "      <th>testDate</th>\n",
       "      <th>test_num</th>\n",
       "      <th>userID</th>\n",
       "    </tr>\n",
       "  </thead>\n",
       "  <tbody>\n",
       "    <tr>\n",
       "      <th>0</th>\n",
       "      <td>C</td>\n",
       "      <td>B</td>\n",
       "      <td>D</td>\n",
       "      <td>A</td>\n",
       "      <td>C</td>\n",
       "      <td>D</td>\n",
       "      <td>D</td>\n",
       "      <td>A</td>\n",
       "      <td>A</td>\n",
       "      <td>D</td>\n",
       "      <td>...</td>\n",
       "      <td>3</td>\n",
       "      <td>4</td>\n",
       "      <td>2.6</td>\n",
       "      <td>3.</td>\n",
       "      <td>8</td>\n",
       "      <td>Test</td>\n",
       "      <td>Level</td>\n",
       "      <td>07/26/2019</td>\n",
       "      <td>R1</td>\n",
       "      <td>9999</td>\n",
       "    </tr>\n",
       "  </tbody>\n",
       "</table>\n",
       "<p>1 rows × 159 columns</p>\n",
       "</div>"
      ],
      "text/plain": [
       "  1_01 1_02 1_03 1_04 1_05 1_06 1_07 1_08 1_09 1_10  ... 4_34 4_35 4_36 4_37  \\\n",
       "0    C    B    D    A    C    D    D    A    A    D  ...    3    4  2.6   3.   \n",
       "\n",
       "  4_38 first   last    testDate test_num userID  \n",
       "0    8  Test  Level  07/26/2019       R1   9999  \n",
       "\n",
       "[1 rows x 159 columns]"
      ]
     },
     "execution_count": 4,
     "metadata": {},
     "output_type": "execute_result"
    }
   ],
   "source": [
    "# retrive dataset from firebase\n",
    "ref = db.reference(\"sat/raw/\")\n",
    "df_sat = ref.get()\n",
    "df_sat=pd.DataFrame(df_sat).T.reset_index(drop=\"index\")\n",
    "df_sat.head(1)"
   ]
  },
  {
   "cell_type": "code",
   "execution_count": 5,
   "metadata": {},
   "outputs": [
    {
     "data": {
      "text/html": [
       "<div>\n",
       "<style scoped>\n",
       "    .dataframe tbody tr th:only-of-type {\n",
       "        vertical-align: middle;\n",
       "    }\n",
       "\n",
       "    .dataframe tbody tr th {\n",
       "        vertical-align: top;\n",
       "    }\n",
       "\n",
       "    .dataframe thead th {\n",
       "        text-align: right;\n",
       "    }\n",
       "</style>\n",
       "<table border=\"1\" class=\"dataframe\">\n",
       "  <thead>\n",
       "    <tr style=\"text-align: right;\">\n",
       "      <th></th>\n",
       "      <th>1_01</th>\n",
       "      <th>1_02</th>\n",
       "      <th>1_03</th>\n",
       "      <th>1_04</th>\n",
       "      <th>1_05</th>\n",
       "      <th>1_06</th>\n",
       "      <th>1_07</th>\n",
       "      <th>1_08</th>\n",
       "      <th>1_09</th>\n",
       "      <th>1_10</th>\n",
       "      <th>...</th>\n",
       "      <th>4_30</th>\n",
       "      <th>4_31</th>\n",
       "      <th>4_32</th>\n",
       "      <th>4_33</th>\n",
       "      <th>4_34</th>\n",
       "      <th>4_35</th>\n",
       "      <th>4_36</th>\n",
       "      <th>4_37</th>\n",
       "      <th>4_38</th>\n",
       "      <th>test_num</th>\n",
       "    </tr>\n",
       "  </thead>\n",
       "  <tbody>\n",
       "    <tr>\n",
       "      <th>0</th>\n",
       "      <td>A</td>\n",
       "      <td>C</td>\n",
       "      <td>A</td>\n",
       "      <td>D</td>\n",
       "      <td>D</td>\n",
       "      <td>B</td>\n",
       "      <td>A</td>\n",
       "      <td>C</td>\n",
       "      <td>A</td>\n",
       "      <td>A</td>\n",
       "      <td>...</td>\n",
       "      <td>C</td>\n",
       "      <td>0.8</td>\n",
       "      <td>8</td>\n",
       "      <td>0.96</td>\n",
       "      <td>4.3;4.4;4.46;4.5;4.6;4.7</td>\n",
       "      <td>0.84</td>\n",
       "      <td>12</td>\n",
       "      <td>371</td>\n",
       "      <td>25.0</td>\n",
       "      <td>1</td>\n",
       "    </tr>\n",
       "  </tbody>\n",
       "</table>\n",
       "<p>1 rows × 155 columns</p>\n",
       "</div>"
      ],
      "text/plain": [
       "  1_01 1_02 1_03 1_04 1_05 1_06 1_07 1_08 1_09 1_10  ... 4_30 4_31 4_32  4_33  \\\n",
       "0    A    C    A    D    D    B    A    C    A    A  ...    C  0.8    8  0.96   \n",
       "\n",
       "                       4_34  4_35 4_36 4_37  4_38 test_num  \n",
       "0  4.3;4.4;4.46;4.5;4.6;4.7  0.84   12  371  25.0        1  \n",
       "\n",
       "[1 rows x 155 columns]"
      ]
     },
     "execution_count": 5,
     "metadata": {},
     "output_type": "execute_result"
    }
   ],
   "source": [
    "ref = db.reference(\"sat/raw_ans/\")\n",
    "df_sat_ans = ref.get()\n",
    "df_sat_ans=pd.DataFrame(df_sat_ans).T.reset_index(drop=\"index\")\n",
    "df_sat_ans.head(1)"
   ]
  },
  {
   "cell_type": "code",
   "execution_count": 6,
   "metadata": {},
   "outputs": [
    {
     "data": {
      "text/html": [
       "<div>\n",
       "<style scoped>\n",
       "    .dataframe tbody tr th:only-of-type {\n",
       "        vertical-align: middle;\n",
       "    }\n",
       "\n",
       "    .dataframe tbody tr th {\n",
       "        vertical-align: top;\n",
       "    }\n",
       "\n",
       "    .dataframe thead th {\n",
       "        text-align: right;\n",
       "    }\n",
       "</style>\n",
       "<table border=\"1\" class=\"dataframe\">\n",
       "  <thead>\n",
       "    <tr style=\"text-align: right;\">\n",
       "      <th></th>\n",
       "      <th>Math</th>\n",
       "      <th>Reading_Writing</th>\n",
       "      <th>first</th>\n",
       "      <th>last</th>\n",
       "      <th>testDate</th>\n",
       "      <th>test_num</th>\n",
       "      <th>total</th>\n",
       "      <th>userID</th>\n",
       "    </tr>\n",
       "  </thead>\n",
       "  <tbody>\n",
       "    <tr>\n",
       "      <th>0</th>\n",
       "      <td>570.0</td>\n",
       "      <td>590</td>\n",
       "      <td>Shelly</td>\n",
       "      <td>Yi</td>\n",
       "      <td>4/2/18</td>\n",
       "      <td>2</td>\n",
       "      <td>1160</td>\n",
       "      <td>104</td>\n",
       "    </tr>\n",
       "  </tbody>\n",
       "</table>\n",
       "</div>"
      ],
      "text/plain": [
       "    Math Reading_Writing    first last testDate test_num total userID\n",
       "0  570.0             590  Shelly   Yi    4/2/18        2  1160    104"
      ]
     },
     "execution_count": 6,
     "metadata": {},
     "output_type": "execute_result"
    }
   ],
   "source": [
    "ref = db.reference(\"sat/raw_total_score/\")\n",
    "df_sat_score = ref.get()\n",
    "df_sat_score=pd.DataFrame(df_sat_score).T.reset_index(drop=\"index\")\n",
    "df_sat_score.head(1)"
   ]
  },
  {
   "cell_type": "code",
   "execution_count": 7,
   "metadata": {},
   "outputs": [],
   "source": [
    "## making merge dataset\n",
    "sat_score_col=['test_num',\"testDate\", \"userID\", \"total\"]\n",
    "df_sat_score=df_sat_score[sat_score_col]\n",
    "\n",
    "df_sat_score[\"testDate\"]=pd.to_datetime(df_sat_score[\"testDate\"])\n",
    "df_sat[\"testDate\"]=pd.to_datetime(df_sat[\"testDate\"])"
   ]
  },
  {
   "cell_type": "code",
   "execution_count": 8,
   "metadata": {},
   "outputs": [
    {
     "name": "stdout",
     "output_type": "stream",
     "text": [
      "(1144, 4) (853, 159)\n",
      "(705, 160)\n"
     ]
    }
   ],
   "source": [
    "print(df_sat_score.shape, df_sat.shape)\n",
    "df_merge=pd.merge(df_sat_score, df_sat, on=['userID',\"testDate\",\"test_num\"])\n",
    "df_merge=df_merge[~(df_merge.duplicated([\"userID\",\"testDate\",\"test_num\"], keep='first'))]\n",
    "print(df_merge.shape)"
   ]
  },
  {
   "cell_type": "code",
   "execution_count": 9,
   "metadata": {},
   "outputs": [
    {
     "data": {
      "text/plain": [
       "624"
      ]
     },
     "execution_count": 9,
     "metadata": {},
     "output_type": "execute_result"
    }
   ],
   "source": [
    "## nan count !! consider rows only 5 not answered \n",
    "row_index=[]\n",
    "for row in range(df_sat.shape[0]):\n",
    "    tmp=df_sat.iloc[row,:]\n",
    "    if tmp.str.contains(\"nan\").value_counts()[0] > 154:\n",
    "        row_index.append(row)\n",
    "len(row_index)"
   ]
  },
  {
   "cell_type": "code",
   "execution_count": 10,
   "metadata": {},
   "outputs": [],
   "source": [
    "# new df_sat_not_null\n",
    "df_sat_not_null=df_sat.iloc[row_index]"
   ]
  },
  {
   "cell_type": "code",
   "execution_count": 11,
   "metadata": {},
   "outputs": [],
   "source": [
    "def ready_for_grade(df_sat, df_sat_ans, test_num):\n",
    "    test_num = str(test_num)\n",
    "    num_index=df_sat_ans.loc[df_sat_ans[\"test_num\"]==f'{test_num}'].index[0]\n",
    "    ans=df_sat_ans.iloc[num_index]\n",
    "    \n",
    "    # create questions by test_num\n",
    "    df_sat_ans.iloc[:,-4:]\n",
    "    userID=df_sat.loc[df_sat['test_num'] == f\"{test_num}\", \"userID\"]\n",
    "    testDate=df_sat.loc[df_sat['test_num'] == f\"{test_num}\", \"testDate\"]\n",
    "    tmp=df_sat.loc[df_sat['test_num'] == f\"{test_num}\"]\n",
    "    data=tmp.iloc[:,:-5]\n",
    "    \n",
    "    \n",
    "    \n",
    "    return data, ans, userID, testDate"
   ]
  },
  {
   "cell_type": "code",
   "execution_count": 12,
   "metadata": {},
   "outputs": [],
   "source": [
    "testNum = \"9\"\n",
    "data, data_ans, userID, testDate=ready_for_grade(df_sat_not_null, df_sat_ans, testNum)"
   ]
  },
  {
   "cell_type": "code",
   "execution_count": 13,
   "metadata": {},
   "outputs": [],
   "source": [
    "## final version\n",
    "\n",
    "def grader_boolean(data, data_ans, userID, testDate):\n",
    "    ans=data_ans\n",
    "   # data=data\n",
    "    #data.columns = userID\n",
    "    \n",
    "    for row in range(data.shape[0]):\n",
    "        for col in range(len(data.columns)):\n",
    "            tmp=pd.Series(ans[col]).str.contains(data.iloc[row,col])[0]\n",
    "            if tmp:\n",
    "                data.iloc[row,col]=True\n",
    "            else:\n",
    "                data.iloc[row,col]=False\n",
    "                \n",
    "    data[\"userID\"] = userID\n",
    "    data['testDate'] = testDate\n",
    "    \n",
    "    return data"
   ]
  },
  {
   "cell_type": "code",
   "execution_count": 14,
   "metadata": {},
   "outputs": [],
   "source": [
    "df_graded = grader_boolean(data, data_ans, userID, testDate)"
   ]
  },
  {
   "cell_type": "code",
   "execution_count": 15,
   "metadata": {},
   "outputs": [
    {
     "data": {
      "text/html": [
       "<div>\n",
       "<style scoped>\n",
       "    .dataframe tbody tr th:only-of-type {\n",
       "        vertical-align: middle;\n",
       "    }\n",
       "\n",
       "    .dataframe tbody tr th {\n",
       "        vertical-align: top;\n",
       "    }\n",
       "\n",
       "    .dataframe thead th {\n",
       "        text-align: right;\n",
       "    }\n",
       "</style>\n",
       "<table border=\"1\" class=\"dataframe\">\n",
       "  <thead>\n",
       "    <tr style=\"text-align: right;\">\n",
       "      <th></th>\n",
       "      <th>1_01</th>\n",
       "      <th>1_02</th>\n",
       "      <th>1_03</th>\n",
       "      <th>1_04</th>\n",
       "      <th>1_05</th>\n",
       "      <th>1_06</th>\n",
       "      <th>1_07</th>\n",
       "      <th>1_08</th>\n",
       "      <th>1_09</th>\n",
       "      <th>1_10</th>\n",
       "      <th>...</th>\n",
       "      <th>4_31</th>\n",
       "      <th>4_32</th>\n",
       "      <th>4_33</th>\n",
       "      <th>4_34</th>\n",
       "      <th>4_35</th>\n",
       "      <th>4_36</th>\n",
       "      <th>4_37</th>\n",
       "      <th>4_38</th>\n",
       "      <th>userID</th>\n",
       "      <th>testDate</th>\n",
       "    </tr>\n",
       "  </thead>\n",
       "  <tbody>\n",
       "    <tr>\n",
       "      <th>706</th>\n",
       "      <td>False</td>\n",
       "      <td>True</td>\n",
       "      <td>False</td>\n",
       "      <td>True</td>\n",
       "      <td>False</td>\n",
       "      <td>False</td>\n",
       "      <td>True</td>\n",
       "      <td>True</td>\n",
       "      <td>False</td>\n",
       "      <td>True</td>\n",
       "      <td>...</td>\n",
       "      <td>True</td>\n",
       "      <td>False</td>\n",
       "      <td>False</td>\n",
       "      <td>True</td>\n",
       "      <td>False</td>\n",
       "      <td>False</td>\n",
       "      <td>False</td>\n",
       "      <td>False</td>\n",
       "      <td>269</td>\n",
       "      <td>2016-11-09</td>\n",
       "    </tr>\n",
       "    <tr>\n",
       "      <th>707</th>\n",
       "      <td>True</td>\n",
       "      <td>False</td>\n",
       "      <td>False</td>\n",
       "      <td>True</td>\n",
       "      <td>False</td>\n",
       "      <td>True</td>\n",
       "      <td>True</td>\n",
       "      <td>True</td>\n",
       "      <td>True</td>\n",
       "      <td>True</td>\n",
       "      <td>...</td>\n",
       "      <td>True</td>\n",
       "      <td>False</td>\n",
       "      <td>False</td>\n",
       "      <td>False</td>\n",
       "      <td>False</td>\n",
       "      <td>True</td>\n",
       "      <td>False</td>\n",
       "      <td>False</td>\n",
       "      <td>23</td>\n",
       "      <td>2017-03-20</td>\n",
       "    </tr>\n",
       "    <tr>\n",
       "      <th>709</th>\n",
       "      <td>True</td>\n",
       "      <td>False</td>\n",
       "      <td>False</td>\n",
       "      <td>True</td>\n",
       "      <td>False</td>\n",
       "      <td>False</td>\n",
       "      <td>True</td>\n",
       "      <td>True</td>\n",
       "      <td>False</td>\n",
       "      <td>True</td>\n",
       "      <td>...</td>\n",
       "      <td>True</td>\n",
       "      <td>False</td>\n",
       "      <td>False</td>\n",
       "      <td>True</td>\n",
       "      <td>True</td>\n",
       "      <td>False</td>\n",
       "      <td>False</td>\n",
       "      <td>False</td>\n",
       "      <td>9001</td>\n",
       "      <td>2017-03-25</td>\n",
       "    </tr>\n",
       "    <tr>\n",
       "      <th>710</th>\n",
       "      <td>False</td>\n",
       "      <td>True</td>\n",
       "      <td>False</td>\n",
       "      <td>True</td>\n",
       "      <td>True</td>\n",
       "      <td>True</td>\n",
       "      <td>True</td>\n",
       "      <td>True</td>\n",
       "      <td>False</td>\n",
       "      <td>True</td>\n",
       "      <td>...</td>\n",
       "      <td>True</td>\n",
       "      <td>False</td>\n",
       "      <td>True</td>\n",
       "      <td>True</td>\n",
       "      <td>False</td>\n",
       "      <td>False</td>\n",
       "      <td>False</td>\n",
       "      <td>False</td>\n",
       "      <td>9968</td>\n",
       "      <td>2017-04-10</td>\n",
       "    </tr>\n",
       "    <tr>\n",
       "      <th>711</th>\n",
       "      <td>True</td>\n",
       "      <td>False</td>\n",
       "      <td>True</td>\n",
       "      <td>False</td>\n",
       "      <td>True</td>\n",
       "      <td>True</td>\n",
       "      <td>True</td>\n",
       "      <td>False</td>\n",
       "      <td>False</td>\n",
       "      <td>False</td>\n",
       "      <td>...</td>\n",
       "      <td>False</td>\n",
       "      <td>False</td>\n",
       "      <td>True</td>\n",
       "      <td>False</td>\n",
       "      <td>False</td>\n",
       "      <td>False</td>\n",
       "      <td>False</td>\n",
       "      <td>False</td>\n",
       "      <td>9798</td>\n",
       "      <td>2017-05-20</td>\n",
       "    </tr>\n",
       "  </tbody>\n",
       "</table>\n",
       "<p>5 rows × 156 columns</p>\n",
       "</div>"
      ],
      "text/plain": [
       "      1_01   1_02   1_03   1_04   1_05   1_06  1_07   1_08   1_09   1_10  ...  \\\n",
       "706  False   True  False   True  False  False  True   True  False   True  ...   \n",
       "707   True  False  False   True  False   True  True   True   True   True  ...   \n",
       "709   True  False  False   True  False  False  True   True  False   True  ...   \n",
       "710  False   True  False   True   True   True  True   True  False   True  ...   \n",
       "711   True  False   True  False   True   True  True  False  False  False  ...   \n",
       "\n",
       "      4_31   4_32   4_33   4_34   4_35   4_36   4_37   4_38  userID   testDate  \n",
       "706   True  False  False   True  False  False  False  False     269 2016-11-09  \n",
       "707   True  False  False  False  False   True  False  False      23 2017-03-20  \n",
       "709   True  False  False   True   True  False  False  False    9001 2017-03-25  \n",
       "710   True  False   True   True  False  False  False  False    9968 2017-04-10  \n",
       "711  False  False   True  False  False  False  False  False    9798 2017-05-20  \n",
       "\n",
       "[5 rows x 156 columns]"
      ]
     },
     "execution_count": 15,
     "metadata": {},
     "output_type": "execute_result"
    }
   ],
   "source": [
    "df_graded.head()"
   ]
  },
  {
   "cell_type": "code",
   "execution_count": 16,
   "metadata": {},
   "outputs": [],
   "source": [
    "sat_col=['test_num','testDate', 'userID','total']\n",
    "test_score=df_sat_score.loc[df_sat_score[\"test_num\"] ==f\"{testNum}\",sat_col]\n",
    "\n",
    "test_graded = df_graded\n",
    "\n"
   ]
  },
  {
   "cell_type": "code",
   "execution_count": 17,
   "metadata": {},
   "outputs": [],
   "source": [
    "test_score[\"testDate\"]=pd.to_datetime(test_score[\"testDate\"])\n",
    "test_graded[\"testDate\"]=pd.to_datetime(test_graded[\"testDate\"])\n"
   ]
  },
  {
   "cell_type": "code",
   "execution_count": 18,
   "metadata": {},
   "outputs": [
    {
     "name": "stdout",
     "output_type": "stream",
     "text": [
      "(60, 4)\n"
     ]
    },
    {
     "data": {
      "text/html": [
       "<div>\n",
       "<style scoped>\n",
       "    .dataframe tbody tr th:only-of-type {\n",
       "        vertical-align: middle;\n",
       "    }\n",
       "\n",
       "    .dataframe tbody tr th {\n",
       "        vertical-align: top;\n",
       "    }\n",
       "\n",
       "    .dataframe thead th {\n",
       "        text-align: right;\n",
       "    }\n",
       "</style>\n",
       "<table border=\"1\" class=\"dataframe\">\n",
       "  <thead>\n",
       "    <tr style=\"text-align: right;\">\n",
       "      <th></th>\n",
       "      <th>test_num</th>\n",
       "      <th>testDate</th>\n",
       "      <th>userID</th>\n",
       "      <th>total</th>\n",
       "    </tr>\n",
       "  </thead>\n",
       "  <tbody>\n",
       "    <tr>\n",
       "      <th>148</th>\n",
       "      <td>9</td>\n",
       "      <td>2017-03-20</td>\n",
       "      <td>23</td>\n",
       "      <td>1220</td>\n",
       "    </tr>\n",
       "    <tr>\n",
       "      <th>149</th>\n",
       "      <td>9</td>\n",
       "      <td>2017-12-29</td>\n",
       "      <td>46</td>\n",
       "      <td>1030</td>\n",
       "    </tr>\n",
       "  </tbody>\n",
       "</table>\n",
       "</div>"
      ],
      "text/plain": [
       "    test_num   testDate userID total\n",
       "148        9 2017-03-20     23  1220\n",
       "149        9 2017-12-29     46  1030"
      ]
     },
     "execution_count": 18,
     "metadata": {},
     "output_type": "execute_result"
    }
   ],
   "source": [
    "print(test_score.shape)\n",
    "test_score.head(2)"
   ]
  },
  {
   "cell_type": "code",
   "execution_count": 19,
   "metadata": {},
   "outputs": [
    {
     "name": "stdout",
     "output_type": "stream",
     "text": [
      "(13, 156)\n"
     ]
    },
    {
     "data": {
      "text/html": [
       "<div>\n",
       "<style scoped>\n",
       "    .dataframe tbody tr th:only-of-type {\n",
       "        vertical-align: middle;\n",
       "    }\n",
       "\n",
       "    .dataframe tbody tr th {\n",
       "        vertical-align: top;\n",
       "    }\n",
       "\n",
       "    .dataframe thead th {\n",
       "        text-align: right;\n",
       "    }\n",
       "</style>\n",
       "<table border=\"1\" class=\"dataframe\">\n",
       "  <thead>\n",
       "    <tr style=\"text-align: right;\">\n",
       "      <th></th>\n",
       "      <th>1_01</th>\n",
       "      <th>1_02</th>\n",
       "      <th>1_03</th>\n",
       "      <th>1_04</th>\n",
       "      <th>1_05</th>\n",
       "      <th>1_06</th>\n",
       "      <th>1_07</th>\n",
       "      <th>1_08</th>\n",
       "      <th>1_09</th>\n",
       "      <th>1_10</th>\n",
       "      <th>...</th>\n",
       "      <th>4_31</th>\n",
       "      <th>4_32</th>\n",
       "      <th>4_33</th>\n",
       "      <th>4_34</th>\n",
       "      <th>4_35</th>\n",
       "      <th>4_36</th>\n",
       "      <th>4_37</th>\n",
       "      <th>4_38</th>\n",
       "      <th>userID</th>\n",
       "      <th>testDate</th>\n",
       "    </tr>\n",
       "  </thead>\n",
       "  <tbody>\n",
       "    <tr>\n",
       "      <th>706</th>\n",
       "      <td>False</td>\n",
       "      <td>True</td>\n",
       "      <td>False</td>\n",
       "      <td>True</td>\n",
       "      <td>False</td>\n",
       "      <td>False</td>\n",
       "      <td>True</td>\n",
       "      <td>True</td>\n",
       "      <td>False</td>\n",
       "      <td>True</td>\n",
       "      <td>...</td>\n",
       "      <td>True</td>\n",
       "      <td>False</td>\n",
       "      <td>False</td>\n",
       "      <td>True</td>\n",
       "      <td>False</td>\n",
       "      <td>False</td>\n",
       "      <td>False</td>\n",
       "      <td>False</td>\n",
       "      <td>269</td>\n",
       "      <td>2016-11-09</td>\n",
       "    </tr>\n",
       "    <tr>\n",
       "      <th>707</th>\n",
       "      <td>True</td>\n",
       "      <td>False</td>\n",
       "      <td>False</td>\n",
       "      <td>True</td>\n",
       "      <td>False</td>\n",
       "      <td>True</td>\n",
       "      <td>True</td>\n",
       "      <td>True</td>\n",
       "      <td>True</td>\n",
       "      <td>True</td>\n",
       "      <td>...</td>\n",
       "      <td>True</td>\n",
       "      <td>False</td>\n",
       "      <td>False</td>\n",
       "      <td>False</td>\n",
       "      <td>False</td>\n",
       "      <td>True</td>\n",
       "      <td>False</td>\n",
       "      <td>False</td>\n",
       "      <td>23</td>\n",
       "      <td>2017-03-20</td>\n",
       "    </tr>\n",
       "  </tbody>\n",
       "</table>\n",
       "<p>2 rows × 156 columns</p>\n",
       "</div>"
      ],
      "text/plain": [
       "      1_01   1_02   1_03  1_04   1_05   1_06  1_07  1_08   1_09  1_10  ...  \\\n",
       "706  False   True  False  True  False  False  True  True  False  True  ...   \n",
       "707   True  False  False  True  False   True  True  True   True  True  ...   \n",
       "\n",
       "     4_31   4_32   4_33   4_34   4_35   4_36   4_37   4_38  userID   testDate  \n",
       "706  True  False  False   True  False  False  False  False     269 2016-11-09  \n",
       "707  True  False  False  False  False   True  False  False      23 2017-03-20  \n",
       "\n",
       "[2 rows x 156 columns]"
      ]
     },
     "execution_count": 19,
     "metadata": {},
     "output_type": "execute_result"
    }
   ],
   "source": [
    "print(test_graded.shape)\n",
    "test_graded.head(2)"
   ]
  },
  {
   "cell_type": "code",
   "execution_count": 20,
   "metadata": {},
   "outputs": [
    {
     "name": "stdout",
     "output_type": "stream",
     "text": [
      "(13, 158)\n"
     ]
    },
    {
     "data": {
      "text/html": [
       "<div>\n",
       "<style scoped>\n",
       "    .dataframe tbody tr th:only-of-type {\n",
       "        vertical-align: middle;\n",
       "    }\n",
       "\n",
       "    .dataframe tbody tr th {\n",
       "        vertical-align: top;\n",
       "    }\n",
       "\n",
       "    .dataframe thead th {\n",
       "        text-align: right;\n",
       "    }\n",
       "</style>\n",
       "<table border=\"1\" class=\"dataframe\">\n",
       "  <thead>\n",
       "    <tr style=\"text-align: right;\">\n",
       "      <th></th>\n",
       "      <th>test_num</th>\n",
       "      <th>testDate</th>\n",
       "      <th>userID</th>\n",
       "      <th>total</th>\n",
       "      <th>1_01</th>\n",
       "      <th>1_02</th>\n",
       "      <th>1_03</th>\n",
       "      <th>1_04</th>\n",
       "      <th>1_05</th>\n",
       "      <th>1_06</th>\n",
       "      <th>...</th>\n",
       "      <th>4_29</th>\n",
       "      <th>4_30</th>\n",
       "      <th>4_31</th>\n",
       "      <th>4_32</th>\n",
       "      <th>4_33</th>\n",
       "      <th>4_34</th>\n",
       "      <th>4_35</th>\n",
       "      <th>4_36</th>\n",
       "      <th>4_37</th>\n",
       "      <th>4_38</th>\n",
       "    </tr>\n",
       "  </thead>\n",
       "  <tbody>\n",
       "    <tr>\n",
       "      <th>0</th>\n",
       "      <td>9</td>\n",
       "      <td>2017-03-20</td>\n",
       "      <td>23</td>\n",
       "      <td>1220</td>\n",
       "      <td>True</td>\n",
       "      <td>False</td>\n",
       "      <td>False</td>\n",
       "      <td>True</td>\n",
       "      <td>False</td>\n",
       "      <td>True</td>\n",
       "      <td>...</td>\n",
       "      <td>True</td>\n",
       "      <td>True</td>\n",
       "      <td>True</td>\n",
       "      <td>False</td>\n",
       "      <td>False</td>\n",
       "      <td>False</td>\n",
       "      <td>False</td>\n",
       "      <td>True</td>\n",
       "      <td>False</td>\n",
       "      <td>False</td>\n",
       "    </tr>\n",
       "    <tr>\n",
       "      <th>1</th>\n",
       "      <td>9</td>\n",
       "      <td>2016-11-09</td>\n",
       "      <td>269</td>\n",
       "      <td>830</td>\n",
       "      <td>False</td>\n",
       "      <td>True</td>\n",
       "      <td>False</td>\n",
       "      <td>True</td>\n",
       "      <td>False</td>\n",
       "      <td>False</td>\n",
       "      <td>...</td>\n",
       "      <td>False</td>\n",
       "      <td>False</td>\n",
       "      <td>True</td>\n",
       "      <td>False</td>\n",
       "      <td>False</td>\n",
       "      <td>True</td>\n",
       "      <td>False</td>\n",
       "      <td>False</td>\n",
       "      <td>False</td>\n",
       "      <td>False</td>\n",
       "    </tr>\n",
       "    <tr>\n",
       "      <th>2</th>\n",
       "      <td>9</td>\n",
       "      <td>2017-12-21</td>\n",
       "      <td>358</td>\n",
       "      <td>1180</td>\n",
       "      <td>True</td>\n",
       "      <td>True</td>\n",
       "      <td>True</td>\n",
       "      <td>True</td>\n",
       "      <td>False</td>\n",
       "      <td>False</td>\n",
       "      <td>...</td>\n",
       "      <td>False</td>\n",
       "      <td>False</td>\n",
       "      <td>True</td>\n",
       "      <td>False</td>\n",
       "      <td>False</td>\n",
       "      <td>True</td>\n",
       "      <td>False</td>\n",
       "      <td>True</td>\n",
       "      <td>False</td>\n",
       "      <td>False</td>\n",
       "    </tr>\n",
       "    <tr>\n",
       "      <th>3</th>\n",
       "      <td>9</td>\n",
       "      <td>2017-09-01</td>\n",
       "      <td>417</td>\n",
       "      <td>1220</td>\n",
       "      <td>True</td>\n",
       "      <td>False</td>\n",
       "      <td>True</td>\n",
       "      <td>False</td>\n",
       "      <td>True</td>\n",
       "      <td>True</td>\n",
       "      <td>...</td>\n",
       "      <td>False</td>\n",
       "      <td>True</td>\n",
       "      <td>True</td>\n",
       "      <td>False</td>\n",
       "      <td>True</td>\n",
       "      <td>True</td>\n",
       "      <td>False</td>\n",
       "      <td>False</td>\n",
       "      <td>False</td>\n",
       "      <td>False</td>\n",
       "    </tr>\n",
       "    <tr>\n",
       "      <th>4</th>\n",
       "      <td>9</td>\n",
       "      <td>2017-08-18</td>\n",
       "      <td>433</td>\n",
       "      <td>930</td>\n",
       "      <td>True</td>\n",
       "      <td>True</td>\n",
       "      <td>True</td>\n",
       "      <td>False</td>\n",
       "      <td>False</td>\n",
       "      <td>True</td>\n",
       "      <td>...</td>\n",
       "      <td>False</td>\n",
       "      <td>False</td>\n",
       "      <td>True</td>\n",
       "      <td>False</td>\n",
       "      <td>False</td>\n",
       "      <td>False</td>\n",
       "      <td>False</td>\n",
       "      <td>False</td>\n",
       "      <td>False</td>\n",
       "      <td>False</td>\n",
       "    </tr>\n",
       "  </tbody>\n",
       "</table>\n",
       "<p>5 rows × 158 columns</p>\n",
       "</div>"
      ],
      "text/plain": [
       "  test_num   testDate userID total   1_01   1_02   1_03   1_04   1_05   1_06  \\\n",
       "0        9 2017-03-20     23  1220   True  False  False   True  False   True   \n",
       "1        9 2016-11-09    269   830  False   True  False   True  False  False   \n",
       "2        9 2017-12-21    358  1180   True   True   True   True  False  False   \n",
       "3        9 2017-09-01    417  1220   True  False   True  False   True   True   \n",
       "4        9 2017-08-18    433   930   True   True   True  False  False   True   \n",
       "\n",
       "   ...   4_29   4_30  4_31   4_32   4_33   4_34   4_35   4_36   4_37   4_38  \n",
       "0  ...   True   True  True  False  False  False  False   True  False  False  \n",
       "1  ...  False  False  True  False  False   True  False  False  False  False  \n",
       "2  ...  False  False  True  False  False   True  False   True  False  False  \n",
       "3  ...  False   True  True  False   True   True  False  False  False  False  \n",
       "4  ...  False  False  True  False  False  False  False  False  False  False  \n",
       "\n",
       "[5 rows x 158 columns]"
      ]
     },
     "execution_count": 20,
     "metadata": {},
     "output_type": "execute_result"
    }
   ],
   "source": [
    "test_merge=pd.merge(test_score, test_graded, on=['userID',\"testDate\"])\n",
    "print(test_merge.shape)\n",
    "test_merge.head()"
   ]
  },
  {
   "cell_type": "code",
   "execution_count": 21,
   "metadata": {},
   "outputs": [
    {
     "name": "stdout",
     "output_type": "stream",
     "text": [
      "(13, 158)\n"
     ]
    }
   ],
   "source": [
    "sat_ml = test_merge.copy()\n",
    "print(sat_ml.shape)\n",
    "sat_ml['total']=sat_ml[\"total\"].astype(int)"
   ]
  },
  {
   "cell_type": "code",
   "execution_count": 22,
   "metadata": {},
   "outputs": [
    {
     "data": {
      "text/plain": [
       "RandomForestRegressor(bootstrap=True, criterion='mse', max_depth=None,\n",
       "           max_features='auto', max_leaf_nodes=None,\n",
       "           min_impurity_decrease=0.0, min_impurity_split=None,\n",
       "           min_samples_leaf=1, min_samples_split=2,\n",
       "           min_weight_fraction_leaf=0.0, n_estimators=20, n_jobs=-1,\n",
       "           oob_score=False, random_state=1, verbose=0, warm_start=False)"
      ]
     },
     "execution_count": 22,
     "metadata": {},
     "output_type": "execute_result"
    }
   ],
   "source": [
    "from sklearn.ensemble import RandomForestRegressor\n",
    "\n",
    "model = RandomForestRegressor(n_estimators = 20,\n",
    "                              n_jobs = -1,\n",
    "                              random_state = 1)\n",
    "model"
   ]
  },
  {
   "cell_type": "code",
   "execution_count": 23,
   "metadata": {},
   "outputs": [],
   "source": [
    "def rmsle(y, y_, convertExp = False):\n",
    "    if convertExp:\n",
    "        y = np.exp(y),\n",
    "        y_ = np.exp(y_)\n",
    "    \n",
    "    log1 = np.nan_to_num(np.array([np.log(v+1) for v in y])) \n",
    "    log2 = np.nan_to_num(np.array([np.log(v+1) for v in y_]))\n",
    "    cal = (log1 - log2)**2\n",
    "    return np.sqrt(np.mean(cal))\n",
    "# np.nan_to_num when we want to replace nan(Not A Number) with zero and inf with finite numbers in an array  \n",
    "\n",
    "def rmse(y, y_,):\n",
    "\n",
    "    y = np.nan_to_num(np.array([v+1 for v in y])) \n",
    "    y_ = np.nan_to_num(np.array([v+1 for v in y_]))\n",
    "    cal = (y - y_)**2\n",
    "    return np.sqrt(np.mean(cal))\n"
   ]
  },
  {
   "cell_type": "code",
   "execution_count": 24,
   "metadata": {},
   "outputs": [
    {
     "name": "stderr",
     "output_type": "stream",
     "text": [
      "  0%|          | 1/200 [00:00<01:15,  2.63it/s]"
     ]
    },
    {
     "name": "stdout",
     "output_type": "stream",
     "text": [
      "CPU times: user 222 ms, sys: 32.4 ms, total: 254 ms\n",
      "Wall time: 253 ms\n",
      "                                            col_used  max_depth  \\\n",
      "0  [107, 97, 12, 116, 123, 47, 123, 86, 146, 139,...        218   \n",
      "\n",
      "   max_leaf_nodes  n_estimators        rmse     rmsle  sample_size   sd_rmse  \n",
      "0             233           357  118.002803  0.108398           17  0.705719  \n"
     ]
    },
    {
     "name": "stderr",
     "output_type": "stream",
     "text": [
      "\r",
      "  1%|          | 2/200 [00:00<01:12,  2.74it/s]"
     ]
    },
    {
     "name": "stdout",
     "output_type": "stream",
     "text": [
      "CPU times: user 164 ms, sys: 21.3 ms, total: 186 ms\n",
      "Wall time: 204 ms\n",
      "                                            col_used  max_depth  \\\n",
      "1  [16, 56, 68, 7, 9, 79, 129, 68, 19, 77, 74, 93...        111   \n",
      "\n",
      "   max_leaf_nodes  n_estimators        rmse     rmsle  sample_size   sd_rmse  \n",
      "1             120           251  117.089143  0.111883           20  0.700255  \n"
     ]
    },
    {
     "name": "stderr",
     "output_type": "stream",
     "text": [
      "\r",
      "  2%|▏         | 3/200 [00:01<01:08,  2.88it/s]"
     ]
    },
    {
     "name": "stdout",
     "output_type": "stream",
     "text": [
      "CPU times: user 119 ms, sys: 16.2 ms, total: 135 ms\n",
      "Wall time: 180 ms\n",
      "                                            col_used  max_depth  \\\n",
      "1  [16, 56, 68, 7, 9, 79, 129, 68, 19, 77, 74, 93...        111   \n",
      "\n",
      "   max_leaf_nodes  n_estimators        rmse     rmsle  sample_size   sd_rmse  \n",
      "1             120           251  117.089143  0.111883           20  0.700255  \n"
     ]
    },
    {
     "name": "stderr",
     "output_type": "stream",
     "text": [
      "\r",
      "  2%|▏         | 4/200 [00:01<01:07,  2.91it/s]"
     ]
    },
    {
     "name": "stdout",
     "output_type": "stream",
     "text": [
      "CPU times: user 173 ms, sys: 25.5 ms, total: 198 ms\n",
      "Wall time: 209 ms\n",
      "                                            col_used  max_depth  \\\n",
      "3  [80, 12, 153, 79, 98, 105, 138, 106, 38, 90, 1...        192   \n",
      "\n",
      "   max_leaf_nodes  n_estimators       rmse     rmsle  sample_size  sd_rmse  \n",
      "3             293           273  89.037376  0.086479           22  0.53249  \n"
     ]
    },
    {
     "name": "stderr",
     "output_type": "stream",
     "text": [
      "\r",
      "  2%|▎         | 5/200 [00:01<01:09,  2.82it/s]"
     ]
    },
    {
     "name": "stdout",
     "output_type": "stream",
     "text": [
      "CPU times: user 182 ms, sys: 23.9 ms, total: 206 ms\n",
      "Wall time: 254 ms\n",
      "                                            col_used  max_depth  \\\n",
      "3  [80, 12, 153, 79, 98, 105, 138, 106, 38, 90, 1...        192   \n",
      "\n",
      "   max_leaf_nodes  n_estimators       rmse     rmsle  sample_size  sd_rmse  \n",
      "3             293           273  89.037376  0.086479           22  0.53249  \n"
     ]
    },
    {
     "name": "stderr",
     "output_type": "stream",
     "text": [
      "\r",
      "  3%|▎         | 6/200 [00:02<01:12,  2.68it/s]"
     ]
    },
    {
     "name": "stdout",
     "output_type": "stream",
     "text": [
      "CPU times: user 223 ms, sys: 28.3 ms, total: 252 ms\n",
      "Wall time: 278 ms\n",
      "                                            col_used  max_depth  \\\n",
      "5  [24, 99, 136, 84, 154, 123, 129, 47, 18, 26, 4...        108   \n",
      "\n",
      "   max_leaf_nodes  n_estimators       rmse     rmsle  sample_size   sd_rmse  \n",
      "5              91           258  80.053666  0.074651           15  0.478763  \n"
     ]
    },
    {
     "name": "stderr",
     "output_type": "stream",
     "text": [
      "\r",
      "  4%|▎         | 7/200 [00:02<01:13,  2.64it/s]"
     ]
    },
    {
     "name": "stdout",
     "output_type": "stream",
     "text": [
      "CPU times: user 200 ms, sys: 22.4 ms, total: 222 ms\n",
      "Wall time: 269 ms\n",
      "                                            col_used  max_depth  \\\n",
      "5  [24, 99, 136, 84, 154, 123, 129, 47, 18, 26, 4...        108   \n",
      "\n",
      "   max_leaf_nodes  n_estimators       rmse     rmsle  sample_size   sd_rmse  \n",
      "5              91           258  80.053666  0.074651           15  0.478763  \n"
     ]
    },
    {
     "name": "stderr",
     "output_type": "stream",
     "text": [
      "\r",
      "  4%|▍         | 8/200 [00:02<01:14,  2.57it/s]"
     ]
    },
    {
     "name": "stdout",
     "output_type": "stream",
     "text": [
      "CPU times: user 234 ms, sys: 28.4 ms, total: 262 ms\n",
      "Wall time: 281 ms\n",
      "                                            col_used  max_depth  \\\n",
      "5  [24, 99, 136, 84, 154, 123, 129, 47, 18, 26, 4...        108   \n",
      "\n",
      "   max_leaf_nodes  n_estimators       rmse     rmsle  sample_size   sd_rmse  \n",
      "5              91           258  80.053666  0.074651           15  0.478763  \n"
     ]
    },
    {
     "name": "stderr",
     "output_type": "stream",
     "text": [
      "\r",
      "  4%|▍         | 9/200 [00:03<01:16,  2.49it/s]"
     ]
    },
    {
     "name": "stdout",
     "output_type": "stream",
     "text": [
      "CPU times: user 259 ms, sys: 28.5 ms, total: 287 ms\n",
      "Wall time: 303 ms\n",
      "                                            col_used  max_depth  \\\n",
      "8  [34, 34, 80, 120, 91, 14, 108, 82, 103, 27, 15...        224   \n",
      "\n",
      "   max_leaf_nodes  n_estimators       rmse     rmsle  sample_size   sd_rmse  \n",
      "8             105           366  56.520415  0.053721           21  0.338022  \n"
     ]
    },
    {
     "name": "stderr",
     "output_type": "stream",
     "text": [
      "\r",
      "  5%|▌         | 10/200 [00:03<01:14,  2.57it/s]"
     ]
    },
    {
     "name": "stdout",
     "output_type": "stream",
     "text": [
      "CPU times: user 200 ms, sys: 26 ms, total: 226 ms\n",
      "Wall time: 233 ms\n",
      "                                            col_used  max_depth  \\\n",
      "8  [34, 34, 80, 120, 91, 14, 108, 82, 103, 27, 15...        224   \n",
      "\n",
      "   max_leaf_nodes  n_estimators       rmse     rmsle  sample_size   sd_rmse  \n",
      "8             105           366  56.520415  0.053721           21  0.338022  \n"
     ]
    },
    {
     "name": "stderr",
     "output_type": "stream",
     "text": [
      "\r",
      "  6%|▌         | 11/200 [00:04<01:11,  2.65it/s]"
     ]
    },
    {
     "name": "stdout",
     "output_type": "stream",
     "text": [
      "CPU times: user 169 ms, sys: 24.1 ms, total: 193 ms\n",
      "Wall time: 223 ms\n",
      "                                            col_used  max_depth  \\\n",
      "8  [34, 34, 80, 120, 91, 14, 108, 82, 103, 27, 15...        224   \n",
      "\n",
      "   max_leaf_nodes  n_estimators       rmse     rmsle  sample_size   sd_rmse  \n",
      "8             105           366  56.520415  0.053721           21  0.338022  \n"
     ]
    },
    {
     "name": "stderr",
     "output_type": "stream",
     "text": [
      "\r",
      "  6%|▌         | 12/200 [00:04<01:11,  2.63it/s]"
     ]
    },
    {
     "name": "stdout",
     "output_type": "stream",
     "text": [
      "CPU times: user 188 ms, sys: 14 ms, total: 202 ms\n",
      "Wall time: 256 ms\n",
      "                                            col_used  max_depth  \\\n",
      "8  [34, 34, 80, 120, 91, 14, 108, 82, 103, 27, 15...        224   \n",
      "\n",
      "   max_leaf_nodes  n_estimators       rmse     rmsle  sample_size   sd_rmse  \n",
      "8             105           366  56.520415  0.053721           21  0.338022  \n"
     ]
    },
    {
     "name": "stderr",
     "output_type": "stream",
     "text": [
      "\r",
      "  6%|▋         | 13/200 [00:04<01:12,  2.56it/s]"
     ]
    },
    {
     "name": "stdout",
     "output_type": "stream",
     "text": [
      "CPU times: user 211 ms, sys: 27 ms, total: 238 ms\n",
      "Wall time: 293 ms\n",
      "                                            col_used  max_depth  \\\n",
      "8  [34, 34, 80, 120, 91, 14, 108, 82, 103, 27, 15...        224   \n",
      "\n",
      "   max_leaf_nodes  n_estimators       rmse     rmsle  sample_size   sd_rmse  \n",
      "8             105           366  56.520415  0.053721           21  0.338022  \n"
     ]
    },
    {
     "name": "stderr",
     "output_type": "stream",
     "text": [
      "\r",
      "  7%|▋         | 14/200 [00:05<01:16,  2.42it/s]"
     ]
    },
    {
     "name": "stdout",
     "output_type": "stream",
     "text": [
      "CPU times: user 227 ms, sys: 35.7 ms, total: 263 ms\n",
      "Wall time: 343 ms\n",
      "                                            col_used  max_depth  \\\n",
      "8  [34, 34, 80, 120, 91, 14, 108, 82, 103, 27, 15...        224   \n",
      "\n",
      "   max_leaf_nodes  n_estimators       rmse     rmsle  sample_size   sd_rmse  \n",
      "8             105           366  56.520415  0.053721           21  0.338022  \n"
     ]
    },
    {
     "name": "stderr",
     "output_type": "stream",
     "text": [
      "\r",
      "  8%|▊         | 15/200 [00:05<01:11,  2.59it/s]"
     ]
    },
    {
     "name": "stdout",
     "output_type": "stream",
     "text": [
      "CPU times: user 144 ms, sys: 20.9 ms, total: 165 ms\n",
      "Wall time: 202 ms\n",
      "                                            col_used  max_depth  \\\n",
      "8  [34, 34, 80, 120, 91, 14, 108, 82, 103, 27, 15...        224   \n",
      "\n",
      "   max_leaf_nodes  n_estimators       rmse     rmsle  sample_size   sd_rmse  \n",
      "8             105           366  56.520415  0.053721           21  0.338022  \n"
     ]
    },
    {
     "name": "stderr",
     "output_type": "stream",
     "text": [
      "\r",
      "  8%|▊         | 16/200 [00:06<01:09,  2.65it/s]"
     ]
    },
    {
     "name": "stdout",
     "output_type": "stream",
     "text": [
      "CPU times: user 187 ms, sys: 26 ms, total: 213 ms\n",
      "Wall time: 229 ms\n",
      "                                            col_used  max_depth  \\\n",
      "8  [34, 34, 80, 120, 91, 14, 108, 82, 103, 27, 15...        224   \n",
      "\n",
      "   max_leaf_nodes  n_estimators       rmse     rmsle  sample_size   sd_rmse  \n",
      "8             105           366  56.520415  0.053721           21  0.338022  \n"
     ]
    },
    {
     "name": "stderr",
     "output_type": "stream",
     "text": [
      "\r",
      "  8%|▊         | 17/200 [00:06<01:07,  2.72it/s]"
     ]
    },
    {
     "name": "stdout",
     "output_type": "stream",
     "text": [
      "CPU times: user 173 ms, sys: 23.5 ms, total: 196 ms\n",
      "Wall time: 219 ms\n",
      "                                            col_used  max_depth  \\\n",
      "8  [34, 34, 80, 120, 91, 14, 108, 82, 103, 27, 15...        224   \n",
      "\n",
      "   max_leaf_nodes  n_estimators       rmse     rmsle  sample_size   sd_rmse  \n",
      "8             105           366  56.520415  0.053721           21  0.338022  \n"
     ]
    },
    {
     "name": "stderr",
     "output_type": "stream",
     "text": [
      "\r",
      "  9%|▉         | 18/200 [00:06<01:17,  2.36it/s]"
     ]
    },
    {
     "name": "stdout",
     "output_type": "stream",
     "text": [
      "CPU times: user 299 ms, sys: 32.1 ms, total: 331 ms\n",
      "Wall time: 429 ms\n",
      "                                            col_used  max_depth  \\\n",
      "8  [34, 34, 80, 120, 91, 14, 108, 82, 103, 27, 15...        224   \n",
      "\n",
      "   max_leaf_nodes  n_estimators       rmse     rmsle  sample_size   sd_rmse  \n",
      "8             105           366  56.520415  0.053721           21  0.338022  \n"
     ]
    },
    {
     "name": "stderr",
     "output_type": "stream",
     "text": [
      "\r",
      " 10%|▉         | 19/200 [00:07<01:14,  2.42it/s]"
     ]
    },
    {
     "name": "stdout",
     "output_type": "stream",
     "text": [
      "CPU times: user 203 ms, sys: 25.8 ms, total: 228 ms\n",
      "Wall time: 258 ms\n",
      "                                            col_used  max_depth  \\\n",
      "8  [34, 34, 80, 120, 91, 14, 108, 82, 103, 27, 15...        224   \n",
      "\n",
      "   max_leaf_nodes  n_estimators       rmse     rmsle  sample_size   sd_rmse  \n",
      "8             105           366  56.520415  0.053721           21  0.338022  \n"
     ]
    },
    {
     "name": "stderr",
     "output_type": "stream",
     "text": [
      "\r",
      " 10%|█         | 20/200 [00:07<01:11,  2.53it/s]"
     ]
    },
    {
     "name": "stdout",
     "output_type": "stream",
     "text": [
      "CPU times: user 183 ms, sys: 23.5 ms, total: 206 ms\n",
      "Wall time: 229 ms\n",
      "                                            col_used  max_depth  \\\n",
      "8  [34, 34, 80, 120, 91, 14, 108, 82, 103, 27, 15...        224   \n",
      "\n",
      "   max_leaf_nodes  n_estimators       rmse     rmsle  sample_size   sd_rmse  \n",
      "8             105           366  56.520415  0.053721           21  0.338022  \n"
     ]
    },
    {
     "name": "stderr",
     "output_type": "stream",
     "text": [
      "\r",
      " 10%|█         | 21/200 [00:08<01:13,  2.45it/s]"
     ]
    },
    {
     "name": "stdout",
     "output_type": "stream",
     "text": [
      "CPU times: user 200 ms, sys: 31.7 ms, total: 231 ms\n",
      "Wall time: 310 ms\n",
      "                                            col_used  max_depth  \\\n",
      "8  [34, 34, 80, 120, 91, 14, 108, 82, 103, 27, 15...        224   \n",
      "\n",
      "   max_leaf_nodes  n_estimators       rmse     rmsle  sample_size   sd_rmse  \n",
      "8             105           366  56.520415  0.053721           21  0.338022  \n"
     ]
    },
    {
     "name": "stderr",
     "output_type": "stream",
     "text": [
      "\r",
      " 11%|█         | 22/200 [00:08<01:19,  2.25it/s]"
     ]
    },
    {
     "name": "stdout",
     "output_type": "stream",
     "text": [
      "CPU times: user 332 ms, sys: 50.5 ms, total: 382 ms\n",
      "Wall time: 406 ms\n",
      "                                            col_used  max_depth  \\\n",
      "8  [34, 34, 80, 120, 91, 14, 108, 82, 103, 27, 15...        224   \n",
      "\n",
      "   max_leaf_nodes  n_estimators       rmse     rmsle  sample_size   sd_rmse  \n",
      "8             105           366  56.520415  0.053721           21  0.338022  \n"
     ]
    },
    {
     "name": "stderr",
     "output_type": "stream",
     "text": [
      "\r",
      " 12%|█▏        | 23/200 [00:09<01:21,  2.17it/s]"
     ]
    },
    {
     "name": "stdout",
     "output_type": "stream",
     "text": [
      "CPU times: user 269 ms, sys: 34.2 ms, total: 303 ms\n",
      "Wall time: 373 ms\n",
      "                                            col_used  max_depth  \\\n",
      "8  [34, 34, 80, 120, 91, 14, 108, 82, 103, 27, 15...        224   \n",
      "\n",
      "   max_leaf_nodes  n_estimators       rmse     rmsle  sample_size   sd_rmse  \n",
      "8             105           366  56.520415  0.053721           21  0.338022  \n"
     ]
    },
    {
     "name": "stderr",
     "output_type": "stream",
     "text": [
      "\r",
      " 12%|█▏        | 24/200 [00:09<01:23,  2.10it/s]"
     ]
    },
    {
     "name": "stdout",
     "output_type": "stream",
     "text": [
      "CPU times: user 283 ms, sys: 39.9 ms, total: 323 ms\n",
      "Wall time: 392 ms\n",
      "                                            col_used  max_depth  \\\n",
      "8  [34, 34, 80, 120, 91, 14, 108, 82, 103, 27, 15...        224   \n",
      "\n",
      "   max_leaf_nodes  n_estimators       rmse     rmsle  sample_size   sd_rmse  \n",
      "8             105           366  56.520415  0.053721           21  0.338022  \n"
     ]
    },
    {
     "name": "stderr",
     "output_type": "stream",
     "text": [
      "\r",
      " 12%|█▎        | 25/200 [00:10<01:16,  2.28it/s]"
     ]
    },
    {
     "name": "stdout",
     "output_type": "stream",
     "text": [
      "CPU times: user 189 ms, sys: 24.9 ms, total: 214 ms\n",
      "Wall time: 225 ms\n",
      "                                            col_used  max_depth  \\\n",
      "8  [34, 34, 80, 120, 91, 14, 108, 82, 103, 27, 15...        224   \n",
      "\n",
      "   max_leaf_nodes  n_estimators       rmse     rmsle  sample_size   sd_rmse  \n",
      "8             105           366  56.520415  0.053721           21  0.338022  \n"
     ]
    },
    {
     "name": "stderr",
     "output_type": "stream",
     "text": [
      "\r",
      " 13%|█▎        | 26/200 [00:10<01:11,  2.43it/s]"
     ]
    },
    {
     "name": "stdout",
     "output_type": "stream",
     "text": [
      "CPU times: user 192 ms, sys: 25.5 ms, total: 217 ms\n",
      "Wall time: 227 ms\n",
      "                                            col_used  max_depth  \\\n",
      "8  [34, 34, 80, 120, 91, 14, 108, 82, 103, 27, 15...        224   \n",
      "\n",
      "   max_leaf_nodes  n_estimators       rmse     rmsle  sample_size   sd_rmse  \n",
      "8             105           366  56.520415  0.053721           21  0.338022  \n"
     ]
    },
    {
     "name": "stderr",
     "output_type": "stream",
     "text": [
      "\r",
      " 14%|█▎        | 27/200 [00:10<01:05,  2.65it/s]"
     ]
    },
    {
     "name": "stdout",
     "output_type": "stream",
     "text": [
      "CPU times: user 118 ms, sys: 16.9 ms, total: 135 ms\n",
      "Wall time: 176 ms\n",
      "                                            col_used  max_depth  \\\n",
      "8  [34, 34, 80, 120, 91, 14, 108, 82, 103, 27, 15...        224   \n",
      "\n",
      "   max_leaf_nodes  n_estimators       rmse     rmsle  sample_size   sd_rmse  \n",
      "8             105           366  56.520415  0.053721           21  0.338022  \n"
     ]
    },
    {
     "name": "stderr",
     "output_type": "stream",
     "text": [
      "\r",
      " 14%|█▍        | 28/200 [00:11<01:04,  2.69it/s]"
     ]
    },
    {
     "name": "stdout",
     "output_type": "stream",
     "text": [
      "CPU times: user 217 ms, sys: 29.8 ms, total: 247 ms\n",
      "Wall time: 239 ms\n",
      "                                            col_used  max_depth  \\\n",
      "8  [34, 34, 80, 120, 91, 14, 108, 82, 103, 27, 15...        224   \n",
      "\n",
      "   max_leaf_nodes  n_estimators       rmse     rmsle  sample_size   sd_rmse  \n",
      "8             105           366  56.520415  0.053721           21  0.338022  \n"
     ]
    },
    {
     "name": "stderr",
     "output_type": "stream",
     "text": [
      "\r",
      " 14%|█▍        | 29/200 [00:11<01:02,  2.72it/s]"
     ]
    },
    {
     "name": "stdout",
     "output_type": "stream",
     "text": [
      "CPU times: user 198 ms, sys: 27 ms, total: 225 ms\n",
      "Wall time: 232 ms\n",
      "                                            col_used  max_depth  \\\n",
      "8  [34, 34, 80, 120, 91, 14, 108, 82, 103, 27, 15...        224   \n",
      "\n",
      "   max_leaf_nodes  n_estimators       rmse     rmsle  sample_size   sd_rmse  \n",
      "8             105           366  56.520415  0.053721           21  0.338022  \n"
     ]
    },
    {
     "name": "stderr",
     "output_type": "stream",
     "text": [
      "\r",
      " 15%|█▌        | 30/200 [00:11<01:02,  2.74it/s]"
     ]
    },
    {
     "name": "stdout",
     "output_type": "stream",
     "text": [
      "CPU times: user 206 ms, sys: 29.4 ms, total: 235 ms\n",
      "Wall time: 233 ms\n",
      "                                            col_used  max_depth  \\\n",
      "8  [34, 34, 80, 120, 91, 14, 108, 82, 103, 27, 15...        224   \n",
      "\n",
      "   max_leaf_nodes  n_estimators       rmse     rmsle  sample_size   sd_rmse  \n",
      "8             105           366  56.520415  0.053721           21  0.338022  \n"
     ]
    },
    {
     "name": "stderr",
     "output_type": "stream",
     "text": [
      "\r",
      " 16%|█▌        | 31/200 [00:12<00:57,  2.92it/s]"
     ]
    },
    {
     "name": "stdout",
     "output_type": "stream",
     "text": [
      "CPU times: user 101 ms, sys: 12.9 ms, total: 114 ms\n",
      "Wall time: 165 ms\n",
      "                                            col_used  max_depth  \\\n",
      "8  [34, 34, 80, 120, 91, 14, 108, 82, 103, 27, 15...        224   \n",
      "\n",
      "   max_leaf_nodes  n_estimators       rmse     rmsle  sample_size   sd_rmse  \n",
      "8             105           366  56.520415  0.053721           21  0.338022  \n"
     ]
    },
    {
     "name": "stderr",
     "output_type": "stream",
     "text": [
      "\r",
      " 16%|█▌        | 32/200 [00:12<00:57,  2.92it/s]"
     ]
    },
    {
     "name": "stdout",
     "output_type": "stream",
     "text": [
      "CPU times: user 191 ms, sys: 26.9 ms, total: 217 ms\n",
      "Wall time: 218 ms\n",
      "                                            col_used  max_depth  \\\n",
      "8  [34, 34, 80, 120, 91, 14, 108, 82, 103, 27, 15...        224   \n",
      "\n",
      "   max_leaf_nodes  n_estimators       rmse     rmsle  sample_size   sd_rmse  \n",
      "8             105           366  56.520415  0.053721           21  0.338022  \n"
     ]
    },
    {
     "name": "stderr",
     "output_type": "stream",
     "text": [
      "\r",
      " 16%|█▋        | 33/200 [00:12<00:54,  3.08it/s]"
     ]
    },
    {
     "name": "stdout",
     "output_type": "stream",
     "text": [
      "CPU times: user 91.3 ms, sys: 12.9 ms, total: 104 ms\n",
      "Wall time: 160 ms\n",
      "                                            col_used  max_depth  \\\n",
      "8  [34, 34, 80, 120, 91, 14, 108, 82, 103, 27, 15...        224   \n",
      "\n",
      "   max_leaf_nodes  n_estimators       rmse     rmsle  sample_size   sd_rmse  \n",
      "8             105           366  56.520415  0.053721           21  0.338022  \n"
     ]
    },
    {
     "name": "stderr",
     "output_type": "stream",
     "text": [
      "\r",
      " 17%|█▋        | 34/200 [00:12<00:53,  3.08it/s]"
     ]
    },
    {
     "name": "stdout",
     "output_type": "stream",
     "text": [
      "CPU times: user 170 ms, sys: 25.1 ms, total: 195 ms\n",
      "Wall time: 202 ms\n",
      "                                            col_used  max_depth  \\\n",
      "8  [34, 34, 80, 120, 91, 14, 108, 82, 103, 27, 15...        224   \n",
      "\n",
      "   max_leaf_nodes  n_estimators       rmse     rmsle  sample_size   sd_rmse  \n",
      "8             105           366  56.520415  0.053721           21  0.338022  \n"
     ]
    },
    {
     "name": "stderr",
     "output_type": "stream",
     "text": [
      "\r",
      " 18%|█▊        | 35/200 [00:13<00:51,  3.17it/s]"
     ]
    },
    {
     "name": "stdout",
     "output_type": "stream",
     "text": [
      "CPU times: user 100 ms, sys: 13.7 ms, total: 114 ms\n",
      "Wall time: 166 ms\n",
      "                                             col_used  max_depth  \\\n",
      "34  [55, 48, 27, 145, 58, 157, 25, 135, 153, 47, 2...        292   \n",
      "\n",
      "    max_leaf_nodes  n_estimators       rmse    rmsle  sample_size   sd_rmse  \n",
      "34             232           170  54.975836  0.04913           13  0.328784  \n"
     ]
    },
    {
     "name": "stderr",
     "output_type": "stream",
     "text": [
      "\r",
      " 18%|█▊        | 36/200 [00:13<00:52,  3.14it/s]"
     ]
    },
    {
     "name": "stdout",
     "output_type": "stream",
     "text": [
      "CPU times: user 161 ms, sys: 16.2 ms, total: 177 ms\n",
      "Wall time: 202 ms\n",
      "                                             col_used  max_depth  \\\n",
      "34  [55, 48, 27, 145, 58, 157, 25, 135, 153, 47, 2...        292   \n",
      "\n",
      "    max_leaf_nodes  n_estimators       rmse    rmsle  sample_size   sd_rmse  \n",
      "34             232           170  54.975836  0.04913           13  0.328784  \n"
     ]
    },
    {
     "name": "stderr",
     "output_type": "stream",
     "text": [
      "\r",
      " 18%|█▊        | 37/200 [00:13<00:51,  3.18it/s]"
     ]
    },
    {
     "name": "stdout",
     "output_type": "stream",
     "text": [
      "CPU times: user 124 ms, sys: 18.2 ms, total: 142 ms\n",
      "Wall time: 180 ms\n",
      "                                             col_used  max_depth  \\\n",
      "34  [55, 48, 27, 145, 58, 157, 25, 135, 153, 47, 2...        292   \n",
      "\n",
      "    max_leaf_nodes  n_estimators       rmse    rmsle  sample_size   sd_rmse  \n",
      "34             232           170  54.975836  0.04913           13  0.328784  \n"
     ]
    },
    {
     "name": "stderr",
     "output_type": "stream",
     "text": [
      "\r",
      " 19%|█▉        | 38/200 [00:14<00:52,  3.09it/s]"
     ]
    },
    {
     "name": "stdout",
     "output_type": "stream",
     "text": [
      "CPU times: user 186 ms, sys: 28 ms, total: 214 ms\n",
      "Wall time: 218 ms\n",
      "                                             col_used  max_depth  \\\n",
      "34  [55, 48, 27, 145, 58, 157, 25, 135, 153, 47, 2...        292   \n",
      "\n",
      "    max_leaf_nodes  n_estimators       rmse    rmsle  sample_size   sd_rmse  \n",
      "34             232           170  54.975836  0.04913           13  0.328784  \n"
     ]
    },
    {
     "name": "stderr",
     "output_type": "stream",
     "text": [
      "\r",
      " 20%|█▉        | 39/200 [00:14<00:51,  3.10it/s]"
     ]
    },
    {
     "name": "stdout",
     "output_type": "stream",
     "text": [
      "CPU times: user 153 ms, sys: 21.2 ms, total: 174 ms\n",
      "Wall time: 198 ms\n",
      "                                             col_used  max_depth  \\\n",
      "34  [55, 48, 27, 145, 58, 157, 25, 135, 153, 47, 2...        292   \n",
      "\n",
      "    max_leaf_nodes  n_estimators       rmse    rmsle  sample_size   sd_rmse  \n",
      "34             232           170  54.975836  0.04913           13  0.328784  \n"
     ]
    },
    {
     "name": "stderr",
     "output_type": "stream",
     "text": [
      "\r",
      " 20%|██        | 40/200 [00:14<00:52,  3.02it/s]"
     ]
    },
    {
     "name": "stdout",
     "output_type": "stream",
     "text": [
      "CPU times: user 202 ms, sys: 29.7 ms, total: 231 ms\n",
      "Wall time: 225 ms\n",
      "                                             col_used  max_depth  \\\n",
      "34  [55, 48, 27, 145, 58, 157, 25, 135, 153, 47, 2...        292   \n",
      "\n",
      "    max_leaf_nodes  n_estimators       rmse    rmsle  sample_size   sd_rmse  \n",
      "34             232           170  54.975836  0.04913           13  0.328784  \n"
     ]
    },
    {
     "name": "stderr",
     "output_type": "stream",
     "text": [
      "\r",
      " 20%|██        | 41/200 [00:15<00:51,  3.11it/s]"
     ]
    },
    {
     "name": "stdout",
     "output_type": "stream",
     "text": [
      "CPU times: user 118 ms, sys: 16.6 ms, total: 134 ms\n",
      "Wall time: 175 ms\n",
      "                                             col_used  max_depth  \\\n",
      "34  [55, 48, 27, 145, 58, 157, 25, 135, 153, 47, 2...        292   \n",
      "\n",
      "    max_leaf_nodes  n_estimators       rmse    rmsle  sample_size   sd_rmse  \n",
      "34             232           170  54.975836  0.04913           13  0.328784  \n"
     ]
    },
    {
     "name": "stderr",
     "output_type": "stream",
     "text": [
      "\r",
      " 21%|██        | 42/200 [00:15<00:51,  3.04it/s]"
     ]
    },
    {
     "name": "stdout",
     "output_type": "stream",
     "text": [
      "CPU times: user 190 ms, sys: 28 ms, total: 218 ms\n",
      "Wall time: 221 ms\n",
      "                                             col_used  max_depth  \\\n",
      "34  [55, 48, 27, 145, 58, 157, 25, 135, 153, 47, 2...        292   \n",
      "\n",
      "    max_leaf_nodes  n_estimators       rmse    rmsle  sample_size   sd_rmse  \n",
      "34             232           170  54.975836  0.04913           13  0.328784  \n"
     ]
    },
    {
     "name": "stderr",
     "output_type": "stream",
     "text": [
      "\r",
      " 22%|██▏       | 43/200 [00:15<00:49,  3.14it/s]"
     ]
    },
    {
     "name": "stdout",
     "output_type": "stream",
     "text": [
      "CPU times: user 109 ms, sys: 15.1 ms, total: 124 ms\n",
      "Wall time: 171 ms\n",
      "                                             col_used  max_depth  \\\n",
      "34  [55, 48, 27, 145, 58, 157, 25, 135, 153, 47, 2...        292   \n",
      "\n",
      "    max_leaf_nodes  n_estimators       rmse    rmsle  sample_size   sd_rmse  \n",
      "34             232           170  54.975836  0.04913           13  0.328784  \n"
     ]
    },
    {
     "name": "stderr",
     "output_type": "stream",
     "text": [
      "\r",
      " 22%|██▏       | 44/200 [00:16<00:48,  3.20it/s]"
     ]
    },
    {
     "name": "stdout",
     "output_type": "stream",
     "text": [
      "CPU times: user 116 ms, sys: 16.5 ms, total: 133 ms\n",
      "Wall time: 173 ms\n",
      "                                             col_used  max_depth  \\\n",
      "34  [55, 48, 27, 145, 58, 157, 25, 135, 153, 47, 2...        292   \n",
      "\n",
      "    max_leaf_nodes  n_estimators       rmse    rmsle  sample_size   sd_rmse  \n",
      "34             232           170  54.975836  0.04913           13  0.328784  \n"
     ]
    },
    {
     "name": "stderr",
     "output_type": "stream",
     "text": [
      "\r",
      " 22%|██▎       | 45/200 [00:16<00:49,  3.12it/s]"
     ]
    },
    {
     "name": "stdout",
     "output_type": "stream",
     "text": [
      "CPU times: user 188 ms, sys: 27.9 ms, total: 215 ms\n",
      "Wall time: 213 ms\n",
      "                                             col_used  max_depth  \\\n",
      "34  [55, 48, 27, 145, 58, 157, 25, 135, 153, 47, 2...        292   \n",
      "\n",
      "    max_leaf_nodes  n_estimators       rmse    rmsle  sample_size   sd_rmse  \n",
      "34             232           170  54.975836  0.04913           13  0.328784  \n"
     ]
    },
    {
     "name": "stderr",
     "output_type": "stream",
     "text": [
      "\r",
      " 23%|██▎       | 46/200 [00:16<00:49,  3.14it/s]"
     ]
    },
    {
     "name": "stdout",
     "output_type": "stream",
     "text": [
      "CPU times: user 139 ms, sys: 19.4 ms, total: 159 ms\n",
      "Wall time: 189 ms\n",
      "                                             col_used  max_depth  \\\n",
      "34  [55, 48, 27, 145, 58, 157, 25, 135, 153, 47, 2...        292   \n",
      "\n",
      "    max_leaf_nodes  n_estimators       rmse    rmsle  sample_size   sd_rmse  \n",
      "34             232           170  54.975836  0.04913           13  0.328784  \n"
     ]
    },
    {
     "name": "stderr",
     "output_type": "stream",
     "text": [
      "\r",
      " 24%|██▎       | 47/200 [00:17<00:49,  3.07it/s]"
     ]
    },
    {
     "name": "stdout",
     "output_type": "stream",
     "text": [
      "CPU times: user 194 ms, sys: 28 ms, total: 222 ms\n",
      "Wall time: 217 ms\n",
      "                                             col_used  max_depth  \\\n",
      "34  [55, 48, 27, 145, 58, 157, 25, 135, 153, 47, 2...        292   \n",
      "\n",
      "    max_leaf_nodes  n_estimators       rmse    rmsle  sample_size   sd_rmse  \n",
      "34             232           170  54.975836  0.04913           13  0.328784  \n"
     ]
    },
    {
     "name": "stderr",
     "output_type": "stream",
     "text": [
      "\r",
      " 24%|██▍       | 48/200 [00:17<00:49,  3.08it/s]"
     ]
    },
    {
     "name": "stdout",
     "output_type": "stream",
     "text": [
      "CPU times: user 160 ms, sys: 22.9 ms, total: 183 ms\n",
      "Wall time: 201 ms\n",
      "                                             col_used  max_depth  \\\n",
      "34  [55, 48, 27, 145, 58, 157, 25, 135, 153, 47, 2...        292   \n",
      "\n",
      "    max_leaf_nodes  n_estimators       rmse    rmsle  sample_size   sd_rmse  \n",
      "34             232           170  54.975836  0.04913           13  0.328784  \n"
     ]
    },
    {
     "name": "stderr",
     "output_type": "stream",
     "text": [
      "\r",
      " 24%|██▍       | 49/200 [00:17<00:48,  3.13it/s]"
     ]
    },
    {
     "name": "stdout",
     "output_type": "stream",
     "text": [
      "CPU times: user 133 ms, sys: 18.8 ms, total: 152 ms\n",
      "Wall time: 185 ms\n",
      "                                             col_used  max_depth  \\\n",
      "34  [55, 48, 27, 145, 58, 157, 25, 135, 153, 47, 2...        292   \n",
      "\n",
      "    max_leaf_nodes  n_estimators       rmse    rmsle  sample_size   sd_rmse  \n",
      "34             232           170  54.975836  0.04913           13  0.328784  \n"
     ]
    },
    {
     "name": "stderr",
     "output_type": "stream",
     "text": [
      "\r",
      " 25%|██▌       | 50/200 [00:18<00:46,  3.22it/s]"
     ]
    },
    {
     "name": "stdout",
     "output_type": "stream",
     "text": [
      "CPU times: user 104 ms, sys: 14.4 ms, total: 119 ms\n",
      "Wall time: 166 ms\n",
      "                                             col_used  max_depth  \\\n",
      "34  [55, 48, 27, 145, 58, 157, 25, 135, 153, 47, 2...        292   \n",
      "\n",
      "    max_leaf_nodes  n_estimators       rmse    rmsle  sample_size   sd_rmse  \n",
      "34             232           170  54.975836  0.04913           13  0.328784  \n"
     ]
    },
    {
     "name": "stderr",
     "output_type": "stream",
     "text": [
      "\r",
      " 26%|██▌       | 51/200 [00:18<00:46,  3.21it/s]"
     ]
    },
    {
     "name": "stdout",
     "output_type": "stream",
     "text": [
      "CPU times: user 143 ms, sys: 20.3 ms, total: 163 ms\n",
      "Wall time: 193 ms\n",
      "                                             col_used  max_depth  \\\n",
      "34  [55, 48, 27, 145, 58, 157, 25, 135, 153, 47, 2...        292   \n",
      "\n",
      "    max_leaf_nodes  n_estimators       rmse    rmsle  sample_size   sd_rmse  \n",
      "34             232           170  54.975836  0.04913           13  0.328784  \n"
     ]
    },
    {
     "name": "stderr",
     "output_type": "stream",
     "text": [
      "\r",
      " 26%|██▌       | 52/200 [00:18<00:46,  3.19it/s]"
     ]
    },
    {
     "name": "stdout",
     "output_type": "stream",
     "text": [
      "CPU times: user 149 ms, sys: 20.6 ms, total: 170 ms\n",
      "Wall time: 195 ms\n",
      "                                             col_used  max_depth  \\\n",
      "34  [55, 48, 27, 145, 58, 157, 25, 135, 153, 47, 2...        292   \n",
      "\n",
      "    max_leaf_nodes  n_estimators       rmse    rmsle  sample_size   sd_rmse  \n",
      "34             232           170  54.975836  0.04913           13  0.328784  \n"
     ]
    },
    {
     "name": "stderr",
     "output_type": "stream",
     "text": [
      "\r",
      " 26%|██▋       | 53/200 [00:19<00:46,  3.20it/s]"
     ]
    },
    {
     "name": "stdout",
     "output_type": "stream",
     "text": [
      "CPU times: user 133 ms, sys: 18.6 ms, total: 151 ms\n",
      "Wall time: 186 ms\n",
      "                                             col_used  max_depth  \\\n",
      "34  [55, 48, 27, 145, 58, 157, 25, 135, 153, 47, 2...        292   \n",
      "\n",
      "    max_leaf_nodes  n_estimators       rmse    rmsle  sample_size   sd_rmse  \n",
      "34             232           170  54.975836  0.04913           13  0.328784  \n"
     ]
    },
    {
     "name": "stderr",
     "output_type": "stream",
     "text": [
      "\r",
      " 27%|██▋       | 54/200 [00:19<00:46,  3.13it/s]"
     ]
    },
    {
     "name": "stdout",
     "output_type": "stream",
     "text": [
      "CPU times: user 184 ms, sys: 28 ms, total: 212 ms\n",
      "Wall time: 211 ms\n",
      "                                             col_used  max_depth  \\\n",
      "34  [55, 48, 27, 145, 58, 157, 25, 135, 153, 47, 2...        292   \n",
      "\n",
      "    max_leaf_nodes  n_estimators       rmse    rmsle  sample_size   sd_rmse  \n",
      "34             232           170  54.975836  0.04913           13  0.328784  \n"
     ]
    },
    {
     "name": "stderr",
     "output_type": "stream",
     "text": [
      "\r",
      " 28%|██▊       | 55/200 [00:19<00:45,  3.17it/s]"
     ]
    },
    {
     "name": "stdout",
     "output_type": "stream",
     "text": [
      "CPU times: user 127 ms, sys: 17.5 ms, total: 145 ms\n",
      "Wall time: 181 ms\n",
      "                                             col_used  max_depth  \\\n",
      "34  [55, 48, 27, 145, 58, 157, 25, 135, 153, 47, 2...        292   \n",
      "\n",
      "    max_leaf_nodes  n_estimators       rmse    rmsle  sample_size   sd_rmse  \n",
      "34             232           170  54.975836  0.04913           13  0.328784  \n"
     ]
    },
    {
     "name": "stderr",
     "output_type": "stream",
     "text": [
      "\r",
      " 28%|██▊       | 56/200 [00:19<00:46,  3.11it/s]"
     ]
    },
    {
     "name": "stdout",
     "output_type": "stream",
     "text": [
      "CPU times: user 184 ms, sys: 26.8 ms, total: 210 ms\n",
      "Wall time: 212 ms\n",
      "                                             col_used  max_depth  \\\n",
      "34  [55, 48, 27, 145, 58, 157, 25, 135, 153, 47, 2...        292   \n",
      "\n",
      "    max_leaf_nodes  n_estimators       rmse    rmsle  sample_size   sd_rmse  \n",
      "34             232           170  54.975836  0.04913           13  0.328784  \n"
     ]
    },
    {
     "name": "stderr",
     "output_type": "stream",
     "text": [
      "\r",
      " 28%|██▊       | 57/200 [00:20<00:45,  3.16it/s]"
     ]
    },
    {
     "name": "stdout",
     "output_type": "stream",
     "text": [
      "CPU times: user 127 ms, sys: 18 ms, total: 145 ms\n",
      "Wall time: 179 ms\n",
      "                                             col_used  max_depth  \\\n",
      "34  [55, 48, 27, 145, 58, 157, 25, 135, 153, 47, 2...        292   \n",
      "\n",
      "    max_leaf_nodes  n_estimators       rmse    rmsle  sample_size   sd_rmse  \n",
      "34             232           170  54.975836  0.04913           13  0.328784  \n"
     ]
    },
    {
     "name": "stderr",
     "output_type": "stream",
     "text": [
      "\r",
      " 29%|██▉       | 58/200 [00:20<00:43,  3.27it/s]"
     ]
    },
    {
     "name": "stdout",
     "output_type": "stream",
     "text": [
      "CPU times: user 93.1 ms, sys: 12 ms, total: 105 ms\n",
      "Wall time: 162 ms\n",
      "                                             col_used  max_depth  \\\n",
      "34  [55, 48, 27, 145, 58, 157, 25, 135, 153, 47, 2...        292   \n",
      "\n",
      "    max_leaf_nodes  n_estimators       rmse    rmsle  sample_size   sd_rmse  \n",
      "34             232           170  54.975836  0.04913           13  0.328784  \n"
     ]
    },
    {
     "name": "stderr",
     "output_type": "stream",
     "text": [
      "\r",
      " 30%|██▉       | 59/200 [00:20<00:43,  3.27it/s]"
     ]
    },
    {
     "name": "stdout",
     "output_type": "stream",
     "text": [
      "CPU times: user 130 ms, sys: 18.8 ms, total: 149 ms\n",
      "Wall time: 181 ms\n",
      "                                             col_used  max_depth  \\\n",
      "34  [55, 48, 27, 145, 58, 157, 25, 135, 153, 47, 2...        292   \n",
      "\n",
      "    max_leaf_nodes  n_estimators       rmse    rmsle  sample_size   sd_rmse  \n",
      "34             232           170  54.975836  0.04913           13  0.328784  \n"
     ]
    },
    {
     "name": "stderr",
     "output_type": "stream",
     "text": [
      "\r",
      " 30%|███       | 60/200 [00:21<00:42,  3.28it/s]"
     ]
    },
    {
     "name": "stdout",
     "output_type": "stream",
     "text": [
      "CPU times: user 130 ms, sys: 19 ms, total: 149 ms\n",
      "Wall time: 179 ms\n",
      "                                             col_used  max_depth  \\\n",
      "34  [55, 48, 27, 145, 58, 157, 25, 135, 153, 47, 2...        292   \n",
      "\n",
      "    max_leaf_nodes  n_estimators       rmse    rmsle  sample_size   sd_rmse  \n",
      "34             232           170  54.975836  0.04913           13  0.328784  \n"
     ]
    },
    {
     "name": "stderr",
     "output_type": "stream",
     "text": [
      "\r",
      " 30%|███       | 61/200 [00:21<00:45,  3.08it/s]"
     ]
    },
    {
     "name": "stdout",
     "output_type": "stream",
     "text": [
      "CPU times: user 221 ms, sys: 29.2 ms, total: 250 ms\n",
      "Wall time: 248 ms\n",
      "                                             col_used  max_depth  \\\n",
      "34  [55, 48, 27, 145, 58, 157, 25, 135, 153, 47, 2...        292   \n",
      "\n",
      "    max_leaf_nodes  n_estimators       rmse    rmsle  sample_size   sd_rmse  \n",
      "34             232           170  54.975836  0.04913           13  0.328784  \n"
     ]
    },
    {
     "name": "stderr",
     "output_type": "stream",
     "text": [
      "\r",
      " 31%|███       | 62/200 [00:21<00:44,  3.08it/s]"
     ]
    },
    {
     "name": "stdout",
     "output_type": "stream",
     "text": [
      "CPU times: user 169 ms, sys: 25.2 ms, total: 194 ms\n",
      "Wall time: 203 ms\n",
      "                                             col_used  max_depth  \\\n",
      "34  [55, 48, 27, 145, 58, 157, 25, 135, 153, 47, 2...        292   \n",
      "\n",
      "    max_leaf_nodes  n_estimators       rmse    rmsle  sample_size   sd_rmse  \n",
      "34             232           170  54.975836  0.04913           13  0.328784  \n"
     ]
    },
    {
     "name": "stderr",
     "output_type": "stream",
     "text": [
      "\r",
      " 32%|███▏      | 63/200 [00:22<00:45,  3.01it/s]"
     ]
    },
    {
     "name": "stdout",
     "output_type": "stream",
     "text": [
      "CPU times: user 204 ms, sys: 30 ms, total: 234 ms\n",
      "Wall time: 226 ms\n",
      "                                             col_used  max_depth  \\\n",
      "34  [55, 48, 27, 145, 58, 157, 25, 135, 153, 47, 2...        292   \n",
      "\n",
      "    max_leaf_nodes  n_estimators       rmse    rmsle  sample_size   sd_rmse  \n",
      "34             232           170  54.975836  0.04913           13  0.328784  \n"
     ]
    },
    {
     "name": "stderr",
     "output_type": "stream",
     "text": [
      "\r",
      " 32%|███▏      | 64/200 [00:22<00:45,  2.96it/s]"
     ]
    },
    {
     "name": "stdout",
     "output_type": "stream",
     "text": [
      "CPU times: user 208 ms, sys: 31 ms, total: 239 ms\n",
      "Wall time: 228 ms\n",
      "                                             col_used  max_depth  \\\n",
      "34  [55, 48, 27, 145, 58, 157, 25, 135, 153, 47, 2...        292   \n",
      "\n",
      "    max_leaf_nodes  n_estimators       rmse    rmsle  sample_size   sd_rmse  \n",
      "34             232           170  54.975836  0.04913           13  0.328784  \n"
     ]
    },
    {
     "name": "stderr",
     "output_type": "stream",
     "text": [
      "\r",
      " 32%|███▎      | 65/200 [00:22<00:43,  3.08it/s]"
     ]
    },
    {
     "name": "stdout",
     "output_type": "stream",
     "text": [
      "CPU times: user 103 ms, sys: 14.8 ms, total: 118 ms\n",
      "Wall time: 169 ms\n",
      "                                             col_used  max_depth  \\\n",
      "34  [55, 48, 27, 145, 58, 157, 25, 135, 153, 47, 2...        292   \n",
      "\n",
      "    max_leaf_nodes  n_estimators       rmse    rmsle  sample_size   sd_rmse  \n",
      "34             232           170  54.975836  0.04913           13  0.328784  \n"
     ]
    },
    {
     "name": "stderr",
     "output_type": "stream",
     "text": [
      "\r",
      " 33%|███▎      | 66/200 [00:23<00:42,  3.15it/s]"
     ]
    },
    {
     "name": "stdout",
     "output_type": "stream",
     "text": [
      "CPU times: user 115 ms, sys: 16.3 ms, total: 132 ms\n",
      "Wall time: 176 ms\n",
      "                                             col_used  max_depth  \\\n",
      "34  [55, 48, 27, 145, 58, 157, 25, 135, 153, 47, 2...        292   \n",
      "\n",
      "    max_leaf_nodes  n_estimators       rmse    rmsle  sample_size   sd_rmse  \n",
      "34             232           170  54.975836  0.04913           13  0.328784  \n"
     ]
    },
    {
     "name": "stderr",
     "output_type": "stream",
     "text": [
      "\r",
      " 34%|███▎      | 67/200 [00:23<00:41,  3.22it/s]"
     ]
    },
    {
     "name": "stdout",
     "output_type": "stream",
     "text": [
      "CPU times: user 115 ms, sys: 15.9 ms, total: 130 ms\n",
      "Wall time: 171 ms\n",
      "                                             col_used  max_depth  \\\n",
      "34  [55, 48, 27, 145, 58, 157, 25, 135, 153, 47, 2...        292   \n",
      "\n",
      "    max_leaf_nodes  n_estimators       rmse    rmsle  sample_size   sd_rmse  \n",
      "34             232           170  54.975836  0.04913           13  0.328784  \n"
     ]
    },
    {
     "name": "stderr",
     "output_type": "stream",
     "text": [
      "\r",
      " 34%|███▍      | 68/200 [00:23<00:40,  3.22it/s]"
     ]
    },
    {
     "name": "stdout",
     "output_type": "stream",
     "text": [
      "CPU times: user 134 ms, sys: 19.8 ms, total: 154 ms\n",
      "Wall time: 187 ms\n",
      "                                             col_used  max_depth  \\\n",
      "34  [55, 48, 27, 145, 58, 157, 25, 135, 153, 47, 2...        292   \n",
      "\n",
      "    max_leaf_nodes  n_estimators       rmse    rmsle  sample_size   sd_rmse  \n",
      "34             232           170  54.975836  0.04913           13  0.328784  \n"
     ]
    },
    {
     "name": "stderr",
     "output_type": "stream",
     "text": [
      "\r",
      " 34%|███▍      | 69/200 [00:24<00:40,  3.23it/s]"
     ]
    },
    {
     "name": "stdout",
     "output_type": "stream",
     "text": [
      "CPU times: user 142 ms, sys: 19.8 ms, total: 162 ms\n",
      "Wall time: 185 ms\n",
      "                                             col_used  max_depth  \\\n",
      "34  [55, 48, 27, 145, 58, 157, 25, 135, 153, 47, 2...        292   \n",
      "\n",
      "    max_leaf_nodes  n_estimators       rmse    rmsle  sample_size   sd_rmse  \n",
      "34             232           170  54.975836  0.04913           13  0.328784  \n"
     ]
    },
    {
     "name": "stderr",
     "output_type": "stream",
     "text": [
      "\r",
      " 35%|███▌      | 70/200 [00:24<00:40,  3.23it/s]"
     ]
    },
    {
     "name": "stdout",
     "output_type": "stream",
     "text": [
      "CPU times: user 132 ms, sys: 19.3 ms, total: 152 ms\n",
      "Wall time: 184 ms\n",
      "                                             col_used  max_depth  \\\n",
      "34  [55, 48, 27, 145, 58, 157, 25, 135, 153, 47, 2...        292   \n",
      "\n",
      "    max_leaf_nodes  n_estimators       rmse    rmsle  sample_size   sd_rmse  \n",
      "34             232           170  54.975836  0.04913           13  0.328784  \n"
     ]
    },
    {
     "name": "stderr",
     "output_type": "stream",
     "text": [
      "\r",
      " 36%|███▌      | 71/200 [00:24<00:39,  3.27it/s]"
     ]
    },
    {
     "name": "stdout",
     "output_type": "stream",
     "text": [
      "CPU times: user 122 ms, sys: 17.3 ms, total: 139 ms\n",
      "Wall time: 176 ms\n",
      "                                             col_used  max_depth  \\\n",
      "34  [55, 48, 27, 145, 58, 157, 25, 135, 153, 47, 2...        292   \n",
      "\n",
      "    max_leaf_nodes  n_estimators       rmse    rmsle  sample_size   sd_rmse  \n",
      "34             232           170  54.975836  0.04913           13  0.328784  \n"
     ]
    },
    {
     "name": "stderr",
     "output_type": "stream",
     "text": [
      "\r",
      " 36%|███▌      | 72/200 [00:25<00:39,  3.22it/s]"
     ]
    },
    {
     "name": "stdout",
     "output_type": "stream",
     "text": [
      "CPU times: user 153 ms, sys: 21.3 ms, total: 174 ms\n",
      "Wall time: 195 ms\n",
      "                                             col_used  max_depth  \\\n",
      "34  [55, 48, 27, 145, 58, 157, 25, 135, 153, 47, 2...        292   \n",
      "\n",
      "    max_leaf_nodes  n_estimators       rmse    rmsle  sample_size   sd_rmse  \n",
      "34             232           170  54.975836  0.04913           13  0.328784  \n"
     ]
    },
    {
     "name": "stderr",
     "output_type": "stream",
     "text": [
      "\r",
      " 36%|███▋      | 73/200 [00:25<00:40,  3.15it/s]"
     ]
    },
    {
     "name": "stdout",
     "output_type": "stream",
     "text": [
      "CPU times: user 176 ms, sys: 25 ms, total: 201 ms\n",
      "Wall time: 211 ms\n",
      "                                             col_used  max_depth  \\\n",
      "34  [55, 48, 27, 145, 58, 157, 25, 135, 153, 47, 2...        292   \n",
      "\n",
      "    max_leaf_nodes  n_estimators       rmse    rmsle  sample_size   sd_rmse  \n",
      "34             232           170  54.975836  0.04913           13  0.328784  \n"
     ]
    },
    {
     "name": "stderr",
     "output_type": "stream",
     "text": [
      "\r",
      " 37%|███▋      | 74/200 [00:25<00:38,  3.25it/s]"
     ]
    },
    {
     "name": "stdout",
     "output_type": "stream",
     "text": [
      "CPU times: user 92.7 ms, sys: 12.3 ms, total: 105 ms\n",
      "Wall time: 160 ms\n",
      "                                             col_used  max_depth  \\\n",
      "34  [55, 48, 27, 145, 58, 157, 25, 135, 153, 47, 2...        292   \n",
      "\n",
      "    max_leaf_nodes  n_estimators       rmse    rmsle  sample_size   sd_rmse  \n",
      "34             232           170  54.975836  0.04913           13  0.328784  \n"
     ]
    },
    {
     "name": "stderr",
     "output_type": "stream",
     "text": [
      "\r",
      " 38%|███▊      | 75/200 [00:25<00:40,  3.10it/s]"
     ]
    },
    {
     "name": "stdout",
     "output_type": "stream",
     "text": [
      "CPU times: user 204 ms, sys: 29 ms, total: 233 ms\n",
      "Wall time: 231 ms\n",
      "                                             col_used  max_depth  \\\n",
      "34  [55, 48, 27, 145, 58, 157, 25, 135, 153, 47, 2...        292   \n",
      "\n",
      "    max_leaf_nodes  n_estimators       rmse    rmsle  sample_size   sd_rmse  \n",
      "34             232           170  54.975836  0.04913           13  0.328784  \n"
     ]
    },
    {
     "name": "stderr",
     "output_type": "stream",
     "text": [
      "\r",
      " 38%|███▊      | 76/200 [00:26<00:39,  3.17it/s]"
     ]
    },
    {
     "name": "stdout",
     "output_type": "stream",
     "text": [
      "CPU times: user 131 ms, sys: 19.7 ms, total: 150 ms\n",
      "Wall time: 180 ms\n",
      "                                             col_used  max_depth  \\\n",
      "34  [55, 48, 27, 145, 58, 157, 25, 135, 153, 47, 2...        292   \n",
      "\n",
      "    max_leaf_nodes  n_estimators       rmse    rmsle  sample_size   sd_rmse  \n",
      "34             232           170  54.975836  0.04913           13  0.328784  \n"
     ]
    },
    {
     "name": "stderr",
     "output_type": "stream",
     "text": [
      "\r",
      " 38%|███▊      | 77/200 [00:26<00:37,  3.25it/s]"
     ]
    },
    {
     "name": "stdout",
     "output_type": "stream",
     "text": [
      "CPU times: user 99.6 ms, sys: 13.3 ms, total: 113 ms\n",
      "Wall time: 165 ms\n",
      "                                             col_used  max_depth  \\\n",
      "34  [55, 48, 27, 145, 58, 157, 25, 135, 153, 47, 2...        292   \n",
      "\n",
      "    max_leaf_nodes  n_estimators       rmse    rmsle  sample_size   sd_rmse  \n",
      "34             232           170  54.975836  0.04913           13  0.328784  \n"
     ]
    },
    {
     "name": "stderr",
     "output_type": "stream",
     "text": [
      "\r",
      " 39%|███▉      | 78/200 [00:26<00:37,  3.27it/s]"
     ]
    },
    {
     "name": "stdout",
     "output_type": "stream",
     "text": [
      "CPU times: user 123 ms, sys: 16.9 ms, total: 140 ms\n",
      "Wall time: 180 ms\n",
      "                                             col_used  max_depth  \\\n",
      "34  [55, 48, 27, 145, 58, 157, 25, 135, 153, 47, 2...        292   \n",
      "\n",
      "    max_leaf_nodes  n_estimators       rmse    rmsle  sample_size   sd_rmse  \n",
      "34             232           170  54.975836  0.04913           13  0.328784  \n"
     ]
    },
    {
     "name": "stderr",
     "output_type": "stream",
     "text": [
      "\r",
      " 40%|███▉      | 79/200 [00:27<00:38,  3.14it/s]"
     ]
    },
    {
     "name": "stdout",
     "output_type": "stream",
     "text": [
      "CPU times: user 200 ms, sys: 29.3 ms, total: 229 ms\n",
      "Wall time: 223 ms\n",
      "                                             col_used  max_depth  \\\n",
      "78  [29, 29, 146, 39, 147, 51, 130, 26, 95, 122, 4...        126   \n",
      "\n",
      "    max_leaf_nodes  n_estimators       rmse     rmsle  sample_size   sd_rmse  \n",
      "78             195           369  53.103515  0.047381           19  0.317587  \n"
     ]
    },
    {
     "name": "stderr",
     "output_type": "stream",
     "text": [
      "\r",
      " 40%|████      | 80/200 [00:27<00:38,  3.11it/s]"
     ]
    },
    {
     "name": "stdout",
     "output_type": "stream",
     "text": [
      "CPU times: user 152 ms, sys: 20.3 ms, total: 172 ms\n",
      "Wall time: 203 ms\n",
      "                                             col_used  max_depth  \\\n",
      "78  [29, 29, 146, 39, 147, 51, 130, 26, 95, 122, 4...        126   \n",
      "\n",
      "    max_leaf_nodes  n_estimators       rmse     rmsle  sample_size   sd_rmse  \n",
      "78             195           369  53.103515  0.047381           19  0.317587  \n"
     ]
    },
    {
     "name": "stderr",
     "output_type": "stream",
     "text": [
      "\r",
      " 40%|████      | 81/200 [00:27<00:39,  3.04it/s]"
     ]
    },
    {
     "name": "stdout",
     "output_type": "stream",
     "text": [
      "CPU times: user 186 ms, sys: 26.7 ms, total: 213 ms\n",
      "Wall time: 222 ms\n",
      "                                             col_used  max_depth  \\\n",
      "78  [29, 29, 146, 39, 147, 51, 130, 26, 95, 122, 4...        126   \n",
      "\n",
      "    max_leaf_nodes  n_estimators       rmse     rmsle  sample_size   sd_rmse  \n",
      "78             195           369  53.103515  0.047381           19  0.317587  \n"
     ]
    },
    {
     "name": "stderr",
     "output_type": "stream",
     "text": [
      "\r",
      " 41%|████      | 82/200 [00:28<00:38,  3.06it/s]"
     ]
    },
    {
     "name": "stdout",
     "output_type": "stream",
     "text": [
      "CPU times: user 155 ms, sys: 22.4 ms, total: 178 ms\n",
      "Wall time: 198 ms\n",
      "                                             col_used  max_depth  \\\n",
      "78  [29, 29, 146, 39, 147, 51, 130, 26, 95, 122, 4...        126   \n",
      "\n",
      "    max_leaf_nodes  n_estimators       rmse     rmsle  sample_size   sd_rmse  \n",
      "78             195           369  53.103515  0.047381           19  0.317587  \n"
     ]
    },
    {
     "name": "stderr",
     "output_type": "stream",
     "text": [
      "\r",
      " 42%|████▏     | 83/200 [00:28<00:37,  3.11it/s]"
     ]
    },
    {
     "name": "stdout",
     "output_type": "stream",
     "text": [
      "CPU times: user 99.8 ms, sys: 14.1 ms, total: 114 ms\n",
      "Wall time: 182 ms\n",
      "                                             col_used  max_depth  \\\n",
      "78  [29, 29, 146, 39, 147, 51, 130, 26, 95, 122, 4...        126   \n",
      "\n",
      "    max_leaf_nodes  n_estimators       rmse     rmsle  sample_size   sd_rmse  \n",
      "78             195           369  53.103515  0.047381           19  0.317587  \n"
     ]
    },
    {
     "name": "stderr",
     "output_type": "stream",
     "text": [
      "\r",
      " 42%|████▏     | 84/200 [00:28<00:36,  3.19it/s]"
     ]
    },
    {
     "name": "stdout",
     "output_type": "stream",
     "text": [
      "CPU times: user 113 ms, sys: 16 ms, total: 129 ms\n",
      "Wall time: 171 ms\n",
      "                                             col_used  max_depth  \\\n",
      "78  [29, 29, 146, 39, 147, 51, 130, 26, 95, 122, 4...        126   \n",
      "\n",
      "    max_leaf_nodes  n_estimators       rmse     rmsle  sample_size   sd_rmse  \n",
      "78             195           369  53.103515  0.047381           19  0.317587  \n"
     ]
    },
    {
     "name": "stderr",
     "output_type": "stream",
     "text": [
      "\r",
      " 42%|████▎     | 85/200 [00:29<00:37,  3.08it/s]"
     ]
    },
    {
     "name": "stdout",
     "output_type": "stream",
     "text": [
      "CPU times: user 199 ms, sys: 28.2 ms, total: 227 ms\n",
      "Wall time: 226 ms\n",
      "                                             col_used  max_depth  \\\n",
      "78  [29, 29, 146, 39, 147, 51, 130, 26, 95, 122, 4...        126   \n",
      "\n",
      "    max_leaf_nodes  n_estimators       rmse     rmsle  sample_size   sd_rmse  \n",
      "78             195           369  53.103515  0.047381           19  0.317587  \n"
     ]
    },
    {
     "name": "stderr",
     "output_type": "stream",
     "text": [
      "\r",
      " 43%|████▎     | 86/200 [00:29<00:37,  3.03it/s]"
     ]
    },
    {
     "name": "stdout",
     "output_type": "stream",
     "text": [
      "CPU times: user 189 ms, sys: 27.9 ms, total: 217 ms\n",
      "Wall time: 217 ms\n",
      "                                             col_used  max_depth  \\\n",
      "78  [29, 29, 146, 39, 147, 51, 130, 26, 95, 122, 4...        126   \n",
      "\n",
      "    max_leaf_nodes  n_estimators       rmse     rmsle  sample_size   sd_rmse  \n",
      "78             195           369  53.103515  0.047381           19  0.317587  \n"
     ]
    },
    {
     "name": "stderr",
     "output_type": "stream",
     "text": [
      "\r",
      " 44%|████▎     | 87/200 [00:29<00:38,  2.94it/s]"
     ]
    },
    {
     "name": "stdout",
     "output_type": "stream",
     "text": [
      "CPU times: user 218 ms, sys: 30.2 ms, total: 248 ms\n",
      "Wall time: 242 ms\n",
      "                                             col_used  max_depth  \\\n",
      "78  [29, 29, 146, 39, 147, 51, 130, 26, 95, 122, 4...        126   \n",
      "\n",
      "    max_leaf_nodes  n_estimators       rmse     rmsle  sample_size   sd_rmse  \n",
      "78             195           369  53.103515  0.047381           19  0.317587  \n"
     ]
    },
    {
     "name": "stderr",
     "output_type": "stream",
     "text": [
      "\r",
      " 44%|████▍     | 88/200 [00:30<00:38,  2.91it/s]"
     ]
    },
    {
     "name": "stdout",
     "output_type": "stream",
     "text": [
      "CPU times: user 202 ms, sys: 29.9 ms, total: 232 ms\n",
      "Wall time: 227 ms\n",
      "                                             col_used  max_depth  \\\n",
      "78  [29, 29, 146, 39, 147, 51, 130, 26, 95, 122, 4...        126   \n",
      "\n",
      "    max_leaf_nodes  n_estimators       rmse     rmsle  sample_size   sd_rmse  \n",
      "78             195           369  53.103515  0.047381           19  0.317587  \n"
     ]
    },
    {
     "name": "stderr",
     "output_type": "stream",
     "text": [
      "\r",
      " 44%|████▍     | 89/200 [00:30<00:38,  2.87it/s]"
     ]
    },
    {
     "name": "stdout",
     "output_type": "stream",
     "text": [
      "CPU times: user 207 ms, sys: 29.9 ms, total: 237 ms\n",
      "Wall time: 236 ms\n",
      "                                             col_used  max_depth  \\\n",
      "78  [29, 29, 146, 39, 147, 51, 130, 26, 95, 122, 4...        126   \n",
      "\n",
      "    max_leaf_nodes  n_estimators       rmse     rmsle  sample_size   sd_rmse  \n",
      "78             195           369  53.103515  0.047381           19  0.317587  \n"
     ]
    },
    {
     "name": "stderr",
     "output_type": "stream",
     "text": [
      "\r",
      " 45%|████▌     | 90/200 [00:30<00:38,  2.84it/s]"
     ]
    },
    {
     "name": "stdout",
     "output_type": "stream",
     "text": [
      "CPU times: user 207 ms, sys: 28.4 ms, total: 235 ms\n",
      "Wall time: 234 ms\n",
      "                                             col_used  max_depth  \\\n",
      "78  [29, 29, 146, 39, 147, 51, 130, 26, 95, 122, 4...        126   \n",
      "\n",
      "    max_leaf_nodes  n_estimators       rmse     rmsle  sample_size   sd_rmse  \n",
      "78             195           369  53.103515  0.047381           19  0.317587  \n"
     ]
    },
    {
     "name": "stderr",
     "output_type": "stream",
     "text": [
      "\r",
      " 46%|████▌     | 91/200 [00:31<00:37,  2.94it/s]"
     ]
    },
    {
     "name": "stdout",
     "output_type": "stream",
     "text": [
      "CPU times: user 138 ms, sys: 19.9 ms, total: 157 ms\n",
      "Wall time: 187 ms\n",
      "                                             col_used  max_depth  \\\n",
      "78  [29, 29, 146, 39, 147, 51, 130, 26, 95, 122, 4...        126   \n",
      "\n",
      "    max_leaf_nodes  n_estimators       rmse     rmsle  sample_size   sd_rmse  \n",
      "78             195           369  53.103515  0.047381           19  0.317587  \n"
     ]
    },
    {
     "name": "stderr",
     "output_type": "stream",
     "text": [
      "\r",
      " 46%|████▌     | 92/200 [00:31<00:36,  3.00it/s]"
     ]
    },
    {
     "name": "stdout",
     "output_type": "stream",
     "text": [
      "CPU times: user 167 ms, sys: 27.5 ms, total: 194 ms\n",
      "Wall time: 194 ms\n",
      "                                             col_used  max_depth  \\\n",
      "78  [29, 29, 146, 39, 147, 51, 130, 26, 95, 122, 4...        126   \n",
      "\n",
      "    max_leaf_nodes  n_estimators       rmse     rmsle  sample_size   sd_rmse  \n",
      "78             195           369  53.103515  0.047381           19  0.317587  \n"
     ]
    },
    {
     "name": "stderr",
     "output_type": "stream",
     "text": [
      "\r",
      " 46%|████▋     | 93/200 [00:31<00:35,  3.03it/s]"
     ]
    },
    {
     "name": "stdout",
     "output_type": "stream",
     "text": [
      "CPU times: user 169 ms, sys: 28.5 ms, total: 198 ms\n",
      "Wall time: 196 ms\n",
      "                                             col_used  max_depth  \\\n",
      "78  [29, 29, 146, 39, 147, 51, 130, 26, 95, 122, 4...        126   \n",
      "\n",
      "    max_leaf_nodes  n_estimators       rmse     rmsle  sample_size   sd_rmse  \n",
      "78             195           369  53.103515  0.047381           19  0.317587  \n"
     ]
    },
    {
     "name": "stderr",
     "output_type": "stream",
     "text": [
      "\r",
      " 47%|████▋     | 94/200 [00:32<00:38,  2.75it/s]"
     ]
    },
    {
     "name": "stdout",
     "output_type": "stream",
     "text": [
      "CPU times: user 207 ms, sys: 36.9 ms, total: 244 ms\n",
      "Wall time: 314 ms\n",
      "                                             col_used  max_depth  \\\n",
      "78  [29, 29, 146, 39, 147, 51, 130, 26, 95, 122, 4...        126   \n",
      "\n",
      "    max_leaf_nodes  n_estimators       rmse     rmsle  sample_size   sd_rmse  \n",
      "78             195           369  53.103515  0.047381           19  0.317587  \n"
     ]
    },
    {
     "name": "stderr",
     "output_type": "stream",
     "text": [
      "\r",
      " 48%|████▊     | 95/200 [00:32<00:37,  2.77it/s]"
     ]
    },
    {
     "name": "stdout",
     "output_type": "stream",
     "text": [
      "CPU times: user 207 ms, sys: 30 ms, total: 237 ms\n",
      "Wall time: 234 ms\n",
      "                                             col_used  max_depth  \\\n",
      "78  [29, 29, 146, 39, 147, 51, 130, 26, 95, 122, 4...        126   \n",
      "\n",
      "    max_leaf_nodes  n_estimators       rmse     rmsle  sample_size   sd_rmse  \n",
      "78             195           369  53.103515  0.047381           19  0.317587  \n"
     ]
    },
    {
     "name": "stderr",
     "output_type": "stream",
     "text": [
      "\r",
      " 48%|████▊     | 96/200 [00:32<00:35,  2.95it/s]"
     ]
    },
    {
     "name": "stdout",
     "output_type": "stream",
     "text": [
      "CPU times: user 116 ms, sys: 17 ms, total: 133 ms\n",
      "Wall time: 172 ms\n",
      "                                             col_used  max_depth  \\\n",
      "78  [29, 29, 146, 39, 147, 51, 130, 26, 95, 122, 4...        126   \n",
      "\n",
      "    max_leaf_nodes  n_estimators       rmse     rmsle  sample_size   sd_rmse  \n",
      "78             195           369  53.103515  0.047381           19  0.317587  \n"
     ]
    },
    {
     "name": "stderr",
     "output_type": "stream",
     "text": [
      "\r",
      " 48%|████▊     | 97/200 [00:33<00:36,  2.85it/s]"
     ]
    },
    {
     "name": "stdout",
     "output_type": "stream",
     "text": [
      "CPU times: user 222 ms, sys: 30 ms, total: 252 ms\n",
      "Wall time: 256 ms\n",
      "                                             col_used  max_depth  \\\n",
      "78  [29, 29, 146, 39, 147, 51, 130, 26, 95, 122, 4...        126   \n",
      "\n",
      "    max_leaf_nodes  n_estimators       rmse     rmsle  sample_size   sd_rmse  \n",
      "78             195           369  53.103515  0.047381           19  0.317587  \n"
     ]
    },
    {
     "name": "stderr",
     "output_type": "stream",
     "text": [
      "\r",
      " 49%|████▉     | 98/200 [00:33<00:36,  2.81it/s]"
     ]
    },
    {
     "name": "stdout",
     "output_type": "stream",
     "text": [
      "CPU times: user 225 ms, sys: 32.5 ms, total: 258 ms\n",
      "Wall time: 242 ms\n",
      "                                             col_used  max_depth  \\\n",
      "78  [29, 29, 146, 39, 147, 51, 130, 26, 95, 122, 4...        126   \n",
      "\n",
      "    max_leaf_nodes  n_estimators       rmse     rmsle  sample_size   sd_rmse  \n",
      "78             195           369  53.103515  0.047381           19  0.317587  \n"
     ]
    },
    {
     "name": "stderr",
     "output_type": "stream",
     "text": [
      "\r",
      " 50%|████▉     | 99/200 [00:34<00:34,  2.91it/s]"
     ]
    },
    {
     "name": "stdout",
     "output_type": "stream",
     "text": [
      "CPU times: user 146 ms, sys: 20.6 ms, total: 166 ms\n",
      "Wall time: 190 ms\n",
      "                                             col_used  max_depth  \\\n",
      "78  [29, 29, 146, 39, 147, 51, 130, 26, 95, 122, 4...        126   \n",
      "\n",
      "    max_leaf_nodes  n_estimators       rmse     rmsle  sample_size   sd_rmse  \n",
      "78             195           369  53.103515  0.047381           19  0.317587  \n"
     ]
    },
    {
     "name": "stderr",
     "output_type": "stream",
     "text": [
      "\r",
      " 50%|█████     | 100/200 [00:34<00:34,  2.89it/s]"
     ]
    },
    {
     "name": "stdout",
     "output_type": "stream",
     "text": [
      "CPU times: user 171 ms, sys: 20.5 ms, total: 191 ms\n",
      "Wall time: 223 ms\n",
      "                                             col_used  max_depth  \\\n",
      "78  [29, 29, 146, 39, 147, 51, 130, 26, 95, 122, 4...        126   \n",
      "\n",
      "    max_leaf_nodes  n_estimators       rmse     rmsle  sample_size   sd_rmse  \n",
      "78             195           369  53.103515  0.047381           19  0.317587  \n"
     ]
    },
    {
     "name": "stderr",
     "output_type": "stream",
     "text": [
      "\r",
      " 50%|█████     | 101/200 [00:34<00:34,  2.89it/s]"
     ]
    },
    {
     "name": "stdout",
     "output_type": "stream",
     "text": [
      "CPU times: user 182 ms, sys: 25.6 ms, total: 208 ms\n",
      "Wall time: 221 ms\n",
      "                                             col_used  max_depth  \\\n",
      "78  [29, 29, 146, 39, 147, 51, 130, 26, 95, 122, 4...        126   \n",
      "\n",
      "    max_leaf_nodes  n_estimators       rmse     rmsle  sample_size   sd_rmse  \n",
      "78             195           369  53.103515  0.047381           19  0.317587  \n"
     ]
    },
    {
     "name": "stderr",
     "output_type": "stream",
     "text": [
      "\r",
      " 51%|█████     | 102/200 [00:35<00:34,  2.84it/s]"
     ]
    },
    {
     "name": "stdout",
     "output_type": "stream",
     "text": [
      "CPU times: user 223 ms, sys: 30.7 ms, total: 253 ms\n",
      "Wall time: 244 ms\n",
      "                                             col_used  max_depth  \\\n",
      "78  [29, 29, 146, 39, 147, 51, 130, 26, 95, 122, 4...        126   \n",
      "\n",
      "    max_leaf_nodes  n_estimators       rmse     rmsle  sample_size   sd_rmse  \n",
      "78             195           369  53.103515  0.047381           19  0.317587  \n"
     ]
    },
    {
     "name": "stderr",
     "output_type": "stream",
     "text": [
      "\r",
      " 52%|█████▏    | 103/200 [00:35<00:34,  2.81it/s]"
     ]
    },
    {
     "name": "stdout",
     "output_type": "stream",
     "text": [
      "CPU times: user 208 ms, sys: 29.6 ms, total: 237 ms\n",
      "Wall time: 238 ms\n",
      "                                             col_used  max_depth  \\\n",
      "78  [29, 29, 146, 39, 147, 51, 130, 26, 95, 122, 4...        126   \n",
      "\n",
      "    max_leaf_nodes  n_estimators       rmse     rmsle  sample_size   sd_rmse  \n",
      "78             195           369  53.103515  0.047381           19  0.317587  \n"
     ]
    },
    {
     "name": "stderr",
     "output_type": "stream",
     "text": [
      "\r",
      " 52%|█████▏    | 104/200 [00:35<00:33,  2.89it/s]"
     ]
    },
    {
     "name": "stdout",
     "output_type": "stream",
     "text": [
      "CPU times: user 155 ms, sys: 21.7 ms, total: 177 ms\n",
      "Wall time: 201 ms\n",
      "                                             col_used  max_depth  \\\n",
      "78  [29, 29, 146, 39, 147, 51, 130, 26, 95, 122, 4...        126   \n",
      "\n",
      "    max_leaf_nodes  n_estimators       rmse     rmsle  sample_size   sd_rmse  \n",
      "78             195           369  53.103515  0.047381           19  0.317587  \n"
     ]
    },
    {
     "name": "stderr",
     "output_type": "stream",
     "text": [
      "\r",
      " 52%|█████▎    | 105/200 [00:36<00:33,  2.83it/s]"
     ]
    },
    {
     "name": "stdout",
     "output_type": "stream",
     "text": [
      "CPU times: user 199 ms, sys: 24.3 ms, total: 223 ms\n",
      "Wall time: 245 ms\n",
      "                                             col_used  max_depth  \\\n",
      "78  [29, 29, 146, 39, 147, 51, 130, 26, 95, 122, 4...        126   \n",
      "\n",
      "    max_leaf_nodes  n_estimators       rmse     rmsle  sample_size   sd_rmse  \n",
      "78             195           369  53.103515  0.047381           19  0.317587  \n"
     ]
    },
    {
     "name": "stderr",
     "output_type": "stream",
     "text": [
      "\r",
      " 53%|█████▎    | 106/200 [00:36<00:31,  2.97it/s]"
     ]
    },
    {
     "name": "stdout",
     "output_type": "stream",
     "text": [
      "CPU times: user 142 ms, sys: 20.3 ms, total: 163 ms\n",
      "Wall time: 181 ms\n",
      "                                             col_used  max_depth  \\\n",
      "78  [29, 29, 146, 39, 147, 51, 130, 26, 95, 122, 4...        126   \n",
      "\n",
      "    max_leaf_nodes  n_estimators       rmse     rmsle  sample_size   sd_rmse  \n",
      "78             195           369  53.103515  0.047381           19  0.317587  \n"
     ]
    },
    {
     "name": "stderr",
     "output_type": "stream",
     "text": [
      "\r",
      " 54%|█████▎    | 107/200 [00:36<00:31,  2.99it/s]"
     ]
    },
    {
     "name": "stdout",
     "output_type": "stream",
     "text": [
      "CPU times: user 167 ms, sys: 22.3 ms, total: 189 ms\n",
      "Wall time: 205 ms\n",
      "                                             col_used  max_depth  \\\n",
      "78  [29, 29, 146, 39, 147, 51, 130, 26, 95, 122, 4...        126   \n",
      "\n",
      "    max_leaf_nodes  n_estimators       rmse     rmsle  sample_size   sd_rmse  \n",
      "78             195           369  53.103515  0.047381           19  0.317587  \n"
     ]
    },
    {
     "name": "stderr",
     "output_type": "stream",
     "text": [
      "\r",
      " 54%|█████▍    | 108/200 [00:37<00:29,  3.11it/s]"
     ]
    },
    {
     "name": "stdout",
     "output_type": "stream",
     "text": [
      "CPU times: user 109 ms, sys: 16.1 ms, total: 125 ms\n",
      "Wall time: 170 ms\n",
      "                                             col_used  max_depth  \\\n",
      "78  [29, 29, 146, 39, 147, 51, 130, 26, 95, 122, 4...        126   \n",
      "\n",
      "    max_leaf_nodes  n_estimators       rmse     rmsle  sample_size   sd_rmse  \n",
      "78             195           369  53.103515  0.047381           19  0.317587  \n"
     ]
    },
    {
     "name": "stderr",
     "output_type": "stream",
     "text": [
      "\r",
      " 55%|█████▍    | 109/200 [00:37<00:29,  3.11it/s]"
     ]
    },
    {
     "name": "stdout",
     "output_type": "stream",
     "text": [
      "CPU times: user 149 ms, sys: 21.5 ms, total: 171 ms\n",
      "Wall time: 195 ms\n",
      "                                             col_used  max_depth  \\\n",
      "78  [29, 29, 146, 39, 147, 51, 130, 26, 95, 122, 4...        126   \n",
      "\n",
      "    max_leaf_nodes  n_estimators       rmse     rmsle  sample_size   sd_rmse  \n",
      "78             195           369  53.103515  0.047381           19  0.317587  \n"
     ]
    },
    {
     "name": "stderr",
     "output_type": "stream",
     "text": [
      "\r",
      " 55%|█████▌    | 110/200 [00:37<00:32,  2.79it/s]"
     ]
    },
    {
     "name": "stdout",
     "output_type": "stream",
     "text": [
      "CPU times: user 230 ms, sys: 39.6 ms, total: 270 ms\n",
      "Wall time: 328 ms\n",
      "                                             col_used  max_depth  \\\n",
      "78  [29, 29, 146, 39, 147, 51, 130, 26, 95, 122, 4...        126   \n",
      "\n",
      "    max_leaf_nodes  n_estimators       rmse     rmsle  sample_size   sd_rmse  \n",
      "78             195           369  53.103515  0.047381           19  0.317587  \n"
     ]
    },
    {
     "name": "stderr",
     "output_type": "stream",
     "text": [
      "\r",
      " 56%|█████▌    | 111/200 [00:38<00:30,  2.90it/s]"
     ]
    },
    {
     "name": "stdout",
     "output_type": "stream",
     "text": [
      "CPU times: user 142 ms, sys: 17.1 ms, total: 159 ms\n",
      "Wall time: 188 ms\n",
      "                                             col_used  max_depth  \\\n",
      "78  [29, 29, 146, 39, 147, 51, 130, 26, 95, 122, 4...        126   \n",
      "\n",
      "    max_leaf_nodes  n_estimators       rmse     rmsle  sample_size   sd_rmse  \n",
      "78             195           369  53.103515  0.047381           19  0.317587  \n"
     ]
    },
    {
     "name": "stderr",
     "output_type": "stream",
     "text": [
      "\r",
      " 56%|█████▌    | 112/200 [00:38<00:29,  2.96it/s]"
     ]
    },
    {
     "name": "stdout",
     "output_type": "stream",
     "text": [
      "CPU times: user 168 ms, sys: 19.3 ms, total: 187 ms\n",
      "Wall time: 196 ms\n",
      "                                             col_used  max_depth  \\\n",
      "78  [29, 29, 146, 39, 147, 51, 130, 26, 95, 122, 4...        126   \n",
      "\n",
      "    max_leaf_nodes  n_estimators       rmse     rmsle  sample_size   sd_rmse  \n",
      "78             195           369  53.103515  0.047381           19  0.317587  \n"
     ]
    },
    {
     "name": "stderr",
     "output_type": "stream",
     "text": [
      "\r",
      " 56%|█████▋    | 113/200 [00:38<00:30,  2.85it/s]"
     ]
    },
    {
     "name": "stdout",
     "output_type": "stream",
     "text": [
      "CPU times: user 232 ms, sys: 31.1 ms, total: 263 ms\n",
      "Wall time: 255 ms\n",
      "                                             col_used  max_depth  \\\n",
      "78  [29, 29, 146, 39, 147, 51, 130, 26, 95, 122, 4...        126   \n",
      "\n",
      "    max_leaf_nodes  n_estimators       rmse     rmsle  sample_size   sd_rmse  \n",
      "78             195           369  53.103515  0.047381           19  0.317587  \n"
     ]
    },
    {
     "name": "stderr",
     "output_type": "stream",
     "text": [
      "\r",
      " 57%|█████▋    | 114/200 [00:39<00:29,  2.90it/s]"
     ]
    },
    {
     "name": "stdout",
     "output_type": "stream",
     "text": [
      "CPU times: user 166 ms, sys: 24.8 ms, total: 191 ms\n",
      "Wall time: 207 ms\n",
      "                                             col_used  max_depth  \\\n",
      "78  [29, 29, 146, 39, 147, 51, 130, 26, 95, 122, 4...        126   \n",
      "\n",
      "    max_leaf_nodes  n_estimators       rmse     rmsle  sample_size   sd_rmse  \n",
      "78             195           369  53.103515  0.047381           19  0.317587  \n"
     ]
    },
    {
     "name": "stderr",
     "output_type": "stream",
     "text": [
      "\r",
      " 57%|█████▊    | 115/200 [00:39<00:29,  2.86it/s]"
     ]
    },
    {
     "name": "stdout",
     "output_type": "stream",
     "text": [
      "CPU times: user 211 ms, sys: 29.2 ms, total: 240 ms\n",
      "Wall time: 236 ms\n",
      "                                             col_used  max_depth  \\\n",
      "78  [29, 29, 146, 39, 147, 51, 130, 26, 95, 122, 4...        126   \n",
      "\n",
      "    max_leaf_nodes  n_estimators       rmse     rmsle  sample_size   sd_rmse  \n",
      "78             195           369  53.103515  0.047381           19  0.317587  \n"
     ]
    },
    {
     "name": "stderr",
     "output_type": "stream",
     "text": [
      "\r",
      " 58%|█████▊    | 116/200 [00:39<00:27,  3.02it/s]"
     ]
    },
    {
     "name": "stdout",
     "output_type": "stream",
     "text": [
      "CPU times: user 102 ms, sys: 14.1 ms, total: 116 ms\n",
      "Wall time: 165 ms\n",
      "                                             col_used  max_depth  \\\n",
      "78  [29, 29, 146, 39, 147, 51, 130, 26, 95, 122, 4...        126   \n",
      "\n",
      "    max_leaf_nodes  n_estimators       rmse     rmsle  sample_size   sd_rmse  \n",
      "78             195           369  53.103515  0.047381           19  0.317587  \n"
     ]
    },
    {
     "name": "stderr",
     "output_type": "stream",
     "text": [
      "\r",
      " 58%|█████▊    | 117/200 [00:40<00:26,  3.11it/s]"
     ]
    },
    {
     "name": "stdout",
     "output_type": "stream",
     "text": [
      "CPU times: user 120 ms, sys: 17.1 ms, total: 137 ms\n",
      "Wall time: 176 ms\n",
      "                                             col_used  max_depth  \\\n",
      "78  [29, 29, 146, 39, 147, 51, 130, 26, 95, 122, 4...        126   \n",
      "\n",
      "    max_leaf_nodes  n_estimators       rmse     rmsle  sample_size   sd_rmse  \n",
      "78             195           369  53.103515  0.047381           19  0.317587  \n"
     ]
    },
    {
     "name": "stderr",
     "output_type": "stream",
     "text": [
      "\r",
      " 59%|█████▉    | 118/200 [00:40<00:26,  3.07it/s]"
     ]
    },
    {
     "name": "stdout",
     "output_type": "stream",
     "text": [
      "CPU times: user 179 ms, sys: 25.6 ms, total: 204 ms\n",
      "Wall time: 211 ms\n",
      "                                              col_used  max_depth  \\\n",
      "117  [5, 113, 118, 46, 136, 151, 98, 126, 42, 79, 1...        163   \n",
      "\n",
      "     max_leaf_nodes  n_estimators      rmse     rmsle  sample_size  sd_rmse  \n",
      "117              63           335  46.83202  0.047495           18  0.28008  \n"
     ]
    },
    {
     "name": "stderr",
     "output_type": "stream",
     "text": [
      "\r",
      " 60%|█████▉    | 119/200 [00:40<00:26,  3.07it/s]"
     ]
    },
    {
     "name": "stdout",
     "output_type": "stream",
     "text": [
      "CPU times: user 156 ms, sys: 22.7 ms, total: 179 ms\n",
      "Wall time: 198 ms\n",
      "                                              col_used  max_depth  \\\n",
      "117  [5, 113, 118, 46, 136, 151, 98, 126, 42, 79, 1...        163   \n",
      "\n",
      "     max_leaf_nodes  n_estimators      rmse     rmsle  sample_size  sd_rmse  \n",
      "117              63           335  46.83202  0.047495           18  0.28008  \n"
     ]
    },
    {
     "name": "stderr",
     "output_type": "stream",
     "text": [
      "\r",
      " 60%|██████    | 120/200 [00:41<00:26,  3.06it/s]"
     ]
    },
    {
     "name": "stdout",
     "output_type": "stream",
     "text": [
      "CPU times: user 167 ms, sys: 24.7 ms, total: 192 ms\n",
      "Wall time: 207 ms\n",
      "                                              col_used  max_depth  \\\n",
      "117  [5, 113, 118, 46, 136, 151, 98, 126, 42, 79, 1...        163   \n",
      "\n",
      "     max_leaf_nodes  n_estimators      rmse     rmsle  sample_size  sd_rmse  \n",
      "117              63           335  46.83202  0.047495           18  0.28008  \n"
     ]
    },
    {
     "name": "stderr",
     "output_type": "stream",
     "text": [
      "\r",
      " 60%|██████    | 121/200 [00:41<00:25,  3.08it/s]"
     ]
    },
    {
     "name": "stdout",
     "output_type": "stream",
     "text": [
      "CPU times: user 152 ms, sys: 21.3 ms, total: 173 ms\n",
      "Wall time: 195 ms\n",
      "                                              col_used  max_depth  \\\n",
      "117  [5, 113, 118, 46, 136, 151, 98, 126, 42, 79, 1...        163   \n",
      "\n",
      "     max_leaf_nodes  n_estimators      rmse     rmsle  sample_size  sd_rmse  \n",
      "117              63           335  46.83202  0.047495           18  0.28008  \n"
     ]
    },
    {
     "name": "stderr",
     "output_type": "stream",
     "text": [
      "\r",
      " 61%|██████    | 122/200 [00:41<00:25,  3.08it/s]"
     ]
    },
    {
     "name": "stdout",
     "output_type": "stream",
     "text": [
      "CPU times: user 165 ms, sys: 23.9 ms, total: 189 ms\n",
      "Wall time: 203 ms\n",
      "                                              col_used  max_depth  \\\n",
      "117  [5, 113, 118, 46, 136, 151, 98, 126, 42, 79, 1...        163   \n",
      "\n",
      "     max_leaf_nodes  n_estimators      rmse     rmsle  sample_size  sd_rmse  \n",
      "117              63           335  46.83202  0.047495           18  0.28008  \n"
     ]
    },
    {
     "name": "stderr",
     "output_type": "stream",
     "text": [
      "\r",
      " 62%|██████▏   | 123/200 [00:42<00:24,  3.15it/s]"
     ]
    },
    {
     "name": "stdout",
     "output_type": "stream",
     "text": [
      "CPU times: user 111 ms, sys: 15.5 ms, total: 127 ms\n",
      "Wall time: 173 ms\n",
      "                                              col_used  max_depth  \\\n",
      "117  [5, 113, 118, 46, 136, 151, 98, 126, 42, 79, 1...        163   \n",
      "\n",
      "     max_leaf_nodes  n_estimators      rmse     rmsle  sample_size  sd_rmse  \n",
      "117              63           335  46.83202  0.047495           18  0.28008  \n"
     ]
    },
    {
     "name": "stderr",
     "output_type": "stream",
     "text": [
      "\r",
      " 62%|██████▏   | 124/200 [00:42<00:23,  3.24it/s]"
     ]
    },
    {
     "name": "stdout",
     "output_type": "stream",
     "text": [
      "CPU times: user 91.5 ms, sys: 11.6 ms, total: 103 ms\n",
      "Wall time: 163 ms\n",
      "                                              col_used  max_depth  \\\n",
      "117  [5, 113, 118, 46, 136, 151, 98, 126, 42, 79, 1...        163   \n",
      "\n",
      "     max_leaf_nodes  n_estimators      rmse     rmsle  sample_size  sd_rmse  \n",
      "117              63           335  46.83202  0.047495           18  0.28008  \n"
     ]
    },
    {
     "name": "stderr",
     "output_type": "stream",
     "text": [
      "\r",
      " 62%|██████▎   | 125/200 [00:42<00:24,  3.12it/s]"
     ]
    },
    {
     "name": "stdout",
     "output_type": "stream",
     "text": [
      "CPU times: user 197 ms, sys: 27.7 ms, total: 224 ms\n",
      "Wall time: 222 ms\n",
      "                                              col_used  max_depth  \\\n",
      "117  [5, 113, 118, 46, 136, 151, 98, 126, 42, 79, 1...        163   \n",
      "\n",
      "     max_leaf_nodes  n_estimators      rmse     rmsle  sample_size  sd_rmse  \n",
      "117              63           335  46.83202  0.047495           18  0.28008  \n"
     ]
    },
    {
     "name": "stderr",
     "output_type": "stream",
     "text": [
      "\r",
      " 63%|██████▎   | 126/200 [00:43<00:23,  3.17it/s]"
     ]
    },
    {
     "name": "stdout",
     "output_type": "stream",
     "text": [
      "CPU times: user 123 ms, sys: 17.9 ms, total: 140 ms\n",
      "Wall time: 179 ms\n",
      "                                              col_used  max_depth  \\\n",
      "117  [5, 113, 118, 46, 136, 151, 98, 126, 42, 79, 1...        163   \n",
      "\n",
      "     max_leaf_nodes  n_estimators      rmse     rmsle  sample_size  sd_rmse  \n",
      "117              63           335  46.83202  0.047495           18  0.28008  \n"
     ]
    },
    {
     "name": "stderr",
     "output_type": "stream",
     "text": [
      "\r",
      " 64%|██████▎   | 127/200 [00:43<00:23,  3.14it/s]"
     ]
    },
    {
     "name": "stdout",
     "output_type": "stream",
     "text": [
      "CPU times: user 151 ms, sys: 19.7 ms, total: 170 ms\n",
      "Wall time: 199 ms\n",
      "                                              col_used  max_depth  \\\n",
      "117  [5, 113, 118, 46, 136, 151, 98, 126, 42, 79, 1...        163   \n",
      "\n",
      "     max_leaf_nodes  n_estimators      rmse     rmsle  sample_size  sd_rmse  \n",
      "117              63           335  46.83202  0.047495           18  0.28008  \n"
     ]
    },
    {
     "name": "stderr",
     "output_type": "stream",
     "text": [
      "\r",
      " 64%|██████▍   | 128/200 [00:43<00:23,  3.08it/s]"
     ]
    },
    {
     "name": "stdout",
     "output_type": "stream",
     "text": [
      "CPU times: user 182 ms, sys: 28.2 ms, total: 210 ms\n",
      "Wall time: 212 ms\n",
      "                                              col_used  max_depth  \\\n",
      "127  [22, 134, 95, 56, 147, 72, 55, 120, 134, 50, 8...        201   \n",
      "\n",
      "     max_leaf_nodes  n_estimators       rmse    rmsle  sample_size   sd_rmse  \n",
      "127             292           293  43.461913  0.04052           15  0.259925  \n"
     ]
    },
    {
     "name": "stderr",
     "output_type": "stream",
     "text": [
      "\r",
      " 64%|██████▍   | 129/200 [00:44<00:24,  2.94it/s]"
     ]
    },
    {
     "name": "stdout",
     "output_type": "stream",
     "text": [
      "CPU times: user 229 ms, sys: 32.7 ms, total: 262 ms\n",
      "Wall time: 248 ms\n",
      "                                              col_used  max_depth  \\\n",
      "127  [22, 134, 95, 56, 147, 72, 55, 120, 134, 50, 8...        201   \n",
      "\n",
      "     max_leaf_nodes  n_estimators       rmse    rmsle  sample_size   sd_rmse  \n",
      "127             292           293  43.461913  0.04052           15  0.259925  \n"
     ]
    },
    {
     "name": "stderr",
     "output_type": "stream",
     "text": [
      "\r",
      " 65%|██████▌   | 130/200 [00:44<00:23,  2.93it/s]"
     ]
    },
    {
     "name": "stdout",
     "output_type": "stream",
     "text": [
      "CPU times: user 183 ms, sys: 25.2 ms, total: 208 ms\n",
      "Wall time: 221 ms\n",
      "                                              col_used  max_depth  \\\n",
      "127  [22, 134, 95, 56, 147, 72, 55, 120, 134, 50, 8...        201   \n",
      "\n",
      "     max_leaf_nodes  n_estimators       rmse    rmsle  sample_size   sd_rmse  \n",
      "127             292           293  43.461913  0.04052           15  0.259925  \n"
     ]
    },
    {
     "name": "stderr",
     "output_type": "stream",
     "text": [
      "\r",
      " 66%|██████▌   | 131/200 [00:44<00:26,  2.57it/s]"
     ]
    },
    {
     "name": "stdout",
     "output_type": "stream",
     "text": [
      "CPU times: user 250 ms, sys: 36.3 ms, total: 286 ms\n",
      "Wall time: 378 ms\n",
      "                                              col_used  max_depth  \\\n",
      "127  [22, 134, 95, 56, 147, 72, 55, 120, 134, 50, 8...        201   \n",
      "\n",
      "     max_leaf_nodes  n_estimators       rmse    rmsle  sample_size   sd_rmse  \n",
      "127             292           293  43.461913  0.04052           15  0.259925  \n"
     ]
    },
    {
     "name": "stderr",
     "output_type": "stream",
     "text": [
      "\r",
      " 66%|██████▌   | 132/200 [00:45<00:25,  2.68it/s]"
     ]
    },
    {
     "name": "stdout",
     "output_type": "stream",
     "text": [
      "CPU times: user 193 ms, sys: 25.8 ms, total: 218 ms\n",
      "Wall time: 211 ms\n",
      "                                              col_used  max_depth  \\\n",
      "131  [98, 48, 156, 140, 35, 58, 118, 16, 139, 146, ...        266   \n",
      "\n",
      "     max_leaf_nodes  n_estimators       rmse     rmsle  sample_size   sd_rmse  \n",
      "131              14           318  28.500348  0.029634           23  0.170447  \n"
     ]
    },
    {
     "name": "stderr",
     "output_type": "stream",
     "text": [
      "\r",
      " 66%|██████▋   | 133/200 [00:45<00:25,  2.67it/s]"
     ]
    },
    {
     "name": "stdout",
     "output_type": "stream",
     "text": [
      "CPU times: user 218 ms, sys: 27.8 ms, total: 245 ms\n",
      "Wall time: 253 ms\n",
      "                                              col_used  max_depth  \\\n",
      "131  [98, 48, 156, 140, 35, 58, 118, 16, 139, 146, ...        266   \n",
      "\n",
      "     max_leaf_nodes  n_estimators       rmse     rmsle  sample_size   sd_rmse  \n",
      "131              14           318  28.500348  0.029634           23  0.170447  \n"
     ]
    },
    {
     "name": "stderr",
     "output_type": "stream",
     "text": [
      "\r",
      " 67%|██████▋   | 134/200 [00:46<00:26,  2.50it/s]"
     ]
    },
    {
     "name": "stdout",
     "output_type": "stream",
     "text": [
      "CPU times: user 240 ms, sys: 37 ms, total: 277 ms\n",
      "Wall time: 339 ms\n",
      "                                              col_used  max_depth  \\\n",
      "131  [98, 48, 156, 140, 35, 58, 118, 16, 139, 146, ...        266   \n",
      "\n",
      "     max_leaf_nodes  n_estimators       rmse     rmsle  sample_size   sd_rmse  \n",
      "131              14           318  28.500348  0.029634           23  0.170447  \n"
     ]
    },
    {
     "name": "stderr",
     "output_type": "stream",
     "text": [
      "\r",
      " 68%|██████▊   | 135/200 [00:46<00:28,  2.30it/s]"
     ]
    },
    {
     "name": "stdout",
     "output_type": "stream",
     "text": [
      "CPU times: user 293 ms, sys: 36.8 ms, total: 330 ms\n",
      "Wall time: 396 ms\n",
      "                                              col_used  max_depth  \\\n",
      "131  [98, 48, 156, 140, 35, 58, 118, 16, 139, 146, ...        266   \n",
      "\n",
      "     max_leaf_nodes  n_estimators       rmse     rmsle  sample_size   sd_rmse  \n",
      "131              14           318  28.500348  0.029634           23  0.170447  \n"
     ]
    },
    {
     "name": "stderr",
     "output_type": "stream",
     "text": [
      "\r",
      " 68%|██████▊   | 136/200 [00:46<00:25,  2.49it/s]"
     ]
    },
    {
     "name": "stdout",
     "output_type": "stream",
     "text": [
      "CPU times: user 148 ms, sys: 18.5 ms, total: 166 ms\n",
      "Wall time: 198 ms\n",
      "                                              col_used  max_depth  \\\n",
      "131  [98, 48, 156, 140, 35, 58, 118, 16, 139, 146, ...        266   \n",
      "\n",
      "     max_leaf_nodes  n_estimators       rmse     rmsle  sample_size   sd_rmse  \n",
      "131              14           318  28.500348  0.029634           23  0.170447  \n"
     ]
    },
    {
     "name": "stderr",
     "output_type": "stream",
     "text": [
      "\r",
      " 68%|██████▊   | 137/200 [00:47<00:24,  2.59it/s]"
     ]
    },
    {
     "name": "stdout",
     "output_type": "stream",
     "text": [
      "CPU times: user 179 ms, sys: 24.1 ms, total: 203 ms\n",
      "Wall time: 224 ms\n",
      "                                              col_used  max_depth  \\\n",
      "131  [98, 48, 156, 140, 35, 58, 118, 16, 139, 146, ...        266   \n",
      "\n",
      "     max_leaf_nodes  n_estimators       rmse     rmsle  sample_size   sd_rmse  \n",
      "131              14           318  28.500348  0.029634           23  0.170447  \n"
     ]
    },
    {
     "name": "stderr",
     "output_type": "stream",
     "text": [
      "\r",
      " 69%|██████▉   | 138/200 [00:47<00:23,  2.63it/s]"
     ]
    },
    {
     "name": "stdout",
     "output_type": "stream",
     "text": [
      "CPU times: user 216 ms, sys: 30.2 ms, total: 246 ms\n",
      "Wall time: 238 ms\n",
      "                                              col_used  max_depth  \\\n",
      "131  [98, 48, 156, 140, 35, 58, 118, 16, 139, 146, ...        266   \n",
      "\n",
      "     max_leaf_nodes  n_estimators       rmse     rmsle  sample_size   sd_rmse  \n",
      "131              14           318  28.500348  0.029634           23  0.170447  \n"
     ]
    },
    {
     "name": "stderr",
     "output_type": "stream",
     "text": [
      "\r",
      " 70%|██████▉   | 139/200 [00:47<00:22,  2.71it/s]"
     ]
    },
    {
     "name": "stdout",
     "output_type": "stream",
     "text": [
      "CPU times: user 185 ms, sys: 26.4 ms, total: 211 ms\n",
      "Wall time: 219 ms\n",
      "                                              col_used  max_depth  \\\n",
      "131  [98, 48, 156, 140, 35, 58, 118, 16, 139, 146, ...        266   \n",
      "\n",
      "     max_leaf_nodes  n_estimators       rmse     rmsle  sample_size   sd_rmse  \n",
      "131              14           318  28.500348  0.029634           23  0.170447  \n"
     ]
    },
    {
     "name": "stderr",
     "output_type": "stream",
     "text": [
      "\r",
      " 70%|███████   | 140/200 [00:48<00:22,  2.67it/s]"
     ]
    },
    {
     "name": "stdout",
     "output_type": "stream",
     "text": [
      "CPU times: user 221 ms, sys: 27.5 ms, total: 249 ms\n",
      "Wall time: 260 ms\n",
      "                                              col_used  max_depth  \\\n",
      "131  [98, 48, 156, 140, 35, 58, 118, 16, 139, 146, ...        266   \n",
      "\n",
      "     max_leaf_nodes  n_estimators       rmse     rmsle  sample_size   sd_rmse  \n",
      "131              14           318  28.500348  0.029634           23  0.170447  \n"
     ]
    },
    {
     "name": "stderr",
     "output_type": "stream",
     "text": [
      "\r",
      " 70%|███████   | 141/200 [00:48<00:21,  2.72it/s]"
     ]
    },
    {
     "name": "stdout",
     "output_type": "stream",
     "text": [
      "CPU times: user 194 ms, sys: 27.1 ms, total: 221 ms\n",
      "Wall time: 228 ms\n",
      "                                              col_used  max_depth  \\\n",
      "131  [98, 48, 156, 140, 35, 58, 118, 16, 139, 146, ...        266   \n",
      "\n",
      "     max_leaf_nodes  n_estimators       rmse     rmsle  sample_size   sd_rmse  \n",
      "131              14           318  28.500348  0.029634           23  0.170447  \n"
     ]
    },
    {
     "name": "stderr",
     "output_type": "stream",
     "text": [
      "\r",
      " 71%|███████   | 142/200 [00:49<00:20,  2.79it/s]"
     ]
    },
    {
     "name": "stdout",
     "output_type": "stream",
     "text": [
      "CPU times: user 170 ms, sys: 22.6 ms, total: 193 ms\n",
      "Wall time: 210 ms\n",
      "                                              col_used  max_depth  \\\n",
      "131  [98, 48, 156, 140, 35, 58, 118, 16, 139, 146, ...        266   \n",
      "\n",
      "     max_leaf_nodes  n_estimators       rmse     rmsle  sample_size   sd_rmse  \n",
      "131              14           318  28.500348  0.029634           23  0.170447  \n"
     ]
    },
    {
     "name": "stderr",
     "output_type": "stream",
     "text": [
      "\r",
      " 72%|███████▏  | 143/200 [00:49<00:20,  2.80it/s]"
     ]
    },
    {
     "name": "stdout",
     "output_type": "stream",
     "text": [
      "CPU times: user 206 ms, sys: 28.8 ms, total: 235 ms\n",
      "Wall time: 231 ms\n",
      "                                              col_used  max_depth  \\\n",
      "131  [98, 48, 156, 140, 35, 58, 118, 16, 139, 146, ...        266   \n",
      "\n",
      "     max_leaf_nodes  n_estimators       rmse     rmsle  sample_size   sd_rmse  \n",
      "131              14           318  28.500348  0.029634           23  0.170447  \n"
     ]
    },
    {
     "name": "stderr",
     "output_type": "stream",
     "text": [
      "\r",
      " 72%|███████▏  | 144/200 [00:49<00:19,  2.91it/s]"
     ]
    },
    {
     "name": "stdout",
     "output_type": "stream",
     "text": [
      "CPU times: user 138 ms, sys: 19.9 ms, total: 158 ms\n",
      "Wall time: 187 ms\n",
      "                                              col_used  max_depth  \\\n",
      "131  [98, 48, 156, 140, 35, 58, 118, 16, 139, 146, ...        266   \n",
      "\n",
      "     max_leaf_nodes  n_estimators       rmse     rmsle  sample_size   sd_rmse  \n",
      "131              14           318  28.500348  0.029634           23  0.170447  \n"
     ]
    },
    {
     "name": "stderr",
     "output_type": "stream",
     "text": [
      "\r",
      " 72%|███████▎  | 145/200 [00:50<00:18,  2.95it/s]"
     ]
    },
    {
     "name": "stdout",
     "output_type": "stream",
     "text": [
      "CPU times: user 159 ms, sys: 19.1 ms, total: 178 ms\n",
      "Wall time: 203 ms\n",
      "                                              col_used  max_depth  \\\n",
      "131  [98, 48, 156, 140, 35, 58, 118, 16, 139, 146, ...        266   \n",
      "\n",
      "     max_leaf_nodes  n_estimators       rmse     rmsle  sample_size   sd_rmse  \n",
      "131              14           318  28.500348  0.029634           23  0.170447  \n"
     ]
    },
    {
     "name": "stderr",
     "output_type": "stream",
     "text": [
      "\r",
      " 73%|███████▎  | 146/200 [00:50<00:19,  2.70it/s]"
     ]
    },
    {
     "name": "stdout",
     "output_type": "stream",
     "text": [
      "CPU times: user 271 ms, sys: 30.8 ms, total: 302 ms\n",
      "Wall time: 317 ms\n",
      "                                              col_used  max_depth  \\\n",
      "131  [98, 48, 156, 140, 35, 58, 118, 16, 139, 146, ...        266   \n",
      "\n",
      "     max_leaf_nodes  n_estimators       rmse     rmsle  sample_size   sd_rmse  \n",
      "131              14           318  28.500348  0.029634           23  0.170447  \n"
     ]
    },
    {
     "name": "stderr",
     "output_type": "stream",
     "text": [
      "\r",
      " 74%|███████▎  | 147/200 [00:50<00:19,  2.74it/s]"
     ]
    },
    {
     "name": "stdout",
     "output_type": "stream",
     "text": [
      "CPU times: user 196 ms, sys: 26.8 ms, total: 223 ms\n",
      "Wall time: 230 ms\n",
      "                                              col_used  max_depth  \\\n",
      "131  [98, 48, 156, 140, 35, 58, 118, 16, 139, 146, ...        266   \n",
      "\n",
      "     max_leaf_nodes  n_estimators       rmse     rmsle  sample_size   sd_rmse  \n",
      "131              14           318  28.500348  0.029634           23  0.170447  \n"
     ]
    },
    {
     "name": "stderr",
     "output_type": "stream",
     "text": [
      "\r",
      " 74%|███████▍  | 148/200 [00:51<00:18,  2.84it/s]"
     ]
    },
    {
     "name": "stdout",
     "output_type": "stream",
     "text": [
      "CPU times: user 146 ms, sys: 20.3 ms, total: 166 ms\n",
      "Wall time: 193 ms\n",
      "                                              col_used  max_depth  \\\n",
      "131  [98, 48, 156, 140, 35, 58, 118, 16, 139, 146, ...        266   \n",
      "\n",
      "     max_leaf_nodes  n_estimators       rmse     rmsle  sample_size   sd_rmse  \n",
      "131              14           318  28.500348  0.029634           23  0.170447  \n"
     ]
    },
    {
     "name": "stderr",
     "output_type": "stream",
     "text": [
      "\r",
      " 74%|███████▍  | 149/200 [00:51<00:17,  2.87it/s]"
     ]
    },
    {
     "name": "stdout",
     "output_type": "stream",
     "text": [
      "CPU times: user 182 ms, sys: 25.2 ms, total: 207 ms\n",
      "Wall time: 218 ms\n",
      "                                              col_used  max_depth  \\\n",
      "131  [98, 48, 156, 140, 35, 58, 118, 16, 139, 146, ...        266   \n",
      "\n",
      "     max_leaf_nodes  n_estimators       rmse     rmsle  sample_size   sd_rmse  \n",
      "131              14           318  28.500348  0.029634           23  0.170447  \n"
     ]
    },
    {
     "name": "stderr",
     "output_type": "stream",
     "text": [
      "\r",
      " 75%|███████▌  | 150/200 [00:51<00:17,  2.85it/s]"
     ]
    },
    {
     "name": "stdout",
     "output_type": "stream",
     "text": [
      "CPU times: user 210 ms, sys: 30.6 ms, total: 240 ms\n",
      "Wall time: 231 ms\n",
      "                                              col_used  max_depth  \\\n",
      "131  [98, 48, 156, 140, 35, 58, 118, 16, 139, 146, ...        266   \n",
      "\n",
      "     max_leaf_nodes  n_estimators       rmse     rmsle  sample_size   sd_rmse  \n",
      "131              14           318  28.500348  0.029634           23  0.170447  \n"
     ]
    },
    {
     "name": "stderr",
     "output_type": "stream",
     "text": [
      "\r",
      " 76%|███████▌  | 151/200 [00:52<00:16,  2.92it/s]"
     ]
    },
    {
     "name": "stdout",
     "output_type": "stream",
     "text": [
      "CPU times: user 155 ms, sys: 22.1 ms, total: 177 ms\n",
      "Wall time: 195 ms\n",
      "                                              col_used  max_depth  \\\n",
      "131  [98, 48, 156, 140, 35, 58, 118, 16, 139, 146, ...        266   \n",
      "\n",
      "     max_leaf_nodes  n_estimators       rmse     rmsle  sample_size   sd_rmse  \n",
      "131              14           318  28.500348  0.029634           23  0.170447  \n"
     ]
    },
    {
     "name": "stderr",
     "output_type": "stream",
     "text": [
      "\r",
      " 76%|███████▌  | 152/200 [00:52<00:18,  2.62it/s]"
     ]
    },
    {
     "name": "stdout",
     "output_type": "stream",
     "text": [
      "CPU times: user 302 ms, sys: 34 ms, total: 336 ms\n",
      "Wall time: 347 ms\n",
      "                                              col_used  max_depth  \\\n",
      "131  [98, 48, 156, 140, 35, 58, 118, 16, 139, 146, ...        266   \n",
      "\n",
      "     max_leaf_nodes  n_estimators       rmse     rmsle  sample_size   sd_rmse  \n",
      "131              14           318  28.500348  0.029634           23  0.170447  \n"
     ]
    },
    {
     "name": "stderr",
     "output_type": "stream",
     "text": [
      "\r",
      " 76%|███████▋  | 153/200 [00:53<00:19,  2.38it/s]"
     ]
    },
    {
     "name": "stdout",
     "output_type": "stream",
     "text": [
      "CPU times: user 258 ms, sys: 34.7 ms, total: 293 ms\n",
      "Wall time: 382 ms\n",
      "                                              col_used  max_depth  \\\n",
      "131  [98, 48, 156, 140, 35, 58, 118, 16, 139, 146, ...        266   \n",
      "\n",
      "     max_leaf_nodes  n_estimators       rmse     rmsle  sample_size   sd_rmse  \n",
      "131              14           318  28.500348  0.029634           23  0.170447  \n"
     ]
    },
    {
     "name": "stderr",
     "output_type": "stream",
     "text": [
      "\r",
      " 77%|███████▋  | 154/200 [00:53<00:17,  2.60it/s]"
     ]
    },
    {
     "name": "stdout",
     "output_type": "stream",
     "text": [
      "CPU times: user 113 ms, sys: 16.5 ms, total: 130 ms\n",
      "Wall time: 176 ms\n",
      "                                              col_used  max_depth  \\\n",
      "131  [98, 48, 156, 140, 35, 58, 118, 16, 139, 146, ...        266   \n",
      "\n",
      "     max_leaf_nodes  n_estimators       rmse     rmsle  sample_size   sd_rmse  \n",
      "131              14           318  28.500348  0.029634           23  0.170447  \n"
     ]
    },
    {
     "name": "stderr",
     "output_type": "stream",
     "text": [
      "\r",
      " 78%|███████▊  | 155/200 [00:54<00:19,  2.31it/s]"
     ]
    },
    {
     "name": "stdout",
     "output_type": "stream",
     "text": [
      "CPU times: user 318 ms, sys: 41.1 ms, total: 359 ms\n",
      "Wall time: 420 ms\n",
      "                                              col_used  max_depth  \\\n",
      "131  [98, 48, 156, 140, 35, 58, 118, 16, 139, 146, ...        266   \n",
      "\n",
      "     max_leaf_nodes  n_estimators       rmse     rmsle  sample_size   sd_rmse  \n",
      "131              14           318  28.500348  0.029634           23  0.170447  \n"
     ]
    },
    {
     "name": "stderr",
     "output_type": "stream",
     "text": [
      "\r",
      " 78%|███████▊  | 156/200 [00:54<00:18,  2.44it/s]"
     ]
    },
    {
     "name": "stdout",
     "output_type": "stream",
     "text": [
      "CPU times: user 186 ms, sys: 28 ms, total: 214 ms\n",
      "Wall time: 232 ms\n",
      "                                              col_used  max_depth  \\\n",
      "131  [98, 48, 156, 140, 35, 58, 118, 16, 139, 146, ...        266   \n",
      "\n",
      "     max_leaf_nodes  n_estimators       rmse     rmsle  sample_size   sd_rmse  \n",
      "131              14           318  28.500348  0.029634           23  0.170447  \n"
     ]
    },
    {
     "name": "stderr",
     "output_type": "stream",
     "text": [
      "\r",
      " 78%|███████▊  | 157/200 [00:54<00:16,  2.59it/s]"
     ]
    },
    {
     "name": "stdout",
     "output_type": "stream",
     "text": [
      "CPU times: user 150 ms, sys: 22 ms, total: 172 ms\n",
      "Wall time: 204 ms\n",
      "                                              col_used  max_depth  \\\n",
      "131  [98, 48, 156, 140, 35, 58, 118, 16, 139, 146, ...        266   \n",
      "\n",
      "     max_leaf_nodes  n_estimators       rmse     rmsle  sample_size   sd_rmse  \n",
      "131              14           318  28.500348  0.029634           23  0.170447  \n",
      "CPU times: user 254 ms, sys: 43.5 ms, total: 297 ms\n",
      "Wall time: 341 ms\n"
     ]
    },
    {
     "name": "stderr",
     "output_type": "stream",
     "text": [
      "\r",
      " 79%|███████▉  | 158/200 [00:55<00:18,  2.22it/s]"
     ]
    },
    {
     "name": "stdout",
     "output_type": "stream",
     "text": [
      "                                              col_used  max_depth  \\\n",
      "131  [98, 48, 156, 140, 35, 58, 118, 16, 139, 146, ...        266   \n",
      "\n",
      "     max_leaf_nodes  n_estimators       rmse     rmsle  sample_size   sd_rmse  \n",
      "131              14           318  28.500348  0.029634           23  0.170447  \n"
     ]
    },
    {
     "name": "stderr",
     "output_type": "stream",
     "text": [
      "\r",
      " 80%|███████▉  | 159/200 [00:55<00:17,  2.28it/s]"
     ]
    },
    {
     "name": "stdout",
     "output_type": "stream",
     "text": [
      "CPU times: user 210 ms, sys: 24.6 ms, total: 234 ms\n",
      "Wall time: 276 ms\n",
      "                                              col_used  max_depth  \\\n",
      "131  [98, 48, 156, 140, 35, 58, 118, 16, 139, 146, ...        266   \n",
      "\n",
      "     max_leaf_nodes  n_estimators       rmse     rmsle  sample_size   sd_rmse  \n",
      "131              14           318  28.500348  0.029634           23  0.170447  \n"
     ]
    },
    {
     "name": "stderr",
     "output_type": "stream",
     "text": [
      "\r",
      " 80%|████████  | 160/200 [00:56<00:16,  2.43it/s]"
     ]
    },
    {
     "name": "stdout",
     "output_type": "stream",
     "text": [
      "CPU times: user 185 ms, sys: 15.7 ms, total: 201 ms\n",
      "Wall time: 226 ms\n",
      "                                              col_used  max_depth  \\\n",
      "131  [98, 48, 156, 140, 35, 58, 118, 16, 139, 146, ...        266   \n",
      "\n",
      "     max_leaf_nodes  n_estimators       rmse     rmsle  sample_size   sd_rmse  \n",
      "131              14           318  28.500348  0.029634           23  0.170447  \n"
     ]
    },
    {
     "name": "stderr",
     "output_type": "stream",
     "text": [
      "\r",
      " 80%|████████  | 161/200 [00:56<00:14,  2.65it/s]"
     ]
    },
    {
     "name": "stdout",
     "output_type": "stream",
     "text": [
      "CPU times: user 120 ms, sys: 18.1 ms, total: 138 ms\n",
      "Wall time: 176 ms\n",
      "                                              col_used  max_depth  \\\n",
      "131  [98, 48, 156, 140, 35, 58, 118, 16, 139, 146, ...        266   \n",
      "\n",
      "     max_leaf_nodes  n_estimators       rmse     rmsle  sample_size   sd_rmse  \n",
      "131              14           318  28.500348  0.029634           23  0.170447  \n"
     ]
    },
    {
     "name": "stderr",
     "output_type": "stream",
     "text": [
      "\r",
      " 81%|████████  | 162/200 [00:56<00:14,  2.71it/s]"
     ]
    },
    {
     "name": "stdout",
     "output_type": "stream",
     "text": [
      "CPU times: user 182 ms, sys: 24.4 ms, total: 206 ms\n",
      "Wall time: 219 ms\n",
      "                                              col_used  max_depth  \\\n",
      "131  [98, 48, 156, 140, 35, 58, 118, 16, 139, 146, ...        266   \n",
      "\n",
      "     max_leaf_nodes  n_estimators       rmse     rmsle  sample_size   sd_rmse  \n",
      "131              14           318  28.500348  0.029634           23  0.170447  \n"
     ]
    },
    {
     "name": "stderr",
     "output_type": "stream",
     "text": [
      "\r",
      " 82%|████████▏ | 163/200 [00:57<00:13,  2.73it/s]"
     ]
    },
    {
     "name": "stdout",
     "output_type": "stream",
     "text": [
      "CPU times: user 214 ms, sys: 29.6 ms, total: 244 ms\n",
      "Wall time: 236 ms\n",
      "                                              col_used  max_depth  \\\n",
      "131  [98, 48, 156, 140, 35, 58, 118, 16, 139, 146, ...        266   \n",
      "\n",
      "     max_leaf_nodes  n_estimators       rmse     rmsle  sample_size   sd_rmse  \n",
      "131              14           318  28.500348  0.029634           23  0.170447  \n"
     ]
    },
    {
     "name": "stderr",
     "output_type": "stream",
     "text": [
      "\r",
      " 82%|████████▏ | 164/200 [00:57<00:12,  2.84it/s]"
     ]
    },
    {
     "name": "stdout",
     "output_type": "stream",
     "text": [
      "CPU times: user 148 ms, sys: 22.1 ms, total: 170 ms\n",
      "Wall time: 191 ms\n",
      "                                              col_used  max_depth  \\\n",
      "131  [98, 48, 156, 140, 35, 58, 118, 16, 139, 146, ...        266   \n",
      "\n",
      "     max_leaf_nodes  n_estimators       rmse     rmsle  sample_size   sd_rmse  \n",
      "131              14           318  28.500348  0.029634           23  0.170447  \n"
     ]
    },
    {
     "name": "stderr",
     "output_type": "stream",
     "text": [
      "\r",
      " 82%|████████▎ | 165/200 [00:57<00:11,  2.98it/s]"
     ]
    },
    {
     "name": "stdout",
     "output_type": "stream",
     "text": [
      "CPU times: user 103 ms, sys: 14.3 ms, total: 118 ms\n",
      "Wall time: 169 ms\n",
      "                                              col_used  max_depth  \\\n",
      "131  [98, 48, 156, 140, 35, 58, 118, 16, 139, 146, ...        266   \n",
      "\n",
      "     max_leaf_nodes  n_estimators       rmse     rmsle  sample_size   sd_rmse  \n",
      "131              14           318  28.500348  0.029634           23  0.170447  \n"
     ]
    },
    {
     "name": "stderr",
     "output_type": "stream",
     "text": [
      "\r",
      " 83%|████████▎ | 166/200 [00:58<00:12,  2.73it/s]"
     ]
    },
    {
     "name": "stdout",
     "output_type": "stream",
     "text": [
      "CPU times: user 275 ms, sys: 32.3 ms, total: 307 ms\n",
      "Wall time: 313 ms\n",
      "                                              col_used  max_depth  \\\n",
      "131  [98, 48, 156, 140, 35, 58, 118, 16, 139, 146, ...        266   \n",
      "\n",
      "     max_leaf_nodes  n_estimators       rmse     rmsle  sample_size   sd_rmse  \n",
      "131              14           318  28.500348  0.029634           23  0.170447  \n"
     ]
    },
    {
     "name": "stderr",
     "output_type": "stream",
     "text": [
      "\r",
      " 84%|████████▎ | 167/200 [00:58<00:12,  2.74it/s]"
     ]
    },
    {
     "name": "stdout",
     "output_type": "stream",
     "text": [
      "CPU times: user 221 ms, sys: 32.4 ms, total: 253 ms\n",
      "Wall time: 242 ms\n",
      "                                              col_used  max_depth  \\\n",
      "131  [98, 48, 156, 140, 35, 58, 118, 16, 139, 146, ...        266   \n",
      "\n",
      "     max_leaf_nodes  n_estimators       rmse     rmsle  sample_size   sd_rmse  \n",
      "131              14           318  28.500348  0.029634           23  0.170447  \n"
     ]
    },
    {
     "name": "stderr",
     "output_type": "stream",
     "text": [
      "\r",
      " 84%|████████▍ | 168/200 [00:58<00:10,  2.94it/s]"
     ]
    },
    {
     "name": "stdout",
     "output_type": "stream",
     "text": [
      "CPU times: user 99.8 ms, sys: 16.2 ms, total: 116 ms\n",
      "Wall time: 162 ms\n",
      "                                              col_used  max_depth  \\\n",
      "131  [98, 48, 156, 140, 35, 58, 118, 16, 139, 146, ...        266   \n",
      "\n",
      "     max_leaf_nodes  n_estimators       rmse     rmsle  sample_size   sd_rmse  \n",
      "131              14           318  28.500348  0.029634           23  0.170447  \n"
     ]
    },
    {
     "name": "stderr",
     "output_type": "stream",
     "text": [
      "\r",
      " 84%|████████▍ | 169/200 [00:59<00:10,  3.00it/s]"
     ]
    },
    {
     "name": "stdout",
     "output_type": "stream",
     "text": [
      "CPU times: user 138 ms, sys: 19.5 ms, total: 157 ms\n",
      "Wall time: 194 ms\n",
      "                                              col_used  max_depth  \\\n",
      "131  [98, 48, 156, 140, 35, 58, 118, 16, 139, 146, ...        266   \n",
      "\n",
      "     max_leaf_nodes  n_estimators       rmse     rmsle  sample_size   sd_rmse  \n",
      "131              14           318  28.500348  0.029634           23  0.170447  \n"
     ]
    },
    {
     "name": "stderr",
     "output_type": "stream",
     "text": [
      "\r",
      " 85%|████████▌ | 170/200 [00:59<00:10,  2.87it/s]"
     ]
    },
    {
     "name": "stdout",
     "output_type": "stream",
     "text": [
      "CPU times: user 239 ms, sys: 34.4 ms, total: 273 ms\n",
      "Wall time: 260 ms\n",
      "                                              col_used  max_depth  \\\n",
      "131  [98, 48, 156, 140, 35, 58, 118, 16, 139, 146, ...        266   \n",
      "\n",
      "     max_leaf_nodes  n_estimators       rmse     rmsle  sample_size   sd_rmse  \n",
      "131              14           318  28.500348  0.029634           23  0.170447  \n"
     ]
    },
    {
     "name": "stderr",
     "output_type": "stream",
     "text": [
      "\r",
      " 86%|████████▌ | 171/200 [00:59<00:10,  2.81it/s]"
     ]
    },
    {
     "name": "stdout",
     "output_type": "stream",
     "text": [
      "CPU times: user 231 ms, sys: 34.1 ms, total: 265 ms\n",
      "Wall time: 244 ms\n",
      "                                              col_used  max_depth  \\\n",
      "131  [98, 48, 156, 140, 35, 58, 118, 16, 139, 146, ...        266   \n",
      "\n",
      "     max_leaf_nodes  n_estimators       rmse     rmsle  sample_size   sd_rmse  \n",
      "131              14           318  28.500348  0.029634           23  0.170447  \n"
     ]
    },
    {
     "name": "stderr",
     "output_type": "stream",
     "text": [
      "\r",
      " 86%|████████▌ | 172/200 [01:00<00:09,  2.99it/s]"
     ]
    },
    {
     "name": "stdout",
     "output_type": "stream",
     "text": [
      "CPU times: user 89.7 ms, sys: 12.9 ms, total: 103 ms\n",
      "Wall time: 158 ms\n",
      "                                              col_used  max_depth  \\\n",
      "131  [98, 48, 156, 140, 35, 58, 118, 16, 139, 146, ...        266   \n",
      "\n",
      "     max_leaf_nodes  n_estimators       rmse     rmsle  sample_size   sd_rmse  \n",
      "131              14           318  28.500348  0.029634           23  0.170447  \n"
     ]
    },
    {
     "name": "stderr",
     "output_type": "stream",
     "text": [
      "\r",
      " 86%|████████▋ | 173/200 [01:00<00:08,  3.08it/s]"
     ]
    },
    {
     "name": "stdout",
     "output_type": "stream",
     "text": [
      "CPU times: user 109 ms, sys: 13.7 ms, total: 123 ms\n",
      "Wall time: 176 ms\n",
      "                                              col_used  max_depth  \\\n",
      "131  [98, 48, 156, 140, 35, 58, 118, 16, 139, 146, ...        266   \n",
      "\n",
      "     max_leaf_nodes  n_estimators       rmse     rmsle  sample_size   sd_rmse  \n",
      "131              14           318  28.500348  0.029634           23  0.170447  \n"
     ]
    },
    {
     "name": "stderr",
     "output_type": "stream",
     "text": [
      "\r",
      " 87%|████████▋ | 174/200 [01:00<00:08,  3.19it/s]"
     ]
    },
    {
     "name": "stdout",
     "output_type": "stream",
     "text": [
      "CPU times: user 91.9 ms, sys: 12.9 ms, total: 105 ms\n",
      "Wall time: 161 ms\n",
      "                                              col_used  max_depth  \\\n",
      "131  [98, 48, 156, 140, 35, 58, 118, 16, 139, 146, ...        266   \n",
      "\n",
      "     max_leaf_nodes  n_estimators       rmse     rmsle  sample_size   sd_rmse  \n",
      "131              14           318  28.500348  0.029634           23  0.170447  \n"
     ]
    },
    {
     "name": "stderr",
     "output_type": "stream",
     "text": [
      "\r",
      " 88%|████████▊ | 175/200 [01:01<00:07,  3.14it/s]"
     ]
    },
    {
     "name": "stdout",
     "output_type": "stream",
     "text": [
      "CPU times: user 167 ms, sys: 24.9 ms, total: 192 ms\n",
      "Wall time: 206 ms\n",
      "                                              col_used  max_depth  \\\n",
      "131  [98, 48, 156, 140, 35, 58, 118, 16, 139, 146, ...        266   \n",
      "\n",
      "     max_leaf_nodes  n_estimators       rmse     rmsle  sample_size   sd_rmse  \n",
      "131              14           318  28.500348  0.029634           23  0.170447  \n"
     ]
    },
    {
     "name": "stderr",
     "output_type": "stream",
     "text": [
      "\r",
      " 88%|████████▊ | 176/200 [01:01<00:07,  3.13it/s]"
     ]
    },
    {
     "name": "stdout",
     "output_type": "stream",
     "text": [
      "CPU times: user 154 ms, sys: 22.5 ms, total: 177 ms\n",
      "Wall time: 196 ms\n",
      "                                              col_used  max_depth  \\\n",
      "131  [98, 48, 156, 140, 35, 58, 118, 16, 139, 146, ...        266   \n",
      "\n",
      "     max_leaf_nodes  n_estimators       rmse     rmsle  sample_size   sd_rmse  \n",
      "131              14           318  28.500348  0.029634           23  0.170447  \n"
     ]
    },
    {
     "name": "stderr",
     "output_type": "stream",
     "text": [
      "\r",
      " 88%|████████▊ | 177/200 [01:01<00:07,  3.11it/s]"
     ]
    },
    {
     "name": "stdout",
     "output_type": "stream",
     "text": [
      "CPU times: user 157 ms, sys: 23.3 ms, total: 180 ms\n",
      "Wall time: 199 ms\n",
      "                                              col_used  max_depth  \\\n",
      "131  [98, 48, 156, 140, 35, 58, 118, 16, 139, 146, ...        266   \n",
      "\n",
      "     max_leaf_nodes  n_estimators       rmse     rmsle  sample_size   sd_rmse  \n",
      "131              14           318  28.500348  0.029634           23  0.170447  \n"
     ]
    },
    {
     "name": "stderr",
     "output_type": "stream",
     "text": [
      "\r",
      " 89%|████████▉ | 178/200 [01:02<00:06,  3.18it/s]"
     ]
    },
    {
     "name": "stdout",
     "output_type": "stream",
     "text": [
      "CPU times: user 119 ms, sys: 16.8 ms, total: 136 ms\n",
      "Wall time: 173 ms\n",
      "                                              col_used  max_depth  \\\n",
      "131  [98, 48, 156, 140, 35, 58, 118, 16, 139, 146, ...        266   \n",
      "\n",
      "     max_leaf_nodes  n_estimators       rmse     rmsle  sample_size   sd_rmse  \n",
      "131              14           318  28.500348  0.029634           23  0.170447  \n"
     ]
    },
    {
     "name": "stderr",
     "output_type": "stream",
     "text": [
      "\r",
      " 90%|████████▉ | 179/200 [01:02<00:06,  3.15it/s]"
     ]
    },
    {
     "name": "stdout",
     "output_type": "stream",
     "text": [
      "CPU times: user 148 ms, sys: 21.3 ms, total: 169 ms\n",
      "Wall time: 195 ms\n",
      "                                              col_used  max_depth  \\\n",
      "131  [98, 48, 156, 140, 35, 58, 118, 16, 139, 146, ...        266   \n",
      "\n",
      "     max_leaf_nodes  n_estimators       rmse     rmsle  sample_size   sd_rmse  \n",
      "131              14           318  28.500348  0.029634           23  0.170447  \n"
     ]
    },
    {
     "name": "stderr",
     "output_type": "stream",
     "text": [
      "\r",
      " 90%|█████████ | 180/200 [01:02<00:06,  2.99it/s]"
     ]
    },
    {
     "name": "stdout",
     "output_type": "stream",
     "text": [
      "CPU times: user 214 ms, sys: 30.2 ms, total: 244 ms\n",
      "Wall time: 247 ms\n",
      "                                              col_used  max_depth  \\\n",
      "131  [98, 48, 156, 140, 35, 58, 118, 16, 139, 146, ...        266   \n",
      "\n",
      "     max_leaf_nodes  n_estimators       rmse     rmsle  sample_size   sd_rmse  \n",
      "131              14           318  28.500348  0.029634           23  0.170447  \n"
     ]
    },
    {
     "name": "stderr",
     "output_type": "stream",
     "text": [
      "\r",
      " 90%|█████████ | 181/200 [01:03<00:06,  2.92it/s]"
     ]
    },
    {
     "name": "stdout",
     "output_type": "stream",
     "text": [
      "CPU times: user 227 ms, sys: 33.4 ms, total: 261 ms\n",
      "Wall time: 241 ms\n",
      "                                              col_used  max_depth  \\\n",
      "131  [98, 48, 156, 140, 35, 58, 118, 16, 139, 146, ...        266   \n",
      "\n",
      "     max_leaf_nodes  n_estimators       rmse     rmsle  sample_size   sd_rmse  \n",
      "131              14           318  28.500348  0.029634           23  0.170447  \n"
     ]
    },
    {
     "name": "stderr",
     "output_type": "stream",
     "text": [
      "\r",
      " 91%|█████████ | 182/200 [01:03<00:06,  2.92it/s]"
     ]
    },
    {
     "name": "stdout",
     "output_type": "stream",
     "text": [
      "CPU times: user 171 ms, sys: 22.7 ms, total: 193 ms\n",
      "Wall time: 214 ms\n",
      "                                              col_used  max_depth  \\\n",
      "131  [98, 48, 156, 140, 35, 58, 118, 16, 139, 146, ...        266   \n",
      "\n",
      "     max_leaf_nodes  n_estimators       rmse     rmsle  sample_size   sd_rmse  \n",
      "131              14           318  28.500348  0.029634           23  0.170447  \n"
     ]
    },
    {
     "name": "stderr",
     "output_type": "stream",
     "text": [
      "\r",
      " 92%|█████████▏| 183/200 [01:03<00:05,  2.91it/s]"
     ]
    },
    {
     "name": "stdout",
     "output_type": "stream",
     "text": [
      "CPU times: user 197 ms, sys: 29.2 ms, total: 226 ms\n",
      "Wall time: 223 ms\n",
      "                                              col_used  max_depth  \\\n",
      "131  [98, 48, 156, 140, 35, 58, 118, 16, 139, 146, ...        266   \n",
      "\n",
      "     max_leaf_nodes  n_estimators       rmse     rmsle  sample_size   sd_rmse  \n",
      "131              14           318  28.500348  0.029634           23  0.170447  \n"
     ]
    },
    {
     "name": "stderr",
     "output_type": "stream",
     "text": [
      "\r",
      " 92%|█████████▏| 184/200 [01:04<00:05,  2.97it/s]"
     ]
    },
    {
     "name": "stdout",
     "output_type": "stream",
     "text": [
      "CPU times: user 155 ms, sys: 23.6 ms, total: 179 ms\n",
      "Wall time: 197 ms\n",
      "                                              col_used  max_depth  \\\n",
      "131  [98, 48, 156, 140, 35, 58, 118, 16, 139, 146, ...        266   \n",
      "\n",
      "     max_leaf_nodes  n_estimators       rmse     rmsle  sample_size   sd_rmse  \n",
      "131              14           318  28.500348  0.029634           23  0.170447  \n"
     ]
    },
    {
     "name": "stderr",
     "output_type": "stream",
     "text": [
      "\r",
      " 92%|█████████▎| 185/200 [01:04<00:04,  3.06it/s]"
     ]
    },
    {
     "name": "stdout",
     "output_type": "stream",
     "text": [
      "CPU times: user 121 ms, sys: 17.4 ms, total: 138 ms\n",
      "Wall time: 178 ms\n",
      "                                              col_used  max_depth  \\\n",
      "131  [98, 48, 156, 140, 35, 58, 118, 16, 139, 146, ...        266   \n",
      "\n",
      "     max_leaf_nodes  n_estimators       rmse     rmsle  sample_size   sd_rmse  \n",
      "131              14           318  28.500348  0.029634           23  0.170447  \n"
     ]
    },
    {
     "name": "stderr",
     "output_type": "stream",
     "text": [
      "\r",
      " 93%|█████████▎| 186/200 [01:04<00:04,  2.97it/s]"
     ]
    },
    {
     "name": "stdout",
     "output_type": "stream",
     "text": [
      "CPU times: user 200 ms, sys: 28.1 ms, total: 228 ms\n",
      "Wall time: 235 ms\n",
      "                                              col_used  max_depth  \\\n",
      "131  [98, 48, 156, 140, 35, 58, 118, 16, 139, 146, ...        266   \n",
      "\n",
      "     max_leaf_nodes  n_estimators       rmse     rmsle  sample_size   sd_rmse  \n",
      "131              14           318  28.500348  0.029634           23  0.170447  \n"
     ]
    },
    {
     "name": "stderr",
     "output_type": "stream",
     "text": [
      "\r",
      " 94%|█████████▎| 187/200 [01:05<00:04,  3.10it/s]"
     ]
    },
    {
     "name": "stdout",
     "output_type": "stream",
     "text": [
      "CPU times: user 100 ms, sys: 10.2 ms, total: 111 ms\n",
      "Wall time: 167 ms\n",
      "                                              col_used  max_depth  \\\n",
      "131  [98, 48, 156, 140, 35, 58, 118, 16, 139, 146, ...        266   \n",
      "\n",
      "     max_leaf_nodes  n_estimators       rmse     rmsle  sample_size   sd_rmse  \n",
      "131              14           318  28.500348  0.029634           23  0.170447  \n"
     ]
    },
    {
     "name": "stderr",
     "output_type": "stream",
     "text": [
      "\r",
      " 94%|█████████▍| 188/200 [01:05<00:03,  3.06it/s]"
     ]
    },
    {
     "name": "stdout",
     "output_type": "stream",
     "text": [
      "CPU times: user 170 ms, sys: 24.6 ms, total: 194 ms\n",
      "Wall time: 215 ms\n",
      "                                              col_used  max_depth  \\\n",
      "131  [98, 48, 156, 140, 35, 58, 118, 16, 139, 146, ...        266   \n",
      "\n",
      "     max_leaf_nodes  n_estimators       rmse     rmsle  sample_size   sd_rmse  \n",
      "131              14           318  28.500348  0.029634           23  0.170447  \n"
     ]
    },
    {
     "name": "stderr",
     "output_type": "stream",
     "text": [
      "\r",
      " 94%|█████████▍| 189/200 [01:05<00:03,  2.99it/s]"
     ]
    },
    {
     "name": "stdout",
     "output_type": "stream",
     "text": [
      "CPU times: user 191 ms, sys: 28.1 ms, total: 219 ms\n",
      "Wall time: 228 ms\n",
      "                                              col_used  max_depth  \\\n",
      "131  [98, 48, 156, 140, 35, 58, 118, 16, 139, 146, ...        266   \n",
      "\n",
      "     max_leaf_nodes  n_estimators       rmse     rmsle  sample_size   sd_rmse  \n",
      "131              14           318  28.500348  0.029634           23  0.170447  \n"
     ]
    },
    {
     "name": "stderr",
     "output_type": "stream",
     "text": [
      "\r",
      " 95%|█████████▌| 190/200 [01:06<00:03,  2.83it/s]"
     ]
    },
    {
     "name": "stdout",
     "output_type": "stream",
     "text": [
      "CPU times: user 250 ms, sys: 35.8 ms, total: 286 ms\n",
      "Wall time: 275 ms\n",
      "                                              col_used  max_depth  \\\n",
      "131  [98, 48, 156, 140, 35, 58, 118, 16, 139, 146, ...        266   \n",
      "\n",
      "     max_leaf_nodes  n_estimators       rmse     rmsle  sample_size   sd_rmse  \n",
      "131              14           318  28.500348  0.029634           23  0.170447  \n"
     ]
    },
    {
     "name": "stderr",
     "output_type": "stream",
     "text": [
      "\r",
      " 96%|█████████▌| 191/200 [01:06<00:03,  2.51it/s]"
     ]
    },
    {
     "name": "stdout",
     "output_type": "stream",
     "text": [
      "CPU times: user 303 ms, sys: 42.8 ms, total: 346 ms\n",
      "Wall time: 377 ms\n",
      "                                              col_used  max_depth  \\\n",
      "131  [98, 48, 156, 140, 35, 58, 118, 16, 139, 146, ...        266   \n",
      "\n",
      "     max_leaf_nodes  n_estimators       rmse     rmsle  sample_size   sd_rmse  \n",
      "131              14           318  28.500348  0.029634           23  0.170447  \n"
     ]
    },
    {
     "name": "stderr",
     "output_type": "stream",
     "text": [
      "\r",
      " 96%|█████████▌| 192/200 [01:06<00:03,  2.61it/s]"
     ]
    },
    {
     "name": "stdout",
     "output_type": "stream",
     "text": [
      "CPU times: user 159 ms, sys: 21.3 ms, total: 181 ms\n",
      "Wall time: 208 ms\n",
      "                                              col_used  max_depth  \\\n",
      "131  [98, 48, 156, 140, 35, 58, 118, 16, 139, 146, ...        266   \n",
      "\n",
      "     max_leaf_nodes  n_estimators       rmse     rmsle  sample_size   sd_rmse  \n",
      "131              14           318  28.500348  0.029634           23  0.170447  \n"
     ]
    },
    {
     "name": "stderr",
     "output_type": "stream",
     "text": [
      "\r",
      " 96%|█████████▋| 193/200 [01:07<00:02,  2.41it/s]"
     ]
    },
    {
     "name": "stdout",
     "output_type": "stream",
     "text": [
      "CPU times: user 268 ms, sys: 26.3 ms, total: 295 ms\n",
      "Wall time: 351 ms\n",
      "                                              col_used  max_depth  \\\n",
      "131  [98, 48, 156, 140, 35, 58, 118, 16, 139, 146, ...        266   \n",
      "\n",
      "     max_leaf_nodes  n_estimators       rmse     rmsle  sample_size   sd_rmse  \n",
      "131              14           318  28.500348  0.029634           23  0.170447  \n"
     ]
    },
    {
     "name": "stderr",
     "output_type": "stream",
     "text": [
      "\r",
      " 97%|█████████▋| 194/200 [01:07<00:02,  2.61it/s]"
     ]
    },
    {
     "name": "stdout",
     "output_type": "stream",
     "text": [
      "CPU times: user 114 ms, sys: 15.7 ms, total: 130 ms\n",
      "Wall time: 174 ms\n",
      "                                              col_used  max_depth  \\\n",
      "131  [98, 48, 156, 140, 35, 58, 118, 16, 139, 146, ...        266   \n",
      "\n",
      "     max_leaf_nodes  n_estimators       rmse     rmsle  sample_size   sd_rmse  \n",
      "131              14           318  28.500348  0.029634           23  0.170447  \n"
     ]
    },
    {
     "name": "stderr",
     "output_type": "stream",
     "text": [
      "\r",
      " 98%|█████████▊| 195/200 [01:08<00:02,  2.40it/s]"
     ]
    },
    {
     "name": "stdout",
     "output_type": "stream",
     "text": [
      "CPU times: user 233 ms, sys: 29.8 ms, total: 263 ms\n",
      "Wall time: 361 ms\n",
      "                                              col_used  max_depth  \\\n",
      "131  [98, 48, 156, 140, 35, 58, 118, 16, 139, 146, ...        266   \n",
      "\n",
      "     max_leaf_nodes  n_estimators       rmse     rmsle  sample_size   sd_rmse  \n",
      "131              14           318  28.500348  0.029634           23  0.170447  \n"
     ]
    },
    {
     "name": "stderr",
     "output_type": "stream",
     "text": [
      "\r",
      " 98%|█████████▊| 196/200 [01:08<00:01,  2.33it/s]"
     ]
    },
    {
     "name": "stdout",
     "output_type": "stream",
     "text": [
      "CPU times: user 297 ms, sys: 35.4 ms, total: 333 ms\n",
      "Wall time: 329 ms\n",
      "                                              col_used  max_depth  \\\n",
      "131  [98, 48, 156, 140, 35, 58, 118, 16, 139, 146, ...        266   \n",
      "\n",
      "     max_leaf_nodes  n_estimators       rmse     rmsle  sample_size   sd_rmse  \n",
      "131              14           318  28.500348  0.029634           23  0.170447  \n"
     ]
    },
    {
     "name": "stderr",
     "output_type": "stream",
     "text": [
      "\r",
      " 98%|█████████▊| 197/200 [01:09<00:01,  2.11it/s]"
     ]
    },
    {
     "name": "stdout",
     "output_type": "stream",
     "text": [
      "CPU times: user 340 ms, sys: 44.3 ms, total: 384 ms\n",
      "Wall time: 451 ms\n",
      "                                              col_used  max_depth  \\\n",
      "131  [98, 48, 156, 140, 35, 58, 118, 16, 139, 146, ...        266   \n",
      "\n",
      "     max_leaf_nodes  n_estimators       rmse     rmsle  sample_size   sd_rmse  \n",
      "131              14           318  28.500348  0.029634           23  0.170447  \n"
     ]
    },
    {
     "name": "stderr",
     "output_type": "stream",
     "text": [
      "\r",
      " 99%|█████████▉| 198/200 [01:09<00:00,  2.24it/s]"
     ]
    },
    {
     "name": "stdout",
     "output_type": "stream",
     "text": [
      "CPU times: user 222 ms, sys: 29.2 ms, total: 251 ms\n",
      "Wall time: 252 ms\n",
      "                                              col_used  max_depth  \\\n",
      "131  [98, 48, 156, 140, 35, 58, 118, 16, 139, 146, ...        266   \n",
      "\n",
      "     max_leaf_nodes  n_estimators       rmse     rmsle  sample_size   sd_rmse  \n",
      "131              14           318  28.500348  0.029634           23  0.170447  \n"
     ]
    },
    {
     "name": "stderr",
     "output_type": "stream",
     "text": [
      "\r",
      "100%|█████████▉| 199/200 [01:10<00:00,  2.24it/s]"
     ]
    },
    {
     "name": "stdout",
     "output_type": "stream",
     "text": [
      "CPU times: user 265 ms, sys: 31.3 ms, total: 296 ms\n",
      "Wall time: 321 ms\n",
      "                                              col_used  max_depth  \\\n",
      "131  [98, 48, 156, 140, 35, 58, 118, 16, 139, 146, ...        266   \n",
      "\n",
      "     max_leaf_nodes  n_estimators       rmse     rmsle  sample_size   sd_rmse  \n",
      "131              14           318  28.500348  0.029634           23  0.170447  \n"
     ]
    },
    {
     "name": "stderr",
     "output_type": "stream",
     "text": [
      "\r",
      "100%|██████████| 200/200 [01:10<00:00,  2.32it/s]"
     ]
    },
    {
     "name": "stdout",
     "output_type": "stream",
     "text": [
      "CPU times: user 251 ms, sys: 35.3 ms, total: 286 ms\n",
      "Wall time: 269 ms\n",
      "                                              col_used  max_depth  \\\n",
      "131  [98, 48, 156, 140, 35, 58, 118, 16, 139, 146, ...        266   \n",
      "\n",
      "     max_leaf_nodes  n_estimators       rmse     rmsle  sample_size   sd_rmse  \n",
      "131              14           318  28.500348  0.029634           23  0.170447  \n"
     ]
    },
    {
     "name": "stderr",
     "output_type": "stream",
     "text": [
      "\n"
     ]
    }
   ],
   "source": [
    "from tqdm import tqdm, trange\n",
    "import numpy as np\n",
    "import warnings\n",
    "warnings.filterwarnings('ignore')\n",
    "\n",
    "\n",
    "from sklearn.model_selection import train_test_split\n",
    "n_loop = 200\n",
    "col_list = []\n",
    "for n in tqdm(range(n_loop)):\n",
    "    max_depth=np.random.randint(100, 300)\n",
    "    n_estimators=np.random.randint(150, 400)\n",
    "    max_leaf_nodes=np.random.randint(2, 380)\n",
    "    \n",
    "    sample_size = np.random.randint(12,25)\n",
    "    col_used=np.random.randint(5,158, size=sample_size)\n",
    "    #X_train = df_sat\n",
    "    X_train=sat_ml.iloc[:,col_used]\n",
    "    X_train=X_train.astype(bool)\n",
    "    #Y_train\n",
    "    Y_train=pd.DataFrame(sat_ml[\"total\"])\n",
    "    \n",
    "    X_train_cut, X_test_cut, y_train_cut, y_test_cut = \\\n",
    "        train_test_split(X_train, Y_train, test_size = 0.3, random_state = 1)\n",
    "\n",
    "    model = RandomForestRegressor(n_estimators = n_estimators,\n",
    "                                  max_depth = max_depth,\n",
    "                                  max_leaf_nodes=max_leaf_nodes,\n",
    "                              n_jobs = -1,\n",
    "                              random_state = 1)\n",
    "    \n",
    "    %time model.fit(X_train_cut, y_train_cut)\n",
    "    \n",
    "    y_predict_test = model.predict(X_test_cut)\n",
    "    rmsle_score=rmsle(y_predict_test, y_test_cut[\"total\"])\n",
    "    rmse_score = rmse(y_predict_test, y_test_cut[\"total\"])\n",
    "    sd_rmse = rmse(y_predict_test, y_test_cut[\"total\"])/sat_ml[\"total\"].std()\n",
    "    \n",
    "    \n",
    "    col_list.append({\"col_used\": col_used, \"sample_size\": sample_size,\"rmsle\": rmsle_score, \n",
    "                     \"rmse\": rmse_score, \"sd_rmse\" : sd_rmse, \"n_estimators\": n_estimators,\n",
    "                    \"max_depth\": max_depth, \"max_leaf_nodes\": max_leaf_nodes}) \n",
    "    print(pd.DataFrame(col_list).sort_values(by = \"rmse\").head(1))\n"
   ]
  },
  {
   "cell_type": "code",
   "execution_count": 25,
   "metadata": {},
   "outputs": [],
   "source": [
    "best_result=pd.DataFrame(col_list).sort_values(by = \"rmsle\").iloc[0]"
   ]
  },
  {
   "cell_type": "code",
   "execution_count": 26,
   "metadata": {},
   "outputs": [
    {
     "data": {
      "text/plain": [
       "array([ 98,  48, 156, 140,  35,  58, 118,  16, 139, 146, 126,  39,  64,\n",
       "       143,  14,  73,  78, 113,  12,  35,  99, 129,  34])"
      ]
     },
     "execution_count": 26,
     "metadata": {},
     "output_type": "execute_result"
    }
   ],
   "source": [
    "best_result[\"col_used\"]"
   ]
  },
  {
   "cell_type": "code",
   "execution_count": 27,
   "metadata": {},
   "outputs": [],
   "source": [
    "best_qt=pd.DataFrame(col_list).sort_values(by = \"rmsle\").iloc[0][\"col_used\"]"
   ]
  },
  {
   "cell_type": "code",
   "execution_count": 28,
   "metadata": {},
   "outputs": [],
   "source": [
    "model = RandomForestRegressor(n_estimators = best_result[\"n_estimators\"],\n",
    "                                  max_depth = best_result[\"max_depth\"],\n",
    "                                  max_leaf_nodes=best_result[\"max_leaf_nodes\"],\n",
    "                              n_jobs = -1,\n",
    "                              random_state = 1)"
   ]
  },
  {
   "cell_type": "code",
   "execution_count": 29,
   "metadata": {},
   "outputs": [
    {
     "name": "stdout",
     "output_type": "stream",
     "text": [
      "CPU times: user 198 ms, sys: 26.7 ms, total: 225 ms\n",
      "Wall time: 238 ms\n"
     ]
    }
   ],
   "source": [
    "X_train=sat_ml.iloc[:,best_qt]\n",
    "X_train=X_train.astype(bool)\n",
    "\n",
    "Y_train=pd.DataFrame(sat_ml[\"total\"])\n",
    "\n",
    "X_train_cut, X_test_cut, y_train_cut, y_test_cut = \\\n",
    "    train_test_split(X_train, Y_train, test_size = 0.3, random_state = 1)\n",
    "\n",
    "%time model.fit(X_train_cut, y_train_cut)\n",
    "\n",
    "y_predict_test = model.predict(X_test_cut)\n",
    "rmsle_score=rmsle(y_predict_test, y_test_cut[\"total\"])\n",
    "rmse_score = rmse(y_predict_test, y_test_cut[\"total\"])\n",
    "sd_rmse = rmse(y_predict_test, y_test_cut[\"total\"])/sat_ml[\"total\"].std()"
   ]
  },
  {
   "cell_type": "code",
   "execution_count": 30,
   "metadata": {},
   "outputs": [
    {
     "data": {
      "text/plain": [
       "0.029634090458798622"
      ]
     },
     "execution_count": 30,
     "metadata": {},
     "output_type": "execute_result"
    }
   ],
   "source": [
    "rmsle_score"
   ]
  },
  {
   "cell_type": "code",
   "execution_count": 31,
   "metadata": {},
   "outputs": [
    {
     "name": "stdout",
     "output_type": "stream",
     "text": [
      "17.28773584905656 66.99874783827921 26.163690520643502\n"
     ]
    },
    {
     "data": {
      "text/html": [
       "<div>\n",
       "<style scoped>\n",
       "    .dataframe tbody tr th:only-of-type {\n",
       "        vertical-align: middle;\n",
       "    }\n",
       "\n",
       "    .dataframe tbody tr th {\n",
       "        vertical-align: top;\n",
       "    }\n",
       "\n",
       "    .dataframe thead th {\n",
       "        text-align: right;\n",
       "    }\n",
       "</style>\n",
       "<table border=\"1\" class=\"dataframe\">\n",
       "  <thead>\n",
       "    <tr style=\"text-align: right;\">\n",
       "      <th></th>\n",
       "      <th>p_score</th>\n",
       "      <th>a_score</th>\n",
       "      <th>diff</th>\n",
       "    </tr>\n",
       "  </thead>\n",
       "  <tbody>\n",
       "    <tr>\n",
       "      <th>0</th>\n",
       "      <td>1181.729560</td>\n",
       "      <td>1180</td>\n",
       "      <td>1.729560</td>\n",
       "    </tr>\n",
       "    <tr>\n",
       "      <th>1</th>\n",
       "      <td>1213.301887</td>\n",
       "      <td>1220</td>\n",
       "      <td>6.698113</td>\n",
       "    </tr>\n",
       "    <tr>\n",
       "      <th>2</th>\n",
       "      <td>986.415094</td>\n",
       "      <td>930</td>\n",
       "      <td>56.415094</td>\n",
       "    </tr>\n",
       "    <tr>\n",
       "      <th>3</th>\n",
       "      <td>984.308176</td>\n",
       "      <td>980</td>\n",
       "      <td>4.308176</td>\n",
       "    </tr>\n",
       "  </tbody>\n",
       "</table>\n",
       "</div>"
      ],
      "text/plain": [
       "       p_score  a_score       diff\n",
       "0  1181.729560     1180   1.729560\n",
       "1  1213.301887     1220   6.698113\n",
       "2   986.415094      930  56.415094\n",
       "3   984.308176      980   4.308176"
      ]
     },
     "execution_count": 31,
     "metadata": {},
     "output_type": "execute_result"
    }
   ],
   "source": [
    "import math\n",
    "math.sqrt(10)\n",
    "\n",
    "df_predicted=pd.DataFrame(zip(y_predict_test, y_test_cut.values))\n",
    "df_predicted.columns = [\"p_score\", 'a_score']\n",
    "df_predicted['a_score']=df_predicted['a_score'].astype(int)\n",
    "df_predicted['diff'] = np.abs(df_predicted['p_score'] - df_predicted['a_score'])\n",
    "\n",
    "diff_mean=df_predicted.mean()[2]\n",
    "diff_sd=df_predicted.std()[2]\n",
    "confi_range= diff_mean + 1.9*diff_sd\n",
    "\n",
    "print(diff_mean, confi_range, diff_sd)\n",
    "df_predicted.head()\n"
   ]
  },
  {
   "cell_type": "code",
   "execution_count": 32,
   "metadata": {},
   "outputs": [
    {
     "data": {
      "text/plain": [
       "p_score    1213.301887\n",
       "a_score    1220.000000\n",
       "diff         56.415094\n",
       "dtype: float64"
      ]
     },
     "execution_count": 32,
     "metadata": {},
     "output_type": "execute_result"
    }
   ],
   "source": [
    "df_predicted.max()"
   ]
  },
  {
   "cell_type": "code",
   "execution_count": 33,
   "metadata": {},
   "outputs": [],
   "source": [
    "best_result=pd.DataFrame(best_result).T"
   ]
  },
  {
   "cell_type": "code",
   "execution_count": 34,
   "metadata": {},
   "outputs": [],
   "source": [
    "best_result[\"diff_mean\"] = diff_mean\n",
    "best_result[\"diff_sd\"] =diff_sd\n",
    "best_result[\"confi_range\"] = confi_range\n",
    "best_result['diff_max'] = df_predicted.max()[2]\n"
   ]
  },
  {
   "cell_type": "code",
   "execution_count": 42,
   "metadata": {},
   "outputs": [],
   "source": [
    "# test result\n",
    "best_result.to_csv(f\"test_result/best_result_test{testNum}.csv\")\n"
   ]
  },
  {
   "cell_type": "code",
   "execution_count": 43,
   "metadata": {},
   "outputs": [
    {
     "data": {
      "text/html": [
       "<div>\n",
       "<style scoped>\n",
       "    .dataframe tbody tr th:only-of-type {\n",
       "        vertical-align: middle;\n",
       "    }\n",
       "\n",
       "    .dataframe tbody tr th {\n",
       "        vertical-align: top;\n",
       "    }\n",
       "\n",
       "    .dataframe thead th {\n",
       "        text-align: right;\n",
       "    }\n",
       "</style>\n",
       "<table border=\"1\" class=\"dataframe\">\n",
       "  <thead>\n",
       "    <tr style=\"text-align: right;\">\n",
       "      <th></th>\n",
       "      <th>col_used</th>\n",
       "      <th>max_depth</th>\n",
       "      <th>max_leaf_nodes</th>\n",
       "      <th>n_estimators</th>\n",
       "      <th>rmse</th>\n",
       "      <th>rmsle</th>\n",
       "      <th>sample_size</th>\n",
       "      <th>sd_rmse</th>\n",
       "      <th>diff_mean</th>\n",
       "      <th>diff_sd</th>\n",
       "      <th>confi_range</th>\n",
       "      <th>diff_max</th>\n",
       "    </tr>\n",
       "  </thead>\n",
       "  <tbody>\n",
       "    <tr>\n",
       "      <th>131</th>\n",
       "      <td>[98, 48, 156, 140, 35, 58, 118, 16, 139, 146, ...</td>\n",
       "      <td>266</td>\n",
       "      <td>14</td>\n",
       "      <td>318</td>\n",
       "      <td>28.5003</td>\n",
       "      <td>0.0296341</td>\n",
       "      <td>23</td>\n",
       "      <td>0.170447</td>\n",
       "      <td>17.287736</td>\n",
       "      <td>26.163691</td>\n",
       "      <td>66.998748</td>\n",
       "      <td>56.415094</td>\n",
       "    </tr>\n",
       "  </tbody>\n",
       "</table>\n",
       "</div>"
      ],
      "text/plain": [
       "                                              col_used max_depth  \\\n",
       "131  [98, 48, 156, 140, 35, 58, 118, 16, 139, 146, ...       266   \n",
       "\n",
       "    max_leaf_nodes n_estimators     rmse      rmsle sample_size   sd_rmse  \\\n",
       "131             14          318  28.5003  0.0296341          23  0.170447   \n",
       "\n",
       "     diff_mean    diff_sd  confi_range   diff_max  \n",
       "131  17.287736  26.163691    66.998748  56.415094  "
      ]
     },
     "execution_count": 43,
     "metadata": {},
     "output_type": "execute_result"
    }
   ],
   "source": [
    "best_result"
   ]
  },
  {
   "cell_type": "code",
   "execution_count": null,
   "metadata": {},
   "outputs": [],
   "source": []
  },
  {
   "cell_type": "code",
   "execution_count": null,
   "metadata": {},
   "outputs": [],
   "source": []
  },
  {
   "cell_type": "code",
   "execution_count": null,
   "metadata": {},
   "outputs": [],
   "source": []
  },
  {
   "cell_type": "code",
   "execution_count": null,
   "metadata": {},
   "outputs": [],
   "source": []
  },
  {
   "cell_type": "code",
   "execution_count": null,
   "metadata": {},
   "outputs": [],
   "source": []
  },
  {
   "cell_type": "code",
   "execution_count": null,
   "metadata": {},
   "outputs": [],
   "source": []
  },
  {
   "cell_type": "code",
   "execution_count": null,
   "metadata": {},
   "outputs": [],
   "source": []
  },
  {
   "cell_type": "code",
   "execution_count": null,
   "metadata": {},
   "outputs": [],
   "source": []
  },
  {
   "cell_type": "code",
   "execution_count": null,
   "metadata": {},
   "outputs": [],
   "source": []
  },
  {
   "cell_type": "code",
   "execution_count": null,
   "metadata": {},
   "outputs": [],
   "source": []
  },
  {
   "cell_type": "code",
   "execution_count": null,
   "metadata": {},
   "outputs": [],
   "source": []
  },
  {
   "cell_type": "code",
   "execution_count": 37,
   "metadata": {},
   "outputs": [],
   "source": [
    "#test1_merge.reset_index(drop=\"index\").to_csv(\"test1_merge.csv\")"
   ]
  },
  {
   "cell_type": "code",
   "execution_count": 38,
   "metadata": {},
   "outputs": [
    {
     "data": {
      "text/plain": [
       "'\\ntestR2_info=pd.read_csv(\"test_info_testNum_r2.csv\").drop(\\'Unnamed: 0\\', axis=1)\\ntestR2_ans=pd.read_csv(\"test_answer_testNum_r2.csv\").drop(\\'Unnamed: 0\\', axis=1)\\n\\ntestR2_sat=pd.read_csv(\"r2/test_score_by_test_id_report.csv\")\\nsat_col=[\\'Test Date\\', \\'Student ID\\',\\'Total\\']\\ntestR2_sat=testR2_sat[sat_col]\\ntestR2_sat.columns= [\"testDate\", \"userID\", \"total\"]\\n\\ntestR2_sat[\"testDate\"]=pd.to_datetime(testR2_sat[\"testDate\"])\\ntestR2_info[\"testDate\"]=pd.to_datetime(testR2_info[\"testDate\"])\\n\\ntestR2_merge=pd.merge(testR2_sat, testR2_info, on=[\\'userID\\',\"testDate\"])\\ntestR2_merge=testR2_merge[~(testR2_merge.duplicated([\"userID\",\"testDate\"], keep=\\'first\\'))]\\n\\ntestR2_merge.dropna()\\n'"
      ]
     },
     "execution_count": 38,
     "metadata": {},
     "output_type": "execute_result"
    }
   ],
   "source": [
    "\"\"\"\n",
    "testR2_info=pd.read_csv(\"test_info_testNum_r2.csv\").drop('Unnamed: 0', axis=1)\n",
    "testR2_ans=pd.read_csv(\"test_answer_testNum_r2.csv\").drop('Unnamed: 0', axis=1)\n",
    "\n",
    "testR2_sat=pd.read_csv(\"r2/test_score_by_test_id_report.csv\")\n",
    "sat_col=['Test Date', 'Student ID','Total']\n",
    "testR2_sat=testR2_sat[sat_col]\n",
    "testR2_sat.columns= [\"testDate\", \"userID\", \"total\"]\n",
    "\n",
    "testR2_sat[\"testDate\"]=pd.to_datetime(testR2_sat[\"testDate\"])\n",
    "testR2_info[\"testDate\"]=pd.to_datetime(testR2_info[\"testDate\"])\n",
    "\n",
    "testR2_merge=pd.merge(testR2_sat, testR2_info, on=['userID',\"testDate\"])\n",
    "testR2_merge=testR2_merge[~(testR2_merge.duplicated([\"userID\",\"testDate\"], keep='first'))]\n",
    "\n",
    "testR2_merge.dropna()\n",
    "\"\"\""
   ]
  },
  {
   "cell_type": "code",
   "execution_count": 39,
   "metadata": {},
   "outputs": [
    {
     "data": {
      "text/plain": [
       "'\\ntest1_info=pd.read_csv(\"test_info_testNum_1.csv\").drop(\\'Unnamed: 0\\', axis=1)\\ntest1_ans=pd.read_csv(\"test_answer_testNum_1.csv\").drop(\\'Unnamed: 0\\', axis=1)\\n\\ntest1_sat=pd.read_csv(\"1/test_score_by_test_id_report_1.csv\")\\n\\nsat_col=[\\'test_num\\',\\'Test Date\\', \\'Student ID\\',\\'Total\\']\\ntest1_sat=test1_sat[sat_col]\\ntest1_sat.columns= [\\'test_num\\',\"testDate\", \"userID\", \"total\"]\\n\\ntest1_sat[\"testDate\"]=pd.to_datetime(test1_sat[\"testDate\"])\\ntest1_info[\"testDate\"]=pd.to_datetime(test1_info[\"testDate\"])\\n\\ntest1_merge=pd.merge(test1_sat, test1_info, on=[\\'userID\\',\"testDate\"])\\ntest1_merge=test1_merge[~(test1_merge.duplicated([\"userID\",\"testDate\"], keep=\\'first\\'))]\\n\\ntest1_merge.head()\\n'"
      ]
     },
     "execution_count": 39,
     "metadata": {},
     "output_type": "execute_result"
    }
   ],
   "source": [
    "### coverting code for mergging \n",
    "\"\"\"\n",
    "test1_info=pd.read_csv(\"test_info_testNum_1.csv\").drop('Unnamed: 0', axis=1)\n",
    "test1_ans=pd.read_csv(\"test_answer_testNum_1.csv\").drop('Unnamed: 0', axis=1)\n",
    "\n",
    "test1_sat=pd.read_csv(\"1/test_score_by_test_id_report_1.csv\")\n",
    "\n",
    "sat_col=['test_num','Test Date', 'Student ID','Total']\n",
    "test1_sat=test1_sat[sat_col]\n",
    "test1_sat.columns= ['test_num',\"testDate\", \"userID\", \"total\"]\n",
    "\n",
    "test1_sat[\"testDate\"]=pd.to_datetime(test1_sat[\"testDate\"])\n",
    "test1_info[\"testDate\"]=pd.to_datetime(test1_info[\"testDate\"])\n",
    "\n",
    "test1_merge=pd.merge(test1_sat, test1_info, on=['userID',\"testDate\"])\n",
    "test1_merge=test1_merge[~(test1_merge.duplicated([\"userID\",\"testDate\"], keep='first'))]\n",
    "\n",
    "test1_merge.head()\n",
    "\"\"\""
   ]
  },
  {
   "cell_type": "code",
   "execution_count": 40,
   "metadata": {},
   "outputs": [
    {
     "data": {
      "text/plain": [
       "'\\n# collect data only less than 15 null values \\nall_row=test1_merge.index\\ntmp = []\\nfor row in all_row:\\n    tmp.append({\"row\": row,\"null_count\": test1_merge.shape[1]-pd.isnull(test1_merge.loc[row]).value_counts()[0]})\\ntmp=pd.DataFrame(tmp)\\nfew_null_row=tmp.loc[tmp[\"null_count\"] <5, \"row\"].values\\n'"
      ]
     },
     "execution_count": 40,
     "metadata": {},
     "output_type": "execute_result"
    }
   ],
   "source": [
    "\"\"\"\n",
    "# collect data only less than 15 null values \n",
    "all_row=test1_merge.index\n",
    "tmp = []\n",
    "for row in all_row:\n",
    "    tmp.append({\"row\": row,\"null_count\": test1_merge.shape[1]-pd.isnull(test1_merge.loc[row]).value_counts()[0]})\n",
    "tmp=pd.DataFrame(tmp)\n",
    "few_null_row=tmp.loc[tmp[\"null_count\"] <5, \"row\"].values\n",
    "\"\"\""
   ]
  },
  {
   "cell_type": "code",
   "execution_count": 41,
   "metadata": {},
   "outputs": [
    {
     "data": {
      "text/plain": [
       "'\\ndef ml_ready(data,sat_boolean):\\n    \\n    sat_boolean.columns = data.columns[6:]\\n    sat_boolean=sat_boolean.reset_index()\\n    sat_boolean[\"userID\"] = sat_boolean[\"index\"]\\n    sat_boolean.drop(\"index\",axis=1)\\n    sat_boolean=sat_boolean[list([\"userID\"]) + list(sat_boolean.columns[:-1])]\\n    data=data[[\"testDate\",\"userID\",\"total\"]]\\n    \\n    # userID type from data = str = from sat_boolean\\n    data[\"userID\"]=data[\"userID\"].astype(str)\\n    \\n    # innder join\\n    sat_ml=data.merge(sat_boolean, left_on=\\'userID\\', right_on=\\'userID\\')\\n    \\n    return sat_ml\\n'"
      ]
     },
     "execution_count": 41,
     "metadata": {},
     "output_type": "execute_result"
    }
   ],
   "source": [
    "\"\"\"\n",
    "def ml_ready(data,sat_boolean):\n",
    "    \n",
    "    sat_boolean.columns = data.columns[6:]\n",
    "    sat_boolean=sat_boolean.reset_index()\n",
    "    sat_boolean[\"userID\"] = sat_boolean[\"index\"]\n",
    "    sat_boolean.drop(\"index\",axis=1)\n",
    "    sat_boolean=sat_boolean[list([\"userID\"]) + list(sat_boolean.columns[:-1])]\n",
    "    data=data[[\"testDate\",\"userID\",\"total\"]]\n",
    "    \n",
    "    # userID type from data = str = from sat_boolean\n",
    "    data[\"userID\"]=data[\"userID\"].astype(str)\n",
    "    \n",
    "    # innder join\n",
    "    sat_ml=data.merge(sat_boolean, left_on='userID', right_on='userID')\n",
    "    \n",
    "    return sat_ml\n",
    "\"\"\""
   ]
  }
 ],
 "metadata": {
  "kernelspec": {
   "display_name": "Python 3",
   "language": "python",
   "name": "python3"
  },
  "language_info": {
   "codemirror_mode": {
    "name": "ipython",
    "version": 3
   },
   "file_extension": ".py",
   "mimetype": "text/x-python",
   "name": "python",
   "nbconvert_exporter": "python",
   "pygments_lexer": "ipython3",
   "version": "3.7.3"
  }
 },
 "nbformat": 4,
 "nbformat_minor": 2
}
