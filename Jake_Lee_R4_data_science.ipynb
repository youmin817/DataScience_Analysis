{
 "cells": [
  {
   "cell_type": "markdown",
   "metadata": {},
   "source": [
    "# r4 Data Science "
   ]
  },
  {
   "cell_type": "code",
   "execution_count": 1,
   "metadata": {},
   "outputs": [],
   "source": [
    "import pandas as pd\n",
    "import numpy as np\n",
    "import seaborn as sns\n",
    "import matplotlib.pyplot as plt\n",
    "%matplotlib inline\n"
   ]
  },
  {
   "cell_type": "markdown",
   "metadata": {},
   "source": [
    "## Essential Questions\n",
    "### 1. What are some of the first things you notice about this data set? What is in it?\n",
    "### 2. Using this data, please answer the question-  does genre usage shift week-to-week \n",
    "(relative to when a user first used the service)?  For example, are users more likely to play Fingerprint during week one of their subscription, but then Mashboard during week 2 and 3? \n",
    "### 3. How would you improve the service by improving customer engagement? "
   ]
  },
  {
   "cell_type": "code",
   "execution_count": 2,
   "metadata": {},
   "outputs": [],
   "source": [
    "# load the data \n",
    "raw = pd.read_excel(\"R4.xlsx\", sheet_name='Raw Data')# default index_col=None"
   ]
  },
  {
   "cell_type": "markdown",
   "metadata": {},
   "source": [
    "### 1.  What are some of the first things you notice about this data set? What is in it?\n",
    "I notice : \n",
    "* raw data shape: (134950, 4)\n",
    "* raw data type\n",
    "* 6 different genres\n",
    "* unique user id: 2798\n",
    "    - users play many times\n",
    "* First_Play_Date: 01/07 to 01/13 only 2weeks\n",
    "* Play_Date: 01/08 to 02/09 5 weeks \n",
    "\n",
    "Comment:\n",
    "- Needed to add count column for data analysis\n",
    "- Discovery and Fingerprint in Genre are mostly played: 94%\n",
    "- Others in Genre have only 6%\n",
    "- Needed to focus on two genres: Discovery and Fingerprint\n",
    "- Week 3 and Week 4 have 55% of total number of playes. \n",
    "- After week 3, total number of playes went down dramatically.\n",
    "- Skew to right of total number of playes by users distribution: There are some outliers"
   ]
  },
  {
   "cell_type": "code",
   "execution_count": 3,
   "metadata": {},
   "outputs": [
    {
     "name": "stdout",
     "output_type": "stream",
     "text": [
      "(134950, 4)\n"
     ]
    },
    {
     "data": {
      "text/html": [
       "<div>\n",
       "<style scoped>\n",
       "    .dataframe tbody tr th:only-of-type {\n",
       "        vertical-align: middle;\n",
       "    }\n",
       "\n",
       "    .dataframe tbody tr th {\n",
       "        vertical-align: top;\n",
       "    }\n",
       "\n",
       "    .dataframe thead th {\n",
       "        text-align: right;\n",
       "    }\n",
       "</style>\n",
       "<table border=\"1\" class=\"dataframe\">\n",
       "  <thead>\n",
       "    <tr style=\"text-align: right;\">\n",
       "      <th></th>\n",
       "      <th>ID</th>\n",
       "      <th>First_Play_Date</th>\n",
       "      <th>Play_Date</th>\n",
       "      <th>Genre</th>\n",
       "    </tr>\n",
       "  </thead>\n",
       "  <tbody>\n",
       "    <tr>\n",
       "      <th>0</th>\n",
       "      <td>ASP-122a358d-be37-49bf-98ea-402ccfe33898-26768...</td>\n",
       "      <td>2015-01-08</td>\n",
       "      <td>2015-01-08</td>\n",
       "      <td>Discovery</td>\n",
       "    </tr>\n",
       "    <tr>\n",
       "      <th>1</th>\n",
       "      <td>ASP-122a358d-be37-49bf-98ea-402ccfe33898-26768...</td>\n",
       "      <td>2015-01-08</td>\n",
       "      <td>2015-01-08</td>\n",
       "      <td>Discovery</td>\n",
       "    </tr>\n",
       "    <tr>\n",
       "      <th>2</th>\n",
       "      <td>ASP-122a358d-be37-49bf-98ea-402ccfe33898-26768...</td>\n",
       "      <td>2015-01-08</td>\n",
       "      <td>2015-01-08</td>\n",
       "      <td>Discovery</td>\n",
       "    </tr>\n",
       "    <tr>\n",
       "      <th>3</th>\n",
       "      <td>ASP-122a358d-be37-49bf-98ea-402ccfe33898-26768...</td>\n",
       "      <td>2015-01-08</td>\n",
       "      <td>2015-01-08</td>\n",
       "      <td>Discovery</td>\n",
       "    </tr>\n",
       "    <tr>\n",
       "      <th>4</th>\n",
       "      <td>ASP-122a358d-be37-49bf-98ea-402ccfe33898-26768...</td>\n",
       "      <td>2015-01-08</td>\n",
       "      <td>2015-01-08</td>\n",
       "      <td>Discovery</td>\n",
       "    </tr>\n",
       "  </tbody>\n",
       "</table>\n",
       "</div>"
      ],
      "text/plain": [
       "                                                  ID First_Play_Date  \\\n",
       "0  ASP-122a358d-be37-49bf-98ea-402ccfe33898-26768...      2015-01-08   \n",
       "1  ASP-122a358d-be37-49bf-98ea-402ccfe33898-26768...      2015-01-08   \n",
       "2  ASP-122a358d-be37-49bf-98ea-402ccfe33898-26768...      2015-01-08   \n",
       "3  ASP-122a358d-be37-49bf-98ea-402ccfe33898-26768...      2015-01-08   \n",
       "4  ASP-122a358d-be37-49bf-98ea-402ccfe33898-26768...      2015-01-08   \n",
       "\n",
       "   Play_Date      Genre  \n",
       "0 2015-01-08  Discovery  \n",
       "1 2015-01-08  Discovery  \n",
       "2 2015-01-08  Discovery  \n",
       "3 2015-01-08  Discovery  \n",
       "4 2015-01-08  Discovery  "
      ]
     },
     "execution_count": 3,
     "metadata": {},
     "output_type": "execute_result"
    }
   ],
   "source": [
    "# check the shape and see first 5 data\n",
    "print(raw.shape)\n",
    "raw.head()"
   ]
  },
  {
   "cell_type": "code",
   "execution_count": 4,
   "metadata": {},
   "outputs": [
    {
     "name": "stdout",
     "output_type": "stream",
     "text": [
      "<class 'pandas.core.frame.DataFrame'>\n",
      "RangeIndex: 134950 entries, 0 to 134949\n",
      "Data columns (total 4 columns):\n",
      "ID                 134950 non-null object\n",
      "First_Play_Date    134950 non-null datetime64[ns]\n",
      "Play_Date          134950 non-null datetime64[ns]\n",
      "Genre              134950 non-null object\n",
      "dtypes: datetime64[ns](2), object(2)\n",
      "memory usage: 4.1+ MB\n"
     ]
    }
   ],
   "source": [
    "raw.info()"
   ]
  },
  {
   "cell_type": "markdown",
   "metadata": {},
   "source": [
    "## Data Description\n",
    "* All Non Null data set \n",
    "* ID: User ID / type(object(str)) \n",
    "* First_Play_Date: date user first used service / type(datetime)\n",
    "* Play_Date: date of play/stream / type(datetime)\n",
    "* Genre: genre of portal being played / type(object(str))\n"
   ]
  },
  {
   "cell_type": "code",
   "execution_count": 5,
   "metadata": {},
   "outputs": [
    {
     "data": {
      "text/plain": [
       "(2798,)"
      ]
     },
     "execution_count": 5,
     "metadata": {},
     "output_type": "execute_result"
    }
   ],
   "source": [
    "# unique User ID: 2798\n",
    "raw['ID'].unique().shape"
   ]
  },
  {
   "cell_type": "code",
   "execution_count": 6,
   "metadata": {},
   "outputs": [
    {
     "data": {
      "text/plain": [
       "array(['Discovery', 'Fingerprint', 'Bullseye', 'Spider', 'Mashboard',\n",
       "       'Product'], dtype=object)"
      ]
     },
     "execution_count": 6,
     "metadata": {},
     "output_type": "execute_result"
    }
   ],
   "source": [
    "# Genre: 6\n",
    "# 'Discovery', 'Fingerprint', 'Bullseye', 'Spider', 'Mashboard','Product'\n",
    "raw['Genre'].unique()"
   ]
  },
  {
   "cell_type": "code",
   "execution_count": 7,
   "metadata": {},
   "outputs": [
    {
     "data": {
      "text/html": [
       "<div>\n",
       "<style scoped>\n",
       "    .dataframe tbody tr th:only-of-type {\n",
       "        vertical-align: middle;\n",
       "    }\n",
       "\n",
       "    .dataframe tbody tr th {\n",
       "        vertical-align: top;\n",
       "    }\n",
       "\n",
       "    .dataframe thead th {\n",
       "        text-align: right;\n",
       "    }\n",
       "</style>\n",
       "<table border=\"1\" class=\"dataframe\">\n",
       "  <thead>\n",
       "    <tr style=\"text-align: right;\">\n",
       "      <th></th>\n",
       "      <th>ID</th>\n",
       "      <th>First_Play_Date</th>\n",
       "      <th>Play_Date</th>\n",
       "      <th>Genre</th>\n",
       "    </tr>\n",
       "  </thead>\n",
       "  <tbody>\n",
       "    <tr>\n",
       "      <th>0</th>\n",
       "      <td>ASP-122a358d-be37-49bf-98ea-402ccfe33898-26768...</td>\n",
       "      <td>2015-01-08</td>\n",
       "      <td>2015-01-08</td>\n",
       "      <td>Discovery</td>\n",
       "    </tr>\n",
       "    <tr>\n",
       "      <th>1</th>\n",
       "      <td>ASP-122a358d-be37-49bf-98ea-402ccfe33898-26768...</td>\n",
       "      <td>2015-01-08</td>\n",
       "      <td>2015-01-08</td>\n",
       "      <td>Discovery</td>\n",
       "    </tr>\n",
       "    <tr>\n",
       "      <th>2</th>\n",
       "      <td>ASP-122a358d-be37-49bf-98ea-402ccfe33898-26768...</td>\n",
       "      <td>2015-01-08</td>\n",
       "      <td>2015-01-08</td>\n",
       "      <td>Discovery</td>\n",
       "    </tr>\n",
       "    <tr>\n",
       "      <th>3</th>\n",
       "      <td>ASP-122a358d-be37-49bf-98ea-402ccfe33898-26768...</td>\n",
       "      <td>2015-01-08</td>\n",
       "      <td>2015-01-08</td>\n",
       "      <td>Discovery</td>\n",
       "    </tr>\n",
       "    <tr>\n",
       "      <th>4</th>\n",
       "      <td>ASP-122a358d-be37-49bf-98ea-402ccfe33898-26768...</td>\n",
       "      <td>2015-01-08</td>\n",
       "      <td>2015-01-08</td>\n",
       "      <td>Discovery</td>\n",
       "    </tr>\n",
       "  </tbody>\n",
       "</table>\n",
       "</div>"
      ],
      "text/plain": [
       "                                                  ID First_Play_Date  \\\n",
       "0  ASP-122a358d-be37-49bf-98ea-402ccfe33898-26768...      2015-01-08   \n",
       "1  ASP-122a358d-be37-49bf-98ea-402ccfe33898-26768...      2015-01-08   \n",
       "2  ASP-122a358d-be37-49bf-98ea-402ccfe33898-26768...      2015-01-08   \n",
       "3  ASP-122a358d-be37-49bf-98ea-402ccfe33898-26768...      2015-01-08   \n",
       "4  ASP-122a358d-be37-49bf-98ea-402ccfe33898-26768...      2015-01-08   \n",
       "\n",
       "   Play_Date      Genre  \n",
       "0 2015-01-08  Discovery  \n",
       "1 2015-01-08  Discovery  \n",
       "2 2015-01-08  Discovery  \n",
       "3 2015-01-08  Discovery  \n",
       "4 2015-01-08  Discovery  "
      ]
     },
     "execution_count": 7,
     "metadata": {},
     "output_type": "execute_result"
    }
   ],
   "source": [
    "raw.head()"
   ]
  },
  {
   "cell_type": "code",
   "execution_count": 8,
   "metadata": {},
   "outputs": [
    {
     "data": {
      "text/html": [
       "<div>\n",
       "<style scoped>\n",
       "    .dataframe tbody tr th:only-of-type {\n",
       "        vertical-align: middle;\n",
       "    }\n",
       "\n",
       "    .dataframe tbody tr th {\n",
       "        vertical-align: top;\n",
       "    }\n",
       "\n",
       "    .dataframe thead th {\n",
       "        text-align: right;\n",
       "    }\n",
       "</style>\n",
       "<table border=\"1\" class=\"dataframe\">\n",
       "  <thead>\n",
       "    <tr style=\"text-align: right;\">\n",
       "      <th></th>\n",
       "      <th>ID</th>\n",
       "      <th>First_Play_Date</th>\n",
       "      <th>Play_Date</th>\n",
       "      <th>Genre</th>\n",
       "    </tr>\n",
       "  </thead>\n",
       "  <tbody>\n",
       "    <tr>\n",
       "      <th>134945</th>\n",
       "      <td>WMT-eb43dc75-8c60-487c-9615-4e750042a0e3-26930...</td>\n",
       "      <td>2015-01-08</td>\n",
       "      <td>2015-02-04</td>\n",
       "      <td>Discovery</td>\n",
       "    </tr>\n",
       "    <tr>\n",
       "      <th>134946</th>\n",
       "      <td>WMT-eb43dc75-8c60-487c-9615-4e750042a0e3-26930...</td>\n",
       "      <td>2015-01-08</td>\n",
       "      <td>2015-02-04</td>\n",
       "      <td>Discovery</td>\n",
       "    </tr>\n",
       "    <tr>\n",
       "      <th>134947</th>\n",
       "      <td>WMT-eb43dc75-8c60-487c-9615-4e750042a0e3-26930...</td>\n",
       "      <td>2015-01-08</td>\n",
       "      <td>2015-02-04</td>\n",
       "      <td>Discovery</td>\n",
       "    </tr>\n",
       "    <tr>\n",
       "      <th>134948</th>\n",
       "      <td>WMT-eb43dc75-8c60-487c-9615-4e750042a0e3-26930...</td>\n",
       "      <td>2015-01-08</td>\n",
       "      <td>2015-02-04</td>\n",
       "      <td>Discovery</td>\n",
       "    </tr>\n",
       "    <tr>\n",
       "      <th>134949</th>\n",
       "      <td>WMT-eb43dc75-8c60-487c-9615-4e750042a0e3-26930...</td>\n",
       "      <td>2015-01-08</td>\n",
       "      <td>2015-02-04</td>\n",
       "      <td>Discovery</td>\n",
       "    </tr>\n",
       "  </tbody>\n",
       "</table>\n",
       "</div>"
      ],
      "text/plain": [
       "                                                       ID First_Play_Date  \\\n",
       "134945  WMT-eb43dc75-8c60-487c-9615-4e750042a0e3-26930...      2015-01-08   \n",
       "134946  WMT-eb43dc75-8c60-487c-9615-4e750042a0e3-26930...      2015-01-08   \n",
       "134947  WMT-eb43dc75-8c60-487c-9615-4e750042a0e3-26930...      2015-01-08   \n",
       "134948  WMT-eb43dc75-8c60-487c-9615-4e750042a0e3-26930...      2015-01-08   \n",
       "134949  WMT-eb43dc75-8c60-487c-9615-4e750042a0e3-26930...      2015-01-08   \n",
       "\n",
       "        Play_Date      Genre  \n",
       "134945 2015-02-04  Discovery  \n",
       "134946 2015-02-04  Discovery  \n",
       "134947 2015-02-04  Discovery  \n",
       "134948 2015-02-04  Discovery  \n",
       "134949 2015-02-04  Discovery  "
      ]
     },
     "execution_count": 8,
     "metadata": {},
     "output_type": "execute_result"
    }
   ],
   "source": [
    "raw.tail()"
   ]
  },
  {
   "cell_type": "code",
   "execution_count": 9,
   "metadata": {},
   "outputs": [
    {
     "name": "stdout",
     "output_type": "stream",
     "text": [
      "0   2015-01-08\n",
      "Name: First_Play_Date, dtype: datetime64[ns] 134949   2015-01-08\n",
      "Name: First_Play_Date, dtype: datetime64[ns]\n"
     ]
    }
   ],
   "source": [
    "print(raw[\"First_Play_Date\"].head(1), raw[\"First_Play_Date\"].tail(1))"
   ]
  },
  {
   "cell_type": "code",
   "execution_count": 10,
   "metadata": {},
   "outputs": [
    {
     "data": {
      "text/plain": [
       "array(['2015-01-08T00:00:00.000000000', '2015-01-10T00:00:00.000000000',\n",
       "       '2015-01-07T00:00:00.000000000', '2015-01-13T00:00:00.000000000',\n",
       "       '2015-01-12T00:00:00.000000000', '2015-01-11T00:00:00.000000000',\n",
       "       '2015-01-09T00:00:00.000000000'], dtype='datetime64[ns]')"
      ]
     },
     "execution_count": 10,
     "metadata": {},
     "output_type": "execute_result"
    }
   ],
   "source": [
    "# 01/07 -> 01/13\n",
    "raw['First_Play_Date'].unique()"
   ]
  },
  {
   "cell_type": "code",
   "execution_count": 11,
   "metadata": {},
   "outputs": [
    {
     "data": {
      "text/plain": [
       "(34,)"
      ]
     },
     "execution_count": 11,
     "metadata": {},
     "output_type": "execute_result"
    }
   ],
   "source": [
    "# 34 \n",
    "# 01/08 -> 02/09\n",
    "raw['Play_Date'].unique().shape"
   ]
  },
  {
   "cell_type": "code",
   "execution_count": 12,
   "metadata": {},
   "outputs": [],
   "source": [
    "df = raw.copy()\n"
   ]
  },
  {
   "cell_type": "code",
   "execution_count": 13,
   "metadata": {},
   "outputs": [],
   "source": [
    "df['count'] = 1"
   ]
  },
  {
   "cell_type": "code",
   "execution_count": 14,
   "metadata": {},
   "outputs": [
    {
     "data": {
      "text/plain": [
       "(2798,)"
      ]
     },
     "execution_count": 14,
     "metadata": {},
     "output_type": "execute_result"
    }
   ],
   "source": [
    "# give unique number id \n",
    "user_id = df['ID'].unique()\n",
    "user_id.shape"
   ]
  },
  {
   "cell_type": "code",
   "execution_count": 15,
   "metadata": {},
   "outputs": [
    {
     "data": {
      "text/plain": [
       "range(0, 2798)"
      ]
     },
     "execution_count": 15,
     "metadata": {},
     "output_type": "execute_result"
    }
   ],
   "source": [
    "# make number of user_id\n",
    "n_user_id = range(user_id.size)\n",
    "n_user_id"
   ]
  },
  {
   "cell_type": "code",
   "execution_count": 16,
   "metadata": {},
   "outputs": [],
   "source": [
    "id_zip = zip(user_id, n_user_id)\n",
    "id_dict = dict(id_zip)\n"
   ]
  },
  {
   "cell_type": "code",
   "execution_count": 17,
   "metadata": {},
   "outputs": [],
   "source": [
    "# ID -> unique number id \n",
    "df[\"n_user_id\"] = df['ID'].map(id_dict)"
   ]
  },
  {
   "cell_type": "code",
   "execution_count": 18,
   "metadata": {},
   "outputs": [
    {
     "data": {
      "text/plain": [
       "\"\\nsns.distplot(user['rate'], hist=False)\\n# skew to right \\nuser.describe()\""
      ]
     },
     "execution_count": 18,
     "metadata": {},
     "output_type": "execute_result"
    }
   ],
   "source": [
    "\"\"\"\n",
    "sns.distplot(user['rate'], hist=False)\n",
    "# skew to right \n",
    "user.describe()\"\"\""
   ]
  },
  {
   "cell_type": "code",
   "execution_count": 19,
   "metadata": {},
   "outputs": [
    {
     "data": {
      "text/html": [
       "<div>\n",
       "<style scoped>\n",
       "    .dataframe tbody tr th:only-of-type {\n",
       "        vertical-align: middle;\n",
       "    }\n",
       "\n",
       "    .dataframe tbody tr th {\n",
       "        vertical-align: top;\n",
       "    }\n",
       "\n",
       "    .dataframe thead th {\n",
       "        text-align: right;\n",
       "    }\n",
       "</style>\n",
       "<table border=\"1\" class=\"dataframe\">\n",
       "  <thead>\n",
       "    <tr style=\"text-align: right;\">\n",
       "      <th></th>\n",
       "      <th>ID</th>\n",
       "      <th>First_Play_Date</th>\n",
       "      <th>Play_Date</th>\n",
       "      <th>Genre</th>\n",
       "      <th>count</th>\n",
       "      <th>n_user_id</th>\n",
       "    </tr>\n",
       "  </thead>\n",
       "  <tbody>\n",
       "    <tr>\n",
       "      <th>0</th>\n",
       "      <td>ASP-122a358d-be37-49bf-98ea-402ccfe33898-26768...</td>\n",
       "      <td>2015-01-08</td>\n",
       "      <td>2015-01-08</td>\n",
       "      <td>Discovery</td>\n",
       "      <td>1</td>\n",
       "      <td>0</td>\n",
       "    </tr>\n",
       "    <tr>\n",
       "      <th>1</th>\n",
       "      <td>ASP-122a358d-be37-49bf-98ea-402ccfe33898-26768...</td>\n",
       "      <td>2015-01-08</td>\n",
       "      <td>2015-01-08</td>\n",
       "      <td>Discovery</td>\n",
       "      <td>1</td>\n",
       "      <td>0</td>\n",
       "    </tr>\n",
       "    <tr>\n",
       "      <th>2</th>\n",
       "      <td>ASP-122a358d-be37-49bf-98ea-402ccfe33898-26768...</td>\n",
       "      <td>2015-01-08</td>\n",
       "      <td>2015-01-08</td>\n",
       "      <td>Discovery</td>\n",
       "      <td>1</td>\n",
       "      <td>0</td>\n",
       "    </tr>\n",
       "    <tr>\n",
       "      <th>3</th>\n",
       "      <td>ASP-122a358d-be37-49bf-98ea-402ccfe33898-26768...</td>\n",
       "      <td>2015-01-08</td>\n",
       "      <td>2015-01-08</td>\n",
       "      <td>Discovery</td>\n",
       "      <td>1</td>\n",
       "      <td>0</td>\n",
       "    </tr>\n",
       "    <tr>\n",
       "      <th>4</th>\n",
       "      <td>ASP-122a358d-be37-49bf-98ea-402ccfe33898-26768...</td>\n",
       "      <td>2015-01-08</td>\n",
       "      <td>2015-01-08</td>\n",
       "      <td>Discovery</td>\n",
       "      <td>1</td>\n",
       "      <td>0</td>\n",
       "    </tr>\n",
       "  </tbody>\n",
       "</table>\n",
       "</div>"
      ],
      "text/plain": [
       "                                                  ID First_Play_Date  \\\n",
       "0  ASP-122a358d-be37-49bf-98ea-402ccfe33898-26768...      2015-01-08   \n",
       "1  ASP-122a358d-be37-49bf-98ea-402ccfe33898-26768...      2015-01-08   \n",
       "2  ASP-122a358d-be37-49bf-98ea-402ccfe33898-26768...      2015-01-08   \n",
       "3  ASP-122a358d-be37-49bf-98ea-402ccfe33898-26768...      2015-01-08   \n",
       "4  ASP-122a358d-be37-49bf-98ea-402ccfe33898-26768...      2015-01-08   \n",
       "\n",
       "   Play_Date      Genre  count  n_user_id  \n",
       "0 2015-01-08  Discovery      1          0  \n",
       "1 2015-01-08  Discovery      1          0  \n",
       "2 2015-01-08  Discovery      1          0  \n",
       "3 2015-01-08  Discovery      1          0  \n",
       "4 2015-01-08  Discovery      1          0  "
      ]
     },
     "execution_count": 19,
     "metadata": {},
     "output_type": "execute_result"
    }
   ],
   "source": [
    "df.head()"
   ]
  },
  {
   "cell_type": "code",
   "execution_count": null,
   "metadata": {},
   "outputs": [],
   "source": []
  },
  {
   "cell_type": "code",
   "execution_count": 20,
   "metadata": {},
   "outputs": [
    {
     "data": {
      "text/html": [
       "<div>\n",
       "<style scoped>\n",
       "    .dataframe tbody tr th:only-of-type {\n",
       "        vertical-align: middle;\n",
       "    }\n",
       "\n",
       "    .dataframe tbody tr th {\n",
       "        vertical-align: top;\n",
       "    }\n",
       "\n",
       "    .dataframe thead th {\n",
       "        text-align: right;\n",
       "    }\n",
       "</style>\n",
       "<table border=\"1\" class=\"dataframe\">\n",
       "  <thead>\n",
       "    <tr style=\"text-align: right;\">\n",
       "      <th></th>\n",
       "      <th>Genre</th>\n",
       "      <th>count</th>\n",
       "      <th>rate</th>\n",
       "    </tr>\n",
       "  </thead>\n",
       "  <tbody>\n",
       "    <tr>\n",
       "      <th>1</th>\n",
       "      <td>Discovery</td>\n",
       "      <td>105489</td>\n",
       "      <td>0.781690</td>\n",
       "    </tr>\n",
       "    <tr>\n",
       "      <th>2</th>\n",
       "      <td>Fingerprint</td>\n",
       "      <td>21802</td>\n",
       "      <td>0.161556</td>\n",
       "    </tr>\n",
       "    <tr>\n",
       "      <th>4</th>\n",
       "      <td>Product</td>\n",
       "      <td>2711</td>\n",
       "      <td>0.020089</td>\n",
       "    </tr>\n",
       "    <tr>\n",
       "      <th>3</th>\n",
       "      <td>Mashboard</td>\n",
       "      <td>2339</td>\n",
       "      <td>0.017332</td>\n",
       "    </tr>\n",
       "    <tr>\n",
       "      <th>5</th>\n",
       "      <td>Spider</td>\n",
       "      <td>1426</td>\n",
       "      <td>0.010567</td>\n",
       "    </tr>\n",
       "    <tr>\n",
       "      <th>0</th>\n",
       "      <td>Bullseye</td>\n",
       "      <td>1183</td>\n",
       "      <td>0.008766</td>\n",
       "    </tr>\n",
       "  </tbody>\n",
       "</table>\n",
       "</div>"
      ],
      "text/plain": [
       "         Genre   count      rate\n",
       "1    Discovery  105489  0.781690\n",
       "2  Fingerprint   21802  0.161556\n",
       "4      Product    2711  0.020089\n",
       "3    Mashboard    2339  0.017332\n",
       "5       Spider    1426  0.010567\n",
       "0     Bullseye    1183  0.008766"
      ]
     },
     "execution_count": 20,
     "metadata": {},
     "output_type": "execute_result"
    }
   ],
   "source": [
    "# df_genre\n",
    "df_genre = df.pivot_table(index=\"Genre\", values='count', aggfunc=\"sum\").reset_index().sort_values(by=\"count\", ascending=False)\n",
    "df_genre['rate'] = df_genre['count'] / df_genre['count'].sum()\n",
    "df_genre"
   ]
  },
  {
   "cell_type": "code",
   "execution_count": 21,
   "metadata": {},
   "outputs": [],
   "source": [
    "# add week number columns from Fisrt_Play_Date and Play_Date\n",
    "# use this information to separate data by each week\n",
    "df['first_week_n'] = df.First_Play_Date.dt.week\n",
    "df['play_week_n'] = df.Play_Date.dt.week"
   ]
  },
  {
   "cell_type": "code",
   "execution_count": 22,
   "metadata": {},
   "outputs": [
    {
     "data": {
      "text/html": [
       "<div>\n",
       "<style scoped>\n",
       "    .dataframe tbody tr th:only-of-type {\n",
       "        vertical-align: middle;\n",
       "    }\n",
       "\n",
       "    .dataframe tbody tr th {\n",
       "        vertical-align: top;\n",
       "    }\n",
       "\n",
       "    .dataframe thead th {\n",
       "        text-align: right;\n",
       "    }\n",
       "</style>\n",
       "<table border=\"1\" class=\"dataframe\">\n",
       "  <thead>\n",
       "    <tr style=\"text-align: right;\">\n",
       "      <th></th>\n",
       "      <th>count</th>\n",
       "      <th>rate</th>\n",
       "    </tr>\n",
       "    <tr>\n",
       "      <th>play_week_n</th>\n",
       "      <th></th>\n",
       "      <th></th>\n",
       "    </tr>\n",
       "  </thead>\n",
       "  <tbody>\n",
       "    <tr>\n",
       "      <th>2</th>\n",
       "      <td>19608</td>\n",
       "      <td>0.145298</td>\n",
       "    </tr>\n",
       "    <tr>\n",
       "      <th>3</th>\n",
       "      <td>44765</td>\n",
       "      <td>0.331715</td>\n",
       "    </tr>\n",
       "    <tr>\n",
       "      <th>4</th>\n",
       "      <td>30286</td>\n",
       "      <td>0.224424</td>\n",
       "    </tr>\n",
       "    <tr>\n",
       "      <th>5</th>\n",
       "      <td>24693</td>\n",
       "      <td>0.182979</td>\n",
       "    </tr>\n",
       "    <tr>\n",
       "      <th>6</th>\n",
       "      <td>15130</td>\n",
       "      <td>0.112116</td>\n",
       "    </tr>\n",
       "    <tr>\n",
       "      <th>7</th>\n",
       "      <td>468</td>\n",
       "      <td>0.003468</td>\n",
       "    </tr>\n",
       "  </tbody>\n",
       "</table>\n",
       "</div>"
      ],
      "text/plain": [
       "             count      rate\n",
       "play_week_n                 \n",
       "2            19608  0.145298\n",
       "3            44765  0.331715\n",
       "4            30286  0.224424\n",
       "5            24693  0.182979\n",
       "6            15130  0.112116\n",
       "7              468  0.003468"
      ]
     },
     "execution_count": 22,
     "metadata": {},
     "output_type": "execute_result"
    }
   ],
   "source": [
    "# df_week\n",
    "df_week = df.pivot_table(index=\"play_week_n\", values='count', aggfunc=\"sum\")\n",
    "df_week['rate'] = df_week['count'] / df_week['count'].sum()\n",
    "df_week"
   ]
  },
  {
   "cell_type": "code",
   "execution_count": 23,
   "metadata": {
    "scrolled": true
   },
   "outputs": [
    {
     "data": {
      "text/plain": [
       "<matplotlib.axes._subplots.AxesSubplot at 0x1a1e34def0>"
      ]
     },
     "execution_count": 23,
     "metadata": {},
     "output_type": "execute_result"
    },
    {
     "data": {
      "image/png": "[encoded data removed]",
      "text/plain": [
       "<Figure size 432x288 with 1 Axes>"
      ]
     },
     "metadata": {
      "needs_background": "light"
     },
     "output_type": "display_data"
    }
   ],
   "source": [
    "# plot it by weekly \n",
    "sns.pointplot(data=df_week, x=df_week.index, y=\"rate\")"
   ]
  },
  {
   "cell_type": "code",
   "execution_count": 24,
   "metadata": {},
   "outputs": [
    {
     "data": {
      "text/html": [
       "<div>\n",
       "<style scoped>\n",
       "    .dataframe tbody tr th:only-of-type {\n",
       "        vertical-align: middle;\n",
       "    }\n",
       "\n",
       "    .dataframe tbody tr th {\n",
       "        vertical-align: top;\n",
       "    }\n",
       "\n",
       "    .dataframe thead th {\n",
       "        text-align: right;\n",
       "    }\n",
       "</style>\n",
       "<table border=\"1\" class=\"dataframe\">\n",
       "  <thead>\n",
       "    <tr style=\"text-align: right;\">\n",
       "      <th></th>\n",
       "      <th>count</th>\n",
       "      <th>rate</th>\n",
       "    </tr>\n",
       "  </thead>\n",
       "  <tbody>\n",
       "    <tr>\n",
       "      <th>count</th>\n",
       "      <td>2798.000000</td>\n",
       "      <td>2798.000000</td>\n",
       "    </tr>\n",
       "    <tr>\n",
       "      <th>mean</th>\n",
       "      <td>48.230879</td>\n",
       "      <td>0.000357</td>\n",
       "    </tr>\n",
       "    <tr>\n",
       "      <th>std</th>\n",
       "      <td>59.041852</td>\n",
       "      <td>0.000438</td>\n",
       "    </tr>\n",
       "    <tr>\n",
       "      <th>min</th>\n",
       "      <td>1.000000</td>\n",
       "      <td>0.000007</td>\n",
       "    </tr>\n",
       "    <tr>\n",
       "      <th>25%</th>\n",
       "      <td>10.000000</td>\n",
       "      <td>0.000074</td>\n",
       "    </tr>\n",
       "    <tr>\n",
       "      <th>50%</th>\n",
       "      <td>29.000000</td>\n",
       "      <td>0.000215</td>\n",
       "    </tr>\n",
       "    <tr>\n",
       "      <th>75%</th>\n",
       "      <td>65.750000</td>\n",
       "      <td>0.000487</td>\n",
       "    </tr>\n",
       "    <tr>\n",
       "      <th>max</th>\n",
       "      <td>1096.000000</td>\n",
       "      <td>0.008122</td>\n",
       "    </tr>\n",
       "  </tbody>\n",
       "</table>\n",
       "</div>"
      ],
      "text/plain": [
       "             count         rate\n",
       "count  2798.000000  2798.000000\n",
       "mean     48.230879     0.000357\n",
       "std      59.041852     0.000438\n",
       "min       1.000000     0.000007\n",
       "25%      10.000000     0.000074\n",
       "50%      29.000000     0.000215\n",
       "75%      65.750000     0.000487\n",
       "max    1096.000000     0.008122"
      ]
     },
     "execution_count": 24,
     "metadata": {},
     "output_type": "execute_result"
    }
   ],
   "source": [
    "# df_user\n",
    "df_user =df.pivot_table(index=\"n_user_id\", values='count', aggfunc=\"sum\").sort_values(by=\"count\", ascending=False).reset_index()\n",
    "df_user['rate'] = df_user['count'] / df_user['count'].sum()\n",
    "df_user.describe()[[\"count\",\"rate\"]]"
   ]
  },
  {
   "cell_type": "code",
   "execution_count": 25,
   "metadata": {},
   "outputs": [
    {
     "data": {
      "text/plain": [
       "<matplotlib.axes._subplots.AxesSubplot at 0x1a1d5d0a90>"
      ]
     },
     "execution_count": 25,
     "metadata": {},
     "output_type": "execute_result"
    },
    {
     "data": {
      "image/png": "[encoded data removed]",
      "text/plain": [
       "<Figure size 432x288 with 1 Axes>"
      ]
     },
     "metadata": {
      "needs_background": "light"
     },
     "output_type": "display_data"
    }
   ],
   "source": [
    "# plot it by users\n",
    "# check outliers \n",
    "sns.boxplot(data=df_user, x=\"count\")"
   ]
  },
  {
   "cell_type": "markdown",
   "metadata": {},
   "source": [
    "### 2. Using this data, please answer the question-  does genre usage shift week-to-week (relative to when a user first used the service)?  \n",
    "\n",
    "Anlaysis Approach:\n",
    "* We need to check correlation among genres in order to know that genre usage shift week to week\n",
    "* Start weeks consist of week2 and week3\n",
    "    - \\# of data at week2 is 2.15 times more than week3 \n",
    "* Both Week 2 and Week 3 have pattern that total number of playes go down.\n",
    "    - total number of playes starting at week 2 went up when moving to week3. \n",
    "    - Week2 and week 3 have similar pattern. \n",
    "    - We cannot see correlation in this format since this is not standard data.\n",
    "    - We need to remove weight of users since some play many times (Outliers)\n",
    "* Standard data needed for comparing genre usage \n",
    "    * Starting at week 2 \n",
    "        - Discovery & Fingerprint are highly correlated: negative .84 \n",
    "        - Rate of Discovery decreases by 6% from week 2 to week 6\n",
    "        - Rate of Fingerprint increases by 6% from week 2 to week 6\n",
    "        - We can guess that user's preference is likely to move from Disvoer to Fingerprint\n",
    "    * Starting at week 3\n",
    "        - Disvoery & Fingerprint are highly correlated as well: negative .85\n",
    "        - Rate of Discovery continuously decreases up to 59% from 73%\n",
    "        - Rate of Fingerprint continuously increases up to 28% from 20%\n",
    "        - We can guess that user's preference is likely to move from Disvoer to Fingerprint as well"
   ]
  },
  {
   "cell_type": "markdown",
   "metadata": {},
   "source": [
    "### Starting at week 2"
   ]
  },
  {
   "cell_type": "code",
   "execution_count": 26,
   "metadata": {},
   "outputs": [
    {
     "name": "stdout",
     "output_type": "stream",
     "text": [
      "week2 is  2.153258405963035 times more than week 3\n"
     ]
    },
    {
     "data": {
      "text/plain": [
       "2    92153\n",
       "3    42797\n",
       "Name: first_week_n, dtype: int64"
      ]
     },
     "execution_count": 26,
     "metadata": {},
     "output_type": "execute_result"
    }
   ],
   "source": [
    "# week 2 and 3\n",
    "print(\"week2 is \",92153 /42797, \"times more than week 3\")\n",
    "df.first_week_n.value_counts()"
   ]
  },
  {
   "cell_type": "code",
   "execution_count": 27,
   "metadata": {},
   "outputs": [],
   "source": [
    "# split week 2 and 3 \n",
    "week_two = df[df['first_week_n']==2]\n",
    "week_three = df[df['first_week_n']==3]"
   ]
  },
  {
   "cell_type": "code",
   "execution_count": 28,
   "metadata": {},
   "outputs": [
    {
     "name": "stdout",
     "output_type": "stream",
     "text": [
      "(92153, 8) (42797, 8)\n"
     ]
    },
    {
     "data": {
      "text/plain": [
       "2.153258405963035"
      ]
     },
     "execution_count": 28,
     "metadata": {},
     "output_type": "execute_result"
    }
   ],
   "source": [
    "print(week_two.shape, week_three.shape)\n",
    "len(week_two) / len(week_three) # 2.15 times more than week 3 \n",
    "# 2nd week, more users join the game "
   ]
  },
  {
   "cell_type": "code",
   "execution_count": 29,
   "metadata": {},
   "outputs": [],
   "source": [
    "# ratio function generates ratio and change of rate\n",
    "def ratio(row):\n",
    "    row['ratio'] = row['count']  / row['count'].sum()\n",
    "    for num in range(len(row)):\n",
    "        if num < len(row) - 1 :\n",
    "            row.loc[num + 1,'change_of_rate'] = (row.loc[num+1, 'count'] - row.loc[num, 'count']) / row.loc[num,'count']\n",
    "            row.loc[num + 1, 'change'] = row.loc[num + 1, 'count'] - row.loc[num,'count']\n",
    "\n",
    "    return row"
   ]
  },
  {
   "cell_type": "code",
   "execution_count": 30,
   "metadata": {},
   "outputs": [
    {
     "data": {
      "text/html": [
       "<div>\n",
       "<style scoped>\n",
       "    .dataframe tbody tr th:only-of-type {\n",
       "        vertical-align: middle;\n",
       "    }\n",
       "\n",
       "    .dataframe tbody tr th {\n",
       "        vertical-align: top;\n",
       "    }\n",
       "\n",
       "    .dataframe thead th {\n",
       "        text-align: right;\n",
       "    }\n",
       "</style>\n",
       "<table border=\"1\" class=\"dataframe\">\n",
       "  <thead>\n",
       "    <tr style=\"text-align: right;\">\n",
       "      <th></th>\n",
       "      <th>Genre</th>\n",
       "      <th>count</th>\n",
       "      <th>rate</th>\n",
       "    </tr>\n",
       "  </thead>\n",
       "  <tbody>\n",
       "    <tr>\n",
       "      <th>1</th>\n",
       "      <td>Discovery</td>\n",
       "      <td>71576</td>\n",
       "      <td>0.776708</td>\n",
       "    </tr>\n",
       "    <tr>\n",
       "      <th>2</th>\n",
       "      <td>Fingerprint</td>\n",
       "      <td>15130</td>\n",
       "      <td>0.164183</td>\n",
       "    </tr>\n",
       "    <tr>\n",
       "      <th>4</th>\n",
       "      <td>Product</td>\n",
       "      <td>1998</td>\n",
       "      <td>0.021681</td>\n",
       "    </tr>\n",
       "    <tr>\n",
       "      <th>3</th>\n",
       "      <td>Mashboard</td>\n",
       "      <td>1729</td>\n",
       "      <td>0.018762</td>\n",
       "    </tr>\n",
       "    <tr>\n",
       "      <th>5</th>\n",
       "      <td>Spider</td>\n",
       "      <td>937</td>\n",
       "      <td>0.010168</td>\n",
       "    </tr>\n",
       "    <tr>\n",
       "      <th>0</th>\n",
       "      <td>Bullseye</td>\n",
       "      <td>783</td>\n",
       "      <td>0.008497</td>\n",
       "    </tr>\n",
       "  </tbody>\n",
       "</table>\n",
       "</div>"
      ],
      "text/plain": [
       "         Genre  count      rate\n",
       "1    Discovery  71576  0.776708\n",
       "2  Fingerprint  15130  0.164183\n",
       "4      Product   1998  0.021681\n",
       "3    Mashboard   1729  0.018762\n",
       "5       Spider    937  0.010168\n",
       "0     Bullseye    783  0.008497"
      ]
     },
     "execution_count": 30,
     "metadata": {},
     "output_type": "execute_result"
    }
   ],
   "source": [
    "# check rate by genre starting at 2week\n",
    "genre_week_two = pd.DataFrame(week_two.groupby('Genre')['count'].sum()).reset_index().sort_values(by=\"count\",ascending=False)\n",
    "genre_week_two['rate'] = genre_week_two['count'] / genre_week_two['count'].sum()\n",
    "genre_week_two"
   ]
  },
  {
   "cell_type": "code",
   "execution_count": 31,
   "metadata": {},
   "outputs": [
    {
     "data": {
      "text/html": [
       "<div>\n",
       "<style scoped>\n",
       "    .dataframe tbody tr th:only-of-type {\n",
       "        vertical-align: middle;\n",
       "    }\n",
       "\n",
       "    .dataframe tbody tr th {\n",
       "        vertical-align: top;\n",
       "    }\n",
       "\n",
       "    .dataframe thead th {\n",
       "        text-align: right;\n",
       "    }\n",
       "</style>\n",
       "<table border=\"1\" class=\"dataframe\">\n",
       "  <thead>\n",
       "    <tr style=\"text-align: right;\">\n",
       "      <th></th>\n",
       "      <th>play_week_n</th>\n",
       "      <th>count</th>\n",
       "      <th>ratio</th>\n",
       "      <th>change_of_rate</th>\n",
       "      <th>change</th>\n",
       "    </tr>\n",
       "  </thead>\n",
       "  <tbody>\n",
       "    <tr>\n",
       "      <th>0</th>\n",
       "      <td>2</td>\n",
       "      <td>19608</td>\n",
       "      <td>0.212777</td>\n",
       "      <td>NaN</td>\n",
       "      <td>NaN</td>\n",
       "    </tr>\n",
       "    <tr>\n",
       "      <th>1</th>\n",
       "      <td>3</td>\n",
       "      <td>28670</td>\n",
       "      <td>0.311113</td>\n",
       "      <td>0.462158</td>\n",
       "      <td>9062.0</td>\n",
       "    </tr>\n",
       "    <tr>\n",
       "      <th>2</th>\n",
       "      <td>4</td>\n",
       "      <td>19429</td>\n",
       "      <td>0.210834</td>\n",
       "      <td>-0.322323</td>\n",
       "      <td>-9241.0</td>\n",
       "    </tr>\n",
       "    <tr>\n",
       "      <th>3</th>\n",
       "      <td>5</td>\n",
       "      <td>16281</td>\n",
       "      <td>0.176674</td>\n",
       "      <td>-0.162026</td>\n",
       "      <td>-3148.0</td>\n",
       "    </tr>\n",
       "    <tr>\n",
       "      <th>4</th>\n",
       "      <td>6</td>\n",
       "      <td>8165</td>\n",
       "      <td>0.088603</td>\n",
       "      <td>-0.498495</td>\n",
       "      <td>-8116.0</td>\n",
       "    </tr>\n",
       "  </tbody>\n",
       "</table>\n",
       "</div>"
      ],
      "text/plain": [
       "   play_week_n  count     ratio  change_of_rate  change\n",
       "0            2  19608  0.212777             NaN     NaN\n",
       "1            3  28670  0.311113        0.462158  9062.0\n",
       "2            4  19429  0.210834       -0.322323 -9241.0\n",
       "3            5  16281  0.176674       -0.162026 -3148.0\n",
       "4            6   8165  0.088603       -0.498495 -8116.0"
      ]
     },
     "execution_count": 31,
     "metadata": {},
     "output_type": "execute_result"
    }
   ],
   "source": [
    "week_two_table=pd.DataFrame(week_two.groupby('play_week_n')['count'].sum()).reset_index()\n",
    "ratio(week_two_table)\n",
    "week_two_table\n",
    "# week two total and ratio "
   ]
  },
  {
   "cell_type": "code",
   "execution_count": 32,
   "metadata": {},
   "outputs": [
    {
     "data": {
      "text/plain": [
       "<matplotlib.axes._subplots.AxesSubplot at 0x1a1ce505c0>"
      ]
     },
     "execution_count": 32,
     "metadata": {},
     "output_type": "execute_result"
    },
    {
     "data": {
      "image/png": "[encoded data removed]",
      "text/plain": [
       "<Figure size 432x288 with 1 Axes>"
      ]
     },
     "metadata": {
      "needs_background": "light"
     },
     "output_type": "display_data"
    }
   ],
   "source": [
    "# plot it by weekly with only 2week data \n",
    "sns.pointplot(data=week_two_table, x=week_two_table.index, y=\"ratio\")"
   ]
  },
  {
   "cell_type": "code",
   "execution_count": 33,
   "metadata": {},
   "outputs": [],
   "source": [
    "#df.groupby([\"play_week_n\",'Genre']).sum()\n",
    "week_two_table = pd.pivot_table(data=week_two, index=[\"play_week_n\",'Genre'], values='count', aggfunc='sum').reset_index()"
   ]
  },
  {
   "cell_type": "code",
   "execution_count": 34,
   "metadata": {},
   "outputs": [
    {
     "data": {
      "text/plain": [
       "<matplotlib.axes._subplots.AxesSubplot at 0x1a1c5f8358>"
      ]
     },
     "execution_count": 34,
     "metadata": {},
     "output_type": "execute_result"
    },
    {
     "data": {
      "image/png": "[encoded data removed]",
      "text/plain": [
       "<Figure size 432x288 with 1 Axes>"
      ]
     },
     "metadata": {
      "needs_background": "light"
     },
     "output_type": "display_data"
    }
   ],
   "source": [
    "# week two visualization\n",
    "sns.barplot(data=week_two_table, y='count', x=\"play_week_n\", hue= \"Genre\")"
   ]
  },
  {
   "cell_type": "markdown",
   "metadata": {},
   "source": [
    "### Starting at  Week 3 "
   ]
  },
  {
   "cell_type": "code",
   "execution_count": 35,
   "metadata": {},
   "outputs": [
    {
     "data": {
      "text/html": [
       "<div>\n",
       "<style scoped>\n",
       "    .dataframe tbody tr th:only-of-type {\n",
       "        vertical-align: middle;\n",
       "    }\n",
       "\n",
       "    .dataframe tbody tr th {\n",
       "        vertical-align: top;\n",
       "    }\n",
       "\n",
       "    .dataframe thead th {\n",
       "        text-align: right;\n",
       "    }\n",
       "</style>\n",
       "<table border=\"1\" class=\"dataframe\">\n",
       "  <thead>\n",
       "    <tr style=\"text-align: right;\">\n",
       "      <th></th>\n",
       "      <th>Genre</th>\n",
       "      <th>count</th>\n",
       "      <th>rate</th>\n",
       "    </tr>\n",
       "  </thead>\n",
       "  <tbody>\n",
       "    <tr>\n",
       "      <th>1</th>\n",
       "      <td>Discovery</td>\n",
       "      <td>33913</td>\n",
       "      <td>0.792415</td>\n",
       "    </tr>\n",
       "    <tr>\n",
       "      <th>2</th>\n",
       "      <td>Fingerprint</td>\n",
       "      <td>6672</td>\n",
       "      <td>0.155899</td>\n",
       "    </tr>\n",
       "    <tr>\n",
       "      <th>4</th>\n",
       "      <td>Product</td>\n",
       "      <td>713</td>\n",
       "      <td>0.016660</td>\n",
       "    </tr>\n",
       "    <tr>\n",
       "      <th>3</th>\n",
       "      <td>Mashboard</td>\n",
       "      <td>610</td>\n",
       "      <td>0.014253</td>\n",
       "    </tr>\n",
       "    <tr>\n",
       "      <th>5</th>\n",
       "      <td>Spider</td>\n",
       "      <td>489</td>\n",
       "      <td>0.011426</td>\n",
       "    </tr>\n",
       "    <tr>\n",
       "      <th>0</th>\n",
       "      <td>Bullseye</td>\n",
       "      <td>400</td>\n",
       "      <td>0.009346</td>\n",
       "    </tr>\n",
       "  </tbody>\n",
       "</table>\n",
       "</div>"
      ],
      "text/plain": [
       "         Genre  count      rate\n",
       "1    Discovery  33913  0.792415\n",
       "2  Fingerprint   6672  0.155899\n",
       "4      Product    713  0.016660\n",
       "3    Mashboard    610  0.014253\n",
       "5       Spider    489  0.011426\n",
       "0     Bullseye    400  0.009346"
      ]
     },
     "execution_count": 35,
     "metadata": {},
     "output_type": "execute_result"
    }
   ],
   "source": [
    "genre_week_three = pd.DataFrame(week_three.groupby('Genre')['count'].sum()).reset_index().sort_values(by=\"count\",ascending=False)\n",
    "genre_week_three['rate'] = genre_week_three['count'] / genre_week_three['count'].sum()\n",
    "genre_week_three"
   ]
  },
  {
   "cell_type": "code",
   "execution_count": 36,
   "metadata": {},
   "outputs": [
    {
     "name": "stdout",
     "output_type": "stream",
     "text": [
      "total played:  42797\n"
     ]
    },
    {
     "data": {
      "text/html": [
       "<div>\n",
       "<style scoped>\n",
       "    .dataframe tbody tr th:only-of-type {\n",
       "        vertical-align: middle;\n",
       "    }\n",
       "\n",
       "    .dataframe tbody tr th {\n",
       "        vertical-align: top;\n",
       "    }\n",
       "\n",
       "    .dataframe thead th {\n",
       "        text-align: right;\n",
       "    }\n",
       "</style>\n",
       "<table border=\"1\" class=\"dataframe\">\n",
       "  <thead>\n",
       "    <tr style=\"text-align: right;\">\n",
       "      <th></th>\n",
       "      <th>play_week_n</th>\n",
       "      <th>count</th>\n",
       "      <th>ratio</th>\n",
       "      <th>change_of_rate</th>\n",
       "      <th>change</th>\n",
       "    </tr>\n",
       "  </thead>\n",
       "  <tbody>\n",
       "    <tr>\n",
       "      <th>0</th>\n",
       "      <td>3</td>\n",
       "      <td>16095</td>\n",
       "      <td>0.376078</td>\n",
       "      <td>NaN</td>\n",
       "      <td>NaN</td>\n",
       "    </tr>\n",
       "    <tr>\n",
       "      <th>1</th>\n",
       "      <td>4</td>\n",
       "      <td>10857</td>\n",
       "      <td>0.253686</td>\n",
       "      <td>-0.325443</td>\n",
       "      <td>-5238.0</td>\n",
       "    </tr>\n",
       "    <tr>\n",
       "      <th>2</th>\n",
       "      <td>5</td>\n",
       "      <td>8412</td>\n",
       "      <td>0.196556</td>\n",
       "      <td>-0.225200</td>\n",
       "      <td>-2445.0</td>\n",
       "    </tr>\n",
       "    <tr>\n",
       "      <th>3</th>\n",
       "      <td>6</td>\n",
       "      <td>6965</td>\n",
       "      <td>0.162745</td>\n",
       "      <td>-0.172016</td>\n",
       "      <td>-1447.0</td>\n",
       "    </tr>\n",
       "    <tr>\n",
       "      <th>4</th>\n",
       "      <td>7</td>\n",
       "      <td>468</td>\n",
       "      <td>0.010935</td>\n",
       "      <td>-0.932807</td>\n",
       "      <td>-6497.0</td>\n",
       "    </tr>\n",
       "  </tbody>\n",
       "</table>\n",
       "</div>"
      ],
      "text/plain": [
       "   play_week_n  count     ratio  change_of_rate  change\n",
       "0            3  16095  0.376078             NaN     NaN\n",
       "1            4  10857  0.253686       -0.325443 -5238.0\n",
       "2            5   8412  0.196556       -0.225200 -2445.0\n",
       "3            6   6965  0.162745       -0.172016 -1447.0\n",
       "4            7    468  0.010935       -0.932807 -6497.0"
      ]
     },
     "execution_count": 36,
     "metadata": {},
     "output_type": "execute_result"
    }
   ],
   "source": [
    "week_three_table=pd.DataFrame(week_three.groupby('play_week_n')['count'].sum()).reset_index()\n",
    "ratio(week_three_table)\n",
    "print(\"total played: \", week_three['count'].sum())\n",
    "week_three_table"
   ]
  },
  {
   "cell_type": "code",
   "execution_count": 37,
   "metadata": {},
   "outputs": [
    {
     "data": {
      "text/html": [
       "<div>\n",
       "<style scoped>\n",
       "    .dataframe tbody tr th:only-of-type {\n",
       "        vertical-align: middle;\n",
       "    }\n",
       "\n",
       "    .dataframe tbody tr th {\n",
       "        vertical-align: top;\n",
       "    }\n",
       "\n",
       "    .dataframe thead th {\n",
       "        text-align: right;\n",
       "    }\n",
       "</style>\n",
       "<table border=\"1\" class=\"dataframe\">\n",
       "  <thead>\n",
       "    <tr style=\"text-align: right;\">\n",
       "      <th></th>\n",
       "      <th></th>\n",
       "      <th>count</th>\n",
       "    </tr>\n",
       "    <tr>\n",
       "      <th>play_week_n</th>\n",
       "      <th>Genre</th>\n",
       "      <th></th>\n",
       "    </tr>\n",
       "  </thead>\n",
       "  <tbody>\n",
       "    <tr>\n",
       "      <th rowspan=\"6\" valign=\"top\">3</th>\n",
       "      <th>Bullseye</th>\n",
       "      <td>161</td>\n",
       "    </tr>\n",
       "    <tr>\n",
       "      <th>Discovery</th>\n",
       "      <td>12759</td>\n",
       "    </tr>\n",
       "    <tr>\n",
       "      <th>Fingerprint</th>\n",
       "      <td>2468</td>\n",
       "    </tr>\n",
       "    <tr>\n",
       "      <th>Mashboard</th>\n",
       "      <td>258</td>\n",
       "    </tr>\n",
       "    <tr>\n",
       "      <th>Product</th>\n",
       "      <td>326</td>\n",
       "    </tr>\n",
       "    <tr>\n",
       "      <th>Spider</th>\n",
       "      <td>123</td>\n",
       "    </tr>\n",
       "    <tr>\n",
       "      <th rowspan=\"6\" valign=\"top\">4</th>\n",
       "      <th>Bullseye</th>\n",
       "      <td>81</td>\n",
       "    </tr>\n",
       "    <tr>\n",
       "      <th>Discovery</th>\n",
       "      <td>8973</td>\n",
       "    </tr>\n",
       "    <tr>\n",
       "      <th>Fingerprint</th>\n",
       "      <td>1437</td>\n",
       "    </tr>\n",
       "    <tr>\n",
       "      <th>Mashboard</th>\n",
       "      <td>91</td>\n",
       "    </tr>\n",
       "    <tr>\n",
       "      <th>Product</th>\n",
       "      <td>155</td>\n",
       "    </tr>\n",
       "    <tr>\n",
       "      <th>Spider</th>\n",
       "      <td>120</td>\n",
       "    </tr>\n",
       "  </tbody>\n",
       "</table>\n",
       "</div>"
      ],
      "text/plain": [
       "                         count\n",
       "play_week_n Genre             \n",
       "3           Bullseye       161\n",
       "            Discovery    12759\n",
       "            Fingerprint   2468\n",
       "            Mashboard      258\n",
       "            Product        326\n",
       "            Spider         123\n",
       "4           Bullseye        81\n",
       "            Discovery     8973\n",
       "            Fingerprint   1437\n",
       "            Mashboard       91\n",
       "            Product        155\n",
       "            Spider         120"
      ]
     },
     "execution_count": 37,
     "metadata": {},
     "output_type": "execute_result"
    }
   ],
   "source": [
    "# week three\n",
    "#df.groupby([\"play_week_n\",'Genre']).sum()\n",
    "week_three_table =pd.pivot_table(data=week_three, index=[\"play_week_n\",'Genre'], values='count', aggfunc='sum').reset_index()\n",
    "pd.pivot_table(data=week_three, index=[\"play_week_n\",'Genre'], values='count', aggfunc='sum').head(12)"
   ]
  },
  {
   "cell_type": "code",
   "execution_count": 38,
   "metadata": {},
   "outputs": [
    {
     "data": {
      "text/plain": [
       "16095"
      ]
     },
     "execution_count": 38,
     "metadata": {},
     "output_type": "execute_result"
    }
   ],
   "source": [
    "week_three_table.head(6)['count'].sum()\n",
    "# 3 -> 3 total: 16095"
   ]
  },
  {
   "cell_type": "code",
   "execution_count": 39,
   "metadata": {},
   "outputs": [
    {
     "data": {
      "text/plain": [
       "<matplotlib.axes._subplots.AxesSubplot at 0x1a1bc5c518>"
      ]
     },
     "execution_count": 39,
     "metadata": {},
     "output_type": "execute_result"
    },
    {
     "data": {
      "image/png": "[encoded data removed]",
      "text/plain": [
       "<Figure size 432x288 with 1 Axes>"
      ]
     },
     "metadata": {
      "needs_background": "light"
     },
     "output_type": "display_data"
    }
   ],
   "source": [
    "# week three visualization\n",
    "sns.barplot(data=week_three_table, y='count', x=\"play_week_n\", hue= \"Genre\")\n",
    "# never goes up "
   ]
  },
  {
   "cell_type": "code",
   "execution_count": 40,
   "metadata": {},
   "outputs": [
    {
     "name": "stderr",
     "output_type": "stream",
     "text": [
      "/anaconda3/lib/python3.7/site-packages/ipykernel_launcher.py:3: SettingWithCopyWarning: \n",
      "A value is trying to be set on a copy of a slice from a DataFrame.\n",
      "Try using .loc[row_indexer,col_indexer] = value instead\n",
      "\n",
      "See the caveats in the documentation: http://pandas.pydata.org/pandas-docs/stable/indexing.html#indexing-view-versus-copy\n",
      "  This is separate from the ipykernel package so we can avoid doing imports until\n",
      "/anaconda3/lib/python3.7/site-packages/pandas/core/indexing.py:362: SettingWithCopyWarning: \n",
      "A value is trying to be set on a copy of a slice from a DataFrame.\n",
      "Try using .loc[row_indexer,col_indexer] = value instead\n",
      "\n",
      "See the caveats in the documentation: http://pandas.pydata.org/pandas-docs/stable/indexing.html#indexing-view-versus-copy\n",
      "  self.obj[key] = _infer_fill_value(value)\n",
      "/anaconda3/lib/python3.7/site-packages/pandas/core/indexing.py:543: SettingWithCopyWarning: \n",
      "A value is trying to be set on a copy of a slice from a DataFrame.\n",
      "Try using .loc[row_indexer,col_indexer] = value instead\n",
      "\n",
      "See the caveats in the documentation: http://pandas.pydata.org/pandas-docs/stable/indexing.html#indexing-view-versus-copy\n",
      "  self.obj[item] = s\n"
     ]
    },
    {
     "data": {
      "text/html": [
       "<div>\n",
       "<style scoped>\n",
       "    .dataframe tbody tr th:only-of-type {\n",
       "        vertical-align: middle;\n",
       "    }\n",
       "\n",
       "    .dataframe tbody tr th {\n",
       "        vertical-align: top;\n",
       "    }\n",
       "\n",
       "    .dataframe thead th {\n",
       "        text-align: right;\n",
       "    }\n",
       "</style>\n",
       "<table border=\"1\" class=\"dataframe\">\n",
       "  <thead>\n",
       "    <tr style=\"text-align: right;\">\n",
       "      <th></th>\n",
       "      <th>play_week_n</th>\n",
       "      <th>Genre</th>\n",
       "      <th>count</th>\n",
       "      <th>ratio</th>\n",
       "      <th>change_of_rate</th>\n",
       "      <th>change</th>\n",
       "    </tr>\n",
       "  </thead>\n",
       "  <tbody>\n",
       "    <tr>\n",
       "      <th>0</th>\n",
       "      <td>3</td>\n",
       "      <td>Bullseye</td>\n",
       "      <td>161</td>\n",
       "      <td>0.4025</td>\n",
       "      <td>NaN</td>\n",
       "      <td>NaN</td>\n",
       "    </tr>\n",
       "    <tr>\n",
       "      <th>1</th>\n",
       "      <td>4</td>\n",
       "      <td>Bullseye</td>\n",
       "      <td>81</td>\n",
       "      <td>0.2025</td>\n",
       "      <td>-0.496894</td>\n",
       "      <td>-80.0</td>\n",
       "    </tr>\n",
       "    <tr>\n",
       "      <th>2</th>\n",
       "      <td>5</td>\n",
       "      <td>Bullseye</td>\n",
       "      <td>81</td>\n",
       "      <td>0.2025</td>\n",
       "      <td>0.000000</td>\n",
       "      <td>0.0</td>\n",
       "    </tr>\n",
       "    <tr>\n",
       "      <th>3</th>\n",
       "      <td>6</td>\n",
       "      <td>Bullseye</td>\n",
       "      <td>75</td>\n",
       "      <td>0.1875</td>\n",
       "      <td>-0.074074</td>\n",
       "      <td>-6.0</td>\n",
       "    </tr>\n",
       "    <tr>\n",
       "      <th>4</th>\n",
       "      <td>7</td>\n",
       "      <td>Bullseye</td>\n",
       "      <td>2</td>\n",
       "      <td>0.0050</td>\n",
       "      <td>-0.973333</td>\n",
       "      <td>-73.0</td>\n",
       "    </tr>\n",
       "  </tbody>\n",
       "</table>\n",
       "</div>"
      ],
      "text/plain": [
       "   play_week_n     Genre  count   ratio  change_of_rate  change\n",
       "0            3  Bullseye    161  0.4025             NaN     NaN\n",
       "1            4  Bullseye     81  0.2025       -0.496894   -80.0\n",
       "2            5  Bullseye     81  0.2025        0.000000     0.0\n",
       "3            6  Bullseye     75  0.1875       -0.074074    -6.0\n",
       "4            7  Bullseye      2  0.0050       -0.973333   -73.0"
      ]
     },
     "execution_count": 40,
     "metadata": {},
     "output_type": "execute_result"
    }
   ],
   "source": [
    "bull_three = week_three_table.iloc[[0,6,12,18,24]]\n",
    "bull_three.index = range(len(bull_three)) # reset_index()\n",
    "ratio(bull_three)\n",
    "bull_three\n",
    "#never up"
   ]
  },
  {
   "cell_type": "code",
   "execution_count": 41,
   "metadata": {},
   "outputs": [
    {
     "name": "stderr",
     "output_type": "stream",
     "text": [
      "/anaconda3/lib/python3.7/site-packages/ipykernel_launcher.py:3: SettingWithCopyWarning: \n",
      "A value is trying to be set on a copy of a slice from a DataFrame.\n",
      "Try using .loc[row_indexer,col_indexer] = value instead\n",
      "\n",
      "See the caveats in the documentation: http://pandas.pydata.org/pandas-docs/stable/indexing.html#indexing-view-versus-copy\n",
      "  This is separate from the ipykernel package so we can avoid doing imports until\n"
     ]
    },
    {
     "data": {
      "text/html": [
       "<div>\n",
       "<style scoped>\n",
       "    .dataframe tbody tr th:only-of-type {\n",
       "        vertical-align: middle;\n",
       "    }\n",
       "\n",
       "    .dataframe tbody tr th {\n",
       "        vertical-align: top;\n",
       "    }\n",
       "\n",
       "    .dataframe thead th {\n",
       "        text-align: right;\n",
       "    }\n",
       "</style>\n",
       "<table border=\"1\" class=\"dataframe\">\n",
       "  <thead>\n",
       "    <tr style=\"text-align: right;\">\n",
       "      <th></th>\n",
       "      <th>play_week_n</th>\n",
       "      <th>Genre</th>\n",
       "      <th>count</th>\n",
       "      <th>ratio</th>\n",
       "      <th>change_of_rate</th>\n",
       "      <th>change</th>\n",
       "    </tr>\n",
       "  </thead>\n",
       "  <tbody>\n",
       "    <tr>\n",
       "      <th>0</th>\n",
       "      <td>3</td>\n",
       "      <td>Discovery</td>\n",
       "      <td>12759</td>\n",
       "      <td>0.376227</td>\n",
       "      <td>NaN</td>\n",
       "      <td>NaN</td>\n",
       "    </tr>\n",
       "    <tr>\n",
       "      <th>1</th>\n",
       "      <td>4</td>\n",
       "      <td>Discovery</td>\n",
       "      <td>8973</td>\n",
       "      <td>0.264589</td>\n",
       "      <td>-0.296732</td>\n",
       "      <td>-3786.0</td>\n",
       "    </tr>\n",
       "    <tr>\n",
       "      <th>2</th>\n",
       "      <td>5</td>\n",
       "      <td>Discovery</td>\n",
       "      <td>6562</td>\n",
       "      <td>0.193495</td>\n",
       "      <td>-0.268695</td>\n",
       "      <td>-2411.0</td>\n",
       "    </tr>\n",
       "    <tr>\n",
       "      <th>3</th>\n",
       "      <td>6</td>\n",
       "      <td>Discovery</td>\n",
       "      <td>5271</td>\n",
       "      <td>0.155427</td>\n",
       "      <td>-0.196739</td>\n",
       "      <td>-1291.0</td>\n",
       "    </tr>\n",
       "    <tr>\n",
       "      <th>4</th>\n",
       "      <td>7</td>\n",
       "      <td>Discovery</td>\n",
       "      <td>348</td>\n",
       "      <td>0.010262</td>\n",
       "      <td>-0.933978</td>\n",
       "      <td>-4923.0</td>\n",
       "    </tr>\n",
       "  </tbody>\n",
       "</table>\n",
       "</div>"
      ],
      "text/plain": [
       "   play_week_n      Genre  count     ratio  change_of_rate  change\n",
       "0            3  Discovery  12759  0.376227             NaN     NaN\n",
       "1            4  Discovery   8973  0.264589       -0.296732 -3786.0\n",
       "2            5  Discovery   6562  0.193495       -0.268695 -2411.0\n",
       "3            6  Discovery   5271  0.155427       -0.196739 -1291.0\n",
       "4            7  Discovery    348  0.010262       -0.933978 -4923.0"
      ]
     },
     "execution_count": 41,
     "metadata": {},
     "output_type": "execute_result"
    }
   ],
   "source": [
    "dis_three = week_three_table.iloc[[1,7,13,19,25]]\n",
    "dis_three.index = range(len(dis_three)) # reset_index()\n",
    "ratio(dis_three)\n",
    "dis_three\n",
    "# never up"
   ]
  },
  {
   "cell_type": "code",
   "execution_count": 42,
   "metadata": {},
   "outputs": [
    {
     "name": "stderr",
     "output_type": "stream",
     "text": [
      "/anaconda3/lib/python3.7/site-packages/ipykernel_launcher.py:3: SettingWithCopyWarning: \n",
      "A value is trying to be set on a copy of a slice from a DataFrame.\n",
      "Try using .loc[row_indexer,col_indexer] = value instead\n",
      "\n",
      "See the caveats in the documentation: http://pandas.pydata.org/pandas-docs/stable/indexing.html#indexing-view-versus-copy\n",
      "  This is separate from the ipykernel package so we can avoid doing imports until\n"
     ]
    },
    {
     "data": {
      "text/html": [
       "<div>\n",
       "<style scoped>\n",
       "    .dataframe tbody tr th:only-of-type {\n",
       "        vertical-align: middle;\n",
       "    }\n",
       "\n",
       "    .dataframe tbody tr th {\n",
       "        vertical-align: top;\n",
       "    }\n",
       "\n",
       "    .dataframe thead th {\n",
       "        text-align: right;\n",
       "    }\n",
       "</style>\n",
       "<table border=\"1\" class=\"dataframe\">\n",
       "  <thead>\n",
       "    <tr style=\"text-align: right;\">\n",
       "      <th></th>\n",
       "      <th>play_week_n</th>\n",
       "      <th>Genre</th>\n",
       "      <th>count</th>\n",
       "      <th>ratio</th>\n",
       "      <th>change_of_rate</th>\n",
       "      <th>change</th>\n",
       "    </tr>\n",
       "  </thead>\n",
       "  <tbody>\n",
       "    <tr>\n",
       "      <th>0</th>\n",
       "      <td>3</td>\n",
       "      <td>Fingerprint</td>\n",
       "      <td>2468</td>\n",
       "      <td>0.369904</td>\n",
       "      <td>NaN</td>\n",
       "      <td>NaN</td>\n",
       "    </tr>\n",
       "    <tr>\n",
       "      <th>1</th>\n",
       "      <td>4</td>\n",
       "      <td>Fingerprint</td>\n",
       "      <td>1437</td>\n",
       "      <td>0.215378</td>\n",
       "      <td>-0.417747</td>\n",
       "      <td>-1031.0</td>\n",
       "    </tr>\n",
       "    <tr>\n",
       "      <th>2</th>\n",
       "      <td>5</td>\n",
       "      <td>Fingerprint</td>\n",
       "      <td>1368</td>\n",
       "      <td>0.205036</td>\n",
       "      <td>-0.048017</td>\n",
       "      <td>-69.0</td>\n",
       "    </tr>\n",
       "    <tr>\n",
       "      <th>3</th>\n",
       "      <td>6</td>\n",
       "      <td>Fingerprint</td>\n",
       "      <td>1316</td>\n",
       "      <td>0.197242</td>\n",
       "      <td>-0.038012</td>\n",
       "      <td>-52.0</td>\n",
       "    </tr>\n",
       "    <tr>\n",
       "      <th>4</th>\n",
       "      <td>7</td>\n",
       "      <td>Fingerprint</td>\n",
       "      <td>83</td>\n",
       "      <td>0.012440</td>\n",
       "      <td>-0.936930</td>\n",
       "      <td>-1233.0</td>\n",
       "    </tr>\n",
       "  </tbody>\n",
       "</table>\n",
       "</div>"
      ],
      "text/plain": [
       "   play_week_n        Genre  count     ratio  change_of_rate  change\n",
       "0            3  Fingerprint   2468  0.369904             NaN     NaN\n",
       "1            4  Fingerprint   1437  0.215378       -0.417747 -1031.0\n",
       "2            5  Fingerprint   1368  0.205036       -0.048017   -69.0\n",
       "3            6  Fingerprint   1316  0.197242       -0.038012   -52.0\n",
       "4            7  Fingerprint     83  0.012440       -0.936930 -1233.0"
      ]
     },
     "execution_count": 42,
     "metadata": {},
     "output_type": "execute_result"
    }
   ],
   "source": [
    "finger_three = week_three_table.iloc[[2,8,14,20,26]]\n",
    "finger_three.index = range(len(finger_three)) # reset_index()\n",
    "ratio(finger_three)\n",
    "finger_three"
   ]
  },
  {
   "cell_type": "code",
   "execution_count": 43,
   "metadata": {},
   "outputs": [
    {
     "name": "stderr",
     "output_type": "stream",
     "text": [
      "/anaconda3/lib/python3.7/site-packages/ipykernel_launcher.py:3: SettingWithCopyWarning: \n",
      "A value is trying to be set on a copy of a slice from a DataFrame.\n",
      "Try using .loc[row_indexer,col_indexer] = value instead\n",
      "\n",
      "See the caveats in the documentation: http://pandas.pydata.org/pandas-docs/stable/indexing.html#indexing-view-versus-copy\n",
      "  This is separate from the ipykernel package so we can avoid doing imports until\n"
     ]
    },
    {
     "data": {
      "text/html": [
       "<div>\n",
       "<style scoped>\n",
       "    .dataframe tbody tr th:only-of-type {\n",
       "        vertical-align: middle;\n",
       "    }\n",
       "\n",
       "    .dataframe tbody tr th {\n",
       "        vertical-align: top;\n",
       "    }\n",
       "\n",
       "    .dataframe thead th {\n",
       "        text-align: right;\n",
       "    }\n",
       "</style>\n",
       "<table border=\"1\" class=\"dataframe\">\n",
       "  <thead>\n",
       "    <tr style=\"text-align: right;\">\n",
       "      <th></th>\n",
       "      <th>play_week_n</th>\n",
       "      <th>Genre</th>\n",
       "      <th>count</th>\n",
       "      <th>ratio</th>\n",
       "      <th>change_of_rate</th>\n",
       "      <th>change</th>\n",
       "    </tr>\n",
       "  </thead>\n",
       "  <tbody>\n",
       "    <tr>\n",
       "      <th>0</th>\n",
       "      <td>3</td>\n",
       "      <td>Mashboard</td>\n",
       "      <td>258</td>\n",
       "      <td>0.422951</td>\n",
       "      <td>NaN</td>\n",
       "      <td>NaN</td>\n",
       "    </tr>\n",
       "    <tr>\n",
       "      <th>1</th>\n",
       "      <td>4</td>\n",
       "      <td>Mashboard</td>\n",
       "      <td>91</td>\n",
       "      <td>0.149180</td>\n",
       "      <td>-0.647287</td>\n",
       "      <td>-167.0</td>\n",
       "    </tr>\n",
       "    <tr>\n",
       "      <th>2</th>\n",
       "      <td>5</td>\n",
       "      <td>Mashboard</td>\n",
       "      <td>111</td>\n",
       "      <td>0.181967</td>\n",
       "      <td>0.219780</td>\n",
       "      <td>20.0</td>\n",
       "    </tr>\n",
       "    <tr>\n",
       "      <th>3</th>\n",
       "      <td>6</td>\n",
       "      <td>Mashboard</td>\n",
       "      <td>136</td>\n",
       "      <td>0.222951</td>\n",
       "      <td>0.225225</td>\n",
       "      <td>25.0</td>\n",
       "    </tr>\n",
       "    <tr>\n",
       "      <th>4</th>\n",
       "      <td>7</td>\n",
       "      <td>Mashboard</td>\n",
       "      <td>14</td>\n",
       "      <td>0.022951</td>\n",
       "      <td>-0.897059</td>\n",
       "      <td>-122.0</td>\n",
       "    </tr>\n",
       "  </tbody>\n",
       "</table>\n",
       "</div>"
      ],
      "text/plain": [
       "   play_week_n      Genre  count     ratio  change_of_rate  change\n",
       "0            3  Mashboard    258  0.422951             NaN     NaN\n",
       "1            4  Mashboard     91  0.149180       -0.647287  -167.0\n",
       "2            5  Mashboard    111  0.181967        0.219780    20.0\n",
       "3            6  Mashboard    136  0.222951        0.225225    25.0\n",
       "4            7  Mashboard     14  0.022951       -0.897059  -122.0"
      ]
     },
     "execution_count": 43,
     "metadata": {},
     "output_type": "execute_result"
    }
   ],
   "source": [
    "mash_three = week_three_table.iloc[[3,9,15,21,27]]\n",
    "mash_three.index = range(len(mash_three)) # reset_index()\n",
    "ratio(mash_three)\n",
    "mash_three"
   ]
  },
  {
   "cell_type": "code",
   "execution_count": 44,
   "metadata": {},
   "outputs": [
    {
     "name": "stderr",
     "output_type": "stream",
     "text": [
      "/anaconda3/lib/python3.7/site-packages/ipykernel_launcher.py:3: SettingWithCopyWarning: \n",
      "A value is trying to be set on a copy of a slice from a DataFrame.\n",
      "Try using .loc[row_indexer,col_indexer] = value instead\n",
      "\n",
      "See the caveats in the documentation: http://pandas.pydata.org/pandas-docs/stable/indexing.html#indexing-view-versus-copy\n",
      "  This is separate from the ipykernel package so we can avoid doing imports until\n"
     ]
    },
    {
     "data": {
      "text/html": [
       "<div>\n",
       "<style scoped>\n",
       "    .dataframe tbody tr th:only-of-type {\n",
       "        vertical-align: middle;\n",
       "    }\n",
       "\n",
       "    .dataframe tbody tr th {\n",
       "        vertical-align: top;\n",
       "    }\n",
       "\n",
       "    .dataframe thead th {\n",
       "        text-align: right;\n",
       "    }\n",
       "</style>\n",
       "<table border=\"1\" class=\"dataframe\">\n",
       "  <thead>\n",
       "    <tr style=\"text-align: right;\">\n",
       "      <th></th>\n",
       "      <th>play_week_n</th>\n",
       "      <th>Genre</th>\n",
       "      <th>count</th>\n",
       "      <th>ratio</th>\n",
       "      <th>change_of_rate</th>\n",
       "      <th>change</th>\n",
       "    </tr>\n",
       "  </thead>\n",
       "  <tbody>\n",
       "    <tr>\n",
       "      <th>0</th>\n",
       "      <td>3</td>\n",
       "      <td>Product</td>\n",
       "      <td>326</td>\n",
       "      <td>0.457223</td>\n",
       "      <td>NaN</td>\n",
       "      <td>NaN</td>\n",
       "    </tr>\n",
       "    <tr>\n",
       "      <th>1</th>\n",
       "      <td>4</td>\n",
       "      <td>Product</td>\n",
       "      <td>155</td>\n",
       "      <td>0.217391</td>\n",
       "      <td>-0.524540</td>\n",
       "      <td>-171.0</td>\n",
       "    </tr>\n",
       "    <tr>\n",
       "      <th>2</th>\n",
       "      <td>5</td>\n",
       "      <td>Product</td>\n",
       "      <td>126</td>\n",
       "      <td>0.176718</td>\n",
       "      <td>-0.187097</td>\n",
       "      <td>-29.0</td>\n",
       "    </tr>\n",
       "    <tr>\n",
       "      <th>3</th>\n",
       "      <td>6</td>\n",
       "      <td>Product</td>\n",
       "      <td>94</td>\n",
       "      <td>0.131837</td>\n",
       "      <td>-0.253968</td>\n",
       "      <td>-32.0</td>\n",
       "    </tr>\n",
       "    <tr>\n",
       "      <th>4</th>\n",
       "      <td>7</td>\n",
       "      <td>Product</td>\n",
       "      <td>12</td>\n",
       "      <td>0.016830</td>\n",
       "      <td>-0.872340</td>\n",
       "      <td>-82.0</td>\n",
       "    </tr>\n",
       "  </tbody>\n",
       "</table>\n",
       "</div>"
      ],
      "text/plain": [
       "   play_week_n    Genre  count     ratio  change_of_rate  change\n",
       "0            3  Product    326  0.457223             NaN     NaN\n",
       "1            4  Product    155  0.217391       -0.524540  -171.0\n",
       "2            5  Product    126  0.176718       -0.187097   -29.0\n",
       "3            6  Product     94  0.131837       -0.253968   -32.0\n",
       "4            7  Product     12  0.016830       -0.872340   -82.0"
      ]
     },
     "execution_count": 44,
     "metadata": {},
     "output_type": "execute_result"
    }
   ],
   "source": [
    "product_three = week_three_table.iloc[[4,10,16,22,28]]\n",
    "product_three.index = range(len(product_three)) # reset_index()\n",
    "ratio(product_three)\n",
    "product_three"
   ]
  },
  {
   "cell_type": "code",
   "execution_count": 45,
   "metadata": {},
   "outputs": [
    {
     "name": "stderr",
     "output_type": "stream",
     "text": [
      "/anaconda3/lib/python3.7/site-packages/ipykernel_launcher.py:3: SettingWithCopyWarning: \n",
      "A value is trying to be set on a copy of a slice from a DataFrame.\n",
      "Try using .loc[row_indexer,col_indexer] = value instead\n",
      "\n",
      "See the caveats in the documentation: http://pandas.pydata.org/pandas-docs/stable/indexing.html#indexing-view-versus-copy\n",
      "  This is separate from the ipykernel package so we can avoid doing imports until\n"
     ]
    },
    {
     "data": {
      "text/html": [
       "<div>\n",
       "<style scoped>\n",
       "    .dataframe tbody tr th:only-of-type {\n",
       "        vertical-align: middle;\n",
       "    }\n",
       "\n",
       "    .dataframe tbody tr th {\n",
       "        vertical-align: top;\n",
       "    }\n",
       "\n",
       "    .dataframe thead th {\n",
       "        text-align: right;\n",
       "    }\n",
       "</style>\n",
       "<table border=\"1\" class=\"dataframe\">\n",
       "  <thead>\n",
       "    <tr style=\"text-align: right;\">\n",
       "      <th></th>\n",
       "      <th>play_week_n</th>\n",
       "      <th>Genre</th>\n",
       "      <th>count</th>\n",
       "      <th>ratio</th>\n",
       "      <th>change_of_rate</th>\n",
       "      <th>change</th>\n",
       "    </tr>\n",
       "  </thead>\n",
       "  <tbody>\n",
       "    <tr>\n",
       "      <th>0</th>\n",
       "      <td>3</td>\n",
       "      <td>Spider</td>\n",
       "      <td>123</td>\n",
       "      <td>0.251534</td>\n",
       "      <td>NaN</td>\n",
       "      <td>NaN</td>\n",
       "    </tr>\n",
       "    <tr>\n",
       "      <th>1</th>\n",
       "      <td>4</td>\n",
       "      <td>Spider</td>\n",
       "      <td>120</td>\n",
       "      <td>0.245399</td>\n",
       "      <td>-0.024390</td>\n",
       "      <td>-3.0</td>\n",
       "    </tr>\n",
       "    <tr>\n",
       "      <th>2</th>\n",
       "      <td>5</td>\n",
       "      <td>Spider</td>\n",
       "      <td>164</td>\n",
       "      <td>0.335378</td>\n",
       "      <td>0.366667</td>\n",
       "      <td>44.0</td>\n",
       "    </tr>\n",
       "    <tr>\n",
       "      <th>3</th>\n",
       "      <td>6</td>\n",
       "      <td>Spider</td>\n",
       "      <td>73</td>\n",
       "      <td>0.149284</td>\n",
       "      <td>-0.554878</td>\n",
       "      <td>-91.0</td>\n",
       "    </tr>\n",
       "    <tr>\n",
       "      <th>4</th>\n",
       "      <td>7</td>\n",
       "      <td>Spider</td>\n",
       "      <td>9</td>\n",
       "      <td>0.018405</td>\n",
       "      <td>-0.876712</td>\n",
       "      <td>-64.0</td>\n",
       "    </tr>\n",
       "  </tbody>\n",
       "</table>\n",
       "</div>"
      ],
      "text/plain": [
       "   play_week_n   Genre  count     ratio  change_of_rate  change\n",
       "0            3  Spider    123  0.251534             NaN     NaN\n",
       "1            4  Spider    120  0.245399       -0.024390    -3.0\n",
       "2            5  Spider    164  0.335378        0.366667    44.0\n",
       "3            6  Spider     73  0.149284       -0.554878   -91.0\n",
       "4            7  Spider      9  0.018405       -0.876712   -64.0"
      ]
     },
     "execution_count": 45,
     "metadata": {},
     "output_type": "execute_result"
    }
   ],
   "source": [
    "spider_three = week_three_table.iloc[[5,11,17,23,29]]\n",
    "spider_three.index = range(len(spider_three)) # reset_index()\n",
    "ratio(spider_three)\n",
    "spider_three"
   ]
  },
  {
   "cell_type": "code",
   "execution_count": 46,
   "metadata": {},
   "outputs": [],
   "source": [
    "week_three_genre = ( dis_three.merge(finger_three, on =\"play_week_n\")\n",
    " .merge(mash_three, on=\"play_week_n\")\n",
    " .merge(product_three, on=\"play_week_n\")\n",
    " .merge(spider_three, on=\"play_week_n\")\n",
    " .merge(bull_three, on=\"play_week_n\") )"
   ]
  },
  {
   "cell_type": "code",
   "execution_count": 47,
   "metadata": {},
   "outputs": [
    {
     "data": {
      "text/html": [
       "<div>\n",
       "<style scoped>\n",
       "    .dataframe tbody tr th:only-of-type {\n",
       "        vertical-align: middle;\n",
       "    }\n",
       "\n",
       "    .dataframe tbody tr th {\n",
       "        vertical-align: top;\n",
       "    }\n",
       "\n",
       "    .dataframe thead th {\n",
       "        text-align: right;\n",
       "    }\n",
       "</style>\n",
       "<table border=\"1\" class=\"dataframe\">\n",
       "  <thead>\n",
       "    <tr style=\"text-align: right;\">\n",
       "      <th></th>\n",
       "      <th>play_week_n</th>\n",
       "      <th>Genre_x</th>\n",
       "      <th>count_x</th>\n",
       "      <th>ratio_x</th>\n",
       "      <th>change_of_rate_x</th>\n",
       "      <th>change_x</th>\n",
       "      <th>Genre_y</th>\n",
       "      <th>count_y</th>\n",
       "      <th>ratio_y</th>\n",
       "      <th>change_of_rate_y</th>\n",
       "      <th>...</th>\n",
       "      <th>Genre_x</th>\n",
       "      <th>count_x</th>\n",
       "      <th>ratio_x</th>\n",
       "      <th>change_of_rate_x</th>\n",
       "      <th>change_x</th>\n",
       "      <th>Genre_y</th>\n",
       "      <th>count_y</th>\n",
       "      <th>ratio_y</th>\n",
       "      <th>change_of_rate_y</th>\n",
       "      <th>change_y</th>\n",
       "    </tr>\n",
       "  </thead>\n",
       "  <tbody>\n",
       "    <tr>\n",
       "      <th>0</th>\n",
       "      <td>3</td>\n",
       "      <td>Discovery</td>\n",
       "      <td>12759</td>\n",
       "      <td>0.376227</td>\n",
       "      <td>NaN</td>\n",
       "      <td>NaN</td>\n",
       "      <td>Fingerprint</td>\n",
       "      <td>2468</td>\n",
       "      <td>0.369904</td>\n",
       "      <td>NaN</td>\n",
       "      <td>...</td>\n",
       "      <td>Spider</td>\n",
       "      <td>123</td>\n",
       "      <td>0.251534</td>\n",
       "      <td>NaN</td>\n",
       "      <td>NaN</td>\n",
       "      <td>Bullseye</td>\n",
       "      <td>161</td>\n",
       "      <td>0.4025</td>\n",
       "      <td>NaN</td>\n",
       "      <td>NaN</td>\n",
       "    </tr>\n",
       "    <tr>\n",
       "      <th>1</th>\n",
       "      <td>4</td>\n",
       "      <td>Discovery</td>\n",
       "      <td>8973</td>\n",
       "      <td>0.264589</td>\n",
       "      <td>-0.296732</td>\n",
       "      <td>-3786.0</td>\n",
       "      <td>Fingerprint</td>\n",
       "      <td>1437</td>\n",
       "      <td>0.215378</td>\n",
       "      <td>-0.417747</td>\n",
       "      <td>...</td>\n",
       "      <td>Spider</td>\n",
       "      <td>120</td>\n",
       "      <td>0.245399</td>\n",
       "      <td>-0.024390</td>\n",
       "      <td>-3.0</td>\n",
       "      <td>Bullseye</td>\n",
       "      <td>81</td>\n",
       "      <td>0.2025</td>\n",
       "      <td>-0.496894</td>\n",
       "      <td>-80.0</td>\n",
       "    </tr>\n",
       "    <tr>\n",
       "      <th>2</th>\n",
       "      <td>5</td>\n",
       "      <td>Discovery</td>\n",
       "      <td>6562</td>\n",
       "      <td>0.193495</td>\n",
       "      <td>-0.268695</td>\n",
       "      <td>-2411.0</td>\n",
       "      <td>Fingerprint</td>\n",
       "      <td>1368</td>\n",
       "      <td>0.205036</td>\n",
       "      <td>-0.048017</td>\n",
       "      <td>...</td>\n",
       "      <td>Spider</td>\n",
       "      <td>164</td>\n",
       "      <td>0.335378</td>\n",
       "      <td>0.366667</td>\n",
       "      <td>44.0</td>\n",
       "      <td>Bullseye</td>\n",
       "      <td>81</td>\n",
       "      <td>0.2025</td>\n",
       "      <td>0.000000</td>\n",
       "      <td>0.0</td>\n",
       "    </tr>\n",
       "    <tr>\n",
       "      <th>3</th>\n",
       "      <td>6</td>\n",
       "      <td>Discovery</td>\n",
       "      <td>5271</td>\n",
       "      <td>0.155427</td>\n",
       "      <td>-0.196739</td>\n",
       "      <td>-1291.0</td>\n",
       "      <td>Fingerprint</td>\n",
       "      <td>1316</td>\n",
       "      <td>0.197242</td>\n",
       "      <td>-0.038012</td>\n",
       "      <td>...</td>\n",
       "      <td>Spider</td>\n",
       "      <td>73</td>\n",
       "      <td>0.149284</td>\n",
       "      <td>-0.554878</td>\n",
       "      <td>-91.0</td>\n",
       "      <td>Bullseye</td>\n",
       "      <td>75</td>\n",
       "      <td>0.1875</td>\n",
       "      <td>-0.074074</td>\n",
       "      <td>-6.0</td>\n",
       "    </tr>\n",
       "    <tr>\n",
       "      <th>4</th>\n",
       "      <td>7</td>\n",
       "      <td>Discovery</td>\n",
       "      <td>348</td>\n",
       "      <td>0.010262</td>\n",
       "      <td>-0.933978</td>\n",
       "      <td>-4923.0</td>\n",
       "      <td>Fingerprint</td>\n",
       "      <td>83</td>\n",
       "      <td>0.012440</td>\n",
       "      <td>-0.936930</td>\n",
       "      <td>...</td>\n",
       "      <td>Spider</td>\n",
       "      <td>9</td>\n",
       "      <td>0.018405</td>\n",
       "      <td>-0.876712</td>\n",
       "      <td>-64.0</td>\n",
       "      <td>Bullseye</td>\n",
       "      <td>2</td>\n",
       "      <td>0.0050</td>\n",
       "      <td>-0.973333</td>\n",
       "      <td>-73.0</td>\n",
       "    </tr>\n",
       "  </tbody>\n",
       "</table>\n",
       "<p>5 rows × 31 columns</p>\n",
       "</div>"
      ],
      "text/plain": [
       "   play_week_n    Genre_x count_x   ratio_x  change_of_rate_x  change_x  \\\n",
       "0            3  Discovery   12759  0.376227               NaN       NaN   \n",
       "1            4  Discovery    8973  0.264589         -0.296732   -3786.0   \n",
       "2            5  Discovery    6562  0.193495         -0.268695   -2411.0   \n",
       "3            6  Discovery    5271  0.155427         -0.196739   -1291.0   \n",
       "4            7  Discovery     348  0.010262         -0.933978   -4923.0   \n",
       "\n",
       "       Genre_y count_y   ratio_y  change_of_rate_y  ...  Genre_x count_x  \\\n",
       "0  Fingerprint    2468  0.369904               NaN  ...   Spider     123   \n",
       "1  Fingerprint    1437  0.215378         -0.417747  ...   Spider     120   \n",
       "2  Fingerprint    1368  0.205036         -0.048017  ...   Spider     164   \n",
       "3  Fingerprint    1316  0.197242         -0.038012  ...   Spider      73   \n",
       "4  Fingerprint      83  0.012440         -0.936930  ...   Spider       9   \n",
       "\n",
       "    ratio_x  change_of_rate_x  change_x   Genre_y count_y  ratio_y  \\\n",
       "0  0.251534               NaN       NaN  Bullseye     161   0.4025   \n",
       "1  0.245399         -0.024390      -3.0  Bullseye      81   0.2025   \n",
       "2  0.335378          0.366667      44.0  Bullseye      81   0.2025   \n",
       "3  0.149284         -0.554878     -91.0  Bullseye      75   0.1875   \n",
       "4  0.018405         -0.876712     -64.0  Bullseye       2   0.0050   \n",
       "\n",
       "   change_of_rate_y  change_y  \n",
       "0               NaN       NaN  \n",
       "1         -0.496894     -80.0  \n",
       "2          0.000000       0.0  \n",
       "3         -0.074074      -6.0  \n",
       "4         -0.973333     -73.0  \n",
       "\n",
       "[5 rows x 31 columns]"
      ]
     },
     "execution_count": 47,
     "metadata": {},
     "output_type": "execute_result"
    }
   ],
   "source": [
    "week_three_genre"
   ]
  },
  {
   "cell_type": "code",
   "execution_count": 48,
   "metadata": {},
   "outputs": [],
   "source": [
    "# comment: dramatically decreasing "
   ]
  },
  {
   "cell_type": "markdown",
   "metadata": {},
   "source": [
    "## Standard data by genre usage starting at week 2 and week3"
   ]
  },
  {
   "cell_type": "markdown",
   "metadata": {},
   "source": [
    "### Starting at Week 2"
   ]
  },
  {
   "cell_type": "code",
   "execution_count": 49,
   "metadata": {},
   "outputs": [
    {
     "name": "stdout",
     "output_type": "stream",
     "text": [
      "(1894,)\n"
     ]
    }
   ],
   "source": [
    "# get week two by user\n",
    "# 2798\n",
    "print(week_two.n_user_id.unique().shape)\n",
    "# 1894\n"
   ]
  },
  {
   "cell_type": "code",
   "execution_count": 50,
   "metadata": {},
   "outputs": [
    {
     "data": {
      "text/html": [
       "<div>\n",
       "<style scoped>\n",
       "    .dataframe tbody tr th:only-of-type {\n",
       "        vertical-align: middle;\n",
       "    }\n",
       "\n",
       "    .dataframe tbody tr th {\n",
       "        vertical-align: top;\n",
       "    }\n",
       "\n",
       "    .dataframe thead th {\n",
       "        text-align: right;\n",
       "    }\n",
       "</style>\n",
       "<table border=\"1\" class=\"dataframe\">\n",
       "  <thead>\n",
       "    <tr style=\"text-align: right;\">\n",
       "      <th></th>\n",
       "      <th>ID</th>\n",
       "      <th>First_Play_Date</th>\n",
       "      <th>Play_Date</th>\n",
       "      <th>Genre</th>\n",
       "      <th>count</th>\n",
       "      <th>n_user_id</th>\n",
       "      <th>first_week_n</th>\n",
       "      <th>play_week_n</th>\n",
       "    </tr>\n",
       "  </thead>\n",
       "  <tbody>\n",
       "    <tr>\n",
       "      <th>0</th>\n",
       "      <td>ASP-122a358d-be37-49bf-98ea-402ccfe33898-26768...</td>\n",
       "      <td>2015-01-08</td>\n",
       "      <td>2015-01-08</td>\n",
       "      <td>Discovery</td>\n",
       "      <td>1</td>\n",
       "      <td>0</td>\n",
       "      <td>2</td>\n",
       "      <td>2</td>\n",
       "    </tr>\n",
       "    <tr>\n",
       "      <th>1</th>\n",
       "      <td>ASP-122a358d-be37-49bf-98ea-402ccfe33898-26768...</td>\n",
       "      <td>2015-01-08</td>\n",
       "      <td>2015-01-08</td>\n",
       "      <td>Discovery</td>\n",
       "      <td>1</td>\n",
       "      <td>0</td>\n",
       "      <td>2</td>\n",
       "      <td>2</td>\n",
       "    </tr>\n",
       "    <tr>\n",
       "      <th>2</th>\n",
       "      <td>ASP-122a358d-be37-49bf-98ea-402ccfe33898-26768...</td>\n",
       "      <td>2015-01-08</td>\n",
       "      <td>2015-01-08</td>\n",
       "      <td>Discovery</td>\n",
       "      <td>1</td>\n",
       "      <td>0</td>\n",
       "      <td>2</td>\n",
       "      <td>2</td>\n",
       "    </tr>\n",
       "    <tr>\n",
       "      <th>3</th>\n",
       "      <td>ASP-122a358d-be37-49bf-98ea-402ccfe33898-26768...</td>\n",
       "      <td>2015-01-08</td>\n",
       "      <td>2015-01-08</td>\n",
       "      <td>Discovery</td>\n",
       "      <td>1</td>\n",
       "      <td>0</td>\n",
       "      <td>2</td>\n",
       "      <td>2</td>\n",
       "    </tr>\n",
       "    <tr>\n",
       "      <th>4</th>\n",
       "      <td>ASP-122a358d-be37-49bf-98ea-402ccfe33898-26768...</td>\n",
       "      <td>2015-01-08</td>\n",
       "      <td>2015-01-08</td>\n",
       "      <td>Discovery</td>\n",
       "      <td>1</td>\n",
       "      <td>0</td>\n",
       "      <td>2</td>\n",
       "      <td>2</td>\n",
       "    </tr>\n",
       "  </tbody>\n",
       "</table>\n",
       "</div>"
      ],
      "text/plain": [
       "                                                  ID First_Play_Date  \\\n",
       "0  ASP-122a358d-be37-49bf-98ea-402ccfe33898-26768...      2015-01-08   \n",
       "1  ASP-122a358d-be37-49bf-98ea-402ccfe33898-26768...      2015-01-08   \n",
       "2  ASP-122a358d-be37-49bf-98ea-402ccfe33898-26768...      2015-01-08   \n",
       "3  ASP-122a358d-be37-49bf-98ea-402ccfe33898-26768...      2015-01-08   \n",
       "4  ASP-122a358d-be37-49bf-98ea-402ccfe33898-26768...      2015-01-08   \n",
       "\n",
       "   Play_Date      Genre  count  n_user_id  first_week_n  play_week_n  \n",
       "0 2015-01-08  Discovery      1          0             2            2  \n",
       "1 2015-01-08  Discovery      1          0             2            2  \n",
       "2 2015-01-08  Discovery      1          0             2            2  \n",
       "3 2015-01-08  Discovery      1          0             2            2  \n",
       "4 2015-01-08  Discovery      1          0             2            2  "
      ]
     },
     "execution_count": 50,
     "metadata": {},
     "output_type": "execute_result"
    }
   ],
   "source": [
    "week_two.head()"
   ]
  },
  {
   "cell_type": "code",
   "execution_count": 51,
   "metadata": {},
   "outputs": [],
   "source": [
    "# add is_week_changed column by user id  and check how many weeks does each users play \n",
    "\n",
    "user_week_two = pd.DataFrame(week_two.groupby(['n_user_id', 'play_week_n','Genre'])['count'].sum())\n",
    "user_week_two.reset_index(inplace=True)\n",
    "user_week_two['is_week_changed'] = user_week_two.groupby(['n_user_id'])['play_week_n'].shift(-1)\n",
    "user_week_two['is_week_changed'] = (user_week_two['is_week_changed'] - user_week_two['play_week_n']).fillna(0)\n",
    "user_week_two.loc[user_week_two['is_week_changed'] == 1, 'is_week_changed'] =True\n",
    "user_week_two.loc[~(user_week_two['is_week_changed'] == 1), 'is_week_changed'] =False\n",
    "user_week_two['is_week_changed'] = user_week_two['is_week_changed'].shift(1).fillna(False)"
   ]
  },
  {
   "cell_type": "code",
   "execution_count": 52,
   "metadata": {},
   "outputs": [
    {
     "data": {
      "text/html": [
       "<div>\n",
       "<style scoped>\n",
       "    .dataframe tbody tr th:only-of-type {\n",
       "        vertical-align: middle;\n",
       "    }\n",
       "\n",
       "    .dataframe tbody tr th {\n",
       "        vertical-align: top;\n",
       "    }\n",
       "\n",
       "    .dataframe thead th {\n",
       "        text-align: right;\n",
       "    }\n",
       "</style>\n",
       "<table border=\"1\" class=\"dataframe\">\n",
       "  <thead>\n",
       "    <tr style=\"text-align: right;\">\n",
       "      <th></th>\n",
       "      <th>n_user_id</th>\n",
       "      <th>play_week_n</th>\n",
       "      <th>Genre</th>\n",
       "      <th>count</th>\n",
       "      <th>is_week_changed</th>\n",
       "    </tr>\n",
       "  </thead>\n",
       "  <tbody>\n",
       "    <tr>\n",
       "      <th>0</th>\n",
       "      <td>0</td>\n",
       "      <td>2</td>\n",
       "      <td>Discovery</td>\n",
       "      <td>27</td>\n",
       "      <td>False</td>\n",
       "    </tr>\n",
       "    <tr>\n",
       "      <th>1</th>\n",
       "      <td>0</td>\n",
       "      <td>3</td>\n",
       "      <td>Bullseye</td>\n",
       "      <td>5</td>\n",
       "      <td>True</td>\n",
       "    </tr>\n",
       "    <tr>\n",
       "      <th>2</th>\n",
       "      <td>0</td>\n",
       "      <td>3</td>\n",
       "      <td>Discovery</td>\n",
       "      <td>67</td>\n",
       "      <td>False</td>\n",
       "    </tr>\n",
       "    <tr>\n",
       "      <th>3</th>\n",
       "      <td>0</td>\n",
       "      <td>3</td>\n",
       "      <td>Fingerprint</td>\n",
       "      <td>2</td>\n",
       "      <td>False</td>\n",
       "    </tr>\n",
       "    <tr>\n",
       "      <th>4</th>\n",
       "      <td>0</td>\n",
       "      <td>3</td>\n",
       "      <td>Spider</td>\n",
       "      <td>1</td>\n",
       "      <td>False</td>\n",
       "    </tr>\n",
       "  </tbody>\n",
       "</table>\n",
       "</div>"
      ],
      "text/plain": [
       "   n_user_id  play_week_n        Genre  count  is_week_changed\n",
       "0          0            2    Discovery     27            False\n",
       "1          0            3     Bullseye      5             True\n",
       "2          0            3    Discovery     67            False\n",
       "3          0            3  Fingerprint      2            False\n",
       "4          0            3       Spider      1            False"
      ]
     },
     "execution_count": 52,
     "metadata": {},
     "output_type": "execute_result"
    }
   ],
   "source": [
    "user_week_two.head()"
   ]
  },
  {
   "cell_type": "code",
   "execution_count": 53,
   "metadata": {},
   "outputs": [
    {
     "data": {
      "text/html": [
       "<div>\n",
       "<style scoped>\n",
       "    .dataframe tbody tr th:only-of-type {\n",
       "        vertical-align: middle;\n",
       "    }\n",
       "\n",
       "    .dataframe tbody tr th {\n",
       "        vertical-align: top;\n",
       "    }\n",
       "\n",
       "    .dataframe thead th {\n",
       "        text-align: right;\n",
       "    }\n",
       "</style>\n",
       "<table border=\"1\" class=\"dataframe\">\n",
       "  <thead>\n",
       "    <tr style=\"text-align: right;\">\n",
       "      <th>Genre</th>\n",
       "      <th>n_user_id</th>\n",
       "      <th>play_week_n</th>\n",
       "      <th>Discovery</th>\n",
       "      <th>Fingerprint</th>\n",
       "      <th>Bullseye</th>\n",
       "      <th>Mashboard</th>\n",
       "      <th>Product</th>\n",
       "      <th>Spider</th>\n",
       "    </tr>\n",
       "  </thead>\n",
       "  <tbody>\n",
       "    <tr>\n",
       "      <th>0</th>\n",
       "      <td>0</td>\n",
       "      <td>2</td>\n",
       "      <td>27.0</td>\n",
       "      <td>NaN</td>\n",
       "      <td>NaN</td>\n",
       "      <td>NaN</td>\n",
       "      <td>NaN</td>\n",
       "      <td>NaN</td>\n",
       "    </tr>\n",
       "    <tr>\n",
       "      <th>1</th>\n",
       "      <td>0</td>\n",
       "      <td>3</td>\n",
       "      <td>67.0</td>\n",
       "      <td>2.0</td>\n",
       "      <td>5.0</td>\n",
       "      <td>NaN</td>\n",
       "      <td>NaN</td>\n",
       "      <td>1.0</td>\n",
       "    </tr>\n",
       "    <tr>\n",
       "      <th>2</th>\n",
       "      <td>0</td>\n",
       "      <td>4</td>\n",
       "      <td>39.0</td>\n",
       "      <td>10.0</td>\n",
       "      <td>1.0</td>\n",
       "      <td>NaN</td>\n",
       "      <td>NaN</td>\n",
       "      <td>2.0</td>\n",
       "    </tr>\n",
       "    <tr>\n",
       "      <th>3</th>\n",
       "      <td>0</td>\n",
       "      <td>5</td>\n",
       "      <td>26.0</td>\n",
       "      <td>1.0</td>\n",
       "      <td>NaN</td>\n",
       "      <td>NaN</td>\n",
       "      <td>NaN</td>\n",
       "      <td>NaN</td>\n",
       "    </tr>\n",
       "    <tr>\n",
       "      <th>4</th>\n",
       "      <td>0</td>\n",
       "      <td>6</td>\n",
       "      <td>31.0</td>\n",
       "      <td>NaN</td>\n",
       "      <td>NaN</td>\n",
       "      <td>NaN</td>\n",
       "      <td>NaN</td>\n",
       "      <td>NaN</td>\n",
       "    </tr>\n",
       "  </tbody>\n",
       "</table>\n",
       "</div>"
      ],
      "text/plain": [
       "Genre  n_user_id  play_week_n  Discovery  Fingerprint  Bullseye  Mashboard  \\\n",
       "0              0            2       27.0          NaN       NaN        NaN   \n",
       "1              0            3       67.0          2.0       5.0        NaN   \n",
       "2              0            4       39.0         10.0       1.0        NaN   \n",
       "3              0            5       26.0          1.0       NaN        NaN   \n",
       "4              0            6       31.0          NaN       NaN        NaN   \n",
       "\n",
       "Genre  Product  Spider  \n",
       "0          NaN     NaN  \n",
       "1          NaN     1.0  \n",
       "2          NaN     2.0  \n",
       "3          NaN     NaN  \n",
       "4          NaN     NaN  "
      ]
     },
     "execution_count": 53,
     "metadata": {},
     "output_type": "execute_result"
    }
   ],
   "source": [
    "# make new week2 table by user id and play week number\n",
    "# add all genres columns and cout it by user and week number\n",
    "user_week2 = pd.pivot_table(data=week_two ,index=['n_user_id', 'play_week_n'], columns='Genre',values='count', aggfunc= 'sum').reset_index()\n",
    "user_week2=user_week2[['n_user_id', 'play_week_n', 'Discovery', 'Fingerprint','Bullseye','Mashboard', 'Product', 'Spider']]\n",
    "user_week2.head()"
   ]
  },
  {
   "cell_type": "code",
   "execution_count": 54,
   "metadata": {},
   "outputs": [],
   "source": [
    "# save 5 different genres data as array\n",
    "# it will be used for for loop\n",
    "genre_index =user_week_two['Genre'].unique()"
   ]
  },
  {
   "cell_type": "code",
   "execution_count": 55,
   "metadata": {},
   "outputs": [
    {
     "data": {
      "text/html": [
       "<div>\n",
       "<style scoped>\n",
       "    .dataframe tbody tr th:only-of-type {\n",
       "        vertical-align: middle;\n",
       "    }\n",
       "\n",
       "    .dataframe tbody tr th {\n",
       "        vertical-align: top;\n",
       "    }\n",
       "\n",
       "    .dataframe thead th {\n",
       "        text-align: right;\n",
       "    }\n",
       "</style>\n",
       "<table border=\"1\" class=\"dataframe\">\n",
       "  <thead>\n",
       "    <tr style=\"text-align: right;\">\n",
       "      <th>Genre</th>\n",
       "      <th>n_user_id</th>\n",
       "      <th>play_week_n</th>\n",
       "      <th>Discovery</th>\n",
       "      <th>Fingerprint</th>\n",
       "      <th>Bullseye</th>\n",
       "      <th>Mashboard</th>\n",
       "      <th>Product</th>\n",
       "      <th>Spider</th>\n",
       "    </tr>\n",
       "  </thead>\n",
       "  <tbody>\n",
       "    <tr>\n",
       "      <th>0</th>\n",
       "      <td>0</td>\n",
       "      <td>2</td>\n",
       "      <td>27.0</td>\n",
       "      <td>0.0</td>\n",
       "      <td>0.0</td>\n",
       "      <td>0.0</td>\n",
       "      <td>0.0</td>\n",
       "      <td>0.0</td>\n",
       "    </tr>\n",
       "    <tr>\n",
       "      <th>1</th>\n",
       "      <td>0</td>\n",
       "      <td>3</td>\n",
       "      <td>67.0</td>\n",
       "      <td>2.0</td>\n",
       "      <td>5.0</td>\n",
       "      <td>0.0</td>\n",
       "      <td>0.0</td>\n",
       "      <td>1.0</td>\n",
       "    </tr>\n",
       "    <tr>\n",
       "      <th>2</th>\n",
       "      <td>0</td>\n",
       "      <td>4</td>\n",
       "      <td>39.0</td>\n",
       "      <td>10.0</td>\n",
       "      <td>1.0</td>\n",
       "      <td>0.0</td>\n",
       "      <td>0.0</td>\n",
       "      <td>2.0</td>\n",
       "    </tr>\n",
       "    <tr>\n",
       "      <th>3</th>\n",
       "      <td>0</td>\n",
       "      <td>5</td>\n",
       "      <td>26.0</td>\n",
       "      <td>1.0</td>\n",
       "      <td>0.0</td>\n",
       "      <td>0.0</td>\n",
       "      <td>0.0</td>\n",
       "      <td>0.0</td>\n",
       "    </tr>\n",
       "    <tr>\n",
       "      <th>4</th>\n",
       "      <td>0</td>\n",
       "      <td>6</td>\n",
       "      <td>31.0</td>\n",
       "      <td>0.0</td>\n",
       "      <td>0.0</td>\n",
       "      <td>0.0</td>\n",
       "      <td>0.0</td>\n",
       "      <td>0.0</td>\n",
       "    </tr>\n",
       "  </tbody>\n",
       "</table>\n",
       "</div>"
      ],
      "text/plain": [
       "Genre  n_user_id  play_week_n  Discovery  Fingerprint  Bullseye  Mashboard  \\\n",
       "0              0            2       27.0          0.0       0.0        0.0   \n",
       "1              0            3       67.0          2.0       5.0        0.0   \n",
       "2              0            4       39.0         10.0       1.0        0.0   \n",
       "3              0            5       26.0          1.0       0.0        0.0   \n",
       "4              0            6       31.0          0.0       0.0        0.0   \n",
       "\n",
       "Genre  Product  Spider  \n",
       "0          0.0     0.0  \n",
       "1          0.0     1.0  \n",
       "2          0.0     2.0  \n",
       "3          0.0     0.0  \n",
       "4          0.0     0.0  "
      ]
     },
     "execution_count": 55,
     "metadata": {},
     "output_type": "execute_result"
    }
   ],
   "source": [
    "# replace all null vaules as float 0.\n",
    "for genre in genre_index:\n",
    "    user_week2.loc[user_week2[f'{genre}'].isnull(), f\"{genre}\"] = 0.0\n",
    "user_week2.head()"
   ]
  },
  {
   "cell_type": "code",
   "execution_count": 56,
   "metadata": {},
   "outputs": [
    {
     "data": {
      "text/html": [
       "<div>\n",
       "<style scoped>\n",
       "    .dataframe tbody tr th:only-of-type {\n",
       "        vertical-align: middle;\n",
       "    }\n",
       "\n",
       "    .dataframe tbody tr th {\n",
       "        vertical-align: top;\n",
       "    }\n",
       "\n",
       "    .dataframe thead th {\n",
       "        text-align: right;\n",
       "    }\n",
       "</style>\n",
       "<table border=\"1\" class=\"dataframe\">\n",
       "  <thead>\n",
       "    <tr style=\"text-align: right;\">\n",
       "      <th>Genre</th>\n",
       "      <th>Discovery</th>\n",
       "      <th>Fingerprint</th>\n",
       "      <th>Bullseye</th>\n",
       "      <th>Mashboard</th>\n",
       "      <th>Product</th>\n",
       "      <th>Spider</th>\n",
       "    </tr>\n",
       "    <tr>\n",
       "      <th>Genre</th>\n",
       "      <th></th>\n",
       "      <th></th>\n",
       "      <th></th>\n",
       "      <th></th>\n",
       "      <th></th>\n",
       "      <th></th>\n",
       "    </tr>\n",
       "  </thead>\n",
       "  <tbody>\n",
       "    <tr>\n",
       "      <th>Discovery</th>\n",
       "      <td>1.000000</td>\n",
       "      <td>0.015461</td>\n",
       "      <td>0.030466</td>\n",
       "      <td>0.031836</td>\n",
       "      <td>-0.009587</td>\n",
       "      <td>0.043228</td>\n",
       "    </tr>\n",
       "    <tr>\n",
       "      <th>Fingerprint</th>\n",
       "      <td>0.015461</td>\n",
       "      <td>1.000000</td>\n",
       "      <td>0.064421</td>\n",
       "      <td>0.052387</td>\n",
       "      <td>0.062064</td>\n",
       "      <td>0.071554</td>\n",
       "    </tr>\n",
       "    <tr>\n",
       "      <th>Bullseye</th>\n",
       "      <td>0.030466</td>\n",
       "      <td>0.064421</td>\n",
       "      <td>1.000000</td>\n",
       "      <td>0.036466</td>\n",
       "      <td>0.040075</td>\n",
       "      <td>0.056085</td>\n",
       "    </tr>\n",
       "    <tr>\n",
       "      <th>Mashboard</th>\n",
       "      <td>0.031836</td>\n",
       "      <td>0.052387</td>\n",
       "      <td>0.036466</td>\n",
       "      <td>1.000000</td>\n",
       "      <td>0.068886</td>\n",
       "      <td>0.074152</td>\n",
       "    </tr>\n",
       "    <tr>\n",
       "      <th>Product</th>\n",
       "      <td>-0.009587</td>\n",
       "      <td>0.062064</td>\n",
       "      <td>0.040075</td>\n",
       "      <td>0.068886</td>\n",
       "      <td>1.000000</td>\n",
       "      <td>0.031700</td>\n",
       "    </tr>\n",
       "    <tr>\n",
       "      <th>Spider</th>\n",
       "      <td>0.043228</td>\n",
       "      <td>0.071554</td>\n",
       "      <td>0.056085</td>\n",
       "      <td>0.074152</td>\n",
       "      <td>0.031700</td>\n",
       "      <td>1.000000</td>\n",
       "    </tr>\n",
       "  </tbody>\n",
       "</table>\n",
       "</div>"
      ],
      "text/plain": [
       "Genre        Discovery  Fingerprint  Bullseye  Mashboard   Product    Spider\n",
       "Genre                                                                       \n",
       "Discovery     1.000000     0.015461  0.030466   0.031836 -0.009587  0.043228\n",
       "Fingerprint   0.015461     1.000000  0.064421   0.052387  0.062064  0.071554\n",
       "Bullseye      0.030466     0.064421  1.000000   0.036466  0.040075  0.056085\n",
       "Mashboard     0.031836     0.052387  0.036466   1.000000  0.068886  0.074152\n",
       "Product      -0.009587     0.062064  0.040075   0.068886  1.000000  0.031700\n",
       "Spider        0.043228     0.071554  0.056085   0.074152  0.031700  1.000000"
      ]
     },
     "execution_count": 56,
     "metadata": {},
     "output_type": "execute_result"
    }
   ],
   "source": [
    "user_week2.iloc[:,2:8].corr()"
   ]
  },
  {
   "cell_type": "code",
   "execution_count": 57,
   "metadata": {},
   "outputs": [
    {
     "data": {
      "text/html": [
       "<div>\n",
       "<style scoped>\n",
       "    .dataframe tbody tr th:only-of-type {\n",
       "        vertical-align: middle;\n",
       "    }\n",
       "\n",
       "    .dataframe tbody tr th {\n",
       "        vertical-align: top;\n",
       "    }\n",
       "\n",
       "    .dataframe thead th {\n",
       "        text-align: right;\n",
       "    }\n",
       "</style>\n",
       "<table border=\"1\" class=\"dataframe\">\n",
       "  <thead>\n",
       "    <tr style=\"text-align: right;\">\n",
       "      <th>Genre</th>\n",
       "      <th>Discovery</th>\n",
       "      <th>Fingerprint</th>\n",
       "      <th>Bullseye</th>\n",
       "      <th>Mashboard</th>\n",
       "      <th>Product</th>\n",
       "    </tr>\n",
       "    <tr>\n",
       "      <th>play_week_n</th>\n",
       "      <th></th>\n",
       "      <th></th>\n",
       "      <th></th>\n",
       "      <th></th>\n",
       "      <th></th>\n",
       "    </tr>\n",
       "  </thead>\n",
       "  <tbody>\n",
       "    <tr>\n",
       "      <th>2</th>\n",
       "      <td>8.690208</td>\n",
       "      <td>2.096142</td>\n",
       "      <td>0.100890</td>\n",
       "      <td>0.294955</td>\n",
       "      <td>0.372107</td>\n",
       "    </tr>\n",
       "    <tr>\n",
       "      <th>3</th>\n",
       "      <td>15.222222</td>\n",
       "      <td>2.786376</td>\n",
       "      <td>0.150132</td>\n",
       "      <td>0.320106</td>\n",
       "      <td>0.357143</td>\n",
       "    </tr>\n",
       "    <tr>\n",
       "      <th>4</th>\n",
       "      <td>12.260064</td>\n",
       "      <td>2.419485</td>\n",
       "      <td>0.160225</td>\n",
       "      <td>0.275362</td>\n",
       "      <td>0.302738</td>\n",
       "    </tr>\n",
       "    <tr>\n",
       "      <th>5</th>\n",
       "      <td>11.397504</td>\n",
       "      <td>2.397504</td>\n",
       "      <td>0.096257</td>\n",
       "      <td>0.200535</td>\n",
       "      <td>0.201426</td>\n",
       "    </tr>\n",
       "    <tr>\n",
       "      <th>6</th>\n",
       "      <td>7.405270</td>\n",
       "      <td>2.120452</td>\n",
       "      <td>0.099122</td>\n",
       "      <td>0.227102</td>\n",
       "      <td>0.287327</td>\n",
       "    </tr>\n",
       "  </tbody>\n",
       "</table>\n",
       "</div>"
      ],
      "text/plain": [
       "Genre        Discovery  Fingerprint  Bullseye  Mashboard   Product\n",
       "play_week_n                                                       \n",
       "2             8.690208     2.096142  0.100890   0.294955  0.372107\n",
       "3            15.222222     2.786376  0.150132   0.320106  0.357143\n",
       "4            12.260064     2.419485  0.160225   0.275362  0.302738\n",
       "5            11.397504     2.397504  0.096257   0.200535  0.201426\n",
       "6             7.405270     2.120452  0.099122   0.227102  0.287327"
      ]
     },
     "execution_count": 57,
     "metadata": {},
     "output_type": "execute_result"
    }
   ],
   "source": [
    "user_week2.groupby([\"play_week_n\"])['Discovery', 'Fingerprint','Bullseye','Mashboard', 'Product'].mean()"
   ]
  },
  {
   "cell_type": "code",
   "execution_count": 58,
   "metadata": {},
   "outputs": [
    {
     "name": "stderr",
     "output_type": "stream",
     "text": [
      "100%|██████████| 6358/6358 [00:20<00:00, 314.46it/s]\n"
     ]
    },
    {
     "data": {
      "text/html": [
       "<div>\n",
       "<style scoped>\n",
       "    .dataframe tbody tr th:only-of-type {\n",
       "        vertical-align: middle;\n",
       "    }\n",
       "\n",
       "    .dataframe tbody tr th {\n",
       "        vertical-align: top;\n",
       "    }\n",
       "\n",
       "    .dataframe thead th {\n",
       "        text-align: right;\n",
       "    }\n",
       "</style>\n",
       "<table border=\"1\" class=\"dataframe\">\n",
       "  <thead>\n",
       "    <tr style=\"text-align: right;\">\n",
       "      <th>Genre</th>\n",
       "      <th>n_user_id</th>\n",
       "      <th>play_week_n</th>\n",
       "      <th>Discovery</th>\n",
       "      <th>Fingerprint</th>\n",
       "      <th>Bullseye</th>\n",
       "      <th>Mashboard</th>\n",
       "      <th>Product</th>\n",
       "      <th>Spider</th>\n",
       "      <th>total_n</th>\n",
       "    </tr>\n",
       "  </thead>\n",
       "  <tbody>\n",
       "    <tr>\n",
       "      <th>0</th>\n",
       "      <td>0</td>\n",
       "      <td>2</td>\n",
       "      <td>1.000</td>\n",
       "      <td>0.000</td>\n",
       "      <td>0.000</td>\n",
       "      <td>0.0</td>\n",
       "      <td>0.0</td>\n",
       "      <td>0.000</td>\n",
       "      <td>27.0</td>\n",
       "    </tr>\n",
       "    <tr>\n",
       "      <th>1</th>\n",
       "      <td>0</td>\n",
       "      <td>3</td>\n",
       "      <td>0.893</td>\n",
       "      <td>0.027</td>\n",
       "      <td>0.067</td>\n",
       "      <td>0.0</td>\n",
       "      <td>0.0</td>\n",
       "      <td>0.013</td>\n",
       "      <td>75.0</td>\n",
       "    </tr>\n",
       "    <tr>\n",
       "      <th>2</th>\n",
       "      <td>0</td>\n",
       "      <td>4</td>\n",
       "      <td>0.750</td>\n",
       "      <td>0.192</td>\n",
       "      <td>0.019</td>\n",
       "      <td>0.0</td>\n",
       "      <td>0.0</td>\n",
       "      <td>0.038</td>\n",
       "      <td>52.0</td>\n",
       "    </tr>\n",
       "    <tr>\n",
       "      <th>3</th>\n",
       "      <td>0</td>\n",
       "      <td>5</td>\n",
       "      <td>0.963</td>\n",
       "      <td>0.037</td>\n",
       "      <td>0.000</td>\n",
       "      <td>0.0</td>\n",
       "      <td>0.0</td>\n",
       "      <td>0.000</td>\n",
       "      <td>27.0</td>\n",
       "    </tr>\n",
       "    <tr>\n",
       "      <th>4</th>\n",
       "      <td>0</td>\n",
       "      <td>6</td>\n",
       "      <td>1.000</td>\n",
       "      <td>0.000</td>\n",
       "      <td>0.000</td>\n",
       "      <td>0.0</td>\n",
       "      <td>0.0</td>\n",
       "      <td>0.000</td>\n",
       "      <td>31.0</td>\n",
       "    </tr>\n",
       "  </tbody>\n",
       "</table>\n",
       "</div>"
      ],
      "text/plain": [
       "Genre  n_user_id  play_week_n  Discovery  Fingerprint  Bullseye  Mashboard  \\\n",
       "0              0            2      1.000        0.000     0.000        0.0   \n",
       "1              0            3      0.893        0.027     0.067        0.0   \n",
       "2              0            4      0.750        0.192     0.019        0.0   \n",
       "3              0            5      0.963        0.037     0.000        0.0   \n",
       "4              0            6      1.000        0.000     0.000        0.0   \n",
       "\n",
       "Genre  Product  Spider  total_n  \n",
       "0          0.0   0.000     27.0  \n",
       "1          0.0   0.013     75.0  \n",
       "2          0.0   0.038     52.0  \n",
       "3          0.0   0.000     27.0  \n",
       "4          0.0   0.000     31.0  "
      ]
     },
     "execution_count": 58,
     "metadata": {},
     "output_type": "execute_result"
    }
   ],
   "source": [
    "# covert total number of values into rate (percent) \n",
    "# use tqdm package to check progress of for loop since for loop takes a while\n",
    "# standardize data set by user_week2 data \n",
    "# it means to remove the weight of users\n",
    "# some users play a lot and it causes bias.\n",
    "\n",
    "from tqdm import tqdm \n",
    "for num in tqdm(range(user_week2.shape[0])):\n",
    "    user_week2.loc[num,'total_n'] = user_week2.iloc[num,2:8].sum()\n",
    "    user_week2.iloc[num,2:8] = (user_week2.iloc[num,2:8]  / user_week2.iloc[num,8]).round(3)\n",
    "\n",
    "user_week2.head()"
   ]
  },
  {
   "cell_type": "code",
   "execution_count": 59,
   "metadata": {},
   "outputs": [
    {
     "data": {
      "text/plain": [
       "(6358, 9)"
      ]
     },
     "execution_count": 59,
     "metadata": {},
     "output_type": "execute_result"
    }
   ],
   "source": [
    "user_week2.shape"
   ]
  },
  {
   "cell_type": "code",
   "execution_count": null,
   "metadata": {},
   "outputs": [],
   "source": []
  },
  {
   "cell_type": "code",
   "execution_count": 60,
   "metadata": {},
   "outputs": [
    {
     "name": "stdout",
     "output_type": "stream",
     "text": [
      "Genre        Discovery  Fingerprint  Bullseye  Mashboard   Product    Spider\n",
      "Genre                                                                       \n",
      "Discovery     1.000000    -0.837260 -0.156525  -0.251807 -0.263327 -0.177294\n",
      "Fingerprint  -0.837260     1.000000 -0.045988  -0.069789 -0.072802 -0.039358\n",
      "Bullseye     -0.156525    -0.045988  1.000000  -0.002240 -0.006125  0.009841\n",
      "Mashboard    -0.251807    -0.069789 -0.002240   1.000000 -0.023744 -0.022969\n",
      "Product      -0.263327    -0.072802 -0.006125  -0.023744  1.000000 -0.018980\n",
      "Spider       -0.177294    -0.039358  0.009841  -0.022969 -0.018980  1.000000\n"
     ]
    },
    {
     "data": {
      "text/plain": [
       "<matplotlib.axes._subplots.AxesSubplot at 0x1a1b70d8d0>"
      ]
     },
     "execution_count": 60,
     "metadata": {},
     "output_type": "execute_result"
    },
    {
     "data": {
      "image/png": "[encoded data removed]",
      "text/plain": [
       "<Figure size 432x288 with 2 Axes>"
      ]
     },
     "metadata": {
      "needs_background": "light"
     },
     "output_type": "display_data"
    }
   ],
   "source": [
    "#  check  correlation among 5 genres\n",
    "#  heat.map helps out to see correlation easily \n",
    "#  Disvoery and Fingerprint are highly correlated: - 0.84\n",
    "#  It is very import information\n",
    "user_corr = user_week2.iloc[:,2:8].corr()\n",
    "print(user_corr)\n",
    "sns.heatmap(user_corr)\n",
    "# Discovery Fingerprint => They are highly correlated"
   ]
  },
  {
   "cell_type": "code",
   "execution_count": 61,
   "metadata": {},
   "outputs": [],
   "source": [
    "import matplotlib as mpl\n",
    "from IPython.display import set_matplotlib_formats\n",
    "set_matplotlib_formats('retina')"
   ]
  },
  {
   "cell_type": "code",
   "execution_count": 62,
   "metadata": {},
   "outputs": [
    {
     "data": {
      "text/plain": [
       "<matplotlib.axes._subplots.AxesSubplot at 0x107fc85c0>"
      ]
     },
     "execution_count": 62,
     "metadata": {},
     "output_type": "execute_result"
    },
    {
     "data": {
      "image/png": "[encoded data removed]",
      "text/plain": [
       "<Figure size 1080x720 with 2 Axes>"
      ]
     },
     "metadata": {
      "image/png": {
       "height": 660,
       "width": 889
      },
      "needs_background": "light"
     },
     "output_type": "display_data"
    }
   ],
   "source": [
    "# try to get insight by using the graph \n",
    "fig, (ax1, ax2) = plt.subplots(2, 1)\n",
    "fig.suptitle('Compare Discovery and Fingerprint by user id')\n",
    "fig.set_size_inches(15,10)\n",
    "sns.pointplot(data=user_week2.iloc[0:67], x=\"play_week_n\", y=\"Discovery\", hue =\"n_user_id\", ax=ax1)\n",
    "sns.pointplot(data=user_week2.iloc[0:67], x=\"play_week_n\", y=\"Fingerprint\", hue =\"n_user_id\", ax=ax2)"
   ]
  },
  {
   "cell_type": "code",
   "execution_count": 63,
   "metadata": {},
   "outputs": [
    {
     "data": {
      "text/html": [
       "<div>\n",
       "<style scoped>\n",
       "    .dataframe tbody tr th:only-of-type {\n",
       "        vertical-align: middle;\n",
       "    }\n",
       "\n",
       "    .dataframe tbody tr th {\n",
       "        vertical-align: top;\n",
       "    }\n",
       "\n",
       "    .dataframe thead th {\n",
       "        text-align: right;\n",
       "    }\n",
       "</style>\n",
       "<table border=\"1\" class=\"dataframe\">\n",
       "  <thead>\n",
       "    <tr style=\"text-align: right;\">\n",
       "      <th>Genre</th>\n",
       "      <th>n_user_id</th>\n",
       "      <th>play_week_n</th>\n",
       "      <th>Discovery</th>\n",
       "      <th>Fingerprint</th>\n",
       "      <th>Bullseye</th>\n",
       "      <th>Mashboard</th>\n",
       "      <th>Product</th>\n",
       "      <th>Spider</th>\n",
       "      <th>total_n</th>\n",
       "    </tr>\n",
       "  </thead>\n",
       "  <tbody>\n",
       "    <tr>\n",
       "      <th>0</th>\n",
       "      <td>0</td>\n",
       "      <td>2</td>\n",
       "      <td>1.000</td>\n",
       "      <td>0.000</td>\n",
       "      <td>0.000</td>\n",
       "      <td>0.0</td>\n",
       "      <td>0.0</td>\n",
       "      <td>0.000</td>\n",
       "      <td>27.0</td>\n",
       "    </tr>\n",
       "    <tr>\n",
       "      <th>1</th>\n",
       "      <td>0</td>\n",
       "      <td>3</td>\n",
       "      <td>0.893</td>\n",
       "      <td>0.027</td>\n",
       "      <td>0.067</td>\n",
       "      <td>0.0</td>\n",
       "      <td>0.0</td>\n",
       "      <td>0.013</td>\n",
       "      <td>75.0</td>\n",
       "    </tr>\n",
       "    <tr>\n",
       "      <th>2</th>\n",
       "      <td>0</td>\n",
       "      <td>4</td>\n",
       "      <td>0.750</td>\n",
       "      <td>0.192</td>\n",
       "      <td>0.019</td>\n",
       "      <td>0.0</td>\n",
       "      <td>0.0</td>\n",
       "      <td>0.038</td>\n",
       "      <td>52.0</td>\n",
       "    </tr>\n",
       "    <tr>\n",
       "      <th>3</th>\n",
       "      <td>0</td>\n",
       "      <td>5</td>\n",
       "      <td>0.963</td>\n",
       "      <td>0.037</td>\n",
       "      <td>0.000</td>\n",
       "      <td>0.0</td>\n",
       "      <td>0.0</td>\n",
       "      <td>0.000</td>\n",
       "      <td>27.0</td>\n",
       "    </tr>\n",
       "    <tr>\n",
       "      <th>4</th>\n",
       "      <td>0</td>\n",
       "      <td>6</td>\n",
       "      <td>1.000</td>\n",
       "      <td>0.000</td>\n",
       "      <td>0.000</td>\n",
       "      <td>0.0</td>\n",
       "      <td>0.0</td>\n",
       "      <td>0.000</td>\n",
       "      <td>31.0</td>\n",
       "    </tr>\n",
       "  </tbody>\n",
       "</table>\n",
       "</div>"
      ],
      "text/plain": [
       "Genre  n_user_id  play_week_n  Discovery  Fingerprint  Bullseye  Mashboard  \\\n",
       "0              0            2      1.000        0.000     0.000        0.0   \n",
       "1              0            3      0.893        0.027     0.067        0.0   \n",
       "2              0            4      0.750        0.192     0.019        0.0   \n",
       "3              0            5      0.963        0.037     0.000        0.0   \n",
       "4              0            6      1.000        0.000     0.000        0.0   \n",
       "\n",
       "Genre  Product  Spider  total_n  \n",
       "0          0.0   0.000     27.0  \n",
       "1          0.0   0.013     75.0  \n",
       "2          0.0   0.038     52.0  \n",
       "3          0.0   0.000     27.0  \n",
       "4          0.0   0.000     31.0  "
      ]
     },
     "execution_count": 63,
     "metadata": {},
     "output_type": "execute_result"
    }
   ],
   "source": [
    "user_week2.head()"
   ]
  },
  {
   "cell_type": "code",
   "execution_count": 64,
   "metadata": {},
   "outputs": [
    {
     "data": {
      "text/html": [
       "<div>\n",
       "<style scoped>\n",
       "    .dataframe tbody tr th:only-of-type {\n",
       "        vertical-align: middle;\n",
       "    }\n",
       "\n",
       "    .dataframe tbody tr th {\n",
       "        vertical-align: top;\n",
       "    }\n",
       "\n",
       "    .dataframe thead th {\n",
       "        text-align: right;\n",
       "    }\n",
       "</style>\n",
       "<table border=\"1\" class=\"dataframe\">\n",
       "  <thead>\n",
       "    <tr style=\"text-align: right;\">\n",
       "      <th>Genre</th>\n",
       "      <th>Discovery</th>\n",
       "      <th>Fingerprint</th>\n",
       "      <th>Bullseye</th>\n",
       "      <th>Mashboard</th>\n",
       "      <th>Product</th>\n",
       "    </tr>\n",
       "    <tr>\n",
       "      <th>play_week_n</th>\n",
       "      <th></th>\n",
       "      <th></th>\n",
       "      <th></th>\n",
       "      <th></th>\n",
       "      <th></th>\n",
       "    </tr>\n",
       "  </thead>\n",
       "  <tbody>\n",
       "    <tr>\n",
       "      <th>2</th>\n",
       "      <td>0.687763</td>\n",
       "      <td>0.220492</td>\n",
       "      <td>0.012576</td>\n",
       "      <td>0.035721</td>\n",
       "      <td>0.032936</td>\n",
       "    </tr>\n",
       "    <tr>\n",
       "      <th>3</th>\n",
       "      <td>0.700948</td>\n",
       "      <td>0.221298</td>\n",
       "      <td>0.011399</td>\n",
       "      <td>0.026377</td>\n",
       "      <td>0.030501</td>\n",
       "    </tr>\n",
       "    <tr>\n",
       "      <th>4</th>\n",
       "      <td>0.657275</td>\n",
       "      <td>0.251787</td>\n",
       "      <td>0.014391</td>\n",
       "      <td>0.021475</td>\n",
       "      <td>0.026699</td>\n",
       "    </tr>\n",
       "    <tr>\n",
       "      <th>5</th>\n",
       "      <td>0.652985</td>\n",
       "      <td>0.261436</td>\n",
       "      <td>0.010314</td>\n",
       "      <td>0.023535</td>\n",
       "      <td>0.024001</td>\n",
       "    </tr>\n",
       "    <tr>\n",
       "      <th>6</th>\n",
       "      <td>0.621871</td>\n",
       "      <td>0.287670</td>\n",
       "      <td>0.013640</td>\n",
       "      <td>0.033289</td>\n",
       "      <td>0.027670</td>\n",
       "    </tr>\n",
       "  </tbody>\n",
       "</table>\n",
       "</div>"
      ],
      "text/plain": [
       "Genre        Discovery  Fingerprint  Bullseye  Mashboard   Product\n",
       "play_week_n                                                       \n",
       "2             0.687763     0.220492  0.012576   0.035721  0.032936\n",
       "3             0.700948     0.221298  0.011399   0.026377  0.030501\n",
       "4             0.657275     0.251787  0.014391   0.021475  0.026699\n",
       "5             0.652985     0.261436  0.010314   0.023535  0.024001\n",
       "6             0.621871     0.287670  0.013640   0.033289  0.027670"
      ]
     },
     "execution_count": 64,
     "metadata": {},
     "output_type": "execute_result"
    }
   ],
   "source": [
    "# data trend by weekly \n",
    "week2_trend = user_week2.groupby([\"play_week_n\"])['Discovery', 'Fingerprint','Bullseye','Mashboard', 'Product'].mean()\n",
    "\n",
    "week2_trend.head()\n",
    "# Discovery about 6% down \n",
    "# Fingerprint about 6% up\n",
    "# others don't change. \n",
    "# we guess that user are likly to move into Finger from Disvoer as time goes by."
   ]
  },
  {
   "cell_type": "code",
   "execution_count": 65,
   "metadata": {
    "scrolled": true
   },
   "outputs": [
    {
     "data": {
      "text/plain": [
       "<matplotlib.axes._subplots.AxesSubplot at 0x1a1c10c240>"
      ]
     },
     "execution_count": 65,
     "metadata": {},
     "output_type": "execute_result"
    },
    {
     "data": {
      "image/png": "[encoded data removed]",
      "text/plain": [
       "<Figure size 1080x360 with 2 Axes>"
      ]
     },
     "metadata": {
      "image/png": {
       "height": 352,
       "width": 889
      },
      "needs_background": "light"
     },
     "output_type": "display_data"
    }
   ],
   "source": [
    "# Trend visualization \n",
    "fig, (ax1, ax2) = plt.subplots(1, 2)\n",
    "fig.suptitle('Genre trend Weekly')\n",
    "\"\"\"ax1.set(ylim=(0, 0.71))\n",
    "ax2.set(ylim=(0, 0.71))\"\"\"\n",
    "fig.set_size_inches(15,5)\n",
    "sns.barplot(data=week2_trend, x=week2_trend.index, y=\"Discovery\", ax=ax1 )\n",
    "sns.barplot(data=week2_trend, x=week2_trend.index, y='Fingerprint', ax=ax2)\n",
    "# discovery going down , Finger going up."
   ]
  },
  {
   "cell_type": "code",
   "execution_count": 66,
   "metadata": {},
   "outputs": [
    {
     "data": {
      "text/plain": [
       "<matplotlib.axes._subplots.AxesSubplot at 0x1a1c3c8278>"
      ]
     },
     "execution_count": 66,
     "metadata": {},
     "output_type": "execute_result"
    },
    {
     "data": {
      "image/png": "[encoded data removed]",
      "text/plain": [
       "<Figure size 1080x720 with 6 Axes>"
      ]
     },
     "metadata": {
      "image/png": {
       "height": 660,
       "width": 895
      },
      "needs_background": "light"
     },
     "output_type": "display_data"
    }
   ],
   "source": [
    "# plot all \n",
    "fig, ((ax1, ax2,ax5), (ax3, ax4,ax6)) = plt.subplots(2, 3)\n",
    "fig.suptitle('Genre trend Weekly')\n",
    "ax1.set(ylim=(0, 0.7))\n",
    "ax2.set(ylim=(0, 0.7))\n",
    "ax3.set(ylim=(0, 0.7))\n",
    "ax4.set(ylim=(0, 0.7))\n",
    "ax5.set(ylim=(0, 0.7))\n",
    "fig.set_size_inches(15,10)\n",
    "sns.barplot(data=week2_trend, x=week2_trend.index, y=\"Discovery\", ax=ax1 )\n",
    "sns.barplot(data=week2_trend, x=week2_trend.index, y='Fingerprint', ax=ax2)\n",
    "sns.barplot(data=week2_trend, x=week2_trend.index, y='Bullseye', ax=ax3)\n",
    "sns.barplot(data=week2_trend, x=week2_trend.index, y= 'Product', ax=ax4)\n",
    "sns.barplot(data=week2_trend, x=week2_trend.index, y='Mashboard', ax=ax5)\n",
    "# discovery going down , Finger going up.\n",
    "# product going down\n"
   ]
  },
  {
   "cell_type": "markdown",
   "metadata": {},
   "source": [
    "### Starting at Week 3"
   ]
  },
  {
   "cell_type": "code",
   "execution_count": 67,
   "metadata": {},
   "outputs": [
    {
     "data": {
      "text/html": [
       "<div>\n",
       "<style scoped>\n",
       "    .dataframe tbody tr th:only-of-type {\n",
       "        vertical-align: middle;\n",
       "    }\n",
       "\n",
       "    .dataframe tbody tr th {\n",
       "        vertical-align: top;\n",
       "    }\n",
       "\n",
       "    .dataframe thead th {\n",
       "        text-align: right;\n",
       "    }\n",
       "</style>\n",
       "<table border=\"1\" class=\"dataframe\">\n",
       "  <thead>\n",
       "    <tr style=\"text-align: right;\">\n",
       "      <th>Genre</th>\n",
       "      <th>n_user_id</th>\n",
       "      <th>play_week_n</th>\n",
       "      <th>Discovery</th>\n",
       "      <th>Fingerprint</th>\n",
       "      <th>Bullseye</th>\n",
       "      <th>Mashboard</th>\n",
       "      <th>Product</th>\n",
       "      <th>Spider</th>\n",
       "    </tr>\n",
       "  </thead>\n",
       "  <tbody>\n",
       "    <tr>\n",
       "      <th>0</th>\n",
       "      <td>4</td>\n",
       "      <td>3</td>\n",
       "      <td>46.0</td>\n",
       "      <td>9.0</td>\n",
       "      <td>1.0</td>\n",
       "      <td>NaN</td>\n",
       "      <td>NaN</td>\n",
       "      <td>NaN</td>\n",
       "    </tr>\n",
       "    <tr>\n",
       "      <th>1</th>\n",
       "      <td>4</td>\n",
       "      <td>4</td>\n",
       "      <td>16.0</td>\n",
       "      <td>2.0</td>\n",
       "      <td>NaN</td>\n",
       "      <td>NaN</td>\n",
       "      <td>NaN</td>\n",
       "      <td>NaN</td>\n",
       "    </tr>\n",
       "    <tr>\n",
       "      <th>2</th>\n",
       "      <td>4</td>\n",
       "      <td>5</td>\n",
       "      <td>75.0</td>\n",
       "      <td>2.0</td>\n",
       "      <td>NaN</td>\n",
       "      <td>1.0</td>\n",
       "      <td>NaN</td>\n",
       "      <td>NaN</td>\n",
       "    </tr>\n",
       "    <tr>\n",
       "      <th>3</th>\n",
       "      <td>4</td>\n",
       "      <td>6</td>\n",
       "      <td>61.0</td>\n",
       "      <td>NaN</td>\n",
       "      <td>1.0</td>\n",
       "      <td>NaN</td>\n",
       "      <td>NaN</td>\n",
       "      <td>NaN</td>\n",
       "    </tr>\n",
       "    <tr>\n",
       "      <th>4</th>\n",
       "      <td>4</td>\n",
       "      <td>7</td>\n",
       "      <td>15.0</td>\n",
       "      <td>NaN</td>\n",
       "      <td>NaN</td>\n",
       "      <td>NaN</td>\n",
       "      <td>NaN</td>\n",
       "      <td>NaN</td>\n",
       "    </tr>\n",
       "  </tbody>\n",
       "</table>\n",
       "</div>"
      ],
      "text/plain": [
       "Genre  n_user_id  play_week_n  Discovery  Fingerprint  Bullseye  Mashboard  \\\n",
       "0              4            3       46.0          9.0       1.0        NaN   \n",
       "1              4            4       16.0          2.0       NaN        NaN   \n",
       "2              4            5       75.0          2.0       NaN        1.0   \n",
       "3              4            6       61.0          NaN       1.0        NaN   \n",
       "4              4            7       15.0          NaN       NaN        NaN   \n",
       "\n",
       "Genre  Product  Spider  \n",
       "0          NaN     NaN  \n",
       "1          NaN     NaN  \n",
       "2          NaN     NaN  \n",
       "3          NaN     NaN  \n",
       "4          NaN     NaN  "
      ]
     },
     "execution_count": 67,
     "metadata": {},
     "output_type": "execute_result"
    }
   ],
   "source": [
    "user_week3 = pd.pivot_table(data=week_three ,index=['n_user_id', 'play_week_n'], columns='Genre',values='count', aggfunc= 'sum').reset_index()\n",
    "user_week3=user_week3[['n_user_id', 'play_week_n', 'Discovery', 'Fingerprint','Bullseye','Mashboard', 'Product', 'Spider']]\n",
    "user_week3.head()"
   ]
  },
  {
   "cell_type": "code",
   "execution_count": 68,
   "metadata": {},
   "outputs": [
    {
     "data": {
      "text/html": [
       "<div>\n",
       "<style scoped>\n",
       "    .dataframe tbody tr th:only-of-type {\n",
       "        vertical-align: middle;\n",
       "    }\n",
       "\n",
       "    .dataframe tbody tr th {\n",
       "        vertical-align: top;\n",
       "    }\n",
       "\n",
       "    .dataframe thead th {\n",
       "        text-align: right;\n",
       "    }\n",
       "</style>\n",
       "<table border=\"1\" class=\"dataframe\">\n",
       "  <thead>\n",
       "    <tr style=\"text-align: right;\">\n",
       "      <th>Genre</th>\n",
       "      <th>n_user_id</th>\n",
       "      <th>play_week_n</th>\n",
       "      <th>Discovery</th>\n",
       "      <th>Fingerprint</th>\n",
       "      <th>Bullseye</th>\n",
       "      <th>Mashboard</th>\n",
       "      <th>Product</th>\n",
       "      <th>Spider</th>\n",
       "    </tr>\n",
       "  </thead>\n",
       "  <tbody>\n",
       "    <tr>\n",
       "      <th>0</th>\n",
       "      <td>4</td>\n",
       "      <td>3</td>\n",
       "      <td>46.0</td>\n",
       "      <td>9.0</td>\n",
       "      <td>1.0</td>\n",
       "      <td>0.0</td>\n",
       "      <td>0.0</td>\n",
       "      <td>0.0</td>\n",
       "    </tr>\n",
       "    <tr>\n",
       "      <th>1</th>\n",
       "      <td>4</td>\n",
       "      <td>4</td>\n",
       "      <td>16.0</td>\n",
       "      <td>2.0</td>\n",
       "      <td>0.0</td>\n",
       "      <td>0.0</td>\n",
       "      <td>0.0</td>\n",
       "      <td>0.0</td>\n",
       "    </tr>\n",
       "    <tr>\n",
       "      <th>2</th>\n",
       "      <td>4</td>\n",
       "      <td>5</td>\n",
       "      <td>75.0</td>\n",
       "      <td>2.0</td>\n",
       "      <td>0.0</td>\n",
       "      <td>1.0</td>\n",
       "      <td>0.0</td>\n",
       "      <td>0.0</td>\n",
       "    </tr>\n",
       "    <tr>\n",
       "      <th>3</th>\n",
       "      <td>4</td>\n",
       "      <td>6</td>\n",
       "      <td>61.0</td>\n",
       "      <td>0.0</td>\n",
       "      <td>1.0</td>\n",
       "      <td>0.0</td>\n",
       "      <td>0.0</td>\n",
       "      <td>0.0</td>\n",
       "    </tr>\n",
       "    <tr>\n",
       "      <th>4</th>\n",
       "      <td>4</td>\n",
       "      <td>7</td>\n",
       "      <td>15.0</td>\n",
       "      <td>0.0</td>\n",
       "      <td>0.0</td>\n",
       "      <td>0.0</td>\n",
       "      <td>0.0</td>\n",
       "      <td>0.0</td>\n",
       "    </tr>\n",
       "  </tbody>\n",
       "</table>\n",
       "</div>"
      ],
      "text/plain": [
       "Genre  n_user_id  play_week_n  Discovery  Fingerprint  Bullseye  Mashboard  \\\n",
       "0              4            3       46.0          9.0       1.0        0.0   \n",
       "1              4            4       16.0          2.0       0.0        0.0   \n",
       "2              4            5       75.0          2.0       0.0        1.0   \n",
       "3              4            6       61.0          0.0       1.0        0.0   \n",
       "4              4            7       15.0          0.0       0.0        0.0   \n",
       "\n",
       "Genre  Product  Spider  \n",
       "0          0.0     0.0  \n",
       "1          0.0     0.0  \n",
       "2          0.0     0.0  \n",
       "3          0.0     0.0  \n",
       "4          0.0     0.0  "
      ]
     },
     "execution_count": 68,
     "metadata": {},
     "output_type": "execute_result"
    }
   ],
   "source": [
    "# null to 0 \n",
    "for genre in genre_index:\n",
    "    user_week3.loc[user_week3[f'{genre}'].isnull(), f\"{genre}\"] = 0.0\n",
    "user_week3.head()"
   ]
  },
  {
   "cell_type": "code",
   "execution_count": 69,
   "metadata": {},
   "outputs": [
    {
     "name": "stderr",
     "output_type": "stream",
     "text": [
      "100%|██████████| 2733/2733 [00:08<00:00, 314.93it/s]\n"
     ]
    },
    {
     "data": {
      "text/html": [
       "<div>\n",
       "<style scoped>\n",
       "    .dataframe tbody tr th:only-of-type {\n",
       "        vertical-align: middle;\n",
       "    }\n",
       "\n",
       "    .dataframe tbody tr th {\n",
       "        vertical-align: top;\n",
       "    }\n",
       "\n",
       "    .dataframe thead th {\n",
       "        text-align: right;\n",
       "    }\n",
       "</style>\n",
       "<table border=\"1\" class=\"dataframe\">\n",
       "  <thead>\n",
       "    <tr style=\"text-align: right;\">\n",
       "      <th>Genre</th>\n",
       "      <th>n_user_id</th>\n",
       "      <th>play_week_n</th>\n",
       "      <th>Discovery</th>\n",
       "      <th>Fingerprint</th>\n",
       "      <th>Bullseye</th>\n",
       "      <th>Mashboard</th>\n",
       "      <th>Product</th>\n",
       "      <th>Spider</th>\n",
       "      <th>total_n</th>\n",
       "    </tr>\n",
       "  </thead>\n",
       "  <tbody>\n",
       "    <tr>\n",
       "      <th>0</th>\n",
       "      <td>4</td>\n",
       "      <td>3</td>\n",
       "      <td>0.821</td>\n",
       "      <td>0.161</td>\n",
       "      <td>0.018</td>\n",
       "      <td>0.000</td>\n",
       "      <td>0.0</td>\n",
       "      <td>0.0</td>\n",
       "      <td>56.0</td>\n",
       "    </tr>\n",
       "    <tr>\n",
       "      <th>1</th>\n",
       "      <td>4</td>\n",
       "      <td>4</td>\n",
       "      <td>0.889</td>\n",
       "      <td>0.111</td>\n",
       "      <td>0.000</td>\n",
       "      <td>0.000</td>\n",
       "      <td>0.0</td>\n",
       "      <td>0.0</td>\n",
       "      <td>18.0</td>\n",
       "    </tr>\n",
       "    <tr>\n",
       "      <th>2</th>\n",
       "      <td>4</td>\n",
       "      <td>5</td>\n",
       "      <td>0.962</td>\n",
       "      <td>0.026</td>\n",
       "      <td>0.000</td>\n",
       "      <td>0.013</td>\n",
       "      <td>0.0</td>\n",
       "      <td>0.0</td>\n",
       "      <td>78.0</td>\n",
       "    </tr>\n",
       "    <tr>\n",
       "      <th>3</th>\n",
       "      <td>4</td>\n",
       "      <td>6</td>\n",
       "      <td>0.984</td>\n",
       "      <td>0.000</td>\n",
       "      <td>0.016</td>\n",
       "      <td>0.000</td>\n",
       "      <td>0.0</td>\n",
       "      <td>0.0</td>\n",
       "      <td>62.0</td>\n",
       "    </tr>\n",
       "    <tr>\n",
       "      <th>4</th>\n",
       "      <td>4</td>\n",
       "      <td>7</td>\n",
       "      <td>1.000</td>\n",
       "      <td>0.000</td>\n",
       "      <td>0.000</td>\n",
       "      <td>0.000</td>\n",
       "      <td>0.0</td>\n",
       "      <td>0.0</td>\n",
       "      <td>15.0</td>\n",
       "    </tr>\n",
       "  </tbody>\n",
       "</table>\n",
       "</div>"
      ],
      "text/plain": [
       "Genre  n_user_id  play_week_n  Discovery  Fingerprint  Bullseye  Mashboard  \\\n",
       "0              4            3      0.821        0.161     0.018      0.000   \n",
       "1              4            4      0.889        0.111     0.000      0.000   \n",
       "2              4            5      0.962        0.026     0.000      0.013   \n",
       "3              4            6      0.984        0.000     0.016      0.000   \n",
       "4              4            7      1.000        0.000     0.000      0.000   \n",
       "\n",
       "Genre  Product  Spider  total_n  \n",
       "0          0.0     0.0     56.0  \n",
       "1          0.0     0.0     18.0  \n",
       "2          0.0     0.0     78.0  \n",
       "3          0.0     0.0     62.0  \n",
       "4          0.0     0.0     15.0  "
      ]
     },
     "execution_count": 69,
     "metadata": {},
     "output_type": "execute_result"
    }
   ],
   "source": [
    "\n",
    "# total number -> rate \n",
    "# time check \n",
    "# standardize data set by n_user_id \n",
    "# remove the weight of users\n",
    "from tqdm import tqdm \n",
    "for num in tqdm(range(user_week3.shape[0])):\n",
    "    user_week3.loc[num,'total_n'] = user_week3.iloc[num,2:8].sum()\n",
    "    user_week3.iloc[num,2:8] = (user_week3.iloc[num,2:8]  / user_week3.iloc[num,8]).round(3)\n",
    "user_week3.head()\n"
   ]
  },
  {
   "cell_type": "code",
   "execution_count": 70,
   "metadata": {},
   "outputs": [
    {
     "data": {
      "text/plain": [
       "(2733, 9)"
      ]
     },
     "execution_count": 70,
     "metadata": {},
     "output_type": "execute_result"
    }
   ],
   "source": [
    "user_week3.shape"
   ]
  },
  {
   "cell_type": "code",
   "execution_count": 71,
   "metadata": {},
   "outputs": [
    {
     "name": "stdout",
     "output_type": "stream",
     "text": [
      "Genre        Discovery  Fingerprint  Bullseye  Mashboard   Product    Spider\n",
      "Genre                                                                       \n",
      "Discovery     1.000000    -0.845621 -0.196587  -0.236392 -0.271263 -0.203158\n",
      "Fingerprint  -0.845621     1.000000 -0.016730  -0.057817 -0.031195 -0.051900\n",
      "Bullseye     -0.196587    -0.016730  1.000000  -0.000661 -0.017485 -0.004756\n",
      "Mashboard    -0.236392    -0.057817 -0.000661   1.000000 -0.013053  0.005105\n",
      "Product      -0.271263    -0.031195 -0.017485  -0.013053  1.000000 -0.021183\n",
      "Spider       -0.203158    -0.051900 -0.004756   0.005105 -0.021183  1.000000\n"
     ]
    },
    {
     "data": {
      "text/plain": [
       "<matplotlib.axes._subplots.AxesSubplot at 0x1a1c74fd30>"
      ]
     },
     "execution_count": 71,
     "metadata": {},
     "output_type": "execute_result"
    },
    {
     "data": {
      "image/png": "[encoded data removed]",
      "text/plain": [
       "<Figure size 432x288 with 2 Axes>"
      ]
     },
     "metadata": {
      "image/png": {
       "height": 309,
       "width": 417
      },
      "needs_background": "light"
     },
     "output_type": "display_data"
    }
   ],
   "source": [
    "user_corr = user_week3.iloc[:,2:8].corr()\n",
    "print(user_corr)\n",
    "sns.heatmap(user_corr)\n",
    "# week3 joined users => almost same corr (Discovery & Fingerprint)"
   ]
  },
  {
   "cell_type": "code",
   "execution_count": 72,
   "metadata": {},
   "outputs": [
    {
     "data": {
      "text/html": [
       "<div>\n",
       "<style scoped>\n",
       "    .dataframe tbody tr th:only-of-type {\n",
       "        vertical-align: middle;\n",
       "    }\n",
       "\n",
       "    .dataframe tbody tr th {\n",
       "        vertical-align: top;\n",
       "    }\n",
       "\n",
       "    .dataframe thead th {\n",
       "        text-align: right;\n",
       "    }\n",
       "</style>\n",
       "<table border=\"1\" class=\"dataframe\">\n",
       "  <thead>\n",
       "    <tr style=\"text-align: right;\">\n",
       "      <th>Genre</th>\n",
       "      <th>Discovery</th>\n",
       "      <th>Fingerprint</th>\n",
       "      <th>Bullseye</th>\n",
       "      <th>Mashboard</th>\n",
       "      <th>Product</th>\n",
       "    </tr>\n",
       "    <tr>\n",
       "      <th>play_week_n</th>\n",
       "      <th></th>\n",
       "      <th></th>\n",
       "      <th></th>\n",
       "      <th></th>\n",
       "      <th></th>\n",
       "    </tr>\n",
       "  </thead>\n",
       "  <tbody>\n",
       "    <tr>\n",
       "      <th>3</th>\n",
       "      <td>0.725832</td>\n",
       "      <td>0.199987</td>\n",
       "      <td>0.013454</td>\n",
       "      <td>0.025076</td>\n",
       "      <td>0.028063</td>\n",
       "    </tr>\n",
       "    <tr>\n",
       "      <th>4</th>\n",
       "      <td>0.713599</td>\n",
       "      <td>0.221110</td>\n",
       "      <td>0.011791</td>\n",
       "      <td>0.010820</td>\n",
       "      <td>0.017995</td>\n",
       "    </tr>\n",
       "    <tr>\n",
       "      <th>5</th>\n",
       "      <td>0.664819</td>\n",
       "      <td>0.245632</td>\n",
       "      <td>0.016424</td>\n",
       "      <td>0.020528</td>\n",
       "      <td>0.021278</td>\n",
       "    </tr>\n",
       "    <tr>\n",
       "      <th>6</th>\n",
       "      <td>0.647832</td>\n",
       "      <td>0.255000</td>\n",
       "      <td>0.019011</td>\n",
       "      <td>0.030055</td>\n",
       "      <td>0.029423</td>\n",
       "    </tr>\n",
       "    <tr>\n",
       "      <th>7</th>\n",
       "      <td>0.590685</td>\n",
       "      <td>0.277287</td>\n",
       "      <td>0.013889</td>\n",
       "      <td>0.045889</td>\n",
       "      <td>0.033333</td>\n",
       "    </tr>\n",
       "  </tbody>\n",
       "</table>\n",
       "</div>"
      ],
      "text/plain": [
       "Genre        Discovery  Fingerprint  Bullseye  Mashboard   Product\n",
       "play_week_n                                                       \n",
       "3             0.725832     0.199987  0.013454   0.025076  0.028063\n",
       "4             0.713599     0.221110  0.011791   0.010820  0.017995\n",
       "5             0.664819     0.245632  0.016424   0.020528  0.021278\n",
       "6             0.647832     0.255000  0.019011   0.030055  0.029423\n",
       "7             0.590685     0.277287  0.013889   0.045889  0.033333"
      ]
     },
     "execution_count": 72,
     "metadata": {},
     "output_type": "execute_result"
    }
   ],
   "source": [
    "# data trend by weekly \n",
    "week3_trend = user_week3.groupby([\"play_week_n\"])['Discovery', 'Fingerprint','Bullseye','Mashboard', 'Product'].mean()\n",
    "\n",
    "week3_trend.head()\n",
    "\n",
    "# Discovery about 14% down \n",
    "# Fingerprint about 8%up\n",
    "# Mashbord about 2%up\n",
    "# we guess that user are likly to move into Finger from Disvoer as time goes by."
   ]
  },
  {
   "cell_type": "code",
   "execution_count": 73,
   "metadata": {},
   "outputs": [
    {
     "data": {
      "text/plain": [
       "<matplotlib.axes._subplots.AxesSubplot at 0x1a1d0af978>"
      ]
     },
     "execution_count": 73,
     "metadata": {},
     "output_type": "execute_result"
    },
    {
     "data": {
      "image/png": "[encoded data removed]",
      "text/plain": [
       "<Figure size 1080x360 with 2 Axes>"
      ]
     },
     "metadata": {
      "image/png": {
       "height": 352,
       "width": 889
      },
      "needs_background": "light"
     },
     "output_type": "display_data"
    }
   ],
   "source": [
    "# Trend visualization \n",
    "fig, (ax1, ax2) = plt.subplots(1, 2)\n",
    "fig.suptitle('Genre trend Weekly')\n",
    "\"\"\"ax1.set(ylim=(0, 0.71))\n",
    "ax2.set(ylim=(0, 0.71))\"\"\"\n",
    "fig.set_size_inches(15,5)\n",
    "sns.barplot(data=week3_trend, x=week3_trend.index, y=\"Discovery\", ax=ax1 )\n",
    "sns.barplot(data=week3_trend, x=week3_trend.index, y='Fingerprint', ax=ax2)\n",
    "# discovery going down , Finger going up."
   ]
  },
  {
   "cell_type": "markdown",
   "metadata": {},
   "source": [
    "## 3. How would you improve the service by improving customer engagement?\n",
    "## Suggestions\n",
    "\n",
    "*  VVIP & VIP by First_Play_Week: Customers played for 5 weeks & Customers played in top 10%\n",
    "    - I collected user IDs for VVIP & VIP\n",
    "    - We can advertise this services by VVIP & VIP through email.\n",
    "    - We can give discount or rewar VVIP & VIP separately. \n",
    "\n",
    "*  Day of Week (Advertisement)\n",
    "    - Customers are more likely to play the services on cetrain day of week.\n",
    "    - We can actively advertise this services on that day of week.\n",
    "    \n",
    "* Hourly Data (Advertisement)\n",
    "    - We might collect more datailed data.(ex: Hourly data)\n",
    "    - From analysis of day of week, customers starting at week 3 are mostly like to play the service on weekday\n",
    "    - We can guess that customers would like to play this on working hour.\n",
    "    - My assumption is that the services are highly played because it might be at lunch time.\n",
    "\n",
    "* More features\n",
    "    - Discovery & Fingerprint have negative correlation. The services would have different characters.\n",
    "    - We need to specialize strengths of each services. \n",
    "    - Total number of playes decrease over 6 weeks. It might have some different reasons\n",
    "    - They might get bored or It might have other issues.\n",
    "    - We need to survey why they leave and get them more engaged. \n",
    "* Customers only playing Discovery and Fingerprint\n",
    "    - I collected user IDs only playing Discovery and Fingerprint.\n",
    "    - Cutstomers have tendancy to try other services.\n",
    "    - But few customers only played Discovery and Fingerprint.\n",
    "    - Starting at week 2: only 165 customers only played them.\n",
    "    - Starting at week 3: only 17 customers only played them.\n",
    "    - We can assume that they don't know that there are other services.\n",
    "    - We need to advertise them to try other services.\n",
    "    - It can get more customers engaged since they might like it. "
   ]
  },
  {
   "cell_type": "markdown",
   "metadata": {},
   "source": [
    "### Get user ids for VVIP & VIP starting at week 2"
   ]
  },
  {
   "cell_type": "code",
   "execution_count": 74,
   "metadata": {},
   "outputs": [],
   "source": [
    "# get user id played for 5 weeks \n",
    "stay_5_weeks = week_two.loc[week_two['play_week_n'] > 4, \"n_user_id\"].unique()"
   ]
  },
  {
   "cell_type": "code",
   "execution_count": 75,
   "metadata": {},
   "outputs": [
    {
     "data": {
      "text/plain": [
       "(80816, 8)"
      ]
     },
     "execution_count": 75,
     "metadata": {},
     "output_type": "execute_result"
    }
   ],
   "source": [
    "# filter data by users played for 5 weeks\n",
    "vip = week_two[week_two[\"n_user_id\"].isin(stay_5_weeks)]\n",
    "vip.shape"
   ]
  },
  {
   "cell_type": "code",
   "execution_count": 76,
   "metadata": {},
   "outputs": [
    {
     "data": {
      "text/plain": [
       "(1229, 4)"
      ]
     },
     "execution_count": 76,
     "metadata": {},
     "output_type": "execute_result"
    }
   ],
   "source": [
    "# total 123 users in top 10% by week 2 starting \n",
    "vip=vip.groupby([\"n_user_id\"]).sum().sort_values(by=\"count\", ascending=False).reset_index()\n",
    "vip.shape"
   ]
  },
  {
   "cell_type": "code",
   "execution_count": 77,
   "metadata": {},
   "outputs": [
    {
     "name": "stdout",
     "output_type": "stream",
     "text": [
      "count    1229.000000\n",
      "mean       65.757526\n",
      "std        65.007941\n",
      "min         1.000000\n",
      "25%        25.000000\n",
      "50%        46.000000\n",
      "75%        90.000000\n",
      "max      1096.000000\n",
      "Name: count, dtype: float64\n"
     ]
    },
    {
     "data": {
      "text/plain": [
       "<matplotlib.axes._subplots.AxesSubplot at 0x1a1d5d1208>"
      ]
     },
     "execution_count": 77,
     "metadata": {},
     "output_type": "execute_result"
    },
    {
     "data": {
      "image/png": "[encoded data removed]",
      "text/plain": [
       "<Figure size 432x288 with 1 Axes>"
      ]
     },
     "metadata": {
      "image/png": {
       "height": 263,
       "width": 352
      },
      "needs_background": "light"
     },
     "output_type": "display_data"
    }
   ],
   "source": [
    "# outliers !! can be our vvip\n",
    "print(vip['count'].describe())\n",
    "sns.boxplot(data=vip, x=\"count\")\n",
    "#  outlier ==> VVIP (count > 200) "
   ]
  },
  {
   "cell_type": "code",
   "execution_count": 78,
   "metadata": {},
   "outputs": [
    {
     "data": {
      "text/plain": [
       "(46, 4)"
      ]
     },
     "execution_count": 78,
     "metadata": {},
     "output_type": "execute_result"
    }
   ],
   "source": [
    "# vvip \n",
    "vvip_two = vip[vip[\"count\"] > 200]\n",
    "vvip_two.shape"
   ]
  },
  {
   "cell_type": "code",
   "execution_count": 79,
   "metadata": {},
   "outputs": [
    {
     "name": "stdout",
     "output_type": "stream",
     "text": [
      "(77, 4)\n"
     ]
    }
   ],
   "source": [
    "vip_two = vip.iloc[46:123]\n",
    "print(vip_two.shape)"
   ]
  },
  {
   "cell_type": "code",
   "execution_count": 80,
   "metadata": {},
   "outputs": [
    {
     "name": "stdout",
     "output_type": "stream",
     "text": [
      "Total VVIP:  46\n",
      "Total VIP:  77\n"
     ]
    }
   ],
   "source": [
    "# Get user id for VVIP and VIP at week 2\n",
    "# we can make adds for VVIP and VIP at week 2\n",
    "vip_n_user = vip_two.n_user_id.unique()\n",
    "vip_ID_week_two = week_two.loc[week_two[\"n_user_id\"].isin(vip_n_user),'ID'].unique()\n",
    "vvip_n_user = vvip_two.n_user_id.unique()\n",
    "vvip_ID_week_two = week_two.loc[week_two[\"n_user_id\"].isin(vvip_n_user),'ID'].unique()\n",
    "print(\"Total VVIP: \", len(vvip_ID_week_two))\n",
    "print(\"Total VIP: \", len(vip_ID_week_two))"
   ]
  },
  {
   "cell_type": "markdown",
   "metadata": {},
   "source": [
    "### Get user ids for VVIP & VIP starting at week 3"
   ]
  },
  {
   "cell_type": "code",
   "execution_count": 81,
   "metadata": {},
   "outputs": [
    {
     "data": {
      "text/plain": [
       "(667, 4)"
      ]
     },
     "execution_count": 81,
     "metadata": {},
     "output_type": "execute_result"
    }
   ],
   "source": [
    "#vip_week_three\n",
    "stay_5_weeks = week_three.loc[week_three['play_week_n'] > 4, \"n_user_id\"].unique()\n",
    "#vip_week_three\n",
    "vip = week_three[week_three[\"n_user_id\"].isin(stay_5_weeks)]\n",
    "\n",
    "vip=vip.groupby([\"n_user_id\"]).sum().sort_values(by=\"count\", ascending=False).reset_index()\n",
    "vip.shape\n",
    "# top 10% 67"
   ]
  },
  {
   "cell_type": "code",
   "execution_count": 82,
   "metadata": {},
   "outputs": [
    {
     "name": "stdout",
     "output_type": "stream",
     "text": [
      "count    667.000000\n",
      "mean      59.184408\n",
      "std       63.731752\n",
      "min        1.000000\n",
      "25%       18.000000\n",
      "50%       37.000000\n",
      "75%       84.500000\n",
      "max      827.000000\n",
      "Name: count, dtype: float64\n"
     ]
    },
    {
     "data": {
      "text/plain": [
       "<matplotlib.axes._subplots.AxesSubplot at 0x1a1da38630>"
      ]
     },
     "execution_count": 82,
     "metadata": {},
     "output_type": "execute_result"
    },
    {
     "data": {
      "image/png": "[encoded data removed]",
      "text/plain": [
       "<Figure size 432x288 with 1 Axes>"
      ]
     },
     "metadata": {
      "image/png": {
       "height": 263,
       "width": 352
      },
      "needs_background": "light"
     },
     "output_type": "display_data"
    }
   ],
   "source": [
    "# outliers can be our vvip\n",
    "print(vip['count'].describe())\n",
    "sns.boxplot(data=vip, x=\"count\")\n",
    "#  outlier ==> VVIP (count > 200) "
   ]
  },
  {
   "cell_type": "code",
   "execution_count": 83,
   "metadata": {},
   "outputs": [
    {
     "name": "stdout",
     "output_type": "stream",
     "text": [
      "(21, 4) (46, 4)\n"
     ]
    }
   ],
   "source": [
    "# vvip \n",
    "vvip_three = vip[vip[\"count\"] > 200]\n",
    "# vip group \n",
    "vip_three = vip.iloc[21:67]\n",
    "print(vvip_three.shape, vip_three.shape)"
   ]
  },
  {
   "cell_type": "code",
   "execution_count": 84,
   "metadata": {},
   "outputs": [
    {
     "name": "stdout",
     "output_type": "stream",
     "text": [
      "Total VVIP:  21\n",
      "Total VIP:  46\n"
     ]
    }
   ],
   "source": [
    "# get user id for vip and vvip\n",
    "\n",
    "vip_n_user = vip_three.n_user_id.unique()\n",
    "vip_ID_week_three = week_three.loc[week_three[\"n_user_id\"].isin(vip_n_user),'ID'].unique()\n",
    "vvip_n_user = vvip_three.n_user_id.unique()\n",
    "vvip_ID_week_three = week_three.loc[week_three[\"n_user_id\"].isin(vvip_n_user),'ID'].unique()\n",
    "print(\"Total VVIP: \", len(vvip_ID_week_three))\n",
    "print(\"Total VIP: \", len(vip_ID_week_three))"
   ]
  },
  {
   "cell_type": "code",
   "execution_count": 85,
   "metadata": {},
   "outputs": [
    {
     "name": "stdout",
     "output_type": "stream",
     "text": [
      "['ASP-122a358d-be37-49bf-98ea-402ccfe33898-26768-6d9d2b9c3e3cdc8e7a57d5f851e7faf44163f8d'\n",
      " 'ASP-122a358d-be37-49bf-98ea-402ccfe33898-27216-b108177bf95df64ba6251d0cfc0ba72c676792a'\n",
      " 'ASP-122a358d-be37-49bf-98ea-402ccfe33898-30574-d3cf10d679f5a18824f4e3d74f9b69b82ab278b'\n",
      " 'ASP-189e47ef-a13b-435b-b636-1e34fae8990f-27854-dc4a938147c3b3bad835360f021f577275a8b0e'\n",
      " 'ASP-2976399b-3a98-4712-bc5d-c0942b7754dc-30434-26a440054f6a202db6a0b7293a8d30c5d7988be']\n",
      "['ASP-1ebfd48c-3e66-4585-859a-c79aee4d3e2d-2565-708d27fb36fd7259b0d6b18a7512142ba325cb1'\n",
      " 'ASP-2e8f9011-6998-42c7-a656-76c80e784dcb-2183-fe88dfcf991e535261290fba42da2188b20dafe'\n",
      " 'ASP-2e8f9011-6998-42c7-a656-76c80e784dcb-811-98fdcce57e6ae16a771f8382f0c95df53e5a2a5'\n",
      " 'ASP-3074278c-daa2-4840-b165-337765c4a2b8-1084-7c996e8016a75d09192d0ae816f341b01077133'\n",
      " 'ASP-3074278c-daa2-4840-b165-337765c4a2b8-1232-a172a494db7504bde68ed1f798f9447ebf7e2e5']\n"
     ]
    }
   ],
   "source": [
    "# VVIP & VIP Users by week 2 and week3 \n",
    "print(vvip_ID_week_two[:5])\n",
    "print(vvip_ID_week_three[:5])"
   ]
  },
  {
   "cell_type": "code",
   "execution_count": 86,
   "metadata": {},
   "outputs": [
    {
     "name": "stdout",
     "output_type": "stream",
     "text": [
      "['EZ-122a358d-be37-49bf-98ea-402ccfe33898-29958-4a54a8a0e33cbe2d2999a8a30987fe779d57f06'\n",
      " 'EZ-122a358d-be37-49bf-98ea-402ccfe33898-30039-4efe7db581ca44721059cffa096d75d9866f4d0'\n",
      " 'EZ-37ddc099-6f2e-4988-94e1-c12886a1200a-27109-70e7fb94cb97a6654eaa5d4797f115a0ea03d48'\n",
      " 'EZ-3fb665b8-fb6c-499d-8c1a-1676f25996fe-29999-2a9a3cfe86572a187d2c1f842e80481916eebab'\n",
      " 'EZ-47ee5eef-b687-4707-bf58-2c7bc094041f-25054-27f5a9264d590237fbfdad05399baf1ae435f05']\n",
      "['EZ-1ebfd48c-3e66-4585-859a-c79aee4d3e2d-2818-4984f5e97368cc7a8a0456a6ef9c67ee91dea35'\n",
      " 'EZ-2719bdf0-17fb-4788-94ba-90918e98500b-1723-45361f93f9f74175fc82ba0cde48658839034e9'\n",
      " 'EZ-2e8f9011-6998-42c7-a656-76c80e784dcb-2057-033bcf75e9593ecf95ebc4aa0a76354916e7c3c'\n",
      " 'EZ-3074278c-daa2-4840-b165-337765c4a2b8-1018-8e0b75bfd2ac44ad803bc4024e5a701a2b5ee7d'\n",
      " 'EZ-3074278c-daa2-4840-b165-337765c4a2b8-2886-d37e2dbe750c4b9b985e643b2398109c834f80a']\n"
     ]
    }
   ],
   "source": [
    "print(vip_ID_week_two[:5])\n",
    "print(vip_ID_week_three[:5])"
   ]
  },
  {
   "cell_type": "markdown",
   "metadata": {},
   "source": [
    "### See the pattern by day of starting at week at week 2"
   ]
  },
  {
   "cell_type": "code",
   "execution_count": 87,
   "metadata": {},
   "outputs": [
    {
     "name": "stderr",
     "output_type": "stream",
     "text": [
      "/anaconda3/lib/python3.7/site-packages/ipykernel_launcher.py:2: SettingWithCopyWarning: \n",
      "A value is trying to be set on a copy of a slice from a DataFrame.\n",
      "Try using .loc[row_indexer,col_indexer] = value instead\n",
      "\n",
      "See the caveats in the documentation: http://pandas.pydata.org/pandas-docs/stable/indexing.html#indexing-view-versus-copy\n",
      "  \n"
     ]
    },
    {
     "data": {
      "text/html": [
       "<div>\n",
       "<style scoped>\n",
       "    .dataframe tbody tr th:only-of-type {\n",
       "        vertical-align: middle;\n",
       "    }\n",
       "\n",
       "    .dataframe tbody tr th {\n",
       "        vertical-align: top;\n",
       "    }\n",
       "\n",
       "    .dataframe thead th {\n",
       "        text-align: right;\n",
       "    }\n",
       "</style>\n",
       "<table border=\"1\" class=\"dataframe\">\n",
       "  <thead>\n",
       "    <tr style=\"text-align: right;\">\n",
       "      <th></th>\n",
       "      <th>ID</th>\n",
       "      <th>First_Play_Date</th>\n",
       "      <th>Play_Date</th>\n",
       "      <th>Genre</th>\n",
       "      <th>count</th>\n",
       "      <th>n_user_id</th>\n",
       "      <th>first_week_n</th>\n",
       "      <th>play_week_n</th>\n",
       "      <th>play_dayOfweek</th>\n",
       "    </tr>\n",
       "  </thead>\n",
       "  <tbody>\n",
       "    <tr>\n",
       "      <th>0</th>\n",
       "      <td>ASP-122a358d-be37-49bf-98ea-402ccfe33898-26768...</td>\n",
       "      <td>2015-01-08</td>\n",
       "      <td>2015-01-08</td>\n",
       "      <td>Discovery</td>\n",
       "      <td>1</td>\n",
       "      <td>0</td>\n",
       "      <td>2</td>\n",
       "      <td>2</td>\n",
       "      <td>Thursday</td>\n",
       "    </tr>\n",
       "    <tr>\n",
       "      <th>1</th>\n",
       "      <td>ASP-122a358d-be37-49bf-98ea-402ccfe33898-26768...</td>\n",
       "      <td>2015-01-08</td>\n",
       "      <td>2015-01-08</td>\n",
       "      <td>Discovery</td>\n",
       "      <td>1</td>\n",
       "      <td>0</td>\n",
       "      <td>2</td>\n",
       "      <td>2</td>\n",
       "      <td>Thursday</td>\n",
       "    </tr>\n",
       "    <tr>\n",
       "      <th>2</th>\n",
       "      <td>ASP-122a358d-be37-49bf-98ea-402ccfe33898-26768...</td>\n",
       "      <td>2015-01-08</td>\n",
       "      <td>2015-01-08</td>\n",
       "      <td>Discovery</td>\n",
       "      <td>1</td>\n",
       "      <td>0</td>\n",
       "      <td>2</td>\n",
       "      <td>2</td>\n",
       "      <td>Thursday</td>\n",
       "    </tr>\n",
       "    <tr>\n",
       "      <th>3</th>\n",
       "      <td>ASP-122a358d-be37-49bf-98ea-402ccfe33898-26768...</td>\n",
       "      <td>2015-01-08</td>\n",
       "      <td>2015-01-08</td>\n",
       "      <td>Discovery</td>\n",
       "      <td>1</td>\n",
       "      <td>0</td>\n",
       "      <td>2</td>\n",
       "      <td>2</td>\n",
       "      <td>Thursday</td>\n",
       "    </tr>\n",
       "    <tr>\n",
       "      <th>4</th>\n",
       "      <td>ASP-122a358d-be37-49bf-98ea-402ccfe33898-26768...</td>\n",
       "      <td>2015-01-08</td>\n",
       "      <td>2015-01-08</td>\n",
       "      <td>Discovery</td>\n",
       "      <td>1</td>\n",
       "      <td>0</td>\n",
       "      <td>2</td>\n",
       "      <td>2</td>\n",
       "      <td>Thursday</td>\n",
       "    </tr>\n",
       "  </tbody>\n",
       "</table>\n",
       "</div>"
      ],
      "text/plain": [
       "                                                  ID First_Play_Date  \\\n",
       "0  ASP-122a358d-be37-49bf-98ea-402ccfe33898-26768...      2015-01-08   \n",
       "1  ASP-122a358d-be37-49bf-98ea-402ccfe33898-26768...      2015-01-08   \n",
       "2  ASP-122a358d-be37-49bf-98ea-402ccfe33898-26768...      2015-01-08   \n",
       "3  ASP-122a358d-be37-49bf-98ea-402ccfe33898-26768...      2015-01-08   \n",
       "4  ASP-122a358d-be37-49bf-98ea-402ccfe33898-26768...      2015-01-08   \n",
       "\n",
       "   Play_Date      Genre  count  n_user_id  first_week_n  play_week_n  \\\n",
       "0 2015-01-08  Discovery      1          0             2            2   \n",
       "1 2015-01-08  Discovery      1          0             2            2   \n",
       "2 2015-01-08  Discovery      1          0             2            2   \n",
       "3 2015-01-08  Discovery      1          0             2            2   \n",
       "4 2015-01-08  Discovery      1          0             2            2   \n",
       "\n",
       "  play_dayOfweek  \n",
       "0       Thursday  \n",
       "1       Thursday  \n",
       "2       Thursday  \n",
       "3       Thursday  \n",
       "4       Thursday  "
      ]
     },
     "execution_count": 87,
     "metadata": {},
     "output_type": "execute_result"
    }
   ],
   "source": [
    "# day of week\n",
    "week_two['play_dayOfweek'] = week_two['Play_Date'].dt.day_name()\n",
    "week_two.head()"
   ]
  },
  {
   "cell_type": "code",
   "execution_count": 88,
   "metadata": {},
   "outputs": [
    {
     "name": "stderr",
     "output_type": "stream",
     "text": [
      "/anaconda3/lib/python3.7/site-packages/pandas/core/indexing.py:362: SettingWithCopyWarning: \n",
      "A value is trying to be set on a copy of a slice from a DataFrame.\n",
      "Try using .loc[row_indexer,col_indexer] = value instead\n",
      "\n",
      "See the caveats in the documentation: http://pandas.pydata.org/pandas-docs/stable/indexing.html#indexing-view-versus-copy\n",
      "  self.obj[key] = _infer_fill_value(value)\n",
      "/anaconda3/lib/python3.7/site-packages/pandas/core/indexing.py:543: SettingWithCopyWarning: \n",
      "A value is trying to be set on a copy of a slice from a DataFrame.\n",
      "Try using .loc[row_indexer,col_indexer] = value instead\n",
      "\n",
      "See the caveats in the documentation: http://pandas.pydata.org/pandas-docs/stable/indexing.html#indexing-view-versus-copy\n",
      "  self.obj[item] = s\n"
     ]
    },
    {
     "data": {
      "text/html": [
       "<div>\n",
       "<style scoped>\n",
       "    .dataframe tbody tr th:only-of-type {\n",
       "        vertical-align: middle;\n",
       "    }\n",
       "\n",
       "    .dataframe tbody tr th {\n",
       "        vertical-align: top;\n",
       "    }\n",
       "\n",
       "    .dataframe thead th {\n",
       "        text-align: right;\n",
       "    }\n",
       "</style>\n",
       "<table border=\"1\" class=\"dataframe\">\n",
       "  <thead>\n",
       "    <tr style=\"text-align: right;\">\n",
       "      <th></th>\n",
       "      <th>ID</th>\n",
       "      <th>First_Play_Date</th>\n",
       "      <th>Play_Date</th>\n",
       "      <th>Genre</th>\n",
       "      <th>count</th>\n",
       "      <th>n_user_id</th>\n",
       "      <th>first_week_n</th>\n",
       "      <th>play_week_n</th>\n",
       "      <th>play_dayOfweek</th>\n",
       "      <th>is_it_weekend</th>\n",
       "    </tr>\n",
       "  </thead>\n",
       "  <tbody>\n",
       "    <tr>\n",
       "      <th>0</th>\n",
       "      <td>ASP-122a358d-be37-49bf-98ea-402ccfe33898-26768...</td>\n",
       "      <td>2015-01-08</td>\n",
       "      <td>2015-01-08</td>\n",
       "      <td>Discovery</td>\n",
       "      <td>1</td>\n",
       "      <td>0</td>\n",
       "      <td>2</td>\n",
       "      <td>2</td>\n",
       "      <td>Thursday</td>\n",
       "      <td>False</td>\n",
       "    </tr>\n",
       "    <tr>\n",
       "      <th>1</th>\n",
       "      <td>ASP-122a358d-be37-49bf-98ea-402ccfe33898-26768...</td>\n",
       "      <td>2015-01-08</td>\n",
       "      <td>2015-01-08</td>\n",
       "      <td>Discovery</td>\n",
       "      <td>1</td>\n",
       "      <td>0</td>\n",
       "      <td>2</td>\n",
       "      <td>2</td>\n",
       "      <td>Thursday</td>\n",
       "      <td>False</td>\n",
       "    </tr>\n",
       "    <tr>\n",
       "      <th>2</th>\n",
       "      <td>ASP-122a358d-be37-49bf-98ea-402ccfe33898-26768...</td>\n",
       "      <td>2015-01-08</td>\n",
       "      <td>2015-01-08</td>\n",
       "      <td>Discovery</td>\n",
       "      <td>1</td>\n",
       "      <td>0</td>\n",
       "      <td>2</td>\n",
       "      <td>2</td>\n",
       "      <td>Thursday</td>\n",
       "      <td>False</td>\n",
       "    </tr>\n",
       "    <tr>\n",
       "      <th>3</th>\n",
       "      <td>ASP-122a358d-be37-49bf-98ea-402ccfe33898-26768...</td>\n",
       "      <td>2015-01-08</td>\n",
       "      <td>2015-01-08</td>\n",
       "      <td>Discovery</td>\n",
       "      <td>1</td>\n",
       "      <td>0</td>\n",
       "      <td>2</td>\n",
       "      <td>2</td>\n",
       "      <td>Thursday</td>\n",
       "      <td>False</td>\n",
       "    </tr>\n",
       "    <tr>\n",
       "      <th>4</th>\n",
       "      <td>ASP-122a358d-be37-49bf-98ea-402ccfe33898-26768...</td>\n",
       "      <td>2015-01-08</td>\n",
       "      <td>2015-01-08</td>\n",
       "      <td>Discovery</td>\n",
       "      <td>1</td>\n",
       "      <td>0</td>\n",
       "      <td>2</td>\n",
       "      <td>2</td>\n",
       "      <td>Thursday</td>\n",
       "      <td>False</td>\n",
       "    </tr>\n",
       "  </tbody>\n",
       "</table>\n",
       "</div>"
      ],
      "text/plain": [
       "                                                  ID First_Play_Date  \\\n",
       "0  ASP-122a358d-be37-49bf-98ea-402ccfe33898-26768...      2015-01-08   \n",
       "1  ASP-122a358d-be37-49bf-98ea-402ccfe33898-26768...      2015-01-08   \n",
       "2  ASP-122a358d-be37-49bf-98ea-402ccfe33898-26768...      2015-01-08   \n",
       "3  ASP-122a358d-be37-49bf-98ea-402ccfe33898-26768...      2015-01-08   \n",
       "4  ASP-122a358d-be37-49bf-98ea-402ccfe33898-26768...      2015-01-08   \n",
       "\n",
       "   Play_Date      Genre  count  n_user_id  first_week_n  play_week_n  \\\n",
       "0 2015-01-08  Discovery      1          0             2            2   \n",
       "1 2015-01-08  Discovery      1          0             2            2   \n",
       "2 2015-01-08  Discovery      1          0             2            2   \n",
       "3 2015-01-08  Discovery      1          0             2            2   \n",
       "4 2015-01-08  Discovery      1          0             2            2   \n",
       "\n",
       "  play_dayOfweek  is_it_weekend  \n",
       "0       Thursday          False  \n",
       "1       Thursday          False  \n",
       "2       Thursday          False  \n",
       "3       Thursday          False  \n",
       "4       Thursday          False  "
      ]
     },
     "execution_count": 88,
     "metadata": {},
     "output_type": "execute_result"
    }
   ],
   "source": [
    "# weekend day added / would like to check by weekend or not.\n",
    "week_two.loc[week_two[\"play_dayOfweek\"].str.contains('Sunday|Saturday'), \"is_it_weekend\"] = True\n",
    "week_two.loc[~(week_two[\"play_dayOfweek\"].str.contains('Sunday|Saturday')), \"is_it_weekend\"] = False\n",
    "week_two.loc[week_two['Play_Date'] == \"2015-01-19\", \"is_it_weekend\" ] = True  # Martin Luter day \n",
    "week_two.head()"
   ]
  },
  {
   "cell_type": "code",
   "execution_count": 89,
   "metadata": {},
   "outputs": [
    {
     "name": "stdout",
     "output_type": "stream",
     "text": [
      "                count      rate\n",
      "play_dayOfweek                 \n",
      "Monday          12529  0.135959\n",
      "Tuesday         12099  0.131293\n",
      "Wednesday       13529  0.146810\n",
      "Thursday        14040  0.152355\n",
      "Friday          13300  0.144325\n",
      "Saturday        13787  0.149610\n",
      "Sunday          12869  0.139648\n",
      "Avg:  0.14285714285714285\n"
     ]
    },
    {
     "data": {
      "image/png": "[encoded data removed]",
      "text/plain": [
       "<Figure size 1296x216 with 1 Axes>"
      ]
     },
     "metadata": {
      "image/png": {
       "height": 209,
       "width": 1069
      },
      "needs_background": "light"
     },
     "output_type": "display_data"
    }
   ],
   "source": [
    "# day of week graph\n",
    "day_of_week_two=week_two.pivot_table(values='count', index='play_dayOfweek', aggfunc='count')\n",
    "dayname = [\"Monday\", \"Tuesday\", \"Wednesday\", \"Thursday\", \"Friday\", \"Saturday\", \"Sunday\"]\n",
    "day_of_week_two=day_of_week_two.loc[dayname]\n",
    "day_of_week_two['rate'] = day_of_week_two['count'] / day_of_week_two['count'].sum()\n",
    "plt.figure(figsize=(18,3))\n",
    "sns.pointplot(data=day_of_week_two, x=day_of_week_two.index, y=\"rate\" )\n",
    "print(day_of_week_two)\n",
    "print(\"Avg: \", day_of_week_two['rate'].mean())"
   ]
  },
  {
   "cell_type": "markdown",
   "metadata": {},
   "source": [
    "### See the pattern by day of week at week 3"
   ]
  },
  {
   "cell_type": "code",
   "execution_count": 90,
   "metadata": {},
   "outputs": [
    {
     "name": "stderr",
     "output_type": "stream",
     "text": [
      "/anaconda3/lib/python3.7/site-packages/ipykernel_launcher.py:2: SettingWithCopyWarning: \n",
      "A value is trying to be set on a copy of a slice from a DataFrame.\n",
      "Try using .loc[row_indexer,col_indexer] = value instead\n",
      "\n",
      "See the caveats in the documentation: http://pandas.pydata.org/pandas-docs/stable/indexing.html#indexing-view-versus-copy\n",
      "  \n"
     ]
    },
    {
     "data": {
      "text/html": [
       "<div>\n",
       "<style scoped>\n",
       "    .dataframe tbody tr th:only-of-type {\n",
       "        vertical-align: middle;\n",
       "    }\n",
       "\n",
       "    .dataframe tbody tr th {\n",
       "        vertical-align: top;\n",
       "    }\n",
       "\n",
       "    .dataframe thead th {\n",
       "        text-align: right;\n",
       "    }\n",
       "</style>\n",
       "<table border=\"1\" class=\"dataframe\">\n",
       "  <thead>\n",
       "    <tr style=\"text-align: right;\">\n",
       "      <th></th>\n",
       "      <th>ID</th>\n",
       "      <th>First_Play_Date</th>\n",
       "      <th>Play_Date</th>\n",
       "      <th>Genre</th>\n",
       "      <th>count</th>\n",
       "      <th>n_user_id</th>\n",
       "      <th>first_week_n</th>\n",
       "      <th>play_week_n</th>\n",
       "      <th>play_dayOfweek</th>\n",
       "    </tr>\n",
       "  </thead>\n",
       "  <tbody>\n",
       "    <tr>\n",
       "      <th>897</th>\n",
       "      <td>ASP-1ebfd48c-3e66-4585-859a-c79aee4d3e2d-2565-...</td>\n",
       "      <td>2015-01-13</td>\n",
       "      <td>2015-01-13</td>\n",
       "      <td>Discovery</td>\n",
       "      <td>1</td>\n",
       "      <td>4</td>\n",
       "      <td>3</td>\n",
       "      <td>3</td>\n",
       "      <td>Tuesday</td>\n",
       "    </tr>\n",
       "    <tr>\n",
       "      <th>898</th>\n",
       "      <td>ASP-1ebfd48c-3e66-4585-859a-c79aee4d3e2d-2565-...</td>\n",
       "      <td>2015-01-13</td>\n",
       "      <td>2015-01-13</td>\n",
       "      <td>Fingerprint</td>\n",
       "      <td>1</td>\n",
       "      <td>4</td>\n",
       "      <td>3</td>\n",
       "      <td>3</td>\n",
       "      <td>Tuesday</td>\n",
       "    </tr>\n",
       "    <tr>\n",
       "      <th>899</th>\n",
       "      <td>ASP-1ebfd48c-3e66-4585-859a-c79aee4d3e2d-2565-...</td>\n",
       "      <td>2015-01-13</td>\n",
       "      <td>2015-01-13</td>\n",
       "      <td>Discovery</td>\n",
       "      <td>1</td>\n",
       "      <td>4</td>\n",
       "      <td>3</td>\n",
       "      <td>3</td>\n",
       "      <td>Tuesday</td>\n",
       "    </tr>\n",
       "    <tr>\n",
       "      <th>900</th>\n",
       "      <td>ASP-1ebfd48c-3e66-4585-859a-c79aee4d3e2d-2565-...</td>\n",
       "      <td>2015-01-13</td>\n",
       "      <td>2015-01-13</td>\n",
       "      <td>Discovery</td>\n",
       "      <td>1</td>\n",
       "      <td>4</td>\n",
       "      <td>3</td>\n",
       "      <td>3</td>\n",
       "      <td>Tuesday</td>\n",
       "    </tr>\n",
       "    <tr>\n",
       "      <th>901</th>\n",
       "      <td>ASP-1ebfd48c-3e66-4585-859a-c79aee4d3e2d-2565-...</td>\n",
       "      <td>2015-01-13</td>\n",
       "      <td>2015-01-13</td>\n",
       "      <td>Fingerprint</td>\n",
       "      <td>1</td>\n",
       "      <td>4</td>\n",
       "      <td>3</td>\n",
       "      <td>3</td>\n",
       "      <td>Tuesday</td>\n",
       "    </tr>\n",
       "  </tbody>\n",
       "</table>\n",
       "</div>"
      ],
      "text/plain": [
       "                                                    ID First_Play_Date  \\\n",
       "897  ASP-1ebfd48c-3e66-4585-859a-c79aee4d3e2d-2565-...      2015-01-13   \n",
       "898  ASP-1ebfd48c-3e66-4585-859a-c79aee4d3e2d-2565-...      2015-01-13   \n",
       "899  ASP-1ebfd48c-3e66-4585-859a-c79aee4d3e2d-2565-...      2015-01-13   \n",
       "900  ASP-1ebfd48c-3e66-4585-859a-c79aee4d3e2d-2565-...      2015-01-13   \n",
       "901  ASP-1ebfd48c-3e66-4585-859a-c79aee4d3e2d-2565-...      2015-01-13   \n",
       "\n",
       "     Play_Date        Genre  count  n_user_id  first_week_n  play_week_n  \\\n",
       "897 2015-01-13    Discovery      1          4             3            3   \n",
       "898 2015-01-13  Fingerprint      1          4             3            3   \n",
       "899 2015-01-13    Discovery      1          4             3            3   \n",
       "900 2015-01-13    Discovery      1          4             3            3   \n",
       "901 2015-01-13  Fingerprint      1          4             3            3   \n",
       "\n",
       "    play_dayOfweek  \n",
       "897        Tuesday  \n",
       "898        Tuesday  \n",
       "899        Tuesday  \n",
       "900        Tuesday  \n",
       "901        Tuesday  "
      ]
     },
     "execution_count": 90,
     "metadata": {},
     "output_type": "execute_result"
    }
   ],
   "source": [
    "# day of week\n",
    "week_three['play_dayOfweek'] = week_three['Play_Date'].dt.day_name()\n",
    "week_three.head()"
   ]
  },
  {
   "cell_type": "code",
   "execution_count": 91,
   "metadata": {},
   "outputs": [
    {
     "data": {
      "text/html": [
       "<div>\n",
       "<style scoped>\n",
       "    .dataframe tbody tr th:only-of-type {\n",
       "        vertical-align: middle;\n",
       "    }\n",
       "\n",
       "    .dataframe tbody tr th {\n",
       "        vertical-align: top;\n",
       "    }\n",
       "\n",
       "    .dataframe thead th {\n",
       "        text-align: right;\n",
       "    }\n",
       "</style>\n",
       "<table border=\"1\" class=\"dataframe\">\n",
       "  <thead>\n",
       "    <tr style=\"text-align: right;\">\n",
       "      <th></th>\n",
       "      <th>ID</th>\n",
       "      <th>First_Play_Date</th>\n",
       "      <th>Play_Date</th>\n",
       "      <th>Genre</th>\n",
       "      <th>count</th>\n",
       "      <th>n_user_id</th>\n",
       "      <th>first_week_n</th>\n",
       "      <th>play_week_n</th>\n",
       "      <th>play_dayOfweek</th>\n",
       "      <th>is_it_weekend</th>\n",
       "    </tr>\n",
       "  </thead>\n",
       "  <tbody>\n",
       "    <tr>\n",
       "      <th>897</th>\n",
       "      <td>ASP-1ebfd48c-3e66-4585-859a-c79aee4d3e2d-2565-...</td>\n",
       "      <td>2015-01-13</td>\n",
       "      <td>2015-01-13</td>\n",
       "      <td>Discovery</td>\n",
       "      <td>1</td>\n",
       "      <td>4</td>\n",
       "      <td>3</td>\n",
       "      <td>3</td>\n",
       "      <td>Tuesday</td>\n",
       "      <td>False</td>\n",
       "    </tr>\n",
       "    <tr>\n",
       "      <th>898</th>\n",
       "      <td>ASP-1ebfd48c-3e66-4585-859a-c79aee4d3e2d-2565-...</td>\n",
       "      <td>2015-01-13</td>\n",
       "      <td>2015-01-13</td>\n",
       "      <td>Fingerprint</td>\n",
       "      <td>1</td>\n",
       "      <td>4</td>\n",
       "      <td>3</td>\n",
       "      <td>3</td>\n",
       "      <td>Tuesday</td>\n",
       "      <td>False</td>\n",
       "    </tr>\n",
       "    <tr>\n",
       "      <th>899</th>\n",
       "      <td>ASP-1ebfd48c-3e66-4585-859a-c79aee4d3e2d-2565-...</td>\n",
       "      <td>2015-01-13</td>\n",
       "      <td>2015-01-13</td>\n",
       "      <td>Discovery</td>\n",
       "      <td>1</td>\n",
       "      <td>4</td>\n",
       "      <td>3</td>\n",
       "      <td>3</td>\n",
       "      <td>Tuesday</td>\n",
       "      <td>False</td>\n",
       "    </tr>\n",
       "    <tr>\n",
       "      <th>900</th>\n",
       "      <td>ASP-1ebfd48c-3e66-4585-859a-c79aee4d3e2d-2565-...</td>\n",
       "      <td>2015-01-13</td>\n",
       "      <td>2015-01-13</td>\n",
       "      <td>Discovery</td>\n",
       "      <td>1</td>\n",
       "      <td>4</td>\n",
       "      <td>3</td>\n",
       "      <td>3</td>\n",
       "      <td>Tuesday</td>\n",
       "      <td>False</td>\n",
       "    </tr>\n",
       "    <tr>\n",
       "      <th>901</th>\n",
       "      <td>ASP-1ebfd48c-3e66-4585-859a-c79aee4d3e2d-2565-...</td>\n",
       "      <td>2015-01-13</td>\n",
       "      <td>2015-01-13</td>\n",
       "      <td>Fingerprint</td>\n",
       "      <td>1</td>\n",
       "      <td>4</td>\n",
       "      <td>3</td>\n",
       "      <td>3</td>\n",
       "      <td>Tuesday</td>\n",
       "      <td>False</td>\n",
       "    </tr>\n",
       "  </tbody>\n",
       "</table>\n",
       "</div>"
      ],
      "text/plain": [
       "                                                    ID First_Play_Date  \\\n",
       "897  ASP-1ebfd48c-3e66-4585-859a-c79aee4d3e2d-2565-...      2015-01-13   \n",
       "898  ASP-1ebfd48c-3e66-4585-859a-c79aee4d3e2d-2565-...      2015-01-13   \n",
       "899  ASP-1ebfd48c-3e66-4585-859a-c79aee4d3e2d-2565-...      2015-01-13   \n",
       "900  ASP-1ebfd48c-3e66-4585-859a-c79aee4d3e2d-2565-...      2015-01-13   \n",
       "901  ASP-1ebfd48c-3e66-4585-859a-c79aee4d3e2d-2565-...      2015-01-13   \n",
       "\n",
       "     Play_Date        Genre  count  n_user_id  first_week_n  play_week_n  \\\n",
       "897 2015-01-13    Discovery      1          4             3            3   \n",
       "898 2015-01-13  Fingerprint      1          4             3            3   \n",
       "899 2015-01-13    Discovery      1          4             3            3   \n",
       "900 2015-01-13    Discovery      1          4             3            3   \n",
       "901 2015-01-13  Fingerprint      1          4             3            3   \n",
       "\n",
       "    play_dayOfweek  is_it_weekend  \n",
       "897        Tuesday          False  \n",
       "898        Tuesday          False  \n",
       "899        Tuesday          False  \n",
       "900        Tuesday          False  \n",
       "901        Tuesday          False  "
      ]
     },
     "execution_count": 91,
     "metadata": {},
     "output_type": "execute_result"
    }
   ],
   "source": [
    "# weekend day added / would like to check by weekend or not.\n",
    "week_three.loc[week_three[\"play_dayOfweek\"].str.contains('Sunday|Saturday'), \"is_it_weekend\"] = True\n",
    "week_three.loc[~(week_three[\"play_dayOfweek\"].str.contains('Sunday|Saturday')), \"is_it_weekend\"] = False\n",
    "week_three.loc[week_three['Play_Date'] == \"2015-01-19\", \"is_it_weekend\" ] = True  # Martin Luter day \n",
    "week_three.head()"
   ]
  },
  {
   "cell_type": "code",
   "execution_count": 92,
   "metadata": {},
   "outputs": [
    {
     "name": "stdout",
     "output_type": "stream",
     "text": [
      "                count      rate\n",
      "play_dayOfweek                 \n",
      "Monday           5795  0.135407\n",
      "Tuesday          7937  0.185457\n",
      "Wednesday        7892  0.184405\n",
      "Thursday         6162  0.143982\n",
      "Friday           5305  0.123957\n",
      "Saturday         4995  0.116714\n",
      "Sunday           4711  0.110078\n",
      "Avg:  0.14285714285714285\n"
     ]
    },
    {
     "data": {
      "image/png": "[encoded data removed]",
      "text/plain": [
       "<Figure size 1296x216 with 1 Axes>"
      ]
     },
     "metadata": {
      "image/png": {
       "height": 209,
       "width": 1063
      },
      "needs_background": "light"
     },
     "output_type": "display_data"
    }
   ],
   "source": [
    "# day of week graph\n",
    "# Tuesday, Wednesday High !! \n",
    "day_of_week_three=week_three.pivot_table(values='count', index='play_dayOfweek', aggfunc='count')\n",
    "dayname = [\"Monday\", \"Tuesday\", \"Wednesday\", \"Thursday\", \"Friday\", \"Saturday\", \"Sunday\"]\n",
    "day_of_week_three=day_of_week_three.loc[dayname]\n",
    "day_of_week_three['rate'] = day_of_week_three['count'] / day_of_week_three['count'].sum()\n",
    "plt.figure(figsize=(18,3))\n",
    "sns.pointplot(data=day_of_week_three, x=day_of_week_three.index, y=\"rate\" )\n",
    "print(day_of_week_three)\n",
    "print(\"Avg: \", day_of_week_three['rate'].mean())\n",
    "\n"
   ]
  },
  {
   "cell_type": "code",
   "execution_count": 93,
   "metadata": {},
   "outputs": [
    {
     "data": {
      "text/html": [
       "<div>\n",
       "<style scoped>\n",
       "    .dataframe tbody tr th:only-of-type {\n",
       "        vertical-align: middle;\n",
       "    }\n",
       "\n",
       "    .dataframe tbody tr th {\n",
       "        vertical-align: top;\n",
       "    }\n",
       "\n",
       "    .dataframe thead th {\n",
       "        text-align: right;\n",
       "    }\n",
       "</style>\n",
       "<table border=\"1\" class=\"dataframe\">\n",
       "  <thead>\n",
       "    <tr style=\"text-align: right;\">\n",
       "      <th></th>\n",
       "      <th>count</th>\n",
       "    </tr>\n",
       "    <tr>\n",
       "      <th>is_it_weekend</th>\n",
       "      <th></th>\n",
       "    </tr>\n",
       "  </thead>\n",
       "  <tbody>\n",
       "    <tr>\n",
       "      <th>False</th>\n",
       "      <td>31310</td>\n",
       "    </tr>\n",
       "    <tr>\n",
       "      <th>True</th>\n",
       "      <td>11487</td>\n",
       "    </tr>\n",
       "  </tbody>\n",
       "</table>\n",
       "</div>"
      ],
      "text/plain": [
       "               count\n",
       "is_it_weekend       \n",
       "False          31310\n",
       "True           11487"
      ]
     },
     "execution_count": 93,
     "metadata": {},
     "output_type": "execute_result"
    }
   ],
   "source": [
    "# check weekend data\n",
    "weekend_three = week_three.pivot_table(values='count', index='is_it_weekend', aggfunc='count')\n",
    "weekend_three"
   ]
  },
  {
   "cell_type": "markdown",
   "metadata": {},
   "source": [
    "### Find cutomers only playing Discovery and Fingerprint."
   ]
  },
  {
   "cell_type": "markdown",
   "metadata": {},
   "source": [
    "### Starting at week 2"
   ]
  },
  {
   "cell_type": "code",
   "execution_count": 94,
   "metadata": {},
   "outputs": [],
   "source": [
    "# create index that customers only played Discovery and Fingerprint starting at week 2\n",
    "zero_genre =(user_week2[\"Bullseye\"] == 0) & (user_week2[\"Mashboard\"] == 0) & (user_week2[\"Product\"] == 0) & (user_week2[\"Spider\"] == 0) "
   ]
  },
  {
   "cell_type": "code",
   "execution_count": 95,
   "metadata": {},
   "outputs": [],
   "source": [
    "# get usder ids that customers only played Discovery and Fingerprint starting at week 2\n",
    "zero_user = pd.DataFrame(user_week2[zero_genre].groupby(\"n_user_id\")['play_week_n'].sum()).reset_index().sort_values(by=\"play_week_n\", ascending=False)"
   ]
  },
  {
   "cell_type": "code",
   "execution_count": 96,
   "metadata": {},
   "outputs": [],
   "source": [
    "# get user id played for 5 weeks \n",
    "stay_5_weeks = week_two.loc[week_two['play_week_n'] > 4, \"n_user_id\"].unique()"
   ]
  },
  {
   "cell_type": "code",
   "execution_count": 97,
   "metadata": {},
   "outputs": [],
   "source": [
    "a=user_week2[zero_genre]\n",
    "b=a[a[\"n_user_id\"].isin(stay_5_weeks)]"
   ]
  },
  {
   "cell_type": "code",
   "execution_count": 98,
   "metadata": {},
   "outputs": [],
   "source": [
    "c=pd.DataFrame(b.groupby(\"n_user_id\")['play_week_n'].sum()).reset_index().sort_values(by=\"play_week_n\", ascending=False)"
   ]
  },
  {
   "cell_type": "code",
   "execution_count": 99,
   "metadata": {},
   "outputs": [
    {
     "data": {
      "text/plain": [
       "array([2797, 2170, 2147,  352,  752, 2114,  366, 2105,  370, 2094, 2068,\n",
       "       2064, 2057, 2050, 2048, 1996, 1979, 1954, 1898, 1847, 1785,  444,\n",
       "        446,  447, 1766, 2166, 2174, 2320,  322, 2315, 2293,  276, 2290,\n",
       "       2281, 2277, 2275, 2269, 2268, 2267, 2263, 2260, 2249, 2248, 2242,\n",
       "        302, 2219, 2216, 2214, 2212, 2210, 2189, 2183, 1746, 1745, 1727,\n",
       "       1713,  645, 1467, 1466, 1458, 1457, 1456,  675,  680, 1454,  686,\n",
       "       1427, 1426, 1419, 1390, 1386, 1383, 1380, 1077, 1008,  723,  725,\n",
       "        737,  920, 1471, 1473, 1475, 1585, 1687, 1682,  481, 1677,  516,\n",
       "       1649, 1643, 1638, 1597, 1587, 1579,  617, 1578, 1576,  567, 1550,\n",
       "       1540, 1527,  607, 1517,  611, 1490, 2317, 2131, 2635, 2576,   22,\n",
       "         26, 2710, 2702,   49, 2652,   53,  191,   56, 2619, 2399, 2603,\n",
       "       2401, 2407, 2555,   21, 2415, 2544, 2543, 2438, 2538, 2528, 2462,\n",
       "       2527, 2464, 2465, 2502,  141, 2498, 2497, 2387, 2467, 2383, 2367,\n",
       "        239, 2348, 2352, 2353, 2354, 2329,   12, 2355, 2359, 2360, 2331,\n",
       "          5, 2363, 2736,  211, 2381, 2371, 2326,  209,  242, 2782, 2744])"
      ]
     },
     "execution_count": 99,
     "metadata": {},
     "output_type": "execute_result"
    }
   ],
   "source": [
    "c.loc[c['play_week_n'] == 20, \"n_user_id\"].unique()"
   ]
  },
  {
   "cell_type": "code",
   "execution_count": 100,
   "metadata": {},
   "outputs": [
    {
     "data": {
      "text/plain": [
       "array([1457, 1682, 1649, 1643, 1638, 1597, 1587, 1585, 1579, 1578, 1576,\n",
       "       1550, 1540, 1527, 1517, 1490, 1475, 1677, 1687, 1471, 1713, 2068,\n",
       "       2064, 2057, 2050, 2048, 1996, 1979, 1954, 1898, 1847, 1785, 1766,\n",
       "       1746, 1745, 1727, 1473, 1467,  276,  686,  675,  645,  617,  611,\n",
       "        607,  567,  516,  481,  447,  446,  444,  370,  366,  352,  322,\n",
       "        680,  723, 1466,  725, 1458, 1456, 1454, 1427, 1426, 1419, 1390,\n",
       "       1386, 1383, 1380, 1077, 1008,  920,  752,  737, 2094, 2105, 2114,\n",
       "       2498, 2467, 2465, 2464, 2462, 2438, 2415, 2407, 2401, 2399, 2387,\n",
       "       2383, 2381, 2371, 2367, 2363, 2497, 2502, 2131, 2527, 2782, 2744,\n",
       "       2736, 2710, 2702, 2652, 2635, 2619, 2603, 2576, 2555, 2544, 2543,\n",
       "       2538, 2528, 2360, 2359, 2355, 2354, 2260, 2249, 2248, 2242, 2219,\n",
       "       2216, 2214, 2212, 2210, 2189, 2183, 2174, 2170, 2166, 2147, 2263,\n",
       "       2267, 2268, 2320, 2353, 2352, 2348, 2331, 2329, 2326, 2317, 2269,\n",
       "       2315, 2293, 2290, 2281, 2277, 2275,  302, 2797,   21,   49,   22,\n",
       "         26,  211,  242,   12,  239,    5,  209,  141,   53,   56,  191])"
      ]
     },
     "execution_count": 100,
     "metadata": {},
     "output_type": "execute_result"
    }
   ],
   "source": [
    "# total 12\n",
    "zero_user.loc[zero_user['play_week_n'] == 20, \"n_user_id\"].unique()"
   ]
  },
  {
   "cell_type": "code",
   "execution_count": 101,
   "metadata": {},
   "outputs": [
    {
     "name": "stdout",
     "output_type": "stream",
     "text": [
      "(165,)\n"
     ]
    },
    {
     "data": {
      "text/plain": [
       "array([1457, 1682, 1649, 1643, 1638, 1597, 1587, 1585, 1579, 1578, 1576,\n",
       "       1550, 1540, 1527, 1517, 1490, 1475, 1677, 1687, 1471, 1713, 2068,\n",
       "       2064, 2057, 2050, 2048, 1996, 1979, 1954, 1898, 1847, 1785, 1766,\n",
       "       1746, 1745, 1727, 1473, 1467,  276,  686,  675,  645,  617,  611,\n",
       "        607,  567,  516,  481,  447,  446,  444,  370,  366,  352,  322,\n",
       "        680,  723, 1466,  725, 1458, 1456, 1454, 1427, 1426, 1419, 1390,\n",
       "       1386, 1383, 1380, 1077, 1008,  920,  752,  737, 2094, 2105, 2114,\n",
       "       2498, 2467, 2465, 2464, 2462, 2438, 2415, 2407, 2401, 2399, 2387,\n",
       "       2383, 2381, 2371, 2367, 2363, 2497, 2502, 2131, 2527, 2782, 2744,\n",
       "       2736, 2710, 2702, 2652, 2635, 2619, 2603, 2576, 2555, 2544, 2543,\n",
       "       2538, 2528, 2360, 2359, 2355, 2354, 2260, 2249, 2248, 2242, 2219,\n",
       "       2216, 2214, 2212, 2210, 2189, 2183, 2174, 2170, 2166, 2147, 2263,\n",
       "       2267, 2268, 2320, 2353, 2352, 2348, 2331, 2329, 2326, 2317, 2269,\n",
       "       2315, 2293, 2290, 2281, 2277, 2275,  302, 2797,   21,   49,   22,\n",
       "         26,  211,  242,   12,  239,    5,  209,  141,   53,   56,  191])"
      ]
     },
     "execution_count": 101,
     "metadata": {},
     "output_type": "execute_result"
    }
   ],
   "source": [
    "zero_user_week2 = np.array(zero_user.loc[zero_user['play_week_n'] == 20, \"n_user_id\"].unique())\n",
    "print(zero_user_week2.shape)\n",
    "zero_user_week2"
   ]
  },
  {
   "cell_type": "code",
   "execution_count": 102,
   "metadata": {},
   "outputs": [
    {
     "name": "stdout",
     "output_type": "stream",
     "text": [
      "(165,)\n"
     ]
    },
    {
     "data": {
      "text/plain": [
       "array(['ASP-2976399b-3a98-4712-bc5d-c0942b7754dc-30434-26a440054f6a202db6a0b7293a8d30c5d7988be',\n",
       "       'ASP-37ddc099-6f2e-4988-94e1-c12886a1200a-25483-f4f84e9966df80bb65dd949ac5fffca1032ad41',\n",
       "       'ASP-4a1d95b7-1692-4f74-9fd7-27e131f3df83-27844-e76d2a93298a53ff5c12a0d449ccd86633d5a8a',\n",
       "       'ASP-4a1d95b7-1692-4f74-9fd7-27e131f3df83-30423-1d26da2e8ffd001bce87b52eb8ea0b4267f4dc4',\n",
       "       'ASP-7c55c591-28bf-47bc-b5d3-b74d9d6b2e97-26115-025fbc43a3ac84331f727cead5a242718edf7df'],\n",
       "      dtype=object)"
      ]
     },
     "execution_count": 102,
     "metadata": {},
     "output_type": "execute_result"
    }
   ],
   "source": [
    "# get user ids only playing Discovery and Fingerprint starting at week 2\n",
    "# 165\n",
    "zero_user_week2 = week_two.loc[week_two['n_user_id'].isin(zero_user_week2),\"ID\"].unique()\n",
    "print(zero_user_week2.shape)\n",
    "zero_user_week2[:5]"
   ]
  },
  {
   "cell_type": "markdown",
   "metadata": {},
   "source": [
    "### Starting at week 3"
   ]
  },
  {
   "cell_type": "code",
   "execution_count": 103,
   "metadata": {},
   "outputs": [],
   "source": [
    "zero_genre =(user_week3[\"Bullseye\"] == 0) & (user_week3[\"Mashboard\"] == 0) & (user_week3[\"Product\"] == 0) & (user_week3[\"Spider\"] == 0) "
   ]
  },
  {
   "cell_type": "code",
   "execution_count": 104,
   "metadata": {},
   "outputs": [],
   "source": [
    "zero_user = pd.DataFrame(user_week3[zero_genre].groupby(\"n_user_id\")['play_week_n'].sum()).reset_index().sort_values(by=\"play_week_n\", ascending=False)"
   ]
  },
  {
   "cell_type": "code",
   "execution_count": 105,
   "metadata": {},
   "outputs": [
    {
     "data": {
      "text/plain": [
       "array([1617, 1461, 2137, 1933, 1966,  640, 2305, 1696, 2373, 1481, 2552,\n",
       "       1973, 2192, 1534,   10,  523,  735])"
      ]
     },
     "execution_count": 105,
     "metadata": {},
     "output_type": "execute_result"
    }
   ],
   "source": [
    "zero_user_week3 = np.array(zero_user.loc[zero_user['play_week_n'] == 25, \"n_user_id\"].unique())\n",
    "zero_user_week3"
   ]
  },
  {
   "cell_type": "code",
   "execution_count": 106,
   "metadata": {},
   "outputs": [
    {
     "data": {
      "text/plain": [
       "array(['ASP-3074278c-daa2-4840-b165-337765c4a2b8-3044-29856956b3fc26a2b9e3c8ea8427a5dac5ad733',\n",
       "       'BLN-95b50ea0-2ef6-45de-99e0-96611177dfbf-6460-dea55e18cb73ebcfb10767fd9c07fb6d9e03c85',\n",
       "       'BLN-c58b949c-174e-4e7a-b1cf-9494148cfd67-3052-609ceeb6d18f0a3ad50ad596fed8093d684a44a',\n",
       "       'BLN-fc69587b-25f8-41b3-8a31-7996573faeb2-3132-91b4b6f986113c42cea9a9a80d8f668fa498608',\n",
       "       'EZ-4d3c01c8-d51c-4df8-9e9b-55a8bf14c089-4574-30f61ea9be302f583ff87d0c789e0698e3bcfbd'],\n",
       "      dtype=object)"
      ]
     },
     "execution_count": 106,
     "metadata": {},
     "output_type": "execute_result"
    }
   ],
   "source": [
    "# get user ids only playing Discovery and Fingerprint starting at week 3\n",
    "# 17\n",
    "zero_user_week3 = week_three.loc[week_three['n_user_id'].isin(zero_user_week3),\"ID\"].unique()\n",
    "zero_user_week3[:5]"
   ]
  },
  {
   "cell_type": "code",
   "execution_count": null,
   "metadata": {},
   "outputs": [],
   "source": []
  }
 ],
 "metadata": {
  "kernelspec": {
   "display_name": "Python 3",
   "language": "python",
   "name": "python3"
  },
  "language_info": {
   "codemirror_mode": {
    "name": "ipython",
    "version": 3
   },
   "file_extension": ".py",
   "mimetype": "text/x-python",
   "name": "python",
   "nbconvert_exporter": "python",
   "pygments_lexer": "ipython3",
   "version": "3.7.3"
  }
 },
 "nbformat": 4,
 "nbformat_minor": 2
}
