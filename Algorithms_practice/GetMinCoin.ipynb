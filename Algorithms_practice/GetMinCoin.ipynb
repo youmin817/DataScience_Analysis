{
 "cells": [
  {
   "cell_type": "code",
   "execution_count": 16,
   "metadata": {},
   "outputs": [],
   "source": [
    " def getMinCoins(self):\n",
    "    self = 100 * self\n",
    "    q = 25\n",
    "    d = 10\n",
    "    n = 5\n",
    "    numQ = int(self/q)\n",
    "    numD = int((self -q*numQ) / d)\n",
    "    numN = int((self - q*numQ - d * numD)/n)\n",
    "    numP = int(round(self - q*numQ - d*numD - n*numN))\n",
    "    total = numQ + numD + numN + numP\n",
    "    print(\"q{0} + d{1} + n{2} + p{3} = total {4}\".format(numQ, numD, numN, numP, total))\n",
    "    print(\"Let'scheck: input = {}\".format((q*numQ + d*numD + n*numN + numP)/100))"
   ]
  },
  {
   "cell_type": "code",
   "execution_count": 17,
   "metadata": {},
   "outputs": [
    {
     "name": "stdout",
     "output_type": "stream",
     "text": [
      "q4000 + d1 + n0 + p1 = total 4002\n",
      "Let'scheck: input = 1000.11\n",
      "CPU times: user 248 µs, sys: 97 µs, total: 345 µs\n",
      "Wall time: 266 µs\n"
     ]
    }
   ],
   "source": [
    "import time\n",
    "\n",
    "%time getMinCoins(1000.11)"
   ]
  },
  {
   "cell_type": "code",
   "execution_count": null,
   "metadata": {},
   "outputs": [],
   "source": []
  }
 ],
 "metadata": {
  "kernelspec": {
   "display_name": "Python 3",
   "language": "python",
   "name": "python3"
  },
  "language_info": {
   "codemirror_mode": {
    "name": "ipython",
    "version": 3
   },
   "file_extension": ".py",
   "mimetype": "text/x-python",
   "name": "python",
   "nbconvert_exporter": "python",
   "pygments_lexer": "ipython3",
   "version": "3.7.3"
  }
 },
 "nbformat": 4,
 "nbformat_minor": 2
}
