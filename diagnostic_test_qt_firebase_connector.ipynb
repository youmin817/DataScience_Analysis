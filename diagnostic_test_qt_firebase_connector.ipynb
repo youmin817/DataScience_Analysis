{
 "cells": [
  {
   "cell_type": "code",
   "execution_count": 1,
   "metadata": {},
   "outputs": [],
   "source": [
    "import numpy as np\n",
    "import pandas as pd\n",
    "import warnings\n",
    "warnings.filterwarnings('ignore')"
   ]
  },
  {
   "cell_type": "code",
   "execution_count": 2,
   "metadata": {},
   "outputs": [
    {
     "data": {
      "text/plain": [
       "<firebase_admin.App at 0x1166f1a20>"
      ]
     },
     "execution_count": 2,
     "metadata": {},
     "output_type": "execute_result"
    }
   ],
   "source": [
    "import firebase_admin\n",
    "from firebase_admin import credentials\n",
    "\n",
    "cred = credentials.Certificate(\"key/bluebookkey.json\")\n",
    "firebase_admin.initialize_app(cred, {\n",
    "    'databaseURL': \"https://bluebookai2020.firebaseio.com\",\n",
    "    'storageBucket': 'bluebookai2020.appspot.com'\n",
    "})\n"
   ]
  },
  {
   "cell_type": "code",
   "execution_count": 11,
   "metadata": {},
   "outputs": [],
   "source": [
    "from firebase_admin import db\n",
    "from firebase_admin import storage"
   ]
  },
  {
   "cell_type": "code",
   "execution_count": 97,
   "metadata": {},
   "outputs": [],
   "source": [
    "qt=pd.read_excel(\"diagnostic_test_qt.xlsx\",sheet_name=\"qt\")"
   ]
  },
  {
   "cell_type": "code",
   "execution_count": 98,
   "metadata": {},
   "outputs": [
    {
     "data": {
      "text/html": [
       "<div>\n",
       "<style scoped>\n",
       "    .dataframe tbody tr th:only-of-type {\n",
       "        vertical-align: middle;\n",
       "    }\n",
       "\n",
       "    .dataframe tbody tr th {\n",
       "        vertical-align: top;\n",
       "    }\n",
       "\n",
       "    .dataframe thead th {\n",
       "        text-align: right;\n",
       "    }\n",
       "</style>\n",
       "<table border=\"1\" class=\"dataframe\">\n",
       "  <thead>\n",
       "    <tr style=\"text-align: right;\">\n",
       "      <th></th>\n",
       "      <th>test_num</th>\n",
       "      <th>A</th>\n",
       "      <th>B</th>\n",
       "      <th>C</th>\n",
       "      <th>D</th>\n",
       "      <th>qt</th>\n",
       "      <th>qt_num</th>\n",
       "      <th>ans</th>\n",
       "      <th>qt_img</th>\n",
       "    </tr>\n",
       "  </thead>\n",
       "  <tbody>\n",
       "    <tr>\n",
       "      <th>0</th>\n",
       "      <td>R5</td>\n",
       "      <td>acceptable</td>\n",
       "      <td>delicate</td>\n",
       "      <td>ornate</td>\n",
       "      <td>keen</td>\n",
       "      <td>As used in line 65, “fine” most nearly means</td>\n",
       "      <td>1_10</td>\n",
       "      <td>D</td>\n",
       "      <td>https://firebasestorage.googleapis.com/v0/b/bl...</td>\n",
       "    </tr>\n",
       "  </tbody>\n",
       "</table>\n",
       "</div>"
      ],
      "text/plain": [
       "  test_num           A         B       C     D  \\\n",
       "0       R5  acceptable  delicate  ornate  keen   \n",
       "\n",
       "                                             qt qt_num ans  \\\n",
       "0  As used in line 65, “fine” most nearly means   1_10   D   \n",
       "\n",
       "                                              qt_img  \n",
       "0  https://firebasestorage.googleapis.com/v0/b/bl...  "
      ]
     },
     "execution_count": 98,
     "metadata": {},
     "output_type": "execute_result"
    }
   ],
   "source": [
    "qt[\"\"]"
   ]
  },
  {
   "cell_type": "code",
   "execution_count": 110,
   "metadata": {},
   "outputs": [],
   "source": [
    "def diag_qt_upload_to_firebase(df):\n",
    "    df=df.astype(str)\n",
    "    tmp = []\n",
    "    test_col = df.columns\n",
    "    for i in range(df.shape[0]):\n",
    "        tmp.append(dict(zip(test_col, df.iloc[i].tolist())))\n",
    "\n",
    "    tmp2 = []\n",
    "    test_num = df['qt_num'].values\n",
    "    for i in range(df.shape[0]):\n",
    "        tmp2.append({f\"{test_num[i]}\":tmp[i]})\n",
    "\n",
    "        \n",
    "    \n",
    "    for num in range(len(tmp)):\n",
    "            ref = db.reference(f\"sat/diagnostic_test_qt/{tmp[0]['test_num']}\")\n",
    "            ref.update(tmp2[num])\n"
   ]
  },
  {
   "cell_type": "code",
   "execution_count": 112,
   "metadata": {},
   "outputs": [],
   "source": [
    "diag_qt_upload_to_firebase(qt)"
   ]
  },
  {
   "cell_type": "code",
   "execution_count": null,
   "metadata": {},
   "outputs": [],
   "source": []
  }
 ],
 "metadata": {
  "kernelspec": {
   "display_name": "Python 3",
   "language": "python",
   "name": "python3"
  },
  "language_info": {
   "codemirror_mode": {
    "name": "ipython",
    "version": 3
   },
   "file_extension": ".py",
   "mimetype": "text/x-python",
   "name": "python",
   "nbconvert_exporter": "python",
   "pygments_lexer": "ipython3",
   "version": "3.7.3"
  }
 },
 "nbformat": 4,
 "nbformat_minor": 2
}
